{
 "cells": [
  {
   "cell_type": "markdown",
   "id": "dc06dec7",
   "metadata": {
    "slideshow": {
     "slide_type": "slide"
    }
   },
   "source": [
    "<table align=\"left\">\n",
    "  <td>\n",
    "    <a href=\"https://colab.research.google.com/github/marco-canas/fundamentos_de_la_aritmetica/blob/main/referentes/2_grajales_logica/2_parte_2_los_numeros_reales/1_naturales/2_induccion_matematica/1_induccion_matematica.ipynb\" target=\"_parent\"><img src=\"https://colab.research.google.com/assets/colab-badge.svg\" alt=\"Open In Colab\"/></a>\n",
    "  </td>\n",
    "  <td>\n",
    "    <a target=\"_blank\" href=\"https://kaggle.com/kernels/welcome?src=https://github.com/marco-canas/fundamentos_de_la_aritmetica/blob/main/referentes/2_grajales_logica/2_parte_2_los_numeros_reales/1_naturales/2_induccion_matematica/1_induccion_matematica.ipynb\"><img src=\"https://kaggle.com/static/images/open-in-kaggle.svg\" /></a>\n",
    "  </td>\n",
    "</table>"
   ]
  },
  {
   "cell_type": "markdown",
   "id": "e0c5b198",
   "metadata": {
    "slideshow": {
     "slide_type": "slide"
    }
   },
   "source": [
    "### [Video de apoyo a la lectura interactiva y experimental de este cuaderno]()"
   ]
  },
  {
   "cell_type": "markdown",
   "id": "41e82203",
   "metadata": {
    "slideshow": {
     "slide_type": "slide"
    }
   },
   "source": [
    "## [Vínculo al programa del curso:  ]()\n",
    "\n"
   ]
  },
  {
   "cell_type": "markdown",
   "id": "d11ab06d",
   "metadata": {
    "slideshow": {
     "slide_type": "slide"
    }
   },
   "source": [
    "Un reconocimiento a mis estudiantes que han construido conmigo este saber pedagógico:\n",
    "\n",
    "<img src = 'https://github.com/marco-canas/fundamentos_de_la_aritmetica/blob/main/images/images_of_students/2024/asesoria_2024-09-07.jpeg?raw=true'> \n",
    "\n"
   ]
  },
  {
   "cell_type": "markdown",
   "id": "8a74a56c-0ce6-4ad6-b985-553fd7fb68bb",
   "metadata": {},
   "source": [
    "Reconocimiento a las profesoras destacadas en enseñanza de la matemática en Colombia  \n",
    "\n",
    "<img src = 'https://i1.rgstatic.net/ii/profile.image/687824357572610-1541001514466_Q512/Zaida-Santa-Ramirez.jpg'>\n"
   ]
  },
  {
   "cell_type": "code",
   "execution_count": 1,
   "id": "7604880f",
   "metadata": {
    "slideshow": {
     "slide_type": "slide"
    }
   },
   "outputs": [
    {
     "name": "stdout",
     "output_type": "stream",
     "text": [
      "Llamando a FRANCO BOHORQUEZ ESTEBAN...\n"
     ]
    },
    {
     "name": "stdout",
     "output_type": "stream",
     "text": [
      "¿Asistió FRANCO BOHORQUEZ ESTEBAN? (s/n):  n\n"
     ]
    },
    {
     "name": "stdout",
     "output_type": "stream",
     "text": [
      "Cambios guardados en el archivo CSV.\n",
      "Llamando a MEDINA GUERRA MANUEL...\n"
     ]
    },
    {
     "name": "stdout",
     "output_type": "stream",
     "text": [
      "¿Asistió MEDINA GUERRA MANUEL? (s/n):  s\n"
     ]
    },
    {
     "name": "stdout",
     "output_type": "stream",
     "text": [
      "Actualizado: MEDINA GUERRA MANUEL ahora tiene 0.2 en la columna 'Parcial'.\n",
      "Cambios guardados en el archivo CSV.\n",
      "Llamando a RUIZ PAYARES EMIRO ENRIQUE...\n"
     ]
    },
    {
     "name": "stdout",
     "output_type": "stream",
     "text": [
      "¿Asistió RUIZ PAYARES EMIRO ENRIQUE? (s/n):  s\n"
     ]
    },
    {
     "name": "stdout",
     "output_type": "stream",
     "text": [
      "Actualizado: RUIZ PAYARES EMIRO ENRIQUE ahora tiene 0.1 en la columna 'Parcial'.\n",
      "Cambios guardados en el archivo CSV.\n",
      "Llamando a HERNANDEZ LUNA BEATRIZ ELENA...\n"
     ]
    },
    {
     "name": "stdout",
     "output_type": "stream",
     "text": [
      "¿Asistió HERNANDEZ LUNA BEATRIZ ELENA? (s/n):  s\n"
     ]
    },
    {
     "name": "stdout",
     "output_type": "stream",
     "text": [
      "Actualizado: HERNANDEZ LUNA BEATRIZ ELENA ahora tiene 0.2 en la columna 'Parcial'.\n",
      "Cambios guardados en el archivo CSV.\n",
      "Llamando a MORENO VILORIA ANDRES DAVID...\n"
     ]
    },
    {
     "name": "stdout",
     "output_type": "stream",
     "text": [
      "¿Asistió MORENO VILORIA ANDRES DAVID? (s/n):  s\n"
     ]
    },
    {
     "name": "stdout",
     "output_type": "stream",
     "text": [
      "Actualizado: MORENO VILORIA ANDRES DAVID ahora tiene 0.1 en la columna 'Parcial'.\n",
      "Cambios guardados en el archivo CSV.\n",
      "Llamando a MONTERROSA GUERRERO SAID ANDRES...\n"
     ]
    },
    {
     "name": "stdout",
     "output_type": "stream",
     "text": [
      "¿Asistió MONTERROSA GUERRERO SAID ANDRES? (s/n):  s\n"
     ]
    },
    {
     "name": "stdout",
     "output_type": "stream",
     "text": [
      "Actualizado: MONTERROSA GUERRERO SAID ANDRES ahora tiene 0.1 en la columna 'Parcial'.\n",
      "Cambios guardados en el archivo CSV.\n",
      "Llamando a GUERRERO GUERRA JOSE LUIS...\n"
     ]
    },
    {
     "name": "stdout",
     "output_type": "stream",
     "text": [
      "¿Asistió GUERRERO GUERRA JOSE LUIS? (s/n):  s\n"
     ]
    },
    {
     "name": "stdout",
     "output_type": "stream",
     "text": [
      "Actualizado: GUERRERO GUERRA JOSE LUIS ahora tiene 0.2 en la columna 'Parcial'.\n",
      "Cambios guardados en el archivo CSV.\n",
      "Llamando a SAENZ ARROYO LILIANA LUCIA...\n"
     ]
    },
    {
     "name": "stdout",
     "output_type": "stream",
     "text": [
      "¿Asistió SAENZ ARROYO LILIANA LUCIA? (s/n):  s\n"
     ]
    },
    {
     "name": "stdout",
     "output_type": "stream",
     "text": [
      "Actualizado: SAENZ ARROYO LILIANA LUCIA ahora tiene 0.30000000000000004 en la columna 'Parcial'.\n",
      "Cambios guardados en el archivo CSV.\n",
      "Llamando a DIAZ GUERRERO JUAN DANIEL...\n"
     ]
    },
    {
     "name": "stdout",
     "output_type": "stream",
     "text": [
      "¿Asistió DIAZ GUERRERO JUAN DANIEL? (s/n):  s\n"
     ]
    },
    {
     "name": "stdout",
     "output_type": "stream",
     "text": [
      "Actualizado: DIAZ GUERRERO JUAN DANIEL ahora tiene 0.1 en la columna 'Parcial'.\n",
      "Cambios guardados en el archivo CSV.\n",
      "Llamando a MONTES VARGAS VALERIA...\n"
     ]
    },
    {
     "name": "stdout",
     "output_type": "stream",
     "text": [
      "¿Asistió MONTES VARGAS VALERIA? (s/n):  s\n"
     ]
    },
    {
     "name": "stdout",
     "output_type": "stream",
     "text": [
      "Actualizado: MONTES VARGAS VALERIA ahora tiene 0.2 en la columna 'Parcial'.\n",
      "Cambios guardados en el archivo CSV.\n",
      "Llamando a CASTRO JULIO KEREN...\n"
     ]
    },
    {
     "name": "stdout",
     "output_type": "stream",
     "text": [
      "¿Asistió CASTRO JULIO KEREN? (s/n):  s\n"
     ]
    },
    {
     "name": "stdout",
     "output_type": "stream",
     "text": [
      "Actualizado: CASTRO JULIO KEREN ahora tiene 0.2 en la columna 'Parcial'.\n",
      "Cambios guardados en el archivo CSV.\n",
      "Llamando a GOEZ MESA MIGUEL ANDRES...\n"
     ]
    },
    {
     "name": "stdout",
     "output_type": "stream",
     "text": [
      "¿Asistió GOEZ MESA MIGUEL ANDRES? (s/n):  s\n"
     ]
    },
    {
     "name": "stdout",
     "output_type": "stream",
     "text": [
      "Actualizado: GOEZ MESA MIGUEL ANDRES ahora tiene 0.1 en la columna 'Parcial'.\n",
      "Cambios guardados en el archivo CSV.\n",
      "Llamando a BADEL CORRALES JHONATAN ANDRES...\n"
     ]
    },
    {
     "name": "stdout",
     "output_type": "stream",
     "text": [
      "¿Asistió BADEL CORRALES JHONATAN ANDRES? (s/n):  s\n"
     ]
    },
    {
     "name": "stdout",
     "output_type": "stream",
     "text": [
      "Actualizado: BADEL CORRALES JHONATAN ANDRES ahora tiene 0.2 en la columna 'Parcial'.\n",
      "Cambios guardados en el archivo CSV.\n",
      "Llamando a GUERRA VILLADIEGO ANDRES FELIPE...\n"
     ]
    },
    {
     "name": "stdout",
     "output_type": "stream",
     "text": [
      "¿Asistió GUERRA VILLADIEGO ANDRES FELIPE? (s/n):  s\n"
     ]
    },
    {
     "name": "stdout",
     "output_type": "stream",
     "text": [
      "Actualizado: GUERRA VILLADIEGO ANDRES FELIPE ahora tiene 0.2 en la columna 'Parcial'.\n",
      "Cambios guardados en el archivo CSV.\n",
      "Llamando a GONZALEZ GANDIA YELENA...\n"
     ]
    },
    {
     "name": "stdout",
     "output_type": "stream",
     "text": [
      "¿Asistió GONZALEZ GANDIA YELENA? (s/n):  s\n"
     ]
    },
    {
     "name": "stdout",
     "output_type": "stream",
     "text": [
      "Actualizado: GONZALEZ GANDIA YELENA ahora tiene 0.2 en la columna 'Parcial'.\n",
      "Cambios guardados en el archivo CSV.\n",
      "Llamando a VILLEGAS SIERRA ALLYSON...\n"
     ]
    },
    {
     "name": "stdout",
     "output_type": "stream",
     "text": [
      "¿Asistió VILLEGAS SIERRA ALLYSON? (s/n):  n\n"
     ]
    },
    {
     "name": "stdout",
     "output_type": "stream",
     "text": [
      "Cambios guardados en el archivo CSV.\n",
      "Llamando a RODRIGUEZ RESTREPO HERMEN DAVID...\n"
     ]
    },
    {
     "name": "stdout",
     "output_type": "stream",
     "text": [
      "¿Asistió RODRIGUEZ RESTREPO HERMEN DAVID? (s/n):  n\n"
     ]
    },
    {
     "name": "stdout",
     "output_type": "stream",
     "text": [
      "Cambios guardados en el archivo CSV.\n",
      "Llamando a GONZALEZ BASILIO LUISA FERNANDA...\n"
     ]
    },
    {
     "name": "stdout",
     "output_type": "stream",
     "text": [
      "¿Asistió GONZALEZ BASILIO LUISA FERNANDA? (s/n):  s\n"
     ]
    },
    {
     "name": "stdout",
     "output_type": "stream",
     "text": [
      "Actualizado: GONZALEZ BASILIO LUISA FERNANDA ahora tiene 0.2 en la columna 'Parcial'.\n",
      "Cambios guardados en el archivo CSV.\n",
      "Llamando a HERRERA CASTILLO LUKAS MATEO...\n"
     ]
    },
    {
     "name": "stdout",
     "output_type": "stream",
     "text": [
      "¿Asistió HERRERA CASTILLO LUKAS MATEO? (s/n):  s\n"
     ]
    },
    {
     "name": "stdout",
     "output_type": "stream",
     "text": [
      "Actualizado: HERRERA CASTILLO LUKAS MATEO ahora tiene 0.1 en la columna 'Parcial'.\n",
      "Cambios guardados en el archivo CSV.\n",
      "Llamando a MARTINEZ CASARRUBIA LUIS FERNANDO...\n"
     ]
    },
    {
     "name": "stdout",
     "output_type": "stream",
     "text": [
      "¿Asistió MARTINEZ CASARRUBIA LUIS FERNANDO? (s/n):  s\n"
     ]
    },
    {
     "name": "stdout",
     "output_type": "stream",
     "text": [
      "Actualizado: MARTINEZ CASARRUBIA LUIS FERNANDO ahora tiene 0.1 en la columna 'Parcial'.\n",
      "Cambios guardados en el archivo CSV.\n",
      "Llamando a RIVERA GUZMAN CRISTIAN...\n"
     ]
    },
    {
     "name": "stdout",
     "output_type": "stream",
     "text": [
      "¿Asistió RIVERA GUZMAN CRISTIAN? (s/n):  s\n"
     ]
    },
    {
     "name": "stdout",
     "output_type": "stream",
     "text": [
      "Actualizado: RIVERA GUZMAN CRISTIAN ahora tiene 0.2 en la columna 'Parcial'.\n",
      "Cambios guardados en el archivo CSV.\n",
      "Llamando a TUTISTAR GARZON EDWIN ROLANDO...\n"
     ]
    },
    {
     "name": "stdout",
     "output_type": "stream",
     "text": [
      "¿Asistió TUTISTAR GARZON EDWIN ROLANDO? (s/n):  n\n"
     ]
    },
    {
     "name": "stdout",
     "output_type": "stream",
     "text": [
      "Cambios guardados en el archivo CSV.\n",
      "Llamando a GUERRA MERCADO JUAN CAMILO...\n"
     ]
    },
    {
     "name": "stdout",
     "output_type": "stream",
     "text": [
      "¿Asistió GUERRA MERCADO JUAN CAMILO? (s/n):  s\n"
     ]
    },
    {
     "name": "stdout",
     "output_type": "stream",
     "text": [
      "Actualizado: GUERRA MERCADO JUAN CAMILO ahora tiene 0.2 en la columna 'Parcial'.\n",
      "Cambios guardados en el archivo CSV.\n",
      "Llamando a CAMPO DIAZ ALBERTO ANDRES...\n"
     ]
    },
    {
     "name": "stdout",
     "output_type": "stream",
     "text": [
      "¿Asistió CAMPO DIAZ ALBERTO ANDRES? (s/n):  n\n"
     ]
    },
    {
     "name": "stdout",
     "output_type": "stream",
     "text": [
      "Cambios guardados en el archivo CSV.\n",
      "Llamando a GUERRA YEPEZ DIEGO ANDRES...\n"
     ]
    },
    {
     "name": "stdout",
     "output_type": "stream",
     "text": [
      "¿Asistió GUERRA YEPEZ DIEGO ANDRES? (s/n):  s\n"
     ]
    },
    {
     "name": "stdout",
     "output_type": "stream",
     "text": [
      "Actualizado: GUERRA YEPEZ DIEGO ANDRES ahora tiene 0.2 en la columna 'Parcial'.\n",
      "Cambios guardados en el archivo CSV.\n"
     ]
    }
   ],
   "source": [
    "import pandas as pd\n",
    "import numpy as np\n",
    "\n",
    "# Cargar la lista de estudiantes desde la URL\n",
    "path = '/home/marco/Documentos/docencia/groups_list/fundamentos_aritmetica.csv'\n",
    "estudiantes = pd.read_csv(path)\n",
    "estudiantes['Parcial'] = estudiantes['Parcial'].astype(float) # hacer que todos los valores de la columna Parcial seen de tipo float\n",
    "\n",
    "# Convertir la columna 'Nombre' a una lista de Python\n",
    "lista_estudiantes = estudiantes['Nombre'].tolist()\n",
    "\n",
    "# Función para llamar a un estudiante aleatoriamente y registrar su nota de seguimiento\n",
    "def asistencia():\n",
    "    if lista_estudiantes:\n",
    "        estudiante_aleatorio = np.random.choice(lista_estudiantes)\n",
    "        print(f\"Llamando a {estudiante_aleatorio}...\")\n",
    "        asistencia = input(f\"¿Asistió {estudiante_aleatorio}? (s/n): \").strip().lower()\n",
    "        \n",
    "        if asistencia == 's':\n",
    "            # Obtener el índice del estudiante en el DataFrame\n",
    "            indice = estudiantes[estudiantes['Nombre'] == estudiante_aleatorio].index[0]\n",
    "            # Incrementar su valor en la columna 'Parcial'\n",
    "            estudiantes.at[indice, 'Parcial'] += 0.1\n",
    "            print(f\"Actualizado: {estudiante_aleatorio} ahora tiene {estudiantes.at[indice, 'Parcial']} en la columna 'Parcial'.\")\n",
    "        \n",
    "        lista_estudiantes.remove(estudiante_aleatorio)\n",
    "    else:\n",
    "        print(\"Se han llamado a todos los estudiantes del grupo completo.\")\n",
    "\n",
    "# Guardar los cambios en el archivo CSV\n",
    "def guardar_cambios():\n",
    "    estudiantes.to_csv(path, index=False)\n",
    "    print(\"Cambios guardados en el archivo CSV.\")\n",
    "\n",
    "# Ejemplo de uso\n",
    "while lista_estudiantes:\n",
    "    asistencia()\n",
    "    guardar_cambios()\n",
    "\n",
    "\n"
   ]
  },
  {
   "cell_type": "markdown",
   "id": "d7598d0a-d9b7-4ae0-b029-a0ed6ed1130b",
   "metadata": {},
   "source": [
    "\n",
    "# Principios de mi labor docente"
   ]
  },
  {
   "cell_type": "markdown",
   "id": "4f9d8cf9",
   "metadata": {
    "slideshow": {
     "slide_type": "slide"
    }
   },
   "source": [
    "# Modelo general de clase: [aula invertida](https://www3.gobiernodecanarias.org/medusa/ecoescuela/pedagotic/aprendizaje-invertido-flipped-classroom/)"
   ]
  },
  {
   "cell_type": "markdown",
   "id": "eb6ed03a",
   "metadata": {},
   "source": [
    "![Definamos flipped learning de manera gráfica](https://resources.maneuveringthemiddle.com/wp-content/uploads/2020/07/04212706/1-5.png)"
   ]
  },
  {
   "cell_type": "markdown",
   "id": "34319cce-a71b-4f64-aab8-b53e521efa40",
   "metadata": {},
   "source": [
    "# Metodología de enseñanza basada en problemas (ABP)\n",
    "\n",
    "<img src = 'https://www.unir.net/wp-content/uploads/2020/07/aprendizaje-problemas2-1-1-1-1.jpeg'>"
   ]
  },
  {
   "cell_type": "markdown",
   "id": "841a985c-bd9b-4dd3-8e4c-893983980af2",
   "metadata": {},
   "source": [
    "# Desarrollo del pensamiento coomputacional con python y cuadernos Jupyter  orientado a la formación en ciencia de datos \n",
    "\n",
    "\n",
    "<img src = 'https://i.ytimg.com/vi/mcG_wcR4e6M/maxresdefault.jpg'>"
   ]
  },
  {
   "cell_type": "markdown",
   "id": "65aa0404-f7ae-495e-864c-1aec01b4255e",
   "metadata": {},
   "source": [
    "# Proncipio de fomento a la ciencia abierta, enseñar en el acceso a los datos públicos y el uso de software de código abierto  \n",
    "\n",
    "<img src = 'https://unesdoc.unesco.org/in/rest/Thumb/image?id=p%3A%3Ausmarcdef_0000379949_spa&author=UNESCO&title=Recomendaci%C3%B3n+de+la+UNESCO+sobre+la+Ciencia+Abierta&year=2021&publisher=UNESCO&TypeOfDocument=UnescoPhysicalDocument&mat=PGD&ct=true&size=512&isPhysical=1'>"
   ]
  },
  {
   "cell_type": "markdown",
   "id": "49a3210d-4e46-41a2-95b2-e7af025d7720",
   "metadata": {},
   "source": [
    "El enfoque STEAMS en educación preescolar, primaria y secundaria es una extensión del enfoque STEM (Ciencia, Tecnología, Ingeniería y Matemáticas) y su variante STEAM, que incorpora el Arte. El acrónimo STEAMS incluye:"
   ]
  },
  {
   "cell_type": "markdown",
   "id": "5134a018-04d4-4489-bb17-1064561f13c5",
   "metadata": {},
   "source": [
    "1. **Science (Ciencia):** Fomenta la curiosidad por el mundo natural y el desarrollo de habilidades científicas, como la observación, experimentación y análisis.\n",
    "\n",
    "2. **Technology (Tecnología):** Integra herramientas tecnológicas para potenciar el aprendizaje y la resolución de problemas, promoviendo la alfabetización digital desde edades tempranas.\n",
    "\n",
    "3. **Engineering (Ingeniería):** Introduce el pensamiento lógico y la resolución de problemas estructurados, fomentando habilidades como el diseño y la construcción de soluciones.\n",
    "\n",
    "4. **Arts (Arte):** Añade creatividad y pensamiento crítico, permitiendo a los estudiantes expresarse y explorar el aprendizaje a través de formas artísticas (plásticas, música, teatro).\n",
    "\n",
    "5. **Mathematics (Matemáticas):** Refuerza las habilidades numéricas y el razonamiento lógico, fundamentales en la resolución de problemas y comprensión de conceptos abstractos.\n",
    "\n",
    "6. **Social Sciences (Ciencias Sociales):** Incorpora la comprensión del entorno social, político, cultural y económico, promoviendo el desarrollo de la conciencia crítica sobre el mundo y su historia, además de habilidades de empatía y ciudadanía.\n",
    "\n",
    "El enfoque STEAMS pretende desarrollar un aprendizaje **interdisciplinario** que integre estas áreas para fomentar un pensamiento más holístico y práctico. Se busca que los estudiantes no solo aprendan conocimientos técnicos, sino también cómo aplicarlos creativa y críticamente en situaciones reales, promoviendo habilidades como el trabajo en equipo, la comunicación y la innovación. En educación preescolar, primaria y secundaria, se adapta a las diferentes etapas de desarrollo cognitivo y emocional de los estudiantes, promoviendo el aprendizaje activo y contextualizado.  \n",
    "\n",
    "<img src = 'https://www.campuseducacion.com/blog/wp-content/uploads/2023/03/foto01-1.jpg'>"
   ]
  },
  {
   "cell_type": "markdown",
   "id": "8d97dc80",
   "metadata": {
    "slideshow": {
     "slide_type": "slide"
    }
   },
   "source": [
    "## Fomento de la lectura literaria asociada a Ingeniería agropecuaria y licenciatura en Matemáticas\n",
    "\n",
    "[Aprender a negociar](https://github.com/marco-canas/el_arte_de_aprender_a_negociar/blob/main/Fisher-Roger-Obtenga-El-Si-psicologia.pdf)"
   ]
  },
  {
   "cell_type": "markdown",
   "id": "96775931",
   "metadata": {
    "slideshow": {
     "slide_type": "slide"
    }
   },
   "source": [
    "## Título de la clase: Inducción matemática según Lina Grajales y Carlos Uzcátegui    \n",
    "\n",
    "[Obtenga el texto de Lina Grajales aquí y revise la página 33](https://github.com/marco-canas/fundamentos_de_la_aritmetica/blob/main/referentes/2_grajales_logica/grajales_lina_matemticas.pdf)  \n"
   ]
  },
  {
   "cell_type": "markdown",
   "id": "5fa54835",
   "metadata": {},
   "source": [
    "\n",
    "[Obtenga el texto de Uzcategui aquí y revise desde la página 100](https://github.com/marco-canas/fundamentos_de_la_aritmetica/blob/main/referentes/3_uzcategui/uscategui.pdf)"
   ]
  },
  {
   "cell_type": "markdown",
   "id": "6ef1e342-dd48-4067-a863-3d2e083a27cb",
   "metadata": {
    "slideshow": {
     "slide_type": "slide"
    }
   },
   "source": [
    "### Objetivo de aprendizaje (Enunciar, de manera corta sencilla y clara para todos los asistentes)  "
   ]
  },
  {
   "cell_type": "markdown",
   "id": "8205e707-1a7f-4c47-97a9-48ff0bf6ed20",
   "metadata": {
    "slideshow": {
     "slide_type": "slide"
    }
   },
   "source": [
    "* Aprender a generalizar correctamente utilizando el principio de inducción matemática  \n",
    "\n",
    " "
   ]
  },
  {
   "cell_type": "markdown",
   "id": "1365025c",
   "metadata": {},
   "source": [
    "1. Conocimiento Teórico de Matemáticas\n",
    "\n",
    "Indicadores:\n",
    "\n",
    "* Comprensión de conceptos fundamentales de cálculo diferencial.\n",
    "* Capacidad para resolver ecuaciones diferenciales.\n",
    "* Habilidad para derivar funciones complejas.\n",
    "* Capacidad de leer, escribir e interpretar utilizando la notación y terminología matemática propia de esta clase.\n",
    "* Capacidad para aplicar resultados científicos en problemas.\n"
   ]
  },
  {
   "cell_type": "markdown",
   "id": "97ab69df",
   "metadata": {},
   "source": [
    "\n",
    "2. Habilidad en Programación con Python\n",
    "\n",
    "Indicadores:\n",
    "\n",
    "* Capacidad para escribir y ejecutar scripts básicos en Python.\n",
    "* Comprensión y uso de estructuras de control (condicionales, bucles).\n",
    "* Uso de funciones y módulos en Python.\n",
    "* Manejo de estructuras de datos (listas, diccionarios, tuplas).\n",
    "* Habilidad para depurar y solucionar errores en el código.\n",
    "* Uso de bibliotecas matemáticas como NumPy y SymPy.\n"
   ]
  },
  {
   "cell_type": "markdown",
   "id": "0dd775aa",
   "metadata": {},
   "source": [
    "\n",
    "3. Pensamiento Computacional\n",
    "\n",
    "Indicadores:\n",
    "\n",
    "* Capacidad para descomponer problemas complejos en subproblemas manejables.\n",
    "* Habilidad para diseñar algoritmos eficientes para resolver problemas específicos.\n",
    "* Comprensión de la lógica detrás de las estructuras de control y su aplicación en la programación.\n",
    "* Capacidad para abstraer conceptos matemáticos en soluciones programables.\n",
    "* Habilidad para identificar y aplicar patrones en la resolución de problemas.\n"
   ]
  },
  {
   "cell_type": "markdown",
   "id": "1a57907e",
   "metadata": {},
   "source": [
    "\n",
    "4. Aplicación de Matemáticas en Problemas Reales\n",
    "\n",
    "Indicadores:\n",
    "\n",
    "* Capacidad para modelar situaciones reales utilizando funciones matemáticas.\n",
    "* Habilidad para implementar soluciones matemáticas en código Python para resolver problemas prácticos.\n",
    "* Comprensión de cómo interpretar los resultados obtenidos mediante simulaciones o cálculos computacionales.\n",
    "* Uso de Python para la visualización de datos y resultados matemáticos.\n",
    "* Capacidad para integrar conocimientos matemáticos y de programación en proyectos interdisciplinarios."
   ]
  },
  {
   "cell_type": "markdown",
   "id": "540f0ec1",
   "metadata": {
    "slideshow": {
     "slide_type": "slide"
    }
   },
   "source": [
    "## Cuestionario para realizar labores de memorización, observación y síntesis de la información (Además de diagnóstico)  \n",
    "[Realizar encuesta para participacion de todos los estudiantes para diagnosticar presaberes para la clase: mentimeter](https://www.mentimeter.com/es-ES/education/lectures)\n",
    "\n",
    "1. ¿?\n",
    "2. ¿?\n",
    "3. ¿?\n",
    "4. ¿?\n",
    "5. ¿?"
   ]
  },
  {
   "cell_type": "markdown",
   "id": "8e457ea2",
   "metadata": {},
   "source": [
    "# Definiciones y Resultados científicos a comprender y memorizar \n",
    "\n",
    "[Primera grabación en Vocaroo]()"
   ]
  },
  {
   "cell_type": "markdown",
   "id": "ca7261b1",
   "metadata": {
    "slideshow": {
     "slide_type": "slide"
    }
   },
   "source": [
    "## Establecimiento de prerrequisitos conceptuales para alcanzar el objetivo de aprendizaje trazado.   \n",
    "\n",
    "(Elabore una lista de preguntas al rededor de los conceptos que consideres necesarios para empezar la clase).  \n",
    "\n",
    "1. \n",
    "2. \n",
    "3. "
   ]
  },
  {
   "cell_type": "markdown",
   "id": "2298e976",
   "metadata": {
    "slideshow": {
     "slide_type": "slide"
    }
   },
   "source": [
    "# Para el diseño de la clase tenga en cuenta algunos problemas de aprendizaje"
   ]
  },
  {
   "cell_type": "markdown",
   "id": "523d3acf",
   "metadata": {
    "slideshow": {
     "slide_type": "slide"
    }
   },
   "source": [
    "* Los estudiantes tienden a generalizar solo con la observación del cumplimiento de la función proposicional en algunos números naturales. "
   ]
  },
  {
   "cell_type": "markdown",
   "id": "a40a4704",
   "metadata": {
    "slideshow": {
     "slide_type": "slide"
    }
   },
   "source": [
    "## Secuencia conceptual introductoria a la clase"
   ]
  },
  {
   "cell_type": "markdown",
   "id": "8853d874",
   "metadata": {},
   "source": [
    "## El componente histórico y epistemológico"
   ]
  },
  {
   "cell_type": "markdown",
   "id": "e3ffa494",
   "metadata": {},
   "source": [
    "# Vocabulary     \n",
    "\n",
    "1.   \n",
    "2.    \n",
    "3.   \n",
    "4.   \n",
    "5.  "
   ]
  },
  {
   "cell_type": "code",
   "execution_count": 4,
   "id": "6ff395c3",
   "metadata": {},
   "outputs": [],
   "source": [
    "# Traducción del inglés al español con python\n",
    "\n",
    "def traducir(texto):\n",
    "    from googletrans import Translator\n",
    "\n",
    "    translator = Translator() # instancia la clase \n",
    "\n",
    "    # Traducir al español\n",
    "    translation = translator.translate(texto, src='en', dest='es')\n",
    "    return translation.text"
   ]
  },
  {
   "cell_type": "code",
   "execution_count": 5,
   "id": "b583f414-ac87-4912-8a86-b338234d83d7",
   "metadata": {},
   "outputs": [
    {
     "data": {
      "text/plain": [
       "'Hola'"
      ]
     },
     "execution_count": 5,
     "metadata": {},
     "output_type": "execute_result"
    }
   ],
   "source": [
    "traducir('Hi')"
   ]
  },
  {
   "cell_type": "code",
   "execution_count": 18,
   "id": "bc0addfe",
   "metadata": {},
   "outputs": [
    {
     "data": {
      "text/plain": [
       "'/home/marco/Documentos/docencia/fundamentos_de_la_aritmetica/images/2_naturales/Naturales.pdf'"
      ]
     },
     "execution_count": 18,
     "metadata": {},
     "output_type": "execute_result"
    }
   ],
   "source": [
    "# mapa conceptual para la clase sobre inducción matemática\n",
    "from graphviz import Digraph\n",
    "\n",
    "# Crear un nuevo grafo dirigido\n",
    "dot = Digraph()\n",
    "\n",
    "# Añadir nodos y relaciones al grafo\n",
    "main_concept = 'Naturales'\n",
    "dot.node('A', main_concept)\n",
    "dot.node('B', 'Inducción \\n matemática')\n",
    "dot.node('C', 'Paso Base')\n",
    "dot.node('D', 'Paso \\n Inductivo')\n",
    "dot.node('E', 'Demostraciones \\n por Inducción')\n",
    "dot.node('F', 'Suma de \\n los primeros \\n n números naturales')\n",
    "dot.node('G', 'Suma de \\n los primeros \\n n números impares')\n",
    "dot.node('H', 'Suma de \\n los primeros \\n n números cuadrados')\n",
    "dot.node('I', 'Divisibilidad')\n",
    "dot.node('J', 'Patrones y \\n generalización')\n",
    "\n",
    "# Establecer relaciones entre los nodos\n",
    "dot.edges(['AB'])  # Naturales -> Inducción matemática\n",
    "dot.edges(['BC'])  # Inducción matemática -> Paso Base\n",
    "dot.edges(['BD'])  # Inducción matemática -> Paso Inductivo\n",
    "dot.edges(['BE'])  # Inducción matemática -> Demostraciones por Inducción\n",
    "dot.edges(['EF'])  # Demostraciones -> Suma de los primeros n números naturales\n",
    "dot.edges(['EG'])  # Demostraciones -> Suma de los primeros n números impares\n",
    "dot.edges(['EH'])  # Demostraciones -> Suma de los primeros n números cuadrados\n",
    "dot.edges(['EI'])  # Demostraciones -> Divisibilidad\n",
    "dot.edges(['EJ'])  # Demostraciones -> Patrones y generalización\n",
    "\n",
    "# Guardar el grafo como un archivo de imagen\n",
    "dot.render(filename=main_concept, format='png', cleanup=True, \\\n",
    "           directory='/home/marco/Documentos/docencia/fundamentos_de_la_aritmetica/images/2_naturales')\n",
    "\n",
    "dot.view()\n",
    "\n"
   ]
  },
  {
   "cell_type": "markdown",
   "id": "bd16aa19-6838-4f37-a658-734892748d25",
   "metadata": {},
   "source": [
    "# Inducción matemática  \n",
    "\n",
    "Página 33 de Lina Grajales  \n",
    "\n",
    "[Video motivacional al tema](https://www.youtube.com/watch?v=5HuMMTTfAGs&ab_channel=Derivando)"
   ]
  },
  {
   "cell_type": "markdown",
   "id": "6d6dfda5",
   "metadata": {},
   "source": [
    "# Una generalización incorrecta o proceso de inducción incorrecto  \n",
    "\n"
   ]
  },
  {
   "cell_type": "markdown",
   "id": "9a5c32b7",
   "metadata": {},
   "source": [
    "\n",
    "[Obtenga el texto de Uzcategui aquí y revise desde la página 121](https://github.com/marco-canas/fundamentos_de_la_aritmetica/blob/main/referentes/3_uzcategui/uscategui.pdf)"
   ]
  },
  {
   "cell_type": "markdown",
   "id": "bb4c64cf-af99-4161-a274-c2b299704fa9",
   "metadata": {},
   "source": [
    "## 2.3.2 Método de inducción  \n",
    "\n",
    "Los tres tipos de demostración hasta ahora vistos pertenecen al método deductivo. Veamos un método que va de lo particular a lo general: es el método de inducción, que será muy importante para probar fórmulas sobre números reales.  \n",
    "\n",
    "Pasos para demostrar una fórmula matemática $P(n)$ por el método de inducción\n",
    "1. Verificamos que la proposición se cumple para $n = 1$, $n = 2$.\n",
    "2. Suponemos que se cumple para $n = k$.\n",
    "3. Demostramos que se cumple para $n = k + 1$."
   ]
  },
  {
   "cell_type": "markdown",
   "id": "eccfaa77-6065-47d8-8202-16e93d643212",
   "metadata": {},
   "source": [
    "### Nota:   \n",
    "\n",
    "Para demostrar una propiedad que tiene que ver con números enteros por medio del método de inducción, debemos de asegurar que esta propiedad la cumplen todos los enteros positivos.   \n",
    "\n",
    "Para esto se verifica para $n = 1$, $n = 2$; luego demostramos que si se cumple para un entero $n = k$ entonces también se verifica para el siguiente entero $k + 1$, con esto se demuestre que cumple para todos los enteros positivos."
   ]
  },
  {
   "cell_type": "markdown",
   "id": "182f79c4-fafb-4a4e-a136-94e5663f271d",
   "metadata": {},
   "source": [
    "### Ejemplo 2.8  \n",
    "\n",
    "Demuestre por inducción que la suma de los primeros $n$ impares en $n^{2}$. "
   ]
  },
  {
   "cell_type": "markdown",
   "id": "0c8d8348-1717-4d65-8618-29c19f3c4b91",
   "metadata": {},
   "source": [
    "#### Solución:  \n",
    "\n",
    "Debemos mostrar que: $1 + 3 + 5 + 7 + \\cdots + (2n − 1) = n^{2}$  \n",
    "\n",
    "Paso 1. Si $n = 1$, tenemos que $1 = 1$. Si $n = 2$, tenemos $1 + 3 = 2^{2}$ lo cumple.  \n",
    "\n",
    "Paso 2. Suponemos que es cierto para $n = k$; $1 + 3 + 5 + \\cdots + (2k − 1) = k^{2}$.  \n",
    "\n",
    "Paso 3. Partiendo del paso anterior demostremos que se cumple para $(k + 1)$.  \n",
    "\n",
    "Debemos demostrar que: $1 + 3 + 5 + \\cdots + (2k − 1) + (2k + 1) = (k + 1)^{2}$  \n",
    "\n",
    "Por el paso 2: $1 + 3 + 5 + \\cdots + (2k − 1) = k^{2}$  \n",
    "\n",
    "Por tanto,  \n",
    "\n",
    "$$ 1 + 3 + 5 + \\cdots + (2k − 1) + (2k + 1) = k^{2} + (2k + 1) = (k + 1)^{2} $$ \n",
    "\n",
    "Que era lo que queríamos demostrar."
   ]
  },
  {
   "cell_type": "markdown",
   "id": "64ac8d32",
   "metadata": {},
   "source": [
    "# Ejemplo ilustrativo"
   ]
  },
  {
   "cell_type": "markdown",
   "id": "a3e5e6ab",
   "metadata": {},
   "source": [
    "# 20 ejercicios de entrenamiento o adquisición de habilidades obtenido a través de ChatGPT para una formación personalizada y centrada en la habilidad que se quiere lograr con la enseñanza del ejemplo anterior"
   ]
  },
  {
   "cell_type": "markdown",
   "id": "d3a4339d-956f-4e3d-9c54-fb09b419975e",
   "metadata": {},
   "source": [
    "Aquí tienes 20 ejercicios diseñados para entrenar a tus estudiantes en el uso del principio de inducción matemática, desarrollando la habilidad para generalizar:\n",
    "\n",
    "1. **Demuestre por inducción que la suma de los primeros $n$ números enteros es $S(n) = \\frac{n(n+1)}{2}$.**\n",
    "\n",
    "   [Video sobre el niño Gauss](https://www.youtube.com/watch?v=f1rmU6iWFgY&ab_channel=LucesdeSala)\n",
    "\n",
    "Para realizar este ejercicio siga la rubrica siguiente: \n",
    "\n",
    "   1. interprete verbalmente el teorema o afirmación matemática sin usar cuantificadores.\n",
    "   2. Interprete simbólicamente utilizando cuantificadores"
   ]
  },
  {
   "cell_type": "markdown",
   "id": "e5716b14",
   "metadata": {},
   "source": [
    "# Ejemplo de solución dada por el profesor Marco Cañas  \n",
    "\n"
   ]
  },
  {
   "cell_type": "markdown",
   "id": "f516b979",
   "metadata": {},
   "source": [
    "Empecemos interpretando verbalmente el teorema o función proposicional $P(n)$. \n",
    "||Enunciación|Demostración|Justificación|\n",
    "|-----------|------------|--|--|\n",
    "|Enunciación del paso base|1. |||\n",
    "|Enunciación de la hipótesis inductiva|2. |||\n",
    "| |3. ||||\n",
    "| |4. ||||\n",
    "| |5. ||||\n",
    "| |6. ||||\n",
    "| |7. ||||\n",
    "|Enunciación de la tesis inductiva||||\n",
    "|Enunciación de la implicación inductiva||||\n",
    "|Redacción de la conclusión||||"
   ]
  },
  {
   "cell_type": "code",
   "execution_count": null,
   "id": "2eddd188",
   "metadata": {},
   "outputs": [],
   "source": [
    "# verificación tabular usando pandas"
   ]
  },
  {
   "cell_type": "code",
   "execution_count": null,
   "id": "d0e81121",
   "metadata": {},
   "outputs": [],
   "source": [
    "# verificación gráfica usando matplotlib "
   ]
  },
  {
   "cell_type": "markdown",
   "id": "1aa67e23-ee05-4f49-b43c-5755ad3465b4",
   "metadata": {},
   "source": [
    "2. **Demuestre por inducción que $2^{n} > n$ para todo $n \\geq 1$.**"
   ]
  },
  {
   "cell_type": "markdown",
   "id": "f4573110",
   "metadata": {},
   "source": [
    "Empecemos interpretando verbalmente el teorema o función proposicional $P(n)$:  \n",
    "La función exponencial de variable natural es estrictamente mayor a la función identidad.   \n",
    "O Para cada $n \\in \\mathbb{N}$ se verifica la siguiente desigualdad $2^{n} > n$.   \n",
    " \n",
    "||Enunciación|Demostración|Justificación|\n",
    "|-----------|------------|--|--|\n",
    "|Enunciación del paso base|1. |||\n",
    "|Enunciación de la hipótesis inductiva|2. |||\n",
    "| |3. ||||\n",
    "| |4. ||||\n",
    "| |5. ||||\n",
    "| |6. ||||\n",
    "| |7. ||||\n",
    "|Enunciación de la tesis inductiva||||\n",
    "|Enunciación de la implicación inductiva||||\n",
    "|Redacción de la conclusión||||"
   ]
  },
  {
   "cell_type": "markdown",
   "id": "070a6f6b-98ae-46f2-ba0e-69f25cbc1869",
   "metadata": {},
   "source": [
    "3. **Demuestre por inducción que la suma de los primeros $n$ cuadrados es $S(n) = \\frac{n(n+1)(2n+1)}{6}$.**"
   ]
  },
  {
   "cell_type": "markdown",
   "id": "c48db326",
   "metadata": {},
   "source": [
    "Empecemos interpretando verbalmente el teorema o función proposicional $P(n)$:  \n",
    "\n",
    "\n",
    "||Enunciación|Demostración|Justificación|\n",
    "|-----------|------------|--|--|\n",
    "|Enunciación del paso base|1. |||\n",
    "|Enunciación de la hipótesis inductiva|2. |||\n",
    "| |3. ||||\n",
    "| |4. ||||\n",
    "| |5. ||||\n",
    "| |6. ||||\n",
    "| |7. ||||\n",
    "|Enunciación de la tesis inductiva||||\n",
    "|Enunciación de la implicación inductiva||||\n",
    "|Redacción de la conclusión||||"
   ]
  },
  {
   "cell_type": "markdown",
   "id": "19b3c8ca-fc4e-4c9b-8890-2c070a180e85",
   "metadata": {},
   "source": [
    "4. **Demuestre por inducción que $5^{n} - 1$ es divisible por $4$ para todo $n \\geq 1$.**"
   ]
  },
  {
   "cell_type": "markdown",
   "id": "e9e48582",
   "metadata": {},
   "source": [
    "Empecemos interpretando verbalmente el teorema o función proposicional $P(n)$:  \n",
    "\n",
    "\n",
    "||Enunciación|Demostración|Justificación|\n",
    "|-----------|------------|--|--|\n",
    "|Enunciación del paso base|1. |||\n",
    "|Enunciación de la hipótesis inductiva|2. |||\n",
    "| |3. ||||\n",
    "| |4. ||||\n",
    "| |5. ||||\n",
    "| |6. ||||\n",
    "| |7. ||||\n",
    "|Enunciación de la tesis inductiva||||\n",
    "|Enunciación de la implicación inductiva||||\n",
    "|Redacción de la conclusión||||"
   ]
  },
  {
   "cell_type": "markdown",
   "id": "71559fc3-3bc7-4d50-8612-bb1aa7292734",
   "metadata": {},
   "source": [
    "5. **Demuestre por inducción que la suma de los primeros $n$ cubos es $S(n) = \\left( \\frac{n(n+1)}{2} \\right)^2$.**"
   ]
  },
  {
   "cell_type": "markdown",
   "id": "8bd106c4-8471-41ec-8831-0ea1e7a327b7",
   "metadata": {},
   "source": [
    "6. **Demuestre por inducción que $n! \\geq 2^n$ para todo $n \\geq 4$.**"
   ]
  },
  {
   "cell_type": "markdown",
   "id": "01631db3-f259-41c9-8cf4-1daf745f7cf7",
   "metadata": {},
   "source": [
    "7. **Demuestre por inducción que $3^{n} + 2^{n}$ es divisible por $5$ para todo $n \\geq 1$.**"
   ]
  },
  {
   "cell_type": "markdown",
   "id": "d37dc891-eca3-4214-87b9-ccf64790949f",
   "metadata": {},
   "source": [
    "8. **Demuestre por inducción que $7^{n} - 3^{n}$ es divisible por $4$ para todo $n \\geq 0$.**"
   ]
  },
  {
   "cell_type": "markdown",
   "id": "d7522096-222b-442b-b88f-3f69bc05c7dd",
   "metadata": {},
   "source": [
    "9. **Demuestre por inducción que la suma de los primeros $n$ números múltiplos de $3$ es $S(n) = \\frac{3n(n+1)}{2}$.**"
   ]
  },
  {
   "cell_type": "markdown",
   "id": "2d6369a9-3794-4658-bcd4-16d65a18f18e",
   "metadata": {},
   "source": [
    "10. **Demuestre por inducción que $n^{3} + 2n$ es divisible por $3$ para todo $n \\geq 1$.**"
   ]
  },
  {
   "cell_type": "markdown",
   "id": "699b87c7-583b-4e76-aec0-9a6be22b8c54",
   "metadata": {},
   "source": [
    "11. **Demuestre por inducción que $n! > 2^{n}$ para todo $n \\geq 4$.**"
   ]
  },
  {
   "cell_type": "markdown",
   "id": "ba0a81b0-e614-4f04-9187-dc4ba3af63ca",
   "metadata": {},
   "source": [
    "12. **Demuestre por inducción que la suma de los primeros $n$ términos de la serie geométrica $1 + r + r^2 + \\cdots + r^{n-1}$ es $S(n) = \\frac{1-r^n}{1-r}$ para $r \\neq 1$.**"
   ]
  },
  {
   "cell_type": "markdown",
   "id": "17865d7b-7006-4747-9591-c1bcc0d4ad2a",
   "metadata": {},
   "source": [
    "13. **Demuestre por inducción que $n^2 - n$ es divisible por $2$ para todo $n \\geq 1$.**"
   ]
  },
  {
   "cell_type": "markdown",
   "id": "78252228-ce44-49cc-8adf-dff459800e73",
   "metadata": {},
   "source": [
    "14. **Demuestre por inducción que la suma de los primeros $n$ números pares es $S(n) = n(n+1)$.**"
   ]
  },
  {
   "cell_type": "markdown",
   "id": "ff40ecb0-0f65-4a29-993d-204d4fb391f1",
   "metadata": {},
   "source": [
    "15. **Demuestre por inducción que la suma de los primeros $n$ números naturales elevados a la quinta potencia es $S(n) = \\frac{n(n+1)(2n+1)(3n^2 + 3n - 1)}{30}$.**"
   ]
  },
  {
   "cell_type": "markdown",
   "id": "b1828800-db97-45a9-9e6d-326672902f8d",
   "metadata": {},
   "source": [
    "16. **Demuestre por inducción que $4^n - 1$ es divisible por $3$ para todo $n \\geq 1$.**"
   ]
  },
  {
   "cell_type": "markdown",
   "id": "c6e85b85-25bd-487d-be99-d3aa7e7f2d21",
   "metadata": {},
   "source": [
    "17. **Demuestre por inducción que $6^n - 1$ es divisible por $5$ para todo $n \\geq 1$.**"
   ]
  },
  {
   "cell_type": "markdown",
   "id": "30ebbbf9-e17c-4e9a-ab39-d775d9a74d65",
   "metadata": {},
   "source": [
    "18. **Demuestre por inducción que la suma de los primeros $n$ números naturales elevados a la cuarta potencia es $S(n) = \\frac{n(n+1)(2n+1)(3n^2+n-1)}{30}$.**"
   ]
  },
  {
   "cell_type": "markdown",
   "id": "dcb79d1d-3552-49f7-b122-6d299c0f543b",
   "metadata": {},
   "source": [
    "19. **Demuestre por inducción que $9^n - 1$ es divisible por $8$ para todo $n \\geq 1$.**"
   ]
  },
  {
   "cell_type": "markdown",
   "id": "8aa94207-794a-481c-aaf3-17c3c965079e",
   "metadata": {},
   "source": [
    "20. **Demuestre por inducción que $n^3 - n$ es divisible por $6$ para todo $n \\geq 1$.**"
   ]
  },
  {
   "cell_type": "markdown",
   "id": "9cc4d26e-c072-4296-8b0b-35f7f05b7c10",
   "metadata": {},
   "source": [
    "Estos ejercicios están diseñados para que tus estudiantes practiquen la técnica de inducción matemática y puedan aplicar generalizaciones en diferentes contextos algebraicos."
   ]
  },
  {
   "cell_type": "markdown",
   "id": "900941a7-3720-4850-a5da-0beac925561c",
   "metadata": {},
   "source": [
    "# Enseñando el Método de Inducción Matemática con Python y Cuadernos Jupyter\n",
    "\n",
    "---"
   ]
  },
  {
   "cell_type": "markdown",
   "id": "f9a0e6b6-8ac2-4b8d-8f91-ec423019dbf5",
   "metadata": {},
   "source": [
    "## **Objetivos de Aprendizaje**\n",
    "\n",
    "1. Comprender el principio de inducción matemática y su importancia en las demostraciones matemáticas.\n",
    "2. Utilizar Python y cuadernos Jupyter para explorar, tabular y graficar secuencias y sumas relacionadas con los ejercicios de inducción.\n",
    "3. Desarrollar habilidades para generalizar patrones numéricos y formular conjeturas matemáticas.\n",
    "4. Aplicar el método de inducción matemática para demostrar proposiciones generales.\n",
    "\n",
    "---"
   ]
  },
  {
   "cell_type": "markdown",
   "id": "57776307-c99b-46a2-b173-fdd13854def8",
   "metadata": {},
   "source": [
    "## **Plan de Clase**\n",
    "\n",
    "### **Sesión 1: Introducción a la Inducción Matemática y Herramientas Tecnológicas**"
   ]
  },
  {
   "cell_type": "markdown",
   "id": "2b3fae7e-d1c4-4a01-8238-ef99692a785f",
   "metadata": {},
   "source": [
    "**Duración:** 2 horas\n",
    "\n",
    "#### **1. Introducción al Principio de Inducción Matemática (30 minutos)**\n",
    "\n",
    "- **Explicación Teórica:**\n",
    "  - Presentar el principio de inducción matemática:\n",
    "    - **Paso Base:** Verificar que la proposición es verdadera para el primer caso (generalmente $ n = 1 $).\n",
    "    - **Paso Inductivo:** Asumir que la proposición es verdadera para $ n = k $ y demostrar que entonces es verdadera para $n = k+1$."
   ]
  },
  {
   "cell_type": "markdown",
   "id": "9190418a-709a-4e6b-89b4-566eca7864d2",
   "metadata": {},
   "source": [
    "- **Ejemplo Simple:**\n",
    "  - Demostrar que la suma de los primeros $n$ números naturales es $$S(n) = \\frac{n(n+1)}{2}.$$"
   ]
  },
  {
   "cell_type": "markdown",
   "id": "a796f104-d955-44d3-997f-aded3a3e70cf",
   "metadata": {},
   "source": [
    "#### **2. Introducción a Python y Cuadernos Jupyter (30 minutos)**\n",
    "\n",
    "- **Instalación y Configuración:**\n",
    "  - Cómo instalar Anaconda y lanzar Jupyter Notebooks.\n",
    "- **Conceptos Básicos de Python:**\n",
    "  - Variables, operadores aritméticos, funciones y estructuras de control.\n",
    "- **Uso de Librerías:**\n",
    "  - Importación de librerías como **NumPy** y **Matplotlib** para cálculos y gráficos."
   ]
  },
  {
   "cell_type": "markdown",
   "id": "506d2363-8d85-4f89-85a9-932bd87e877e",
   "metadata": {},
   "source": [
    "### **Sesión 2: Exploración Tabular y Gráfica de Ejercicios de Inducción**\n",
    "\n",
    "**Duración:** 2 horas\n",
    "\n",
    "#### **3. Ejemplo Detallado: Suma de los Primeros $ n $ Números Naturales (45 minutos)**\n",
    "\n",
    "- **Código en Python:**"
   ]
  },
  {
   "cell_type": "code",
   "execution_count": 7,
   "id": "ab7e31d9-f7b0-4edb-9229-c93ee524b1e4",
   "metadata": {},
   "outputs": [
    {
     "data": {
      "text/html": [
       "<div>\n",
       "<style scoped>\n",
       "    .dataframe tbody tr th:only-of-type {\n",
       "        vertical-align: middle;\n",
       "    }\n",
       "\n",
       "    .dataframe tbody tr th {\n",
       "        vertical-align: top;\n",
       "    }\n",
       "\n",
       "    .dataframe thead th {\n",
       "        text-align: right;\n",
       "    }\n",
       "</style>\n",
       "<table border=\"1\" class=\"dataframe\">\n",
       "  <thead>\n",
       "    <tr style=\"text-align: right;\">\n",
       "      <th></th>\n",
       "      <th>n</th>\n",
       "      <th>Suma Real</th>\n",
       "      <th>Suma Fórmula</th>\n",
       "    </tr>\n",
       "  </thead>\n",
       "  <tbody>\n",
       "    <tr>\n",
       "      <th>0</th>\n",
       "      <td>1</td>\n",
       "      <td>1</td>\n",
       "      <td>1</td>\n",
       "    </tr>\n",
       "    <tr>\n",
       "      <th>1</th>\n",
       "      <td>2</td>\n",
       "      <td>3</td>\n",
       "      <td>3</td>\n",
       "    </tr>\n",
       "    <tr>\n",
       "      <th>2</th>\n",
       "      <td>3</td>\n",
       "      <td>6</td>\n",
       "      <td>6</td>\n",
       "    </tr>\n",
       "    <tr>\n",
       "      <th>3</th>\n",
       "      <td>4</td>\n",
       "      <td>10</td>\n",
       "      <td>10</td>\n",
       "    </tr>\n",
       "    <tr>\n",
       "      <th>4</th>\n",
       "      <td>5</td>\n",
       "      <td>15</td>\n",
       "      <td>15</td>\n",
       "    </tr>\n",
       "    <tr>\n",
       "      <th>5</th>\n",
       "      <td>6</td>\n",
       "      <td>21</td>\n",
       "      <td>21</td>\n",
       "    </tr>\n",
       "    <tr>\n",
       "      <th>6</th>\n",
       "      <td>7</td>\n",
       "      <td>28</td>\n",
       "      <td>28</td>\n",
       "    </tr>\n",
       "    <tr>\n",
       "      <th>7</th>\n",
       "      <td>8</td>\n",
       "      <td>36</td>\n",
       "      <td>36</td>\n",
       "    </tr>\n",
       "    <tr>\n",
       "      <th>8</th>\n",
       "      <td>9</td>\n",
       "      <td>45</td>\n",
       "      <td>45</td>\n",
       "    </tr>\n",
       "    <tr>\n",
       "      <th>9</th>\n",
       "      <td>10</td>\n",
       "      <td>55</td>\n",
       "      <td>55</td>\n",
       "    </tr>\n",
       "    <tr>\n",
       "      <th>10</th>\n",
       "      <td>11</td>\n",
       "      <td>66</td>\n",
       "      <td>66</td>\n",
       "    </tr>\n",
       "    <tr>\n",
       "      <th>11</th>\n",
       "      <td>12</td>\n",
       "      <td>78</td>\n",
       "      <td>78</td>\n",
       "    </tr>\n",
       "    <tr>\n",
       "      <th>12</th>\n",
       "      <td>13</td>\n",
       "      <td>91</td>\n",
       "      <td>91</td>\n",
       "    </tr>\n",
       "    <tr>\n",
       "      <th>13</th>\n",
       "      <td>14</td>\n",
       "      <td>105</td>\n",
       "      <td>105</td>\n",
       "    </tr>\n",
       "    <tr>\n",
       "      <th>14</th>\n",
       "      <td>15</td>\n",
       "      <td>120</td>\n",
       "      <td>120</td>\n",
       "    </tr>\n",
       "    <tr>\n",
       "      <th>15</th>\n",
       "      <td>16</td>\n",
       "      <td>136</td>\n",
       "      <td>136</td>\n",
       "    </tr>\n",
       "    <tr>\n",
       "      <th>16</th>\n",
       "      <td>17</td>\n",
       "      <td>153</td>\n",
       "      <td>153</td>\n",
       "    </tr>\n",
       "    <tr>\n",
       "      <th>17</th>\n",
       "      <td>18</td>\n",
       "      <td>171</td>\n",
       "      <td>171</td>\n",
       "    </tr>\n",
       "    <tr>\n",
       "      <th>18</th>\n",
       "      <td>19</td>\n",
       "      <td>190</td>\n",
       "      <td>190</td>\n",
       "    </tr>\n",
       "    <tr>\n",
       "      <th>19</th>\n",
       "      <td>20</td>\n",
       "      <td>210</td>\n",
       "      <td>210</td>\n",
       "    </tr>\n",
       "  </tbody>\n",
       "</table>\n",
       "</div>"
      ],
      "text/plain": [
       "     n  Suma Real  Suma Fórmula\n",
       "0    1          1             1\n",
       "1    2          3             3\n",
       "2    3          6             6\n",
       "3    4         10            10\n",
       "4    5         15            15\n",
       "5    6         21            21\n",
       "6    7         28            28\n",
       "7    8         36            36\n",
       "8    9         45            45\n",
       "9   10         55            55\n",
       "10  11         66            66\n",
       "11  12         78            78\n",
       "12  13         91            91\n",
       "13  14        105           105\n",
       "14  15        120           120\n",
       "15  16        136           136\n",
       "16  17        153           153\n",
       "17  18        171           171\n",
       "18  19        190           190\n",
       "19  20        210           210"
      ]
     },
     "execution_count": 7,
     "metadata": {},
     "output_type": "execute_result"
    }
   ],
   "source": [
    "  import numpy as np\n",
    "  import pandas as pd\n",
    "  import matplotlib.pyplot as plt\n",
    "\n",
    "  # Definir una función para calcular la suma real y la suma propuesta\n",
    "  def suma_numeros_naturales(n):\n",
    "      suma_real = sum(range(1, n+1))\n",
    "      suma_formula = n * (n + 1) // 2\n",
    "      return suma_real, suma_formula\n",
    "\n",
    "  # Crear listas para almacenar los valores\n",
    "  n_values = list(range(1, 21))\n",
    "  suma_real_list = []\n",
    "  suma_formula_list = []\n",
    "\n",
    "  for n in n_values:\n",
    "      real, formula = suma_numeros_naturales(n)\n",
    "      suma_real_list.append(real)\n",
    "      suma_formula_list.append(formula)\n",
    "\n",
    "  # Crear una tabla con los resultados\n",
    "  tabla = pd.DataFrame({\n",
    "      'n': n_values,\n",
    "      'Suma Real': suma_real_list,\n",
    "      'Suma Fórmula': suma_formula_list\n",
    "  })\n",
    "\n",
    "  tabla\n",
    "  "
   ]
  },
  {
   "cell_type": "markdown",
   "id": "6bc494d8-1f21-4e48-acbc-8462e7e2ddde",
   "metadata": {},
   "source": [
    "- **Visualización Tabular:**\n",
    "  - Mostrar la tabla generada y observar que la suma real y la suma por fórmula coinciden para cada \\( n \\).\n",
    "\n",
    "- **Gráfica de Resultados:**"
   ]
  },
  {
   "cell_type": "code",
   "execution_count": 12,
   "id": "b30b2835-409a-4dcb-915f-7b46e1d3a3a4",
   "metadata": {},
   "outputs": [
    {
     "data": {
      "image/png": "[encoded data removed]",
      "text/plain": [
       "<Figure size 640x480 with 1 Axes>"
      ]
     },
     "metadata": {},
     "output_type": "display_data"
    }
   ],
   "source": [
    "plt.plot(n_values, suma_real_list, label='Suma Real', marker='o')\n",
    "plt.plot(n_values, suma_formula_list, label='Suma Fórmula', marker='x')\n",
    "plt.title(r'Suma de los Primeros $n$ Números Naturales')\n",
    "plt.xlabel('n')\n",
    "plt.ylabel('Suma')\n",
    "plt.legend()\n",
    "plt.grid(True)\n",
    "plt.xticks(np.arange(1,20))\n",
    "plt.savefig('suma_de_los_primeros_n_naturales.jpg')\n",
    "plt.show()\n",
    "  "
   ]
  },
  {
   "cell_type": "markdown",
   "id": "ea30554e-3e9e-4f40-914a-452a4d2beb46",
   "metadata": {},
   "source": [
    "- **Análisis Gráfico:**\n",
    "  - Observar cómo ambas curvas coinciden, reforzando la validez de la fórmula."
   ]
  },
  {
   "cell_type": "markdown",
   "id": "71b7c60c-dfc3-4b67-ba0b-e5a627dcc35c",
   "metadata": {},
   "source": [
    "#### **4. Actividad Guiada: Ejercicio 1 a 5 (1 hora 15 minutos)**\n",
    "\n",
    "- **Dividir a los Estudiantes en Grupos:**\n",
    "  - Asignar un ejercicio a cada grupo de los siguientes:\n",
    "    1. Suma de los primeros $n$ números naturales al cuadrado.\n",
    "    2. Suma de los primeros $n$ números naturales al cubo.\n",
    "    3. Demostrar que $2^n > n$ para $n \\geq 1$.\n",
    "    4. Demostrar que $5^n - 1$ es divisible por $4$.\n",
    "    5. Demostrar que $n! \\geq 2^n$ para $n \\geq 4$."
   ]
  },
  {
   "cell_type": "markdown",
   "id": "e75ece31-3edc-469f-bb01-d07087eaf7e9",
   "metadata": {},
   "source": [
    "- **Instrucciones para la Actividad:**\n",
    "  - **Paso 1:** Escribir una función en Python que calcule ambos lados de la proposición para valores de $n$.\n",
    "  - **Paso 2:** Generar una tabla con los resultados.\n",
    "  - **Paso 3:** Graficar los resultados y analizar las tendencias.\n",
    "  - **Paso 4:** Preparar una breve presentación de sus hallazgos."
   ]
  },
  {
   "cell_type": "markdown",
   "id": "50959950-b354-4573-aec8-9de462d8ad9c",
   "metadata": {},
   "source": [
    "- **Apoyo del Profesor:**\n",
    "  - Circular entre los grupos para resolver dudas y orientar."
   ]
  },
  {
   "cell_type": "markdown",
   "id": "d4f7b714-5441-489c-9419-fa4dbb8e96ab",
   "metadata": {},
   "source": [
    "#### **5. Presentaciones de los Grupos (30 minutos)**\n",
    "\n",
    "- Cada grupo presenta sus resultados, tablas y gráficos.\n",
    "- Discusión colectiva sobre las observaciones y cómo apoyan la demostración por inducción."
   ]
  },
  {
   "cell_type": "markdown",
   "id": "f2a054b8-0f0a-4940-b314-43393fd8ef02",
   "metadata": {},
   "source": [
    "### **Sesión 3: Demostraciones Formales y Generalización**\n",
    "\n",
    "**Duración:** 2 horas"
   ]
  },
  {
   "cell_type": "markdown",
   "id": "83184a7c-e1e7-4401-8f2d-1215d7c2c5a1",
   "metadata": {},
   "source": [
    "#### **6. Demostración Formal de Ejercicios Seleccionados (1 hora)**\n",
    "\n",
    "- **Ejercicio 7:** Demostrar que $3^n + 2^n$ es divisible por 5.\n",
    "  - **Paso Base:** Verificar para $n = 1$.\n",
    "  - **Paso Inductivo:** Asumir que es cierto para $n = k$ y demostrar para $n = k+1$.\n",
    "- **Análisis Detallado:**\n",
    "  - Escribir la demostración paso a paso.\n",
    "  - Relacionar con las observaciones tabulares y gráficas obtenidas en Python."
   ]
  },
  {
   "cell_type": "markdown",
   "id": "91bf7896-bdb6-4d18-89ac-eb864fc83389",
   "metadata": {},
   "source": [
    "#### **7. Práctica Independiente (1 hora)**\n",
    "\n",
    "- **Asignar Ejercicios Restantes:**\n",
    "  - Los estudiantes eligen uno de los ejercicios restantes y realizan la demostración formal.\n",
    "- **Uso de Python como Apoyo:**\n",
    "  - Continuar utilizando Python para explorar más casos si es necesario."
   ]
  },
  {
   "cell_type": "markdown",
   "id": "0489d9cd-48aa-4ede-821f-30a48019ad82",
   "metadata": {},
   "source": [
    "### **Sesión 4: Conclusiones y Reflexiones**\n",
    "\n",
    "**Duración:** 1 hora"
   ]
  },
  {
   "cell_type": "markdown",
   "id": "038d5976-ffe0-44f2-86d1-a17e7526c241",
   "metadata": {},
   "source": [
    "#### **8. Discusión General (30 minutos)**\n",
    "\n",
    "- **Preguntas Orientadoras:**\n",
    "  - ¿Cómo ayudaron las tablas y gráficas a entender el patrón?\n",
    "  - ¿En qué casos la visualización fue especialmente útil?\n",
    "  - ¿Qué dificultades encontraron al realizar las demostraciones formales?"
   ]
  },
  {
   "cell_type": "markdown",
   "id": "0159e9d4-44fa-4e0a-be97-579a550f04dd",
   "metadata": {},
   "source": [
    "#### **9. Evaluación y Retroalimentación (30 minutos)**\n",
    "\n",
    "- **Revisión de Cuadernos Jupyter:**\n",
    "  - Evaluar el código, las tablas y las gráficas generadas.\n",
    "- **Retroalimentación Individual:**\n",
    "  - Proporcionar comentarios constructivos sobre el trabajo realizado.\n",
    "\n",
    "---\n",
    "\n",
    "## **Recursos Necesarios**\n",
    "\n",
    "- **Hardware y Software:**\n",
    "  - Computadoras con acceso a Internet.\n",
    "  - Instalación de Anaconda o Jupyter Notebooks.\n",
    "- **Librerías de Python:**\n",
    "  - **NumPy** para operaciones numéricas.\n",
    "  - **Pandas** para manipulación de tablas.\n",
    "  - **Matplotlib** para gráficos.\n",
    "- **Materiales de Referencia:**\n",
    "  - Guías sobre inducción matemática.\n",
    "  - Documentación de Python y librerías utilizadas.\n",
    "\n",
    "---\n",
    "\n",
    "## **Anexos**\n",
    "\n",
    "### **Ejemplo Adicional: Demostrar que \\( 4^n - 1 \\) es divisible por 3**\n",
    "\n",
    "**Código en Python:**"
   ]
  },
  {
   "cell_type": "code",
   "execution_count": 13,
   "id": "e2ad16fd-f248-4a80-9289-a84e5558b8b8",
   "metadata": {},
   "outputs": [
    {
     "name": "stdout",
     "output_type": "stream",
     "text": [
      "     n        4^n - 1  Es divisible por 3\n",
      "0    1              3                True\n",
      "1    2             15                True\n",
      "2    3             63                True\n",
      "3    4            255                True\n",
      "4    5           1023                True\n",
      "5    6           4095                True\n",
      "6    7          16383                True\n",
      "7    8          65535                True\n",
      "8    9         262143                True\n",
      "9   10        1048575                True\n",
      "10  11        4194303                True\n",
      "11  12       16777215                True\n",
      "12  13       67108863                True\n",
      "13  14      268435455                True\n",
      "14  15     1073741823                True\n",
      "15  16     4294967295                True\n",
      "16  17    17179869183                True\n",
      "17  18    68719476735                True\n",
      "18  19   274877906943                True\n",
      "19  20  1099511627775                True\n"
     ]
    }
   ],
   "source": [
    "\n",
    "def es_divisible_por_3(n):\n",
    "    resultado = 4**n - 1\n",
    "    return resultado % 3 == 0, resultado\n",
    "\n",
    "n_values = list(range(1, 21))\n",
    "divisible_list = []\n",
    "resultado_list = []\n",
    "\n",
    "for n in n_values:\n",
    "    divisible, resultado = es_divisible_por_3(n)\n",
    "    divisible_list.append(divisible)\n",
    "    resultado_list.append(resultado)\n",
    "\n",
    "tabla = pd.DataFrame({\n",
    "    'n': n_values,\n",
    "    '4^n - 1': resultado_list,\n",
    "    'Es divisible por 3': divisible_list\n",
    "})\n",
    "\n",
    "print(tabla)\n"
   ]
  },
  {
   "cell_type": "markdown",
   "id": "ca9ccbe6-1b06-4a55-9d64-22292f4f21c5",
   "metadata": {},
   "source": [
    "**Análisis:**\n",
    "\n",
    "- **Visualización Tabular:**\n",
    "  - Observar que para cada $n$, $ 4^n - 1 $ es divisible por 3.\n",
    "- **Gráfica de los Valores de $4^n - 1$:**"
   ]
  },
  {
   "cell_type": "code",
   "execution_count": 15,
   "id": "f360397d-6a34-4b23-a74b-ac288bdc01e9",
   "metadata": {},
   "outputs": [
    {
     "data": {
      "image/png": "[encoded data removed]",
      "text/plain": [
       "<Figure size 400x200 with 1 Axes>"
      ]
     },
     "metadata": {},
     "output_type": "display_data"
    }
   ],
   "source": [
    "from matplotlib.pyplot import * \n",
    "figure(figsize = (4,2))\n",
    "plot(n_values, resultado_list, marker='o')\n",
    "title('Valores de 4^n - 1')\n",
    "xlabel('n')\n",
    "ylabel('4^n - 1')\n",
    "grid(True)\n",
    "savefig('valores_de_4_a_la_n_menos_1.jpg')\n",
    "show()\n",
    "  "
   ]
  },
  {
   "cell_type": "markdown",
   "id": "089d705d-edf6-4924-ac99-f6accc16a324",
   "metadata": {},
   "source": [
    "- **Discusión:**\n",
    "  - Analizar el crecimiento exponencial y cómo siempre es divisible por 3.\n",
    "\n",
    "---\n",
    "\n",
    "## **Consejos Pedagógicos**\n",
    "\n",
    "- **Fomentar la Exploración:**\n",
    "  - Animar a los estudiantes a cambiar los rangos de \\( n \\) y observar qué sucede.\n",
    "- **Conectar con Conceptos Previos:**\n",
    "  - Relacionar la inducción con secuencias y series estudiadas anteriormente.\n",
    "- **Adaptar a Diferentes Niveles:**\n",
    "  - Proporcionar apoyo adicional a quienes lo necesiten y desafíos extra para quienes avancen más rápido.\n",
    "\n",
    "---"
   ]
  },
  {
   "cell_type": "markdown",
   "id": "27c56bc8-d2a9-4fc9-8e89-70031753d050",
   "metadata": {
    "jp-MarkdownHeadingCollapsed": true
   },
   "source": [
    "## **Tarea para los Estudiantes**\n",
    "\n",
    "- **Demostración Formal:**\n",
    "  - Completar la demostración por inducción matemática de uno de los ejercicios trabajados.\n",
    "- **Informe en Jupyter Notebook:**\n",
    "  - Incluir el código, las tablas, las gráficas y una reflexión sobre cómo la visualización ayudó en la comprensión.\n",
    "\n",
    "---\n",
    "\n",
    "## **Evaluación**\n",
    "\n",
    "- **Criterios:**\n",
    "  - Comprensión del principio de inducción matemática.\n",
    "  - Correctitud y eficiencia del código Python.\n",
    "  - Claridad en la presentación de tablas y gráficas.\n",
    "  - Calidad de la demostración formal y capacidad de razonamiento lógico.\n",
    "- **Método:**\n",
    "  - Revisión de los cuadernos Jupyter y las demostraciones escritas.\n",
    "  - Retroalimentación individual y notas generales para el grupo.\n",
    "\n",
    "---"
   ]
  },
  {
   "cell_type": "markdown",
   "id": "7b2a16ee-ad3c-4b0e-bc36-eb181155f8e5",
   "metadata": {},
   "source": [
    "## **Conclusión**\n",
    "\n",
    "Integrar Python y cuadernos Jupyter en la enseñanza de la inducción matemática permite a los estudiantes visualizar y experimentar con los conceptos abstractos de manera interactiva. Esta metodología no solo refuerza la comprensión teórica sino que también desarrolla habilidades prácticas en programación y análisis de datos, fundamentales en la formación matemática moderna."
   ]
  },
  {
   "cell_type": "code",
   "execution_count": null,
   "id": "b38c1a9f-49bb-4802-ab9f-b89fe41d7b61",
   "metadata": {},
   "outputs": [],
   "source": []
  },
  {
   "cell_type": "code",
   "execution_count": 2,
   "id": "83d849ab",
   "metadata": {},
   "outputs": [
    {
     "name": "stdout",
     "output_type": "stream",
     "text": [
      "Tarea 1 de lectura de ejemplos y completación de procedimientos: \n",
      "     Si faltan los enunciados de los problemas, no se valora la tarea\n",
      "    Si faltan de la conclusión verbales, no se valora la tarea.\n",
      "    Esta tarea se valora solo si la presenta de manera manuscrita en su cuaderno de clase.  \n",
      "       tarea_1_lectura_y_completacion_ejemplos_Purcell_Página_202_Sección_3.8.csv\n"
     ]
    },
    {
     "data": {
      "text/html": [
       "<div>\n",
       "<style scoped>\n",
       "    .dataframe tbody tr th:only-of-type {\n",
       "        vertical-align: middle;\n",
       "    }\n",
       "\n",
       "    .dataframe tbody tr th {\n",
       "        vertical-align: top;\n",
       "    }\n",
       "\n",
       "    .dataframe thead th {\n",
       "        text-align: right;\n",
       "    }\n",
       "</style>\n",
       "<table border=\"1\" class=\"dataframe\">\n",
       "  <thead>\n",
       "    <tr style=\"text-align: right;\">\n",
       "      <th></th>\n",
       "      <th>Student</th>\n",
       "      <th>Example1</th>\n",
       "      <th>Example2</th>\n",
       "      <th>Example3</th>\n",
       "      <th>Example4</th>\n",
       "      <th>Example5</th>\n",
       "      <th>Example6</th>\n",
       "      <th>Example7</th>\n",
       "      <th>Example8</th>\n",
       "      <th>Example9</th>\n",
       "      <th>Example10</th>\n",
       "    </tr>\n",
       "  </thead>\n",
       "  <tbody>\n",
       "    <tr>\n",
       "      <th>0</th>\n",
       "      <td>AMARIS FERNANDEZ SEBASTIAN CAMILO</td>\n",
       "      <td>4</td>\n",
       "      <td>9</td>\n",
       "      <td>10</td>\n",
       "      <td>11</td>\n",
       "      <td>15</td>\n",
       "      <td>19</td>\n",
       "      <td>20</td>\n",
       "      <td>21</td>\n",
       "      <td>22</td>\n",
       "      <td>24</td>\n",
       "    </tr>\n",
       "    <tr>\n",
       "      <th>1</th>\n",
       "      <td>ARENAS HERAZO GABRIEL ENRIQUE</td>\n",
       "      <td>2</td>\n",
       "      <td>6</td>\n",
       "      <td>7</td>\n",
       "      <td>15</td>\n",
       "      <td>16</td>\n",
       "      <td>17</td>\n",
       "      <td>18</td>\n",
       "      <td>19</td>\n",
       "      <td>22</td>\n",
       "      <td>27</td>\n",
       "    </tr>\n",
       "    <tr>\n",
       "      <th>2</th>\n",
       "      <td>AYALA MENDOZA MARISOL YACIRA</td>\n",
       "      <td>2</td>\n",
       "      <td>4</td>\n",
       "      <td>8</td>\n",
       "      <td>10</td>\n",
       "      <td>11</td>\n",
       "      <td>14</td>\n",
       "      <td>16</td>\n",
       "      <td>20</td>\n",
       "      <td>25</td>\n",
       "      <td>26</td>\n",
       "    </tr>\n",
       "    <tr>\n",
       "      <th>3</th>\n",
       "      <td>BERTEL RODELO MICHELL SMIT</td>\n",
       "      <td>10</td>\n",
       "      <td>11</td>\n",
       "      <td>14</td>\n",
       "      <td>15</td>\n",
       "      <td>16</td>\n",
       "      <td>17</td>\n",
       "      <td>18</td>\n",
       "      <td>20</td>\n",
       "      <td>24</td>\n",
       "      <td>27</td>\n",
       "    </tr>\n",
       "    <tr>\n",
       "      <th>4</th>\n",
       "      <td>BULA VERGARA MARIA PAULA</td>\n",
       "      <td>5</td>\n",
       "      <td>7</td>\n",
       "      <td>9</td>\n",
       "      <td>16</td>\n",
       "      <td>17</td>\n",
       "      <td>19</td>\n",
       "      <td>22</td>\n",
       "      <td>24</td>\n",
       "      <td>25</td>\n",
       "      <td>26</td>\n",
       "    </tr>\n",
       "    <tr>\n",
       "      <th>5</th>\n",
       "      <td>CANTILLO ENSUCHO DANIEL</td>\n",
       "      <td>5</td>\n",
       "      <td>6</td>\n",
       "      <td>9</td>\n",
       "      <td>15</td>\n",
       "      <td>17</td>\n",
       "      <td>18</td>\n",
       "      <td>20</td>\n",
       "      <td>23</td>\n",
       "      <td>24</td>\n",
       "      <td>26</td>\n",
       "    </tr>\n",
       "    <tr>\n",
       "      <th>6</th>\n",
       "      <td>CERVANTES DURAN ANGELICA</td>\n",
       "      <td>4</td>\n",
       "      <td>5</td>\n",
       "      <td>8</td>\n",
       "      <td>9</td>\n",
       "      <td>12</td>\n",
       "      <td>13</td>\n",
       "      <td>19</td>\n",
       "      <td>23</td>\n",
       "      <td>26</td>\n",
       "      <td>27</td>\n",
       "    </tr>\n",
       "    <tr>\n",
       "      <th>7</th>\n",
       "      <td>GUERRA NORIEGA YONATHAN</td>\n",
       "      <td>2</td>\n",
       "      <td>3</td>\n",
       "      <td>6</td>\n",
       "      <td>7</td>\n",
       "      <td>10</td>\n",
       "      <td>11</td>\n",
       "      <td>21</td>\n",
       "      <td>23</td>\n",
       "      <td>24</td>\n",
       "      <td>26</td>\n",
       "    </tr>\n",
       "    <tr>\n",
       "      <th>8</th>\n",
       "      <td>HINCAPIE CASTRO JOHAN SEBASTIAN</td>\n",
       "      <td>4</td>\n",
       "      <td>8</td>\n",
       "      <td>10</td>\n",
       "      <td>12</td>\n",
       "      <td>15</td>\n",
       "      <td>16</td>\n",
       "      <td>20</td>\n",
       "      <td>23</td>\n",
       "      <td>24</td>\n",
       "      <td>27</td>\n",
       "    </tr>\n",
       "    <tr>\n",
       "      <th>9</th>\n",
       "      <td>HUMANEZ SANCHEZ CAMILO</td>\n",
       "      <td>4</td>\n",
       "      <td>5</td>\n",
       "      <td>14</td>\n",
       "      <td>16</td>\n",
       "      <td>20</td>\n",
       "      <td>21</td>\n",
       "      <td>23</td>\n",
       "      <td>24</td>\n",
       "      <td>25</td>\n",
       "      <td>26</td>\n",
       "    </tr>\n",
       "    <tr>\n",
       "      <th>10</th>\n",
       "      <td>IBAÑEZ MORENO FRANCISCO LUIS</td>\n",
       "      <td>2</td>\n",
       "      <td>3</td>\n",
       "      <td>10</td>\n",
       "      <td>13</td>\n",
       "      <td>14</td>\n",
       "      <td>18</td>\n",
       "      <td>19</td>\n",
       "      <td>21</td>\n",
       "      <td>23</td>\n",
       "      <td>26</td>\n",
       "    </tr>\n",
       "    <tr>\n",
       "      <th>11</th>\n",
       "      <td>MASS MIRANDA RIVALDO JOSE</td>\n",
       "      <td>2</td>\n",
       "      <td>4</td>\n",
       "      <td>5</td>\n",
       "      <td>7</td>\n",
       "      <td>9</td>\n",
       "      <td>10</td>\n",
       "      <td>11</td>\n",
       "      <td>17</td>\n",
       "      <td>21</td>\n",
       "      <td>23</td>\n",
       "    </tr>\n",
       "    <tr>\n",
       "      <th>12</th>\n",
       "      <td>MIRANDA MARTINEZ CARLOS ANDRES</td>\n",
       "      <td>7</td>\n",
       "      <td>11</td>\n",
       "      <td>12</td>\n",
       "      <td>13</td>\n",
       "      <td>16</td>\n",
       "      <td>17</td>\n",
       "      <td>18</td>\n",
       "      <td>21</td>\n",
       "      <td>22</td>\n",
       "      <td>24</td>\n",
       "    </tr>\n",
       "    <tr>\n",
       "      <th>13</th>\n",
       "      <td>MONTERROSA SOTO ABRIL</td>\n",
       "      <td>4</td>\n",
       "      <td>12</td>\n",
       "      <td>13</td>\n",
       "      <td>14</td>\n",
       "      <td>16</td>\n",
       "      <td>19</td>\n",
       "      <td>21</td>\n",
       "      <td>23</td>\n",
       "      <td>26</td>\n",
       "      <td>27</td>\n",
       "    </tr>\n",
       "    <tr>\n",
       "      <th>14</th>\n",
       "      <td>NORIEGA JIMENEZ GABRIELA</td>\n",
       "      <td>3</td>\n",
       "      <td>6</td>\n",
       "      <td>8</td>\n",
       "      <td>9</td>\n",
       "      <td>10</td>\n",
       "      <td>11</td>\n",
       "      <td>13</td>\n",
       "      <td>15</td>\n",
       "      <td>16</td>\n",
       "      <td>27</td>\n",
       "    </tr>\n",
       "    <tr>\n",
       "      <th>15</th>\n",
       "      <td>PEREZ REYES IVAN DARIO</td>\n",
       "      <td>2</td>\n",
       "      <td>3</td>\n",
       "      <td>10</td>\n",
       "      <td>13</td>\n",
       "      <td>17</td>\n",
       "      <td>22</td>\n",
       "      <td>24</td>\n",
       "      <td>25</td>\n",
       "      <td>26</td>\n",
       "      <td>27</td>\n",
       "    </tr>\n",
       "    <tr>\n",
       "      <th>16</th>\n",
       "      <td>PEREZ THERAN ERLINDA</td>\n",
       "      <td>4</td>\n",
       "      <td>5</td>\n",
       "      <td>11</td>\n",
       "      <td>13</td>\n",
       "      <td>16</td>\n",
       "      <td>19</td>\n",
       "      <td>20</td>\n",
       "      <td>21</td>\n",
       "      <td>22</td>\n",
       "      <td>25</td>\n",
       "    </tr>\n",
       "    <tr>\n",
       "      <th>17</th>\n",
       "      <td>PINEDA ROMERO YOSMERI</td>\n",
       "      <td>4</td>\n",
       "      <td>5</td>\n",
       "      <td>6</td>\n",
       "      <td>8</td>\n",
       "      <td>9</td>\n",
       "      <td>11</td>\n",
       "      <td>12</td>\n",
       "      <td>16</td>\n",
       "      <td>17</td>\n",
       "      <td>27</td>\n",
       "    </tr>\n",
       "    <tr>\n",
       "      <th>18</th>\n",
       "      <td>QUINONEZ CERVANTES MARIANA</td>\n",
       "      <td>8</td>\n",
       "      <td>10</td>\n",
       "      <td>11</td>\n",
       "      <td>12</td>\n",
       "      <td>15</td>\n",
       "      <td>17</td>\n",
       "      <td>21</td>\n",
       "      <td>22</td>\n",
       "      <td>24</td>\n",
       "      <td>26</td>\n",
       "    </tr>\n",
       "    <tr>\n",
       "      <th>19</th>\n",
       "      <td>RAMOS PEREZ YANINE</td>\n",
       "      <td>6</td>\n",
       "      <td>7</td>\n",
       "      <td>10</td>\n",
       "      <td>14</td>\n",
       "      <td>16</td>\n",
       "      <td>20</td>\n",
       "      <td>21</td>\n",
       "      <td>23</td>\n",
       "      <td>24</td>\n",
       "      <td>25</td>\n",
       "    </tr>\n",
       "    <tr>\n",
       "      <th>20</th>\n",
       "      <td>RIVAS HOYOS ESTEFANIA</td>\n",
       "      <td>3</td>\n",
       "      <td>4</td>\n",
       "      <td>6</td>\n",
       "      <td>7</td>\n",
       "      <td>11</td>\n",
       "      <td>16</td>\n",
       "      <td>22</td>\n",
       "      <td>23</td>\n",
       "      <td>25</td>\n",
       "      <td>26</td>\n",
       "    </tr>\n",
       "    <tr>\n",
       "      <th>21</th>\n",
       "      <td>ROSILLO TEJADA VANESA</td>\n",
       "      <td>2</td>\n",
       "      <td>4</td>\n",
       "      <td>14</td>\n",
       "      <td>15</td>\n",
       "      <td>16</td>\n",
       "      <td>20</td>\n",
       "      <td>22</td>\n",
       "      <td>25</td>\n",
       "      <td>26</td>\n",
       "      <td>27</td>\n",
       "    </tr>\n",
       "    <tr>\n",
       "      <th>22</th>\n",
       "      <td>SANCHEZ PADILLA SILVESTRE</td>\n",
       "      <td>4</td>\n",
       "      <td>6</td>\n",
       "      <td>8</td>\n",
       "      <td>11</td>\n",
       "      <td>15</td>\n",
       "      <td>19</td>\n",
       "      <td>22</td>\n",
       "      <td>23</td>\n",
       "      <td>25</td>\n",
       "      <td>26</td>\n",
       "    </tr>\n",
       "    <tr>\n",
       "      <th>23</th>\n",
       "      <td>SILVA ROYERO MAILY CRISTINA</td>\n",
       "      <td>7</td>\n",
       "      <td>8</td>\n",
       "      <td>12</td>\n",
       "      <td>14</td>\n",
       "      <td>15</td>\n",
       "      <td>17</td>\n",
       "      <td>18</td>\n",
       "      <td>21</td>\n",
       "      <td>26</td>\n",
       "      <td>27</td>\n",
       "    </tr>\n",
       "    <tr>\n",
       "      <th>24</th>\n",
       "      <td>USUGA GEORGE JHON ESTIVEN</td>\n",
       "      <td>3</td>\n",
       "      <td>7</td>\n",
       "      <td>8</td>\n",
       "      <td>10</td>\n",
       "      <td>16</td>\n",
       "      <td>18</td>\n",
       "      <td>23</td>\n",
       "      <td>24</td>\n",
       "      <td>25</td>\n",
       "      <td>27</td>\n",
       "    </tr>\n",
       "  </tbody>\n",
       "</table>\n",
       "</div>"
      ],
      "text/plain": [
       "                              Student  Example1  Example2  Example3  Example4  \\\n",
       "0   AMARIS FERNANDEZ SEBASTIAN CAMILO         4         9        10        11   \n",
       "1       ARENAS HERAZO GABRIEL ENRIQUE         2         6         7        15   \n",
       "2        AYALA MENDOZA MARISOL YACIRA         2         4         8        10   \n",
       "3          BERTEL RODELO MICHELL SMIT        10        11        14        15   \n",
       "4            BULA VERGARA MARIA PAULA         5         7         9        16   \n",
       "5             CANTILLO ENSUCHO DANIEL         5         6         9        15   \n",
       "6            CERVANTES DURAN ANGELICA         4         5         8         9   \n",
       "7             GUERRA NORIEGA YONATHAN         2         3         6         7   \n",
       "8     HINCAPIE CASTRO JOHAN SEBASTIAN         4         8        10        12   \n",
       "9              HUMANEZ SANCHEZ CAMILO         4         5        14        16   \n",
       "10       IBAÑEZ MORENO FRANCISCO LUIS         2         3        10        13   \n",
       "11          MASS MIRANDA RIVALDO JOSE         2         4         5         7   \n",
       "12     MIRANDA MARTINEZ CARLOS ANDRES         7        11        12        13   \n",
       "13              MONTERROSA SOTO ABRIL         4        12        13        14   \n",
       "14           NORIEGA JIMENEZ GABRIELA         3         6         8         9   \n",
       "15             PEREZ REYES IVAN DARIO         2         3        10        13   \n",
       "16               PEREZ THERAN ERLINDA         4         5        11        13   \n",
       "17              PINEDA ROMERO YOSMERI         4         5         6         8   \n",
       "18         QUINONEZ CERVANTES MARIANA         8        10        11        12   \n",
       "19                 RAMOS PEREZ YANINE         6         7        10        14   \n",
       "20              RIVAS HOYOS ESTEFANIA         3         4         6         7   \n",
       "21              ROSILLO TEJADA VANESA         2         4        14        15   \n",
       "22          SANCHEZ PADILLA SILVESTRE         4         6         8        11   \n",
       "23        SILVA ROYERO MAILY CRISTINA         7         8        12        14   \n",
       "24          USUGA GEORGE JHON ESTIVEN         3         7         8        10   \n",
       "\n",
       "    Example5  Example6  Example7  Example8  Example9  Example10  \n",
       "0         15        19        20        21        22         24  \n",
       "1         16        17        18        19        22         27  \n",
       "2         11        14        16        20        25         26  \n",
       "3         16        17        18        20        24         27  \n",
       "4         17        19        22        24        25         26  \n",
       "5         17        18        20        23        24         26  \n",
       "6         12        13        19        23        26         27  \n",
       "7         10        11        21        23        24         26  \n",
       "8         15        16        20        23        24         27  \n",
       "9         20        21        23        24        25         26  \n",
       "10        14        18        19        21        23         26  \n",
       "11         9        10        11        17        21         23  \n",
       "12        16        17        18        21        22         24  \n",
       "13        16        19        21        23        26         27  \n",
       "14        10        11        13        15        16         27  \n",
       "15        17        22        24        25        26         27  \n",
       "16        16        19        20        21        22         25  \n",
       "17         9        11        12        16        17         27  \n",
       "18        15        17        21        22        24         26  \n",
       "19        16        20        21        23        24         25  \n",
       "20        11        16        22        23        25         26  \n",
       "21        16        20        22        25        26         27  \n",
       "22        15        19        22        23        25         26  \n",
       "23        15        17        18        21        26         27  \n",
       "24        16        18        23        24        25         27  "
      ]
     },
     "execution_count": 2,
     "metadata": {},
     "output_type": "execute_result"
    }
   ],
   "source": [
    "# Tarea 1 de lectura de ejemplos y completación de procedimientos\n",
    "# asignación de tarea para realizar antes de clase\n",
    "# Consiste en leer y completar un ejemplo de texto guía\n",
    "# Esta tarea es para realizar solo de manera manuscrita en su cuaderno de clase. \n",
    "# La otra opción de presentación es elaborada en cuadernos Jupyter (En este caso solo debe realizar la cuarta parte de los ejercicios asignados)\n",
    "# \n",
    "\n",
    "import pandas as pd\n",
    "import numpy as np\n",
    "import requests\n",
    "np.random.seed(1213)  # establecer semilla aleatoria para hacer los resultados reproducibles\n",
    "\n",
    "\n",
    "nombre_tarea = \"tarea_1_lectura_y_completacion_ejemplos\"\n",
    "grupo_estudiantes = 'calculo_vectorial'\n",
    "nombre_texto_guia = 'Purcell'\n",
    "pagina_y_seccion = 'Página_202_Sección_3.8'\n",
    "numero_ejemplos_de_la_seccion = 27\n",
    "numero_de_ejemplos_asignados = 10\n",
    "\n",
    "\n",
    "# Descargar la lista de  estudiantes\n",
    "students_path = \"/home/marco/Documentos/docencia/groups_list/\" + grupo_estudiantes + \".csv\"\n",
    "examples = list(range(1, numero_ejemplos_de_la_seccion))  \n",
    "\n",
    "students_data = pd.read_csv(students_path)\n",
    "\n",
    "# Crear una lista para almacenar las asignaciones\n",
    "assignments = []\n",
    "\n",
    "# Asignar ejercicios aleatorios a cada estudiante\n",
    "for index, student in students_data.iterrows():\n",
    "    # Seleccionar 5 ejercicios aleatorios sin repetición\n",
    "    random_exercises = np.sort(np.random.choice(examples, numero_de_ejemplos_asignados, \\\n",
    "                                                replace = False)+ 1)\n",
    "    assignments.append([students_data[\"Nombre\"][index], *random_exercises])  # Agregar asignación a la lista\n",
    "\n",
    "# Crear un DataFrame con las asignaciones\n",
    "columns = [\"Student\"] + [ \"Example\" + str(i+1) for i in range(numero_de_ejemplos_asignados)]\n",
    "assignment_df = pd.DataFrame(assignments, columns=columns)\n",
    "\n",
    "# Guardar el DataFrame en un archivo CSV\n",
    "assignment_csv = nombre_tarea + \"_\" + nombre_texto_guia + \"_\"+ pagina_y_seccion + \".csv\"\n",
    "assignment_df.to_csv(assignment_csv, index=False)\n",
    "\n",
    "print(\"\"\"Tarea 1 de lectura de ejemplos y completación de procedimientos: \n",
    "     Si faltan los enunciados de los problemas, no se valora la tarea\n",
    "    Si faltan de la conclusión verbales, no se valora la tarea.\n",
    "    Esta tarea se valora solo si la presenta de manera manuscrita en su cuaderno de clase.  \n",
    "      \"\"\", assignment_csv)\n",
    "assignment_df"
   ]
  },
  {
   "cell_type": "markdown",
   "id": "740f3401",
   "metadata": {
    "slideshow": {
     "slide_type": "slide"
    }
   },
   "source": [
    "# Componente de manejo de calculadora Casio asociado al objetivo de aprendizaje de esta clase  \n",
    "\n",
    "## Pasos para lograr el objetivo de aprendizaje con la experimentación en la calculadora casio 570 "
   ]
  },
  {
   "cell_type": "markdown",
   "id": "fccb447c",
   "metadata": {
    "slideshow": {
     "slide_type": "slide"
    }
   },
   "source": [
    "# Tareas para realizar en clase"
   ]
  },
  {
   "cell_type": "code",
   "execution_count": 1,
   "id": "0f1f0ab2",
   "metadata": {},
   "outputs": [
    {
     "name": "stdout",
     "output_type": "stream",
     "text": [
      "Tarea 2 de solución de problemas:\n",
      "      Si faltan los enunciados de los problemas, no se valora la tarea.\n",
      "      Si faltan de la conclusión verbales, no se valora la tarea.\n",
      "      Esta tarea se valora solo si la presenta de manera manuscrita en su cuaderno de clase.  \n",
      "         Tarea_2_Purcell_Página_202_Sección_3.8.csv\n"
     ]
    },
    {
     "data": {
      "text/html": [
       "<div>\n",
       "<style scoped>\n",
       "    .dataframe tbody tr th:only-of-type {\n",
       "        vertical-align: middle;\n",
       "    }\n",
       "\n",
       "    .dataframe tbody tr th {\n",
       "        vertical-align: top;\n",
       "    }\n",
       "\n",
       "    .dataframe thead th {\n",
       "        text-align: right;\n",
       "    }\n",
       "</style>\n",
       "<table border=\"1\" class=\"dataframe\">\n",
       "  <thead>\n",
       "    <tr style=\"text-align: right;\">\n",
       "      <th></th>\n",
       "      <th>Student</th>\n",
       "      <th>Exer1</th>\n",
       "      <th>Exer2</th>\n",
       "      <th>Exer3</th>\n",
       "      <th>Exer4</th>\n",
       "      <th>Exer5</th>\n",
       "      <th>Exer6</th>\n",
       "      <th>Exer7</th>\n",
       "      <th>Exer8</th>\n",
       "      <th>Exer9</th>\n",
       "      <th>Exer10</th>\n",
       "    </tr>\n",
       "  </thead>\n",
       "  <tbody>\n",
       "    <tr>\n",
       "      <th>0</th>\n",
       "      <td>AMARIS FERNANDEZ SEBASTIAN CAMILO</td>\n",
       "      <td>47</td>\n",
       "      <td>2</td>\n",
       "      <td>52</td>\n",
       "      <td>29</td>\n",
       "      <td>21</td>\n",
       "      <td>4</td>\n",
       "      <td>36</td>\n",
       "      <td>54</td>\n",
       "      <td>35</td>\n",
       "      <td>53</td>\n",
       "    </tr>\n",
       "    <tr>\n",
       "      <th>1</th>\n",
       "      <td>ARENAS HERAZO GABRIEL ENRIQUE</td>\n",
       "      <td>42</td>\n",
       "      <td>23</td>\n",
       "      <td>44</td>\n",
       "      <td>20</td>\n",
       "      <td>2</td>\n",
       "      <td>34</td>\n",
       "      <td>45</td>\n",
       "      <td>43</td>\n",
       "      <td>37</td>\n",
       "      <td>8</td>\n",
       "    </tr>\n",
       "    <tr>\n",
       "      <th>2</th>\n",
       "      <td>AYALA MENDOZA MARISOL YACIRA</td>\n",
       "      <td>45</td>\n",
       "      <td>26</td>\n",
       "      <td>20</td>\n",
       "      <td>10</td>\n",
       "      <td>35</td>\n",
       "      <td>36</td>\n",
       "      <td>23</td>\n",
       "      <td>29</td>\n",
       "      <td>31</td>\n",
       "      <td>12</td>\n",
       "    </tr>\n",
       "    <tr>\n",
       "      <th>3</th>\n",
       "      <td>BERTEL RODELO MICHELL SMIT</td>\n",
       "      <td>24</td>\n",
       "      <td>18</td>\n",
       "      <td>39</td>\n",
       "      <td>54</td>\n",
       "      <td>5</td>\n",
       "      <td>19</td>\n",
       "      <td>38</td>\n",
       "      <td>41</td>\n",
       "      <td>30</td>\n",
       "      <td>28</td>\n",
       "    </tr>\n",
       "    <tr>\n",
       "      <th>4</th>\n",
       "      <td>BULA VERGARA MARIA PAULA</td>\n",
       "      <td>9</td>\n",
       "      <td>23</td>\n",
       "      <td>32</td>\n",
       "      <td>46</td>\n",
       "      <td>18</td>\n",
       "      <td>48</td>\n",
       "      <td>34</td>\n",
       "      <td>21</td>\n",
       "      <td>10</td>\n",
       "      <td>33</td>\n",
       "    </tr>\n",
       "    <tr>\n",
       "      <th>5</th>\n",
       "      <td>CANTILLO ENSUCHO DANIEL</td>\n",
       "      <td>34</td>\n",
       "      <td>5</td>\n",
       "      <td>44</td>\n",
       "      <td>43</td>\n",
       "      <td>21</td>\n",
       "      <td>23</td>\n",
       "      <td>40</td>\n",
       "      <td>36</td>\n",
       "      <td>18</td>\n",
       "      <td>51</td>\n",
       "    </tr>\n",
       "    <tr>\n",
       "      <th>6</th>\n",
       "      <td>CERVANTES DURAN ANGELICA</td>\n",
       "      <td>2</td>\n",
       "      <td>20</td>\n",
       "      <td>43</td>\n",
       "      <td>7</td>\n",
       "      <td>32</td>\n",
       "      <td>11</td>\n",
       "      <td>23</td>\n",
       "      <td>12</td>\n",
       "      <td>22</td>\n",
       "      <td>34</td>\n",
       "    </tr>\n",
       "    <tr>\n",
       "      <th>7</th>\n",
       "      <td>GUERRA NORIEGA YONATHAN</td>\n",
       "      <td>46</td>\n",
       "      <td>39</td>\n",
       "      <td>20</td>\n",
       "      <td>19</td>\n",
       "      <td>36</td>\n",
       "      <td>42</td>\n",
       "      <td>12</td>\n",
       "      <td>23</td>\n",
       "      <td>25</td>\n",
       "      <td>34</td>\n",
       "    </tr>\n",
       "    <tr>\n",
       "      <th>8</th>\n",
       "      <td>HINCAPIE CASTRO JOHAN SEBASTIAN</td>\n",
       "      <td>19</td>\n",
       "      <td>7</td>\n",
       "      <td>6</td>\n",
       "      <td>34</td>\n",
       "      <td>30</td>\n",
       "      <td>37</td>\n",
       "      <td>18</td>\n",
       "      <td>41</td>\n",
       "      <td>11</td>\n",
       "      <td>24</td>\n",
       "    </tr>\n",
       "    <tr>\n",
       "      <th>9</th>\n",
       "      <td>HUMANEZ SANCHEZ CAMILO</td>\n",
       "      <td>54</td>\n",
       "      <td>46</td>\n",
       "      <td>2</td>\n",
       "      <td>35</td>\n",
       "      <td>9</td>\n",
       "      <td>7</td>\n",
       "      <td>31</td>\n",
       "      <td>11</td>\n",
       "      <td>34</td>\n",
       "      <td>23</td>\n",
       "    </tr>\n",
       "    <tr>\n",
       "      <th>10</th>\n",
       "      <td>IBAÑEZ MORENO FRANCISCO LUIS</td>\n",
       "      <td>47</td>\n",
       "      <td>53</td>\n",
       "      <td>42</td>\n",
       "      <td>46</td>\n",
       "      <td>4</td>\n",
       "      <td>54</td>\n",
       "      <td>30</td>\n",
       "      <td>13</td>\n",
       "      <td>50</td>\n",
       "      <td>36</td>\n",
       "    </tr>\n",
       "    <tr>\n",
       "      <th>11</th>\n",
       "      <td>MASS MIRANDA RIVALDO JOSE</td>\n",
       "      <td>5</td>\n",
       "      <td>14</td>\n",
       "      <td>43</td>\n",
       "      <td>16</td>\n",
       "      <td>33</td>\n",
       "      <td>28</td>\n",
       "      <td>8</td>\n",
       "      <td>41</td>\n",
       "      <td>52</td>\n",
       "      <td>2</td>\n",
       "    </tr>\n",
       "    <tr>\n",
       "      <th>12</th>\n",
       "      <td>MIRANDA MARTINEZ CARLOS ANDRES</td>\n",
       "      <td>25</td>\n",
       "      <td>31</td>\n",
       "      <td>16</td>\n",
       "      <td>47</td>\n",
       "      <td>26</td>\n",
       "      <td>48</td>\n",
       "      <td>32</td>\n",
       "      <td>40</td>\n",
       "      <td>27</td>\n",
       "      <td>3</td>\n",
       "    </tr>\n",
       "    <tr>\n",
       "      <th>13</th>\n",
       "      <td>MONTERROSA SOTO ABRIL</td>\n",
       "      <td>4</td>\n",
       "      <td>26</td>\n",
       "      <td>30</td>\n",
       "      <td>25</td>\n",
       "      <td>33</td>\n",
       "      <td>13</td>\n",
       "      <td>7</td>\n",
       "      <td>23</td>\n",
       "      <td>19</td>\n",
       "      <td>14</td>\n",
       "    </tr>\n",
       "    <tr>\n",
       "      <th>14</th>\n",
       "      <td>NORIEGA JIMENEZ GABRIELA</td>\n",
       "      <td>19</td>\n",
       "      <td>11</td>\n",
       "      <td>43</td>\n",
       "      <td>47</td>\n",
       "      <td>21</td>\n",
       "      <td>13</td>\n",
       "      <td>38</td>\n",
       "      <td>29</td>\n",
       "      <td>33</td>\n",
       "      <td>50</td>\n",
       "    </tr>\n",
       "    <tr>\n",
       "      <th>15</th>\n",
       "      <td>PEREZ REYES IVAN DARIO</td>\n",
       "      <td>15</td>\n",
       "      <td>10</td>\n",
       "      <td>45</td>\n",
       "      <td>14</td>\n",
       "      <td>21</td>\n",
       "      <td>36</td>\n",
       "      <td>42</td>\n",
       "      <td>30</td>\n",
       "      <td>13</td>\n",
       "      <td>29</td>\n",
       "    </tr>\n",
       "    <tr>\n",
       "      <th>16</th>\n",
       "      <td>PEREZ THERAN ERLINDA</td>\n",
       "      <td>5</td>\n",
       "      <td>52</td>\n",
       "      <td>10</td>\n",
       "      <td>32</td>\n",
       "      <td>35</td>\n",
       "      <td>21</td>\n",
       "      <td>11</td>\n",
       "      <td>15</td>\n",
       "      <td>46</td>\n",
       "      <td>39</td>\n",
       "    </tr>\n",
       "    <tr>\n",
       "      <th>17</th>\n",
       "      <td>PINEDA ROMERO YOSMERI</td>\n",
       "      <td>10</td>\n",
       "      <td>52</td>\n",
       "      <td>24</td>\n",
       "      <td>6</td>\n",
       "      <td>50</td>\n",
       "      <td>26</td>\n",
       "      <td>41</td>\n",
       "      <td>18</td>\n",
       "      <td>7</td>\n",
       "      <td>21</td>\n",
       "    </tr>\n",
       "    <tr>\n",
       "      <th>18</th>\n",
       "      <td>QUINONEZ CERVANTES MARIANA</td>\n",
       "      <td>39</td>\n",
       "      <td>38</td>\n",
       "      <td>12</td>\n",
       "      <td>22</td>\n",
       "      <td>17</td>\n",
       "      <td>47</td>\n",
       "      <td>52</td>\n",
       "      <td>27</td>\n",
       "      <td>53</td>\n",
       "      <td>34</td>\n",
       "    </tr>\n",
       "    <tr>\n",
       "      <th>19</th>\n",
       "      <td>RAMOS PEREZ YANINE</td>\n",
       "      <td>52</td>\n",
       "      <td>3</td>\n",
       "      <td>46</td>\n",
       "      <td>23</td>\n",
       "      <td>50</td>\n",
       "      <td>25</td>\n",
       "      <td>51</td>\n",
       "      <td>39</td>\n",
       "      <td>20</td>\n",
       "      <td>35</td>\n",
       "    </tr>\n",
       "    <tr>\n",
       "      <th>20</th>\n",
       "      <td>RIVAS HOYOS ESTEFANIA</td>\n",
       "      <td>6</td>\n",
       "      <td>20</td>\n",
       "      <td>49</td>\n",
       "      <td>37</td>\n",
       "      <td>18</td>\n",
       "      <td>15</td>\n",
       "      <td>33</td>\n",
       "      <td>25</td>\n",
       "      <td>43</td>\n",
       "      <td>24</td>\n",
       "    </tr>\n",
       "    <tr>\n",
       "      <th>21</th>\n",
       "      <td>ROSILLO TEJADA VANESA</td>\n",
       "      <td>17</td>\n",
       "      <td>24</td>\n",
       "      <td>27</td>\n",
       "      <td>41</td>\n",
       "      <td>37</td>\n",
       "      <td>21</td>\n",
       "      <td>51</td>\n",
       "      <td>50</td>\n",
       "      <td>11</td>\n",
       "      <td>42</td>\n",
       "    </tr>\n",
       "    <tr>\n",
       "      <th>22</th>\n",
       "      <td>SANCHEZ PADILLA SILVESTRE</td>\n",
       "      <td>7</td>\n",
       "      <td>32</td>\n",
       "      <td>45</td>\n",
       "      <td>14</td>\n",
       "      <td>10</td>\n",
       "      <td>47</td>\n",
       "      <td>6</td>\n",
       "      <td>3</td>\n",
       "      <td>38</td>\n",
       "      <td>12</td>\n",
       "    </tr>\n",
       "    <tr>\n",
       "      <th>23</th>\n",
       "      <td>SILVA ROYERO MAILY CRISTINA</td>\n",
       "      <td>14</td>\n",
       "      <td>13</td>\n",
       "      <td>18</td>\n",
       "      <td>38</td>\n",
       "      <td>11</td>\n",
       "      <td>2</td>\n",
       "      <td>3</td>\n",
       "      <td>4</td>\n",
       "      <td>22</td>\n",
       "      <td>32</td>\n",
       "    </tr>\n",
       "    <tr>\n",
       "      <th>24</th>\n",
       "      <td>USUGA GEORGE JHON ESTIVEN</td>\n",
       "      <td>11</td>\n",
       "      <td>12</td>\n",
       "      <td>45</td>\n",
       "      <td>43</td>\n",
       "      <td>15</td>\n",
       "      <td>13</td>\n",
       "      <td>49</td>\n",
       "      <td>18</td>\n",
       "      <td>31</td>\n",
       "      <td>28</td>\n",
       "    </tr>\n",
       "  </tbody>\n",
       "</table>\n",
       "</div>"
      ],
      "text/plain": [
       "                              Student  Exer1  Exer2  Exer3  Exer4  Exer5  \\\n",
       "0   AMARIS FERNANDEZ SEBASTIAN CAMILO     47      2     52     29     21   \n",
       "1       ARENAS HERAZO GABRIEL ENRIQUE     42     23     44     20      2   \n",
       "2        AYALA MENDOZA MARISOL YACIRA     45     26     20     10     35   \n",
       "3          BERTEL RODELO MICHELL SMIT     24     18     39     54      5   \n",
       "4            BULA VERGARA MARIA PAULA      9     23     32     46     18   \n",
       "5             CANTILLO ENSUCHO DANIEL     34      5     44     43     21   \n",
       "6            CERVANTES DURAN ANGELICA      2     20     43      7     32   \n",
       "7             GUERRA NORIEGA YONATHAN     46     39     20     19     36   \n",
       "8     HINCAPIE CASTRO JOHAN SEBASTIAN     19      7      6     34     30   \n",
       "9              HUMANEZ SANCHEZ CAMILO     54     46      2     35      9   \n",
       "10       IBAÑEZ MORENO FRANCISCO LUIS     47     53     42     46      4   \n",
       "11          MASS MIRANDA RIVALDO JOSE      5     14     43     16     33   \n",
       "12     MIRANDA MARTINEZ CARLOS ANDRES     25     31     16     47     26   \n",
       "13              MONTERROSA SOTO ABRIL      4     26     30     25     33   \n",
       "14           NORIEGA JIMENEZ GABRIELA     19     11     43     47     21   \n",
       "15             PEREZ REYES IVAN DARIO     15     10     45     14     21   \n",
       "16               PEREZ THERAN ERLINDA      5     52     10     32     35   \n",
       "17              PINEDA ROMERO YOSMERI     10     52     24      6     50   \n",
       "18         QUINONEZ CERVANTES MARIANA     39     38     12     22     17   \n",
       "19                 RAMOS PEREZ YANINE     52      3     46     23     50   \n",
       "20              RIVAS HOYOS ESTEFANIA      6     20     49     37     18   \n",
       "21              ROSILLO TEJADA VANESA     17     24     27     41     37   \n",
       "22          SANCHEZ PADILLA SILVESTRE      7     32     45     14     10   \n",
       "23        SILVA ROYERO MAILY CRISTINA     14     13     18     38     11   \n",
       "24          USUGA GEORGE JHON ESTIVEN     11     12     45     43     15   \n",
       "\n",
       "    Exer6  Exer7  Exer8  Exer9  Exer10  \n",
       "0       4     36     54     35      53  \n",
       "1      34     45     43     37       8  \n",
       "2      36     23     29     31      12  \n",
       "3      19     38     41     30      28  \n",
       "4      48     34     21     10      33  \n",
       "5      23     40     36     18      51  \n",
       "6      11     23     12     22      34  \n",
       "7      42     12     23     25      34  \n",
       "8      37     18     41     11      24  \n",
       "9       7     31     11     34      23  \n",
       "10     54     30     13     50      36  \n",
       "11     28      8     41     52       2  \n",
       "12     48     32     40     27       3  \n",
       "13     13      7     23     19      14  \n",
       "14     13     38     29     33      50  \n",
       "15     36     42     30     13      29  \n",
       "16     21     11     15     46      39  \n",
       "17     26     41     18      7      21  \n",
       "18     47     52     27     53      34  \n",
       "19     25     51     39     20      35  \n",
       "20     15     33     25     43      24  \n",
       "21     21     51     50     11      42  \n",
       "22     47      6      3     38      12  \n",
       "23      2      3      4     22      32  \n",
       "24     13     49     18     31      28  "
      ]
     },
     "execution_count": 1,
     "metadata": {},
     "output_type": "execute_result"
    }
   ],
   "source": [
    "# Tarea 2 de solución de problemas \n",
    "# asignación de ejercicios de un seccion del texto guía\n",
    "\n",
    "# numpy.random.choice() obten la documentación de esta función en: \n",
    "# https://numpy.org/doc/stable/reference/random/generated/numpy.random.choice.html\n",
    "\n",
    "import pandas as pd\n",
    "import numpy as np\n",
    "import requests\n",
    "np.random.seed(424)  # establecer semilla aleatoria para hacer los resultados reproducibles\n",
    "\n",
    "\n",
    "nombre_tarea = 'Tarea_2'\n",
    "grupo_estudiantes = 'calculo_vectorial'\n",
    "nombre_texto_guia = 'Purcell'\n",
    "pagina_y_seccion = 'Página_202_Sección_3.8'\n",
    "numero_ejercicios_taller = 54\n",
    "numero_de_ejercicios_asignados = 10\n",
    "\n",
    "\n",
    "# Descargar la lista de  estudiantes\n",
    "students_path = \"/home/marco/Documentos/docencia/groups_list/\" + grupo_estudiantes + \".csv\"\n",
    "exercises = list(range(1, numero_ejercicios_taller))  \n",
    "\n",
    "students_data = pd.read_csv(students_path)\n",
    "\n",
    "# Crear una lista para almacenar las asignaciones\n",
    "assignments = []\n",
    "\n",
    "# Asignar ejercicios aleatorios a cada estudiante\n",
    "for index, student in students_data.iterrows():\n",
    "    # Seleccionar 5 ejercicios aleatorios sin repetición\n",
    "    random_exercises = np.random.choice(exercises, numero_de_ejercicios_asignados, replace = False)+ 1 \n",
    "    assignments.append([students_data[\"Nombre\"][index], *random_exercises])  # Agregar asignación a la lista\n",
    "\n",
    "# Crear un DataFrame con las asignaciones\n",
    "columns = [\"Student\"] + [ \"Exer\" + str(i+1) for i in range(numero_de_ejercicios_asignados)]\n",
    "assignment_df = pd.DataFrame(assignments, columns=columns)\n",
    "\n",
    "# Guardar el DataFrame en un archivo CSV\n",
    "assignment_csv = nombre_tarea + \"_\" + nombre_texto_guia + \"_\"+ pagina_y_seccion + \".csv\"\n",
    "assignment_df.to_csv(assignment_csv, index=False)\n",
    "\n",
    "print(\"\"\"Tarea 2 de solución de problemas:\n",
    "      Si faltan los enunciados de los problemas, no se valora la tarea.\n",
    "      Si faltan de la conclusión verbales, no se valora la tarea.\n",
    "      Esta tarea se valora solo si la presenta de manera manuscrita en su cuaderno de clase.  \n",
    "        \"\"\", assignment_csv)\n",
    "assignment_df"
   ]
  },
  {
   "cell_type": "markdown",
   "id": "d34defb9",
   "metadata": {
    "slideshow": {
     "slide_type": "slide"
    }
   },
   "source": [
    "## Asignación individual de tareas semanales "
   ]
  },
  {
   "cell_type": "code",
   "execution_count": 5,
   "id": "0406f442",
   "metadata": {
    "slideshow": {
     "slide_type": "slide"
    }
   },
   "outputs": [
    {
     "name": "stdout",
     "output_type": "stream",
     "text": [
      "Tarea 3 Solución problemas describiendo y justificando verbalmente: \n",
      "      Si faltan los enunciados de los problemas, no se valora la tarea\n",
      "      Si faltan de la conclusión verbales, no se valora la tarea \n",
      "      Esta tarea se valora solo si la presenta de manera manuscrita en su cuaderno de clase  \n",
      "       tarea_Purcell_Página_202_Sección_3.8.csv\n"
     ]
    },
    {
     "data": {
      "text/html": [
       "<div>\n",
       "<style scoped>\n",
       "    .dataframe tbody tr th:only-of-type {\n",
       "        vertical-align: middle;\n",
       "    }\n",
       "\n",
       "    .dataframe tbody tr th {\n",
       "        vertical-align: top;\n",
       "    }\n",
       "\n",
       "    .dataframe thead th {\n",
       "        text-align: right;\n",
       "    }\n",
       "</style>\n",
       "<table border=\"1\" class=\"dataframe\">\n",
       "  <thead>\n",
       "    <tr style=\"text-align: right;\">\n",
       "      <th></th>\n",
       "      <th>Student</th>\n",
       "      <th>Exer1</th>\n",
       "      <th>Exer2</th>\n",
       "      <th>Exer3</th>\n",
       "      <th>Exer4</th>\n",
       "      <th>Exer5</th>\n",
       "      <th>Exer6</th>\n",
       "      <th>Exer7</th>\n",
       "      <th>Exer8</th>\n",
       "      <th>Exer9</th>\n",
       "      <th>Exer10</th>\n",
       "    </tr>\n",
       "  </thead>\n",
       "  <tbody>\n",
       "    <tr>\n",
       "      <th>0</th>\n",
       "      <td>AMARIS FERNANDEZ SEBASTIAN CAMILO</td>\n",
       "      <td>4</td>\n",
       "      <td>7</td>\n",
       "      <td>9</td>\n",
       "      <td>17</td>\n",
       "      <td>21</td>\n",
       "      <td>30</td>\n",
       "      <td>39</td>\n",
       "      <td>44</td>\n",
       "      <td>51</td>\n",
       "      <td>54</td>\n",
       "    </tr>\n",
       "    <tr>\n",
       "      <th>1</th>\n",
       "      <td>ARENAS HERAZO GABRIEL ENRIQUE</td>\n",
       "      <td>2</td>\n",
       "      <td>5</td>\n",
       "      <td>11</td>\n",
       "      <td>17</td>\n",
       "      <td>26</td>\n",
       "      <td>28</td>\n",
       "      <td>32</td>\n",
       "      <td>40</td>\n",
       "      <td>46</td>\n",
       "      <td>50</td>\n",
       "    </tr>\n",
       "    <tr>\n",
       "      <th>2</th>\n",
       "      <td>AYALA MENDOZA MARISOL YACIRA</td>\n",
       "      <td>10</td>\n",
       "      <td>18</td>\n",
       "      <td>21</td>\n",
       "      <td>37</td>\n",
       "      <td>39</td>\n",
       "      <td>45</td>\n",
       "      <td>46</td>\n",
       "      <td>47</td>\n",
       "      <td>51</td>\n",
       "      <td>52</td>\n",
       "    </tr>\n",
       "    <tr>\n",
       "      <th>3</th>\n",
       "      <td>BERTEL RODELO MICHELL SMIT</td>\n",
       "      <td>4</td>\n",
       "      <td>8</td>\n",
       "      <td>20</td>\n",
       "      <td>26</td>\n",
       "      <td>28</td>\n",
       "      <td>33</td>\n",
       "      <td>40</td>\n",
       "      <td>41</td>\n",
       "      <td>42</td>\n",
       "      <td>47</td>\n",
       "    </tr>\n",
       "    <tr>\n",
       "      <th>4</th>\n",
       "      <td>BULA VERGARA MARIA PAULA</td>\n",
       "      <td>12</td>\n",
       "      <td>13</td>\n",
       "      <td>20</td>\n",
       "      <td>23</td>\n",
       "      <td>25</td>\n",
       "      <td>27</td>\n",
       "      <td>29</td>\n",
       "      <td>30</td>\n",
       "      <td>34</td>\n",
       "      <td>48</td>\n",
       "    </tr>\n",
       "    <tr>\n",
       "      <th>5</th>\n",
       "      <td>CANTILLO ENSUCHO DANIEL</td>\n",
       "      <td>2</td>\n",
       "      <td>4</td>\n",
       "      <td>5</td>\n",
       "      <td>7</td>\n",
       "      <td>15</td>\n",
       "      <td>25</td>\n",
       "      <td>27</td>\n",
       "      <td>33</td>\n",
       "      <td>46</td>\n",
       "      <td>51</td>\n",
       "    </tr>\n",
       "    <tr>\n",
       "      <th>6</th>\n",
       "      <td>CERVANTES DURAN ANGELICA</td>\n",
       "      <td>2</td>\n",
       "      <td>4</td>\n",
       "      <td>5</td>\n",
       "      <td>14</td>\n",
       "      <td>17</td>\n",
       "      <td>19</td>\n",
       "      <td>22</td>\n",
       "      <td>24</td>\n",
       "      <td>34</td>\n",
       "      <td>52</td>\n",
       "    </tr>\n",
       "    <tr>\n",
       "      <th>7</th>\n",
       "      <td>GUERRA NORIEGA YONATHAN</td>\n",
       "      <td>3</td>\n",
       "      <td>20</td>\n",
       "      <td>24</td>\n",
       "      <td>26</td>\n",
       "      <td>28</td>\n",
       "      <td>35</td>\n",
       "      <td>39</td>\n",
       "      <td>48</td>\n",
       "      <td>49</td>\n",
       "      <td>53</td>\n",
       "    </tr>\n",
       "    <tr>\n",
       "      <th>8</th>\n",
       "      <td>HINCAPIE CASTRO JOHAN SEBASTIAN</td>\n",
       "      <td>10</td>\n",
       "      <td>17</td>\n",
       "      <td>27</td>\n",
       "      <td>28</td>\n",
       "      <td>29</td>\n",
       "      <td>32</td>\n",
       "      <td>36</td>\n",
       "      <td>44</td>\n",
       "      <td>48</td>\n",
       "      <td>54</td>\n",
       "    </tr>\n",
       "    <tr>\n",
       "      <th>9</th>\n",
       "      <td>HUMANEZ SANCHEZ CAMILO</td>\n",
       "      <td>3</td>\n",
       "      <td>16</td>\n",
       "      <td>19</td>\n",
       "      <td>24</td>\n",
       "      <td>33</td>\n",
       "      <td>41</td>\n",
       "      <td>43</td>\n",
       "      <td>44</td>\n",
       "      <td>47</td>\n",
       "      <td>49</td>\n",
       "    </tr>\n",
       "    <tr>\n",
       "      <th>10</th>\n",
       "      <td>IBAÑEZ MORENO FRANCISCO LUIS</td>\n",
       "      <td>3</td>\n",
       "      <td>8</td>\n",
       "      <td>13</td>\n",
       "      <td>16</td>\n",
       "      <td>21</td>\n",
       "      <td>27</td>\n",
       "      <td>28</td>\n",
       "      <td>31</td>\n",
       "      <td>42</td>\n",
       "      <td>43</td>\n",
       "    </tr>\n",
       "    <tr>\n",
       "      <th>11</th>\n",
       "      <td>MASS MIRANDA RIVALDO JOSE</td>\n",
       "      <td>2</td>\n",
       "      <td>3</td>\n",
       "      <td>12</td>\n",
       "      <td>13</td>\n",
       "      <td>23</td>\n",
       "      <td>24</td>\n",
       "      <td>31</td>\n",
       "      <td>35</td>\n",
       "      <td>46</td>\n",
       "      <td>52</td>\n",
       "    </tr>\n",
       "    <tr>\n",
       "      <th>12</th>\n",
       "      <td>MIRANDA MARTINEZ CARLOS ANDRES</td>\n",
       "      <td>10</td>\n",
       "      <td>12</td>\n",
       "      <td>21</td>\n",
       "      <td>24</td>\n",
       "      <td>25</td>\n",
       "      <td>26</td>\n",
       "      <td>27</td>\n",
       "      <td>29</td>\n",
       "      <td>39</td>\n",
       "      <td>50</td>\n",
       "    </tr>\n",
       "    <tr>\n",
       "      <th>13</th>\n",
       "      <td>MONTERROSA SOTO ABRIL</td>\n",
       "      <td>10</td>\n",
       "      <td>14</td>\n",
       "      <td>16</td>\n",
       "      <td>18</td>\n",
       "      <td>28</td>\n",
       "      <td>30</td>\n",
       "      <td>35</td>\n",
       "      <td>36</td>\n",
       "      <td>42</td>\n",
       "      <td>50</td>\n",
       "    </tr>\n",
       "    <tr>\n",
       "      <th>14</th>\n",
       "      <td>NORIEGA JIMENEZ GABRIELA</td>\n",
       "      <td>4</td>\n",
       "      <td>13</td>\n",
       "      <td>14</td>\n",
       "      <td>16</td>\n",
       "      <td>19</td>\n",
       "      <td>22</td>\n",
       "      <td>36</td>\n",
       "      <td>37</td>\n",
       "      <td>46</td>\n",
       "      <td>51</td>\n",
       "    </tr>\n",
       "    <tr>\n",
       "      <th>15</th>\n",
       "      <td>PEREZ REYES IVAN DARIO</td>\n",
       "      <td>17</td>\n",
       "      <td>19</td>\n",
       "      <td>23</td>\n",
       "      <td>26</td>\n",
       "      <td>30</td>\n",
       "      <td>33</td>\n",
       "      <td>34</td>\n",
       "      <td>40</td>\n",
       "      <td>46</td>\n",
       "      <td>53</td>\n",
       "    </tr>\n",
       "    <tr>\n",
       "      <th>16</th>\n",
       "      <td>PEREZ THERAN ERLINDA</td>\n",
       "      <td>3</td>\n",
       "      <td>6</td>\n",
       "      <td>19</td>\n",
       "      <td>21</td>\n",
       "      <td>25</td>\n",
       "      <td>30</td>\n",
       "      <td>32</td>\n",
       "      <td>39</td>\n",
       "      <td>42</td>\n",
       "      <td>45</td>\n",
       "    </tr>\n",
       "    <tr>\n",
       "      <th>17</th>\n",
       "      <td>PINEDA ROMERO YOSMERI</td>\n",
       "      <td>2</td>\n",
       "      <td>30</td>\n",
       "      <td>31</td>\n",
       "      <td>32</td>\n",
       "      <td>35</td>\n",
       "      <td>36</td>\n",
       "      <td>37</td>\n",
       "      <td>42</td>\n",
       "      <td>47</td>\n",
       "      <td>50</td>\n",
       "    </tr>\n",
       "    <tr>\n",
       "      <th>18</th>\n",
       "      <td>QUINONEZ CERVANTES MARIANA</td>\n",
       "      <td>5</td>\n",
       "      <td>6</td>\n",
       "      <td>8</td>\n",
       "      <td>13</td>\n",
       "      <td>15</td>\n",
       "      <td>32</td>\n",
       "      <td>33</td>\n",
       "      <td>42</td>\n",
       "      <td>46</td>\n",
       "      <td>49</td>\n",
       "    </tr>\n",
       "    <tr>\n",
       "      <th>19</th>\n",
       "      <td>RAMOS PEREZ YANINE</td>\n",
       "      <td>11</td>\n",
       "      <td>20</td>\n",
       "      <td>21</td>\n",
       "      <td>28</td>\n",
       "      <td>29</td>\n",
       "      <td>37</td>\n",
       "      <td>39</td>\n",
       "      <td>44</td>\n",
       "      <td>46</td>\n",
       "      <td>52</td>\n",
       "    </tr>\n",
       "    <tr>\n",
       "      <th>20</th>\n",
       "      <td>RIVAS HOYOS ESTEFANIA</td>\n",
       "      <td>7</td>\n",
       "      <td>10</td>\n",
       "      <td>12</td>\n",
       "      <td>14</td>\n",
       "      <td>17</td>\n",
       "      <td>25</td>\n",
       "      <td>28</td>\n",
       "      <td>30</td>\n",
       "      <td>37</td>\n",
       "      <td>48</td>\n",
       "    </tr>\n",
       "    <tr>\n",
       "      <th>21</th>\n",
       "      <td>ROSILLO TEJADA VANESA</td>\n",
       "      <td>12</td>\n",
       "      <td>22</td>\n",
       "      <td>23</td>\n",
       "      <td>27</td>\n",
       "      <td>28</td>\n",
       "      <td>30</td>\n",
       "      <td>34</td>\n",
       "      <td>36</td>\n",
       "      <td>40</td>\n",
       "      <td>44</td>\n",
       "    </tr>\n",
       "    <tr>\n",
       "      <th>22</th>\n",
       "      <td>SANCHEZ PADILLA SILVESTRE</td>\n",
       "      <td>4</td>\n",
       "      <td>7</td>\n",
       "      <td>15</td>\n",
       "      <td>22</td>\n",
       "      <td>32</td>\n",
       "      <td>34</td>\n",
       "      <td>38</td>\n",
       "      <td>43</td>\n",
       "      <td>48</td>\n",
       "      <td>53</td>\n",
       "    </tr>\n",
       "    <tr>\n",
       "      <th>23</th>\n",
       "      <td>SILVA ROYERO MAILY CRISTINA</td>\n",
       "      <td>4</td>\n",
       "      <td>5</td>\n",
       "      <td>12</td>\n",
       "      <td>13</td>\n",
       "      <td>20</td>\n",
       "      <td>25</td>\n",
       "      <td>30</td>\n",
       "      <td>35</td>\n",
       "      <td>42</td>\n",
       "      <td>54</td>\n",
       "    </tr>\n",
       "    <tr>\n",
       "      <th>24</th>\n",
       "      <td>USUGA GEORGE JHON ESTIVEN</td>\n",
       "      <td>5</td>\n",
       "      <td>7</td>\n",
       "      <td>8</td>\n",
       "      <td>10</td>\n",
       "      <td>22</td>\n",
       "      <td>37</td>\n",
       "      <td>39</td>\n",
       "      <td>42</td>\n",
       "      <td>44</td>\n",
       "      <td>51</td>\n",
       "    </tr>\n",
       "  </tbody>\n",
       "</table>\n",
       "</div>"
      ],
      "text/plain": [
       "                              Student  Exer1  Exer2  Exer3  Exer4  Exer5  \\\n",
       "0   AMARIS FERNANDEZ SEBASTIAN CAMILO      4      7      9     17     21   \n",
       "1       ARENAS HERAZO GABRIEL ENRIQUE      2      5     11     17     26   \n",
       "2        AYALA MENDOZA MARISOL YACIRA     10     18     21     37     39   \n",
       "3          BERTEL RODELO MICHELL SMIT      4      8     20     26     28   \n",
       "4            BULA VERGARA MARIA PAULA     12     13     20     23     25   \n",
       "5             CANTILLO ENSUCHO DANIEL      2      4      5      7     15   \n",
       "6            CERVANTES DURAN ANGELICA      2      4      5     14     17   \n",
       "7             GUERRA NORIEGA YONATHAN      3     20     24     26     28   \n",
       "8     HINCAPIE CASTRO JOHAN SEBASTIAN     10     17     27     28     29   \n",
       "9              HUMANEZ SANCHEZ CAMILO      3     16     19     24     33   \n",
       "10       IBAÑEZ MORENO FRANCISCO LUIS      3      8     13     16     21   \n",
       "11          MASS MIRANDA RIVALDO JOSE      2      3     12     13     23   \n",
       "12     MIRANDA MARTINEZ CARLOS ANDRES     10     12     21     24     25   \n",
       "13              MONTERROSA SOTO ABRIL     10     14     16     18     28   \n",
       "14           NORIEGA JIMENEZ GABRIELA      4     13     14     16     19   \n",
       "15             PEREZ REYES IVAN DARIO     17     19     23     26     30   \n",
       "16               PEREZ THERAN ERLINDA      3      6     19     21     25   \n",
       "17              PINEDA ROMERO YOSMERI      2     30     31     32     35   \n",
       "18         QUINONEZ CERVANTES MARIANA      5      6      8     13     15   \n",
       "19                 RAMOS PEREZ YANINE     11     20     21     28     29   \n",
       "20              RIVAS HOYOS ESTEFANIA      7     10     12     14     17   \n",
       "21              ROSILLO TEJADA VANESA     12     22     23     27     28   \n",
       "22          SANCHEZ PADILLA SILVESTRE      4      7     15     22     32   \n",
       "23        SILVA ROYERO MAILY CRISTINA      4      5     12     13     20   \n",
       "24          USUGA GEORGE JHON ESTIVEN      5      7      8     10     22   \n",
       "\n",
       "    Exer6  Exer7  Exer8  Exer9  Exer10  \n",
       "0      30     39     44     51      54  \n",
       "1      28     32     40     46      50  \n",
       "2      45     46     47     51      52  \n",
       "3      33     40     41     42      47  \n",
       "4      27     29     30     34      48  \n",
       "5      25     27     33     46      51  \n",
       "6      19     22     24     34      52  \n",
       "7      35     39     48     49      53  \n",
       "8      32     36     44     48      54  \n",
       "9      41     43     44     47      49  \n",
       "10     27     28     31     42      43  \n",
       "11     24     31     35     46      52  \n",
       "12     26     27     29     39      50  \n",
       "13     30     35     36     42      50  \n",
       "14     22     36     37     46      51  \n",
       "15     33     34     40     46      53  \n",
       "16     30     32     39     42      45  \n",
       "17     36     37     42     47      50  \n",
       "18     32     33     42     46      49  \n",
       "19     37     39     44     46      52  \n",
       "20     25     28     30     37      48  \n",
       "21     30     34     36     40      44  \n",
       "22     34     38     43     48      53  \n",
       "23     25     30     35     42      54  \n",
       "24     37     39     42     44      51  "
      ]
     },
     "execution_count": 5,
     "metadata": {},
     "output_type": "execute_result"
    }
   ],
   "source": [
    "# Tarea 3 de solución de problemas describiendo procedimientos y justificándolos\n",
    "\n",
    "# asignación de ejercicios de un seccion del texto guía\n",
    "\n",
    "# numpy.random.choice() obten la documentación de esta función en: \n",
    "# https://numpy.org/doc/stable/reference/random/generated/numpy.random.choice.html\n",
    "\n",
    "import pandas as pd\n",
    "import numpy as np\n",
    "import requests\n",
    "np.random.seed(126)  # establecer semilla aleatoria para hacer los resultados reproducibles\n",
    "\n",
    "\n",
    "nombre_tarea = 'Tarea_3_Solución_problemas_describiendo_y_justificando_verbalmente'\n",
    "grupo_estudiantes = 'calculo_vectorial'\n",
    "nombre_texto_guia = 'Purcell'\n",
    "pagina_y_seccion = 'Página_202_Sección_3.8'\n",
    "numero_ejercicios_taller = 54\n",
    "numero_de_ejercicios_asignados = 10\n",
    "\n",
    "\n",
    "# Descargar la lista de  estudiantes\n",
    "students_path = \"/home/marco/Documentos/docencia/groups_list/\" + grupo_estudiantes + \".csv\"\n",
    "exercises = list(range(1, numero_ejercicios_taller))  \n",
    "\n",
    "students_data = pd.read_csv(students_path)\n",
    "\n",
    "# Crear una lista para almacenar las asignaciones\n",
    "assignments = []\n",
    "\n",
    "# Asignar ejercicios aleatorios a cada estudiante\n",
    "for index, student in students_data.iterrows():\n",
    "    # Seleccionar 5 ejercicios aleatorios sin repetición\n",
    "    random_exercises = np.sort(np.random.choice(exercises, numero_de_ejercicios_asignados,\\\n",
    "                                                 replace = False)+ 1) \n",
    "    assignments.append([students_data[\"Nombre\"][index], *random_exercises])  # Agregar asignación a la lista\n",
    "\n",
    "# Crear un DataFrame con las asignaciones\n",
    "columns = [\"Student\"] + [ \"Exer\" + str(i+1) for i in range(numero_de_ejercicios_asignados)]\n",
    "assignment_df = pd.DataFrame(assignments, columns=columns)\n",
    "\n",
    "# Guardar el DataFrame en un archivo CSV\n",
    "assignment_csv = nombre_tarea + \"_\" + nombre_texto_guia + \"_\"+ pagina_y_seccion + \".csv\"\n",
    "assignment_df.to_csv(assignment_csv, index=False)\n",
    "\n",
    "print(\"\"\"Tarea 3 Solución problemas describiendo y justificando verbalmente: \n",
    "      Si faltan los enunciados de los problemas, no se valora la tarea\n",
    "      Si faltan de la conclusión verbales, no se valora la tarea \n",
    "      Esta tarea se valora solo si la presenta de manera manuscrita en su cuaderno de clase  \n",
    "      \"\"\", assignment_csv)\n",
    "assignment_df"
   ]
  },
  {
   "cell_type": "markdown",
   "id": "8d41fe58",
   "metadata": {
    "slideshow": {
     "slide_type": "slide"
    }
   },
   "source": [
    "# Horario de clases del profesor Marco\n",
    "\n",
    "* Lunes 8-12: Cálculo Vectorial\n",
    "* Martes 8-12 M: Fundamentos de Aritmética. \n",
    "* Miércoles 8 a 12 M: Fundamentos de la Lógica\n",
    "* Jueves 2 a 6PM: Desarrollo del pensamiento matemático en la infancia. \n",
    "* Viernes 8 - 12 M: Desarrollo del pensamiento matemático en la infancia. \n",
    "* Sábados 8-12 Asesorías "
   ]
  },
  {
   "cell_type": "markdown",
   "id": "ae114e14",
   "metadata": {
    "slideshow": {
     "slide_type": "slide"
    }
   },
   "source": [
    "# Horarios de monitoría y asesoría  \n",
    "\n",
    "Coordinador de los cursos de la Facultad de Educación para regiones:    \n",
    "\n",
    "Andrés Vélez: regioneducacion.fedu@udea.edu.co  \n",
    "Coordinador Regiones  \n",
    "Facultad de Educación  \n",
    "Universidad de Antioquia  "
   ]
  },
  {
   "cell_type": "markdown",
   "id": "b1db4b6c",
   "metadata": {
    "slideshow": {
     "slide_type": "slide"
    }
   },
   "source": [
    "## Monitor Manuel San Juan Serrano\n",
    "\n",
    "Contactar escribiendo al correo: manuel.serrano1@udea.edu.co"
   ]
  },
  {
   "cell_type": "markdown",
   "id": "39559692",
   "metadata": {
    "slideshow": {
     "slide_type": "slide"
    }
   },
   "source": [
    "Martes y jueves de 8 - 12  \n",
    "Miércoles 10 - 12 y de 2 a 4 PM  \n",
    "Sábado: 8 - 12"
   ]
  },
  {
   "cell_type": "markdown",
   "id": "5a190057",
   "metadata": {},
   "source": [
    "## Monitoría virtual   \n",
    "\n",
    "Telefono del monitos en whatsApp: 3043936088  \n",
    "\n",
    "Juan David Cano Castrillón  \n",
    "Estudiante de Pregrado.  \n",
    "juan.canoc1@udea.edu.co  \n",
    "3043936088  \n"
   ]
  },
  {
   "cell_type": "markdown",
   "id": "10bce0d0",
   "metadata": {
    "slideshow": {
     "slide_type": "slide"
    }
   },
   "source": [
    "## Referentes "
   ]
  },
  {
   "cell_type": "markdown",
   "id": "1db3c468",
   "metadata": {
    "slideshow": {
     "slide_type": "slide"
    }
   },
   "source": [
    "* [Grajales Vanegas, L. M., Restrepo Estrada, C. E., Restrepo Ochoa, S. I., & Ruíz De Villalba, F. (2015). Matemáticas I para las ciencias económicas.](https://github.com/marco-canas/fundamentos_de_la_aritmetica/blob/main/referentes/2_grajales_logica/grajales_lina_matemticas.pdf)\n",
    "  \n",
    "* Duval, R. (2004). Semiosis y pensamiento humano: registros semióticos y aprendizajes intelectuales. Universidad del Valle.\n",
    "\n",
    "* [Aylwin, C. U. (2011). Lógica, conjuntos y números. Universidad de los Andes, Consejo de Publicaciones, Colección: Ciencias Básicas, Serie: Matemáticas.](https://github.com/marco-canas/fundamentos_logica/blob/main/referentes/2_uzcategui/uscategui.pdf)\n",
    "  \n",
    "* [Chollet, F. (2021). Deep learning with Python. Simon and Schuster.](https://github.com/marco-canas/didactica_ciencia_datos/blob/main/2_referentes/chollet/Fran%C3%A7ois%20Chollet%20-%20Deep%20Learning%20with%20Python-Manning%20(2018).pdf)  \n",
    "  \n",
    "* [Watson, S., Stewart, J., & Redlin, L. (2009). Precálculo. Matemáticas para el cálculo.](https://github.com/marco-canas/calculo/blob/main/referents/1_precalculo_stewart/stewart_precalculo.pdf)  \n",
    "\n",
    "* [Purcell, E. J., Varberg, D., & Rigdon, S. E. (2007). Cálculo diferencial e integral. Pearson Educación.](https://github.com/marco-canas/calculo/blob/main/referents/purcell/purcell_calculo.pdf)\n",
    "\n",
    "  \n",
    "\n",
    "* [stewart cálculo](https://udeaeduco-my.sharepoint.com/:b:/g/personal/marco_canas_udea_edu_co/EZgXZjAp8QxPqOAim2hs6LcBNPLGjSHf-xwYnUVYkwa04w?e=RZdTCy)  \n",
    "\n",
    "* [larson](https://udeaeduco-my.sharepoint.com/:b:/g/personal/marco_canas_udea_edu_co/ES71ChFeO9ZDhW3TwC5Ijk8BjxUK3Pdqz_fjHxTTFAfIAg?e=VDEjfu)\n",
    "\n",
    "\n",
    "\n",
    "* [Recomendación de la UNESCO sobre ciencia abierta](https://unesdoc.unesco.org/ark:/48223/pf0000379949_spa)\n",
    "\n",
    "* [chatGPT](https://openai.com/blog/chatgpt)  \n",
    "\n",
    "* [Géron, A. (2017). Hands-on machine learning with scikit-learn and tensorflow: Concepts. Tools, and Techniques to build intelligent systems.](https://github.com/marco-canas/didactica_ciencia_datos/blob/main/2_referentes/geron/Hands-On%20Machine%20Learning-3nd_Edition(2022).pdf)  \n",
    "\n",
    "* [McKinney, W. (2012). Python for data analysis: Data wrangling with Pandas, NumPy, and IPython. \" O'Reilly Media, Inc.\".](https://github.com/marco-canas/didactica_ciencia_datos/blob/main/2_referentes/mckinney/Wes_McKinney.pdf)  "
   ]
  },
  {
   "cell_type": "markdown",
   "id": "8e65d6f9",
   "metadata": {},
   "source": [
    "# Como estudiante, encuentro que...   \n",
    "\n",
    "F: Mis Fortalezas son:     \n",
    "O: Mis Oportunidades son:    \n",
    "D: Mis Debilidades son:    \n",
    "A: Lo que Amenazas mi aprendizaje es:  "
   ]
  },
  {
   "cell_type": "markdown",
   "id": "6b9e56a8",
   "metadata": {
    "slideshow": {
     "slide_type": "slide"
    }
   },
   "source": [
    "### [Evaluamos al profesor Marco Cañas Aquí](https://forms.office.com/Pages/ResponsePage.aspx?id=IefhmYRxjkmK_7KtTlPBwkanXIs1i1FEujpsZgO6dXpUREJPV1kxUk1JV1ozTFJIQVNIQjY5WEY3US4u)"
   ]
  },
  {
   "cell_type": "markdown",
   "id": "050b9508",
   "metadata": {},
   "source": [
    "# Aportes de mis estudiantes a la metodología del curso  \n",
    "1. \n",
    "\n",
    "Sus opiniones y aportes son muy importantes para mi. Pues esta es una investigación educativa y un servicio de enseñanza para ustedes. Ustedes son la razón de ser de mi actividad docente. Dios los bendiga. "
   ]
  },
  {
   "cell_type": "markdown",
   "id": "6c4af91f",
   "metadata": {},
   "source": [
    "# Aportes de mis colegas docentes a la metodología que estoy aplicando en mis cursos. "
   ]
  },
  {
   "cell_type": "markdown",
   "id": "071afa04",
   "metadata": {
    "slideshow": {
     "slide_type": "slide"
    }
   },
   "source": [
    "## [Evaluación luego de alcanzar estos objetivos de aprendizaje]()"
   ]
  },
  {
   "cell_type": "markdown",
   "id": "10f43536",
   "metadata": {
    "slideshow": {
     "slide_type": "slide"
    }
   },
   "source": [
    "### Continue su aprendizaje en la siguiente clase a través del siguiente [vínculo para preparar la evaluación](https://github.com/marco-canas/fundamentos_de_la_aritmetica/blob/main/referentes/2_grajales_logica/2_parte_2_los_numeros_reales/1_naturales/2_induccion_matematica/2_evaluacion_tarea_quiz_parcial_oral_1_induccion_matematica.ipynb)"
   ]
  },
  {
   "cell_type": "markdown",
   "id": "ba236f4d",
   "metadata": {},
   "source": [
    "### **Actividad de Clase: Expresar Ideas, Dudas y Emociones de Manera Respetuosa y Asertiva**\n"
   ]
  },
  {
   "cell_type": "markdown",
   "id": "33bcd185",
   "metadata": {},
   "source": [
    "\n",
    "**Objetivo:**  \n",
    "Desarrollar habilidades de comunicación efectiva en los estudiantes para que puedan expresar sus ideas, dudas y emociones de forma respetuosa y asertiva.\n",
    "\n",
    "**Duración:**  \n",
    "15-20 minutos\n",
    "\n",
    "---\n"
   ]
  },
  {
   "cell_type": "markdown",
   "id": "f61da648",
   "metadata": {},
   "source": [
    "\n",
    "### **1. Introducción (5 minutos)**  \n",
    "- **Tema:** Introducir a los estudiantes al concepto de la comunicación asertiva, explicando cómo expresar pensamientos y emociones de manera clara y respetuosa sin agredir o ser pasivo.\n",
    "- **Dinámica:** Mostrar dos ejemplos contrastantes: uno de comunicación pasiva/agresiva y otro de comunicación asertiva. Preguntar a los estudiantes cuál creen que es más efectivo y por qué.\n"
   ]
  },
  {
   "cell_type": "markdown",
   "id": "2a5fc78e",
   "metadata": {},
   "source": [
    "\n",
    "**Materiales:**  \n",
    "- Pizarra o diapositivas con ejemplos de frases pasivas, agresivas y asertivas.\n",
    "  \n",
    "**Ejemplo:**  \n",
    "- **Pasivo:** “Bueno… no sé si es una buena idea, pero… tal vez podrías intentarlo.”\n",
    "- **Agresivo:** “¡Tu idea es terrible, no va a funcionar!”\n",
    "- **Asertivo:** “Creo que podríamos mejorar esa idea si consideramos otro enfoque.”\n",
    "\n",
    "---\n"
   ]
  },
  {
   "cell_type": "markdown",
   "id": "615be3a5",
   "metadata": {},
   "source": [
    "\n",
    "### **2. Ejercicio en Parejas (10 minutos)**  \n",
    "- **Instrucciones:** Dividir a los estudiantes en parejas. Darles diferentes situaciones cotidianas en las que deben comunicarse (pedir ayuda, expresar desacuerdo, compartir una idea, etc.). Cada pareja debe crear una breve conversación donde practiquen la comunicación asertiva.\n"
   ]
  },
  {
   "cell_type": "markdown",
   "id": "47d8c1a0",
   "metadata": {},
   "source": [
    "  \n",
    "**Situaciones propuestas:**\n",
    "  - Expresar desacuerdo con un compañero sobre una tarea de grupo.\n",
    "  - Pedirle ayuda al profesor sobre un concepto difícil.\n",
    "  - Expresar frustración por un malentendido en clase.\n",
    "\n",
    "- **Reglas:** Cada estudiante debe asegurarse de usar lenguaje respetuoso y asertivo para expresar su posición y emociones. Al final, cada pareja debe compartir con la clase un ejemplo de lo que discutieron.\n",
    "\n",
    "---\n"
   ]
  },
  {
   "cell_type": "markdown",
   "id": "592a4e7b",
   "metadata": {},
   "source": [
    "\n",
    "### **3. Retroalimentación y Discusión (5 minutos)**  \n",
    "- **Discusión:** Invitar a algunos estudiantes a compartir sus experiencias de la actividad. \n",
    "- **Preguntas:** ¿Cómo se sintieron al intentar ser asertivos? ¿Les resultó difícil? ¿Cómo fue recibido el mensaje?\n",
    "  \n",
    "**Consejo:** Resaltar la importancia de practicar la asertividad como una herramienta para mejorar la comunicación interpersonal y reducir conflictos.\n",
    "\n",
    "---\n"
   ]
  },
  {
   "cell_type": "markdown",
   "id": "73f4e57d",
   "metadata": {},
   "source": [
    "\n",
    "### **Cierre**  \n",
    "- Resumir las características de la comunicación asertiva: uso de \"yo\" en lugar de \"tú\" para evitar culpabilizar, tono de voz calmado, y respeto hacia el interlocutor.\n",
    "- **Tarea opcional:** Pedirles que practiquen la comunicación asertiva en sus conversaciones durante la semana y escriban una reflexión breve sobre cómo les fue.\n",
    "\n",
    "**Material adicional:**  \n",
    "- Video corto o recurso digital sobre la importancia de la comunicación asertiva."
   ]
  },
  {
   "cell_type": "markdown",
   "id": "53cc9115",
   "metadata": {
    "slideshow": {
     "slide_type": "slide"
    }
   },
   "source": [
    "## Agradecimientos  \n",
    "\n",
    "Doy gracias a Dios por la vida de mi Hijo Joseph Cañas Osorio y la madurez que ha alcanzado.\n",
    "\n",
    "Y a mi esposa Yasmira por su apoyo, orientación y acompañamiento. "
   ]
  }
 ],
 "metadata": {
  "celltoolbar": "Slideshow",
  "kernelspec": {
   "display_name": "Python 3 (ipykernel)",
   "language": "python",
   "name": "python3"
  },
  "language_info": {
   "codemirror_mode": {
    "name": "ipython",
    "version": 3
   },
   "file_extension": ".py",
   "mimetype": "text/x-python",
   "name": "python",
   "nbconvert_exporter": "python",
   "pygments_lexer": "ipython3",
   "version": "3.10.12"
  },
  "rise": {
   "enable_chalkboard": true,
   "theme": "sky",
   "transition": "zoom"
  }
 },
 "nbformat": 4,
 "nbformat_minor": 5
}
