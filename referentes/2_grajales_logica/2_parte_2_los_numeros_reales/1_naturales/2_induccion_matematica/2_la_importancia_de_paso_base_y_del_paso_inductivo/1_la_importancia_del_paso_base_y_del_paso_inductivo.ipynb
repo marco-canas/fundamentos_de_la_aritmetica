{
 "cells": [
  {
   "cell_type": "markdown",
   "id": "dc06dec7",
   "metadata": {
    "slideshow": {
     "slide_type": "slide"
    }
   },
   "source": [
    "<table align=\"left\">\n",
    "  <td>\n",
    "    <a href=\"https://colab.research.google.com/github/marco-canas/fundamentos_de_la_aritmetica/blob/main/referentes/2_grajales_logica/2_parte_2_los_numeros_reales/1_naturales/2_induccion_matematica/2_la_importancia_de_paso_base_y_del_paso_inductivo/1_la_importancia_del_paso_base_y_del_paso_inductivo.ipynb\" target=\"_parent\"><img src=\"https://colab.research.google.com/assets/colab-badge.svg\" alt=\"Open In Colab\"/></a>\n",
    "  </td>\n",
    "  <td>\n",
    "    <a target=\"_blank\" href=\"https://kaggle.com/kernels/welcome?src=https://github.com/marco-canas/fundamentos_de_la_aritmetica/blob/main/referentes/2_grajales_logica/2_parte_2_los_numeros_reales/1_naturales/2_induccion_matematica/2_la_importancia_de_paso_base_y_del_paso_inductivo/1_la_importancia_del_paso_base_y_del_paso_inductivo.ipynb\"><img src=\"https://kaggle.com/static/images/open-in-kaggle.svg\" /></a>\n",
    "  </td>\n",
    "</table>"
   ]
  },
  {
   "cell_type": "markdown",
   "id": "e0c5b198",
   "metadata": {
    "slideshow": {
     "slide_type": "slide"
    }
   },
   "source": [
    "### [Video de apoyo a la lectura interactiva y experimental de este cuaderno]()"
   ]
  },
  {
   "cell_type": "markdown",
   "id": "41e82203",
   "metadata": {
    "slideshow": {
     "slide_type": "slide"
    }
   },
   "source": [
    "## [Vínculo al programa del curso de Fundamentos de la Aritmética:](https://github.com/marco-canas/fundamentos_de_la_aritmetica/blob/main/programa_LM_Fundamentos_De%20Aritmetica_profesor_marco_canas_caucasia.docx)\n",
    "\n"
   ]
  },
  {
   "cell_type": "markdown",
   "id": "d11ab06d",
   "metadata": {
    "slideshow": {
     "slide_type": "slide"
    }
   },
   "source": [
    "Un reconocimiento a mis estudiantes que han construido conmigo este saber pedagógico:\n",
    "\n",
    "<img src = 'https://github.com/marco-canas/fundamentos_de_la_aritmetica/blob/main/images/images_of_students/2024_2/asesoria_fundamentos_aritmetica_calculo_2024-09-14.jpeg?raw=true'> \n",
    "\n"
   ]
  },
  {
   "cell_type": "markdown",
   "id": "8a74a56c-0ce6-4ad6-b985-553fd7fb68bb",
   "metadata": {},
   "source": [
    "Reconocimiento a las profesoras destacadas en enseñanza de la matemática en Colombia  \n",
    "\n",
    "[Diana Patricia Acevedo Velez](https://independent.academia.edu/DianaPatriciaAcevedoV%C3%A9lez)\n"
   ]
  },
  {
   "cell_type": "code",
   "execution_count": null,
   "id": "7604880f",
   "metadata": {
    "slideshow": {
     "slide_type": "slide"
    }
   },
   "outputs": [],
   "source": [
    "import pandas as pd\n",
    "import numpy as np\n",
    "\n",
    "# Cargar la lista de estudiantes desde la URL\n",
    "path = '/home/marco/Documentos/docencia/groups_list/fundamentos_aritmetica.csv'\n",
    "estudiantes = pd.read_csv(path)\n",
    "estudiantes['Parcial'] = estudiantes['Parcial'].astype(float) # hacer que todos los valores de la columna Parcial seen de tipo float\n",
    "\n",
    "# Convertir la columna 'Nombre' a una lista de Python\n",
    "lista_estudiantes = estudiantes['Nombre'].tolist()\n",
    "\n",
    "# Función para llamar a un estudiante aleatoriamente y registrar su nota de seguimiento\n",
    "def asistencia():\n",
    "    if lista_estudiantes:\n",
    "        estudiante_aleatorio = np.random.choice(lista_estudiantes)\n",
    "        print(f\"Llamando a {estudiante_aleatorio}...\")\n",
    "        asistencia = input(f\"¿Asistió {estudiante_aleatorio}? (s/n): \").strip().lower()\n",
    "        \n",
    "        if asistencia == 's':\n",
    "            # Obtener el índice del estudiante en el DataFrame\n",
    "            indice = estudiantes[estudiantes['Nombre'] == estudiante_aleatorio].index[0]\n",
    "            # Incrementar su valor en la columna 'Parcial'\n",
    "            estudiantes.at[indice, 'Parcial'] += 0.1\n",
    "            print(f\"Actualizado: {estudiante_aleatorio} ahora tiene {estudiantes.at[indice, 'Parcial']} en la columna 'Parcial'.\")\n",
    "        \n",
    "        lista_estudiantes.remove(estudiante_aleatorio)\n",
    "    else:\n",
    "        print(\"Se han llamado a todos los estudiantes del grupo completo.\")\n",
    "\n",
    "# Guardar los cambios en el archivo CSV\n",
    "def guardar_cambios():\n",
    "    estudiantes.to_csv(path, index=False)\n",
    "    print(\"Cambios guardados en el archivo CSV.\")\n",
    "\n",
    "# Ejemplo de uso\n",
    "while lista_estudiantes:\n",
    "    asistencia()\n",
    "    guardar_cambios()\n",
    "\n",
    "\n"
   ]
  },
  {
   "cell_type": "markdown",
   "id": "d7598d0a-d9b7-4ae0-b029-a0ed6ed1130b",
   "metadata": {},
   "source": [
    "\n",
    "# Principios de mi labor docente"
   ]
  },
  {
   "cell_type": "markdown",
   "id": "4f9d8cf9",
   "metadata": {
    "slideshow": {
     "slide_type": "slide"
    }
   },
   "source": [
    "# Modelo general de clase: [aula invertida](https://www3.gobiernodecanarias.org/medusa/ecoescuela/pedagotic/aprendizaje-invertido-flipped-classroom/)"
   ]
  },
  {
   "cell_type": "markdown",
   "id": "eb6ed03a",
   "metadata": {},
   "source": [
    "![Definamos flipped learning de manera gráfica](https://resources.maneuveringthemiddle.com/wp-content/uploads/2020/07/04212706/1-5.png)"
   ]
  },
  {
   "cell_type": "markdown",
   "id": "34319cce-a71b-4f64-aab8-b53e521efa40",
   "metadata": {},
   "source": [
    "# Metodología de enseñanza basada en problemas (ABP)\n",
    "\n",
    "<img src = 'https://www.unir.net/wp-content/uploads/2020/07/aprendizaje-problemas2-1-1-1-1.jpeg'>"
   ]
  },
  {
   "cell_type": "markdown",
   "id": "841a985c-bd9b-4dd3-8e4c-893983980af2",
   "metadata": {},
   "source": [
    "# Desarrollo del pensamiento coomputacional con python y cuadernos Jupyter  orientado a la formación en ciencia de datos \n",
    "\n",
    "\n",
    "<img src = 'https://i.ytimg.com/vi/mcG_wcR4e6M/maxresdefault.jpg'>"
   ]
  },
  {
   "cell_type": "markdown",
   "id": "65aa0404-f7ae-495e-864c-1aec01b4255e",
   "metadata": {},
   "source": [
    "# Principio de fomento a la ciencia abierta, enseñar en el acceso a los datos públicos y el uso de software de código abierto  \n",
    "\n",
    "<img src = 'https://unesdoc.unesco.org/in/rest/Thumb/image?id=p%3A%3Ausmarcdef_0000379949_spa&author=UNESCO&title=Recomendaci%C3%B3n+de+la+UNESCO+sobre+la+Ciencia+Abierta&year=2021&publisher=UNESCO&TypeOfDocument=UnescoPhysicalDocument&mat=PGD&ct=true&size=512&isPhysical=1'>"
   ]
  },
  {
   "cell_type": "markdown",
   "id": "d9559f85",
   "metadata": {},
   "source": [
    "El enfoque STEAMS en educación preescolar, primaria y secundaria es una extensión del enfoque STEM (Ciencia, Tecnología, Ingeniería y Matemáticas) y su variante STEAM, que incorpora el Arte. El acrónimo STEAMS incluye:\n",
    "\n",
    "1. **Science (Ciencia):** Fomenta la curiosidad por el mundo natural y el desarrollo de habilidades científicas, como la observación, experimentación y análisis.\n",
    "\n",
    "2. **Technology (Tecnología):** Integra herramientas tecnológicas para potenciar el aprendizaje y la resolución de problemas, promoviendo la alfabetización digital desde edades tempranas.\n",
    "\n",
    "3. **Engineering (Ingeniería):** Introduce el pensamiento lógico y la resolución de problemas estructurados, fomentando habilidades como el diseño y la construcción de soluciones.\n",
    "\n",
    "4. **Arts (Arte):** Añade creatividad y pensamiento crítico, permitiendo a los estudiantes expresarse y explorar el aprendizaje a través de formas artísticas (plásticas, música, teatro).\n",
    "\n",
    "5. **Mathematics (Matemáticas):** Refuerza las habilidades numéricas y el razonamiento lógico, fundamentales en la resolución de problemas y comprensión de conceptos abstractos.\n",
    "\n",
    "6. **Social Sciences (Ciencias Sociales):** Incorpora la comprensión del entorno social, político, cultural y económico, promoviendo el desarrollo de la conciencia crítica sobre el mundo y su historia, además de habilidades de empatía y ciudadanía.\n",
    "\n",
    "El enfoque STEAMS pretende desarrollar un aprendizaje **interdisciplinario** que integre estas áreas para fomentar un pensamiento más holístico y práctico. Se busca que los estudiantes no solo aprendan conocimientos técnicos, sino también cómo aplicarlos creativa y críticamente en situaciones reales, promoviendo habilidades como el trabajo en equipo, la comunicación y la innovación. En educación preescolar, primaria y secundaria, se adapta a las diferentes etapas de desarrollo cognitivo y emocional de los estudiantes, promoviendo el aprendizaje activo y contextualizado.  \n",
    "\n",
    "<img src = 'https://www.campuseducacion.com/blog/wp-content/uploads/2023/03/foto01-1.jpg'>"
   ]
  },
  {
   "cell_type": "markdown",
   "id": "8d97dc80",
   "metadata": {
    "jp-MarkdownHeadingCollapsed": true,
    "slideshow": {
     "slide_type": "slide"
    }
   },
   "source": [
    "## Fomento de la lectura literaria asociada a Ingeniería agropecuaria y licenciatura en Matemáticas\n",
    "\n",
    "[aprender a negociar](https://github.com/marco-canas/el_arte_de_aprender_a_negociar/blob/main/Fisher-Roger-Obtenga-El-Si-psicologia.pdf)\n"
   ]
  },
  {
   "cell_type": "markdown",
   "id": "96775931",
   "metadata": {
    "slideshow": {
     "slide_type": "slide"
    }
   },
   "source": [
    "## Título de la clase: La importancia del paso base y del paso inductivo en la inducción matemática. \n",
    "\n",
    "[Video motivacional de caída del dominó](https://www.youtube.com/watch?v=5uHUVyy3rNw&ab_channel=DominoeffectsimulationDude)"
   ]
  },
  {
   "cell_type": "markdown",
   "id": "1d38dd4e",
   "metadata": {
    "slideshow": {
     "slide_type": "slide"
    }
   },
   "source": [
    "### Objetivo de aprendizaje (Enunciar, de manera corta sencilla y clara para todos los asistentes)\n",
    " De ahora en adelante, las clase tendran 4 objetivos de clase de acuerdo a las 4 dimensiones de mi práctica pedagógica\n",
    "\n",
    " * Qué el licenciado aprenda a generalizar en los números naturales \n"
   ]
  },
  {
   "cell_type": "markdown",
   "id": "1365025c",
   "metadata": {},
   "source": [
    "1. Conocimiento Teórico de Matemáticas\n",
    "\n",
    "Indicadores:\n",
    "\n",
    "* Comprensión de conceptos fundamentales sobre la inducción matemática.\n",
    "* Capacidad para resolver ecuaciones diferenciales.\n",
    "* Habilidad para derivar funciones complejas.\n",
    "* Capacidad de leer, escribir e interpretar utilizando la notación y terminología matemática propia de esta clase.\n",
    "* Capacidad para aplicar resultados científicos en problemas.\n"
   ]
  },
  {
   "cell_type": "markdown",
   "id": "97ab69df",
   "metadata": {},
   "source": [
    "\n",
    "2. Habilidad en Programación con Python\n",
    "\n",
    "Indicadores:\n",
    "\n",
    "* Capacidad para escribir y ejecutar scripts básicos en Python.\n",
    "* Comprensión y uso de estructuras de control (condicionales, bucles).\n",
    "* Uso de funciones y módulos en Python.\n",
    "* Manejo de estructuras de datos (listas, diccionarios, tuplas).\n",
    "* Habilidad para depurar y solucionar errores en el código.\n",
    "* Uso de bibliotecas matemáticas como NumPy y SymPy.\n"
   ]
  },
  {
   "cell_type": "markdown",
   "id": "0dd775aa",
   "metadata": {},
   "source": [
    "\n",
    "3. Pensamiento Computacional\n",
    "\n",
    "Indicadores:\n",
    "\n",
    "* Capacidad para descomponer problemas complejos en subproblemas manejables.\n",
    "* Habilidad para diseñar algoritmos eficientes para resolver problemas específicos.\n",
    "* Comprensión de la lógica detrás de las estructuras de control y su aplicación en la programación.\n",
    "* Capacidad para abstraer conceptos matemáticos en soluciones programables.\n",
    "* Habilidad para identificar y aplicar patrones en la resolución de problemas.\n"
   ]
  },
  {
   "cell_type": "markdown",
   "id": "1a57907e",
   "metadata": {},
   "source": [
    "\n",
    "4. Aplicación de Matemáticas en Problemas Reales\n",
    "\n",
    "Indicadores:\n",
    "\n",
    "* Capacidad para modelar situaciones reales utilizando funciones matemáticas.\n",
    "* Habilidad para implementar soluciones matemáticas en código Python para resolver problemas prácticos.\n",
    "* Comprensión de cómo interpretar los resultados obtenidos mediante simulaciones o cálculos computacionales.\n",
    "* Uso de Python para la visualización de datos y resultados matemáticos.\n",
    "* Capacidad para integrar conocimientos matemáticos y de programación en proyectos interdisciplinarios."
   ]
  },
  {
   "cell_type": "markdown",
   "id": "540f0ec1",
   "metadata": {
    "slideshow": {
     "slide_type": "slide"
    }
   },
   "source": [
    "## Cuestionario para realizar labores de memorización, observación y síntesis de la información (Además de diagnóstico)  \n",
    "[Realizar encuesta para participacion de todos los estudiantes para diagnosticar presaberes para la clase: mentimeter](https://www.mentimeter.com/es-ES/education/lectures)\n",
    "\n",
    "1. ¿Cuáles son las dos condiciones del método de inducción matemática?\n",
    "2. ¿Qué es factorizar? \n",
    "3. ¿Qué es efectuar un producto notable? \n",
    "4. ¿Cuáles son los casos de productos notables, usuales o especiales?\n",
    "5. ¿Qué es una progresión aritmética?\n",
    "6. ¿Qué es una progresión geométrica?"
   ]
  },
  {
   "cell_type": "markdown",
   "id": "8e457ea2",
   "metadata": {},
   "source": [
    "# Definiciones y Resultados científicos a comprender y memorizar \n",
    "\n",
    "[Primera grabación en Vocaroo](https://vocaroo.com/)\n",
    "\n",
    "* [Las dos condiciones del método de inducción matemática](https://voca.ro/14BcvQWjlfHr)"
   ]
  },
  {
   "cell_type": "markdown",
   "id": "ca7261b1",
   "metadata": {
    "slideshow": {
     "slide_type": "slide"
    }
   },
   "source": [
    "## Establecimiento de prerrequisitos conceptuales para alcanzar el objetivo de aprendizaje trazado.   \n",
    "\n",
    "(Elabore una lista de preguntas al rededor de los conceptos que consideres necesarios para empezar la clase).  \n",
    "\n",
    "1. Saber factorizar trinomios cuadrados perfectos\n",
    "   $$  $$\n",
    "2. \n",
    "3. "
   ]
  },
  {
   "cell_type": "markdown",
   "id": "2298e976",
   "metadata": {
    "slideshow": {
     "slide_type": "slide"
    }
   },
   "source": [
    "# Para el diseño de la clase tenga en cuenta algunos problemas de aprendizaje"
   ]
  },
  {
   "cell_type": "markdown",
   "id": "523d3acf",
   "metadata": {
    "slideshow": {
     "slide_type": "slide"
    }
   },
   "source": [
    "1. Se presenta una gran dificultad para interpretar de manera verbal o simbólica, un enunciado a demostrar por inducción matemática. \n",
    "2. "
   ]
  },
  {
   "cell_type": "markdown",
   "id": "a40a4704",
   "metadata": {
    "slideshow": {
     "slide_type": "slide"
    }
   },
   "source": [
    "## Secuencia conceptual introductoria a la clase"
   ]
  },
  {
   "cell_type": "markdown",
   "id": "8853d874",
   "metadata": {},
   "source": [
    "## El componente histórico y epistemológico  \n",
    "\n",
    "Para una clase sobre el concepto de inducción matemática dirigida a estudiantes de Licenciatura en Matemáticas, es importante incluir tanto los aspectos históricos como los epistemológicos para brindar un contexto profundo y completo. Aquí tienes algunos elementos que podrías incorporar:\n"
   ]
  },
  {
   "cell_type": "markdown",
   "id": "ec110f68",
   "metadata": {},
   "source": [
    "\n",
    "### Elementos Históricos\n",
    "1. **Orígenes Antiguos**:\n",
    "   - Aunque la inducción matemática como la conocemos hoy no fue formalizada hasta tiempos posteriores, el método de argumentación inductiva tiene raíces en la antigua Grecia. Euclides, en su \"Elementos,\" utilizó una forma primitiva de inducción para demostrar propiedades sobre números y figuras geométricas.\n",
    "   - El principio de inducción explícito se encuentra en el trabajo del matemático árabe Al-Karaji (953–1029), quien lo usó en el contexto de números figurados y sumas de potencias.\n",
    "\n",
    "2. **Desarrollo Formal**:\n",
    "   - El concepto de inducción matemática fue formalmente introducido en el siglo XVII por Blaise Pascal en su trabajo sobre números figurados y por Pierre de Fermat, quien lo utilizó para demostrar resultados sobre números enteros.\n",
    "   - Augustin-Louis Cauchy y Karl Weierstrass en el siglo XIX contribuyeron al rigor en el análisis matemático y popularizaron la inducción como una herramienta fundamental para las pruebas matemáticas.\n",
    "\n",
    "3. **Inducción en el Siglo XX**:\n",
    "   - La axiomatización de la teoría de conjuntos y la formalización de las matemáticas en el siglo XX hicieron que la inducción matemática se convirtiera en una herramienta estándar en las pruebas formales.\n",
    "   - En particular, el trabajo de Giuseppe Peano en los axiomas de Peano para los números naturales formalizó el principio de inducción matemática.\n"
   ]
  },
  {
   "cell_type": "markdown",
   "id": "3054d093",
   "metadata": {},
   "source": [
    "\n",
    "### Elementos Epistemológicos\n",
    "1. **Naturaleza de la Inducción Matemática**:\n",
    "   - La inducción matemática es un método deductivo, a diferencia de la inducción empírica en las ciencias naturales. Esto significa que, aunque se basa en observar patrones (en la base inductiva), su objetivo es proporcionar una prueba rigurosa y generalizable.\n",
    "   - Consiste en dos pasos clave: la base de la inducción (demostrar que la proposición es verdadera para el primer caso) y el paso inductivo (demostrar que si la proposición es verdadera para un caso arbitrario \\( n \\), entonces es verdadera para \\( n+1 \\)).\n",
    "\n",
    "2. **Relación con la Axiomatización**:\n",
    "   - La inducción matemática es crucial en la teoría axiomática de los números naturales. En los axiomas de Peano, el principio de inducción es uno de los axiomas fundamentales que define las propiedades de los números naturales.\n",
    "   - Este método permite demostrar propiedades para infinitos conjuntos de números a través de un proceso finito, destacando la capacidad de las matemáticas para manejar el infinito de manera rigurosa.\n",
    "\n",
    "3. **Aplicaciones y Limitaciones**:\n",
    "   - La inducción matemática se utiliza no solo en aritmética y álgebra sino también en combinatoria, teoría de grafos y análisis, lo que subraya su versatilidad y poder como herramienta.\n",
    "   - Sin embargo, no es aplicable en todos los contextos. Por ejemplo, para conjuntos no numerables, o situaciones que no pueden ser bien ordenadas, la inducción matemática no es directamente aplicable.\n"
   ]
  },
  {
   "cell_type": "markdown",
   "id": "79ca6cae",
   "metadata": {},
   "source": [
    "\n",
    "### Implementación con Python y Cuadernos Jupyter\n",
    "1. **Visualización de la Inducción**:\n",
    "   - Utilizar Python para ilustrar ejemplos de inducción matemática. Por ejemplo, demostrar la fórmula de la suma de los primeros \\( n \\) números naturales \\( \\sum_{i=1}^n i = \\frac{n(n+1)}{2} \\).\n",
    "   - Los estudiantes pueden escribir funciones que verifiquen la validez de esta fórmula para diferentes valores de \\( n \\) y luego implementar la prueba inductiva.\n",
    "\n",
    "2. **Ejercicios Interactivos**:\n",
    "   - Crear cuadernos Jupyter que guíen a los estudiantes a través de una prueba de inducción matemática paso a paso.\n",
    "   - Incluir ejercicios donde los estudiantes implementen la base y el paso inductivo en Python, como demostrar propiedades de números pares, impares, o fórmulas para sumas de series.\n",
    "\n",
    "3. **Automatización de Pruebas**:\n",
    "   - Usar Python para generar pruebas automatizadas que verifiquen la validez de una proposición inductiva para varios valores.\n",
    "   - Esto puede ayudar a los estudiantes a visualizar la importancia de la inducción matemática y a comprender cómo se puede aplicar de manera computacional.\n"
   ]
  },
  {
   "cell_type": "markdown",
   "id": "836400e1",
   "metadata": {},
   "source": [
    "\n",
    "### Conclusión\n",
    "La inducción matemática es un concepto fundamental en la formación de matemáticos y es una herramienta poderosa para demostrar propiedades universales sobre los números naturales. Integrar una perspectiva histórica y epistemológica con aplicaciones prácticas en Python y Jupyter puede proporcionar a los estudiantes una comprensión profunda y multidimensional de este método."
   ]
  },
  {
   "cell_type": "markdown",
   "id": "e3ffa494",
   "metadata": {},
   "source": [
    "# Vocabulary   \n",
    "\n",
    "1. under: under: extending or directly below.\n",
    "   \"the streams that ran under the melting glaciers\" \n",
    "2. low:  \n",
    "3. Below:  \n",
    "4.  \n",
    "5.  "
   ]
  },
  {
   "cell_type": "code",
   "execution_count": null,
   "id": "6ff395c3",
   "metadata": {},
   "outputs": [],
   "source": [
    "# Traducción del inglés al español con python\n",
    "\n",
    "def traducir(texto):\n",
    "    from googletrans import Translator\n",
    "\n",
    "    translator = Translator() # instancia la clase \n",
    "\n",
    "    # Traducir al español\n",
    "    translation = translator.translate(texto, src='en', dest='es')\n",
    "    return translation.text"
   ]
  },
  {
   "cell_type": "code",
   "execution_count": null,
   "id": "b583f414-ac87-4912-8a86-b338234d83d7",
   "metadata": {},
   "outputs": [],
   "source": [
    "traducir('Hi')"
   ]
  },
  {
   "cell_type": "code",
   "execution_count": 3,
   "id": "bc0addfe",
   "metadata": {},
   "outputs": [
    {
     "data": {
      "text/plain": [
       "'/home/marco/Documentos/docencia/fundamentos_de_la_aritmetica/images/2_naturales/Método de inducción matemática.pdf'"
      ]
     },
     "execution_count": 3,
     "metadata": {},
     "output_type": "execute_result"
    }
   ],
   "source": [
    "# Importar las librerías necesarias\n",
    "import numpy as np\n",
    "import pandas as pd\n",
    "import matplotlib.pyplot as plt\n",
    "import plotly.express as px\n",
    "from graphviz import Digraph\n",
    "\n",
    "# Crear un nuevo grafo dirigido\n",
    "dot = Digraph()\n",
    "\n",
    "# Añadir nodos y relaciones al grafo\n",
    "main_concept = 'Método de inducción matemática'\n",
    "dot.node('A', main_concept)\n",
    "dot.node('B', 'Historia')\n",
    "dot.node('C', 'Epistemología')\n",
    "dot.node('D', 'Definición \\n Formal')\n",
    "dot.node('E', 'Aplicaciones')\n",
    "dot.node('F', 'Importancia')\n",
    "dot.node('G', 'Generalización')\n",
    "dot.node('H', 'Pasos \\n de la Inducción')\n",
    "dot.node('I', 'Uso con \\n Números Naturales')\n",
    "dot.node('J', 'Ejemplo \\n Práctico')\n",
    "\n",
    "dot.edges(['AB', 'AC', 'AD', 'AE'])\n",
    "dot.edges(['AF', 'AG', 'AH'])\n",
    "dot.edges(['AI', 'AJ'])\n",
    "\n",
    "# Guardar el grafo como un archivo de imagen\n",
    "dot.render(filename=main_concept, format='png', cleanup=True, \n",
    "           directory='/home/marco/Documentos/docencia/fundamentos_de_la_aritmetica/images/2_naturales/')\n",
    "\n",
    "dot.view()\n"
   ]
  },
  {
   "cell_type": "code",
   "execution_count": 4,
   "id": "094fc258",
   "metadata": {},
   "outputs": [
    {
     "data": {
      "text/html": [
       "<div>\n",
       "<style scoped>\n",
       "    .dataframe tbody tr th:only-of-type {\n",
       "        vertical-align: middle;\n",
       "    }\n",
       "\n",
       "    .dataframe tbody tr th {\n",
       "        vertical-align: top;\n",
       "    }\n",
       "\n",
       "    .dataframe thead th {\n",
       "        text-align: right;\n",
       "    }\n",
       "</style>\n",
       "<table border=\"1\" class=\"dataframe\">\n",
       "  <thead>\n",
       "    <tr style=\"text-align: right;\">\n",
       "      <th></th>\n",
       "      <th>n</th>\n",
       "      <th>Semiproducto de n y su consecutivo (n(n+1)/2)</th>\n",
       "      <th>Suma Real</th>\n",
       "      <th>Iguales</th>\n",
       "    </tr>\n",
       "  </thead>\n",
       "  <tbody>\n",
       "    <tr>\n",
       "      <th>0</th>\n",
       "      <td>1</td>\n",
       "      <td>1.0</td>\n",
       "      <td>1</td>\n",
       "      <td>True</td>\n",
       "    </tr>\n",
       "    <tr>\n",
       "      <th>1</th>\n",
       "      <td>2</td>\n",
       "      <td>3.0</td>\n",
       "      <td>3</td>\n",
       "      <td>True</td>\n",
       "    </tr>\n",
       "    <tr>\n",
       "      <th>2</th>\n",
       "      <td>3</td>\n",
       "      <td>6.0</td>\n",
       "      <td>6</td>\n",
       "      <td>True</td>\n",
       "    </tr>\n",
       "    <tr>\n",
       "      <th>3</th>\n",
       "      <td>4</td>\n",
       "      <td>10.0</td>\n",
       "      <td>10</td>\n",
       "      <td>True</td>\n",
       "    </tr>\n",
       "    <tr>\n",
       "      <th>4</th>\n",
       "      <td>5</td>\n",
       "      <td>15.0</td>\n",
       "      <td>15</td>\n",
       "      <td>True</td>\n",
       "    </tr>\n",
       "    <tr>\n",
       "      <th>5</th>\n",
       "      <td>6</td>\n",
       "      <td>21.0</td>\n",
       "      <td>21</td>\n",
       "      <td>True</td>\n",
       "    </tr>\n",
       "    <tr>\n",
       "      <th>6</th>\n",
       "      <td>7</td>\n",
       "      <td>28.0</td>\n",
       "      <td>28</td>\n",
       "      <td>True</td>\n",
       "    </tr>\n",
       "    <tr>\n",
       "      <th>7</th>\n",
       "      <td>8</td>\n",
       "      <td>36.0</td>\n",
       "      <td>36</td>\n",
       "      <td>True</td>\n",
       "    </tr>\n",
       "    <tr>\n",
       "      <th>8</th>\n",
       "      <td>9</td>\n",
       "      <td>45.0</td>\n",
       "      <td>45</td>\n",
       "      <td>True</td>\n",
       "    </tr>\n",
       "    <tr>\n",
       "      <th>9</th>\n",
       "      <td>10</td>\n",
       "      <td>55.0</td>\n",
       "      <td>55</td>\n",
       "      <td>True</td>\n",
       "    </tr>\n",
       "  </tbody>\n",
       "</table>\n",
       "</div>"
      ],
      "text/plain": [
       "    n  Semiproducto de n y su consecutivo (n(n+1)/2)  Suma Real  Iguales\n",
       "0   1                                            1.0          1     True\n",
       "1   2                                            3.0          3     True\n",
       "2   3                                            6.0          6     True\n",
       "3   4                                           10.0         10     True\n",
       "4   5                                           15.0         15     True\n",
       "5   6                                           21.0         21     True\n",
       "6   7                                           28.0         28     True\n",
       "7   8                                           36.0         36     True\n",
       "8   9                                           45.0         45     True\n",
       "9  10                                           55.0         55     True"
      ]
     },
     "execution_count": 4,
     "metadata": {},
     "output_type": "execute_result"
    }
   ],
   "source": [
    "\n",
    "# Verificar funciones proposicionales con numpy y pandas\n",
    "# Ejemplo: Suma de los primeros n números naturales\n",
    "n_values = np.arange(1, 11)  # Valores de n de 1 a 10\n",
    "semiproducto = n_values * (n_values + 1) / 2  # Fórmula de la suma de los primeros n números naturales\n",
    "actual_sum = np.cumsum(n_values)  # Suma acumulativa\n",
    "\n",
    "# Crear un DataFrame para comparar los valores\n",
    "df = pd.DataFrame({\n",
    "    'n': n_values,\n",
    "    'Semiproducto de n y su consecutivo (n(n+1)/2)': semiproducto,\n",
    "    'Suma Real': actual_sum,\n",
    "    'Iguales': actual_sum == semiproducto\n",
    "})\n",
    "\n",
    "df\n"
   ]
  },
  {
   "cell_type": "code",
   "execution_count": 5,
   "id": "295bf7b6",
   "metadata": {},
   "outputs": [
    {
     "data": {
      "image/png": "[encoded data removed]",
      "text/plain": [
       "<Figure size 640x480 with 1 Axes>"
      ]
     },
     "metadata": {},
     "output_type": "display_data"
    },
    {
     "data": {
      "application/vnd.plotly.v1+json": {
       "config": {
        "plotlyServerURL": "https://plot.ly"
       },
       "data": [
        {
         "hovertemplate": "variable=Semiproducto de n y su consecutivo (n(n+1)/2)<br>n=%{x}<br>value=%{y}<extra></extra>",
         "legendgroup": "Semiproducto de n y su consecutivo (n(n+1)/2)",
         "line": {
          "color": "#636efa",
          "dash": "solid"
         },
         "marker": {
          "symbol": "circle"
         },
         "mode": "lines",
         "name": "Semiproducto de n y su consecutivo (n(n+1)/2)",
         "orientation": "v",
         "showlegend": true,
         "type": "scatter",
         "x": [
          1,
          2,
          3,
          4,
          5,
          6,
          7,
          8,
          9,
          10
         ],
         "xaxis": "x",
         "y": [
          1,
          3,
          6,
          10,
          15,
          21,
          28,
          36,
          45,
          55
         ],
         "yaxis": "y"
        },
        {
         "hovertemplate": "variable=Suma Real<br>n=%{x}<br>value=%{y}<extra></extra>",
         "legendgroup": "Suma Real",
         "line": {
          "color": "#EF553B",
          "dash": "solid"
         },
         "marker": {
          "symbol": "circle"
         },
         "mode": "lines",
         "name": "Suma Real",
         "orientation": "v",
         "showlegend": true,
         "type": "scatter",
         "x": [
          1,
          2,
          3,
          4,
          5,
          6,
          7,
          8,
          9,
          10
         ],
         "xaxis": "x",
         "y": [
          1,
          3,
          6,
          10,
          15,
          21,
          28,
          36,
          45,
          55
         ],
         "yaxis": "y"
        }
       ],
       "layout": {
        "legend": {
         "title": {
          "text": "variable"
         },
         "tracegroupgap": 0
        },
        "template": {
         "data": {
          "bar": [
           {
            "error_x": {
             "color": "#2a3f5f"
            },
            "error_y": {
             "color": "#2a3f5f"
            },
            "marker": {
             "line": {
              "color": "#E5ECF6",
              "width": 0.5
             },
             "pattern": {
              "fillmode": "overlay",
              "size": 10,
              "solidity": 0.2
             }
            },
            "type": "bar"
           }
          ],
          "barpolar": [
           {
            "marker": {
             "line": {
              "color": "#E5ECF6",
              "width": 0.5
             },
             "pattern": {
              "fillmode": "overlay",
              "size": 10,
              "solidity": 0.2
             }
            },
            "type": "barpolar"
           }
          ],
          "carpet": [
           {
            "aaxis": {
             "endlinecolor": "#2a3f5f",
             "gridcolor": "white",
             "linecolor": "white",
             "minorgridcolor": "white",
             "startlinecolor": "#2a3f5f"
            },
            "baxis": {
             "endlinecolor": "#2a3f5f",
             "gridcolor": "white",
             "linecolor": "white",
             "minorgridcolor": "white",
             "startlinecolor": "#2a3f5f"
            },
            "type": "carpet"
           }
          ],
          "choropleth": [
           {
            "colorbar": {
             "outlinewidth": 0,
             "ticks": ""
            },
            "type": "choropleth"
           }
          ],
          "contour": [
           {
            "colorbar": {
             "outlinewidth": 0,
             "ticks": ""
            },
            "colorscale": [
             [
              0,
              "#0d0887"
             ],
             [
              0.1111111111111111,
              "#46039f"
             ],
             [
              0.2222222222222222,
              "#7201a8"
             ],
             [
              0.3333333333333333,
              "#9c179e"
             ],
             [
              0.4444444444444444,
              "#bd3786"
             ],
             [
              0.5555555555555556,
              "#d8576b"
             ],
             [
              0.6666666666666666,
              "#ed7953"
             ],
             [
              0.7777777777777778,
              "#fb9f3a"
             ],
             [
              0.8888888888888888,
              "#fdca26"
             ],
             [
              1,
              "#f0f921"
             ]
            ],
            "type": "contour"
           }
          ],
          "contourcarpet": [
           {
            "colorbar": {
             "outlinewidth": 0,
             "ticks": ""
            },
            "type": "contourcarpet"
           }
          ],
          "heatmap": [
           {
            "colorbar": {
             "outlinewidth": 0,
             "ticks": ""
            },
            "colorscale": [
             [
              0,
              "#0d0887"
             ],
             [
              0.1111111111111111,
              "#46039f"
             ],
             [
              0.2222222222222222,
              "#7201a8"
             ],
             [
              0.3333333333333333,
              "#9c179e"
             ],
             [
              0.4444444444444444,
              "#bd3786"
             ],
             [
              0.5555555555555556,
              "#d8576b"
             ],
             [
              0.6666666666666666,
              "#ed7953"
             ],
             [
              0.7777777777777778,
              "#fb9f3a"
             ],
             [
              0.8888888888888888,
              "#fdca26"
             ],
             [
              1,
              "#f0f921"
             ]
            ],
            "type": "heatmap"
           }
          ],
          "heatmapgl": [
           {
            "colorbar": {
             "outlinewidth": 0,
             "ticks": ""
            },
            "colorscale": [
             [
              0,
              "#0d0887"
             ],
             [
              0.1111111111111111,
              "#46039f"
             ],
             [
              0.2222222222222222,
              "#7201a8"
             ],
             [
              0.3333333333333333,
              "#9c179e"
             ],
             [
              0.4444444444444444,
              "#bd3786"
             ],
             [
              0.5555555555555556,
              "#d8576b"
             ],
             [
              0.6666666666666666,
              "#ed7953"
             ],
             [
              0.7777777777777778,
              "#fb9f3a"
             ],
             [
              0.8888888888888888,
              "#fdca26"
             ],
             [
              1,
              "#f0f921"
             ]
            ],
            "type": "heatmapgl"
           }
          ],
          "histogram": [
           {
            "marker": {
             "pattern": {
              "fillmode": "overlay",
              "size": 10,
              "solidity": 0.2
             }
            },
            "type": "histogram"
           }
          ],
          "histogram2d": [
           {
            "colorbar": {
             "outlinewidth": 0,
             "ticks": ""
            },
            "colorscale": [
             [
              0,
              "#0d0887"
             ],
             [
              0.1111111111111111,
              "#46039f"
             ],
             [
              0.2222222222222222,
              "#7201a8"
             ],
             [
              0.3333333333333333,
              "#9c179e"
             ],
             [
              0.4444444444444444,
              "#bd3786"
             ],
             [
              0.5555555555555556,
              "#d8576b"
             ],
             [
              0.6666666666666666,
              "#ed7953"
             ],
             [
              0.7777777777777778,
              "#fb9f3a"
             ],
             [
              0.8888888888888888,
              "#fdca26"
             ],
             [
              1,
              "#f0f921"
             ]
            ],
            "type": "histogram2d"
           }
          ],
          "histogram2dcontour": [
           {
            "colorbar": {
             "outlinewidth": 0,
             "ticks": ""
            },
            "colorscale": [
             [
              0,
              "#0d0887"
             ],
             [
              0.1111111111111111,
              "#46039f"
             ],
             [
              0.2222222222222222,
              "#7201a8"
             ],
             [
              0.3333333333333333,
              "#9c179e"
             ],
             [
              0.4444444444444444,
              "#bd3786"
             ],
             [
              0.5555555555555556,
              "#d8576b"
             ],
             [
              0.6666666666666666,
              "#ed7953"
             ],
             [
              0.7777777777777778,
              "#fb9f3a"
             ],
             [
              0.8888888888888888,
              "#fdca26"
             ],
             [
              1,
              "#f0f921"
             ]
            ],
            "type": "histogram2dcontour"
           }
          ],
          "mesh3d": [
           {
            "colorbar": {
             "outlinewidth": 0,
             "ticks": ""
            },
            "type": "mesh3d"
           }
          ],
          "parcoords": [
           {
            "line": {
             "colorbar": {
              "outlinewidth": 0,
              "ticks": ""
             }
            },
            "type": "parcoords"
           }
          ],
          "pie": [
           {
            "automargin": true,
            "type": "pie"
           }
          ],
          "scatter": [
           {
            "fillpattern": {
             "fillmode": "overlay",
             "size": 10,
             "solidity": 0.2
            },
            "type": "scatter"
           }
          ],
          "scatter3d": [
           {
            "line": {
             "colorbar": {
              "outlinewidth": 0,
              "ticks": ""
             }
            },
            "marker": {
             "colorbar": {
              "outlinewidth": 0,
              "ticks": ""
             }
            },
            "type": "scatter3d"
           }
          ],
          "scattercarpet": [
           {
            "marker": {
             "colorbar": {
              "outlinewidth": 0,
              "ticks": ""
             }
            },
            "type": "scattercarpet"
           }
          ],
          "scattergeo": [
           {
            "marker": {
             "colorbar": {
              "outlinewidth": 0,
              "ticks": ""
             }
            },
            "type": "scattergeo"
           }
          ],
          "scattergl": [
           {
            "marker": {
             "colorbar": {
              "outlinewidth": 0,
              "ticks": ""
             }
            },
            "type": "scattergl"
           }
          ],
          "scattermapbox": [
           {
            "marker": {
             "colorbar": {
              "outlinewidth": 0,
              "ticks": ""
             }
            },
            "type": "scattermapbox"
           }
          ],
          "scatterpolar": [
           {
            "marker": {
             "colorbar": {
              "outlinewidth": 0,
              "ticks": ""
             }
            },
            "type": "scatterpolar"
           }
          ],
          "scatterpolargl": [
           {
            "marker": {
             "colorbar": {
              "outlinewidth": 0,
              "ticks": ""
             }
            },
            "type": "scatterpolargl"
           }
          ],
          "scatterternary": [
           {
            "marker": {
             "colorbar": {
              "outlinewidth": 0,
              "ticks": ""
             }
            },
            "type": "scatterternary"
           }
          ],
          "surface": [
           {
            "colorbar": {
             "outlinewidth": 0,
             "ticks": ""
            },
            "colorscale": [
             [
              0,
              "#0d0887"
             ],
             [
              0.1111111111111111,
              "#46039f"
             ],
             [
              0.2222222222222222,
              "#7201a8"
             ],
             [
              0.3333333333333333,
              "#9c179e"
             ],
             [
              0.4444444444444444,
              "#bd3786"
             ],
             [
              0.5555555555555556,
              "#d8576b"
             ],
             [
              0.6666666666666666,
              "#ed7953"
             ],
             [
              0.7777777777777778,
              "#fb9f3a"
             ],
             [
              0.8888888888888888,
              "#fdca26"
             ],
             [
              1,
              "#f0f921"
             ]
            ],
            "type": "surface"
           }
          ],
          "table": [
           {
            "cells": {
             "fill": {
              "color": "#EBF0F8"
             },
             "line": {
              "color": "white"
             }
            },
            "header": {
             "fill": {
              "color": "#C8D4E3"
             },
             "line": {
              "color": "white"
             }
            },
            "type": "table"
           }
          ]
         },
         "layout": {
          "annotationdefaults": {
           "arrowcolor": "#2a3f5f",
           "arrowhead": 0,
           "arrowwidth": 1
          },
          "autotypenumbers": "strict",
          "coloraxis": {
           "colorbar": {
            "outlinewidth": 0,
            "ticks": ""
           }
          },
          "colorscale": {
           "diverging": [
            [
             0,
             "#8e0152"
            ],
            [
             0.1,
             "#c51b7d"
            ],
            [
             0.2,
             "#de77ae"
            ],
            [
             0.3,
             "#f1b6da"
            ],
            [
             0.4,
             "#fde0ef"
            ],
            [
             0.5,
             "#f7f7f7"
            ],
            [
             0.6,
             "#e6f5d0"
            ],
            [
             0.7,
             "#b8e186"
            ],
            [
             0.8,
             "#7fbc41"
            ],
            [
             0.9,
             "#4d9221"
            ],
            [
             1,
             "#276419"
            ]
           ],
           "sequential": [
            [
             0,
             "#0d0887"
            ],
            [
             0.1111111111111111,
             "#46039f"
            ],
            [
             0.2222222222222222,
             "#7201a8"
            ],
            [
             0.3333333333333333,
             "#9c179e"
            ],
            [
             0.4444444444444444,
             "#bd3786"
            ],
            [
             0.5555555555555556,
             "#d8576b"
            ],
            [
             0.6666666666666666,
             "#ed7953"
            ],
            [
             0.7777777777777778,
             "#fb9f3a"
            ],
            [
             0.8888888888888888,
             "#fdca26"
            ],
            [
             1,
             "#f0f921"
            ]
           ],
           "sequentialminus": [
            [
             0,
             "#0d0887"
            ],
            [
             0.1111111111111111,
             "#46039f"
            ],
            [
             0.2222222222222222,
             "#7201a8"
            ],
            [
             0.3333333333333333,
             "#9c179e"
            ],
            [
             0.4444444444444444,
             "#bd3786"
            ],
            [
             0.5555555555555556,
             "#d8576b"
            ],
            [
             0.6666666666666666,
             "#ed7953"
            ],
            [
             0.7777777777777778,
             "#fb9f3a"
            ],
            [
             0.8888888888888888,
             "#fdca26"
            ],
            [
             1,
             "#f0f921"
            ]
           ]
          },
          "colorway": [
           "#636efa",
           "#EF553B",
           "#00cc96",
           "#ab63fa",
           "#FFA15A",
           "#19d3f3",
           "#FF6692",
           "#B6E880",
           "#FF97FF",
           "#FECB52"
          ],
          "font": {
           "color": "#2a3f5f"
          },
          "geo": {
           "bgcolor": "white",
           "lakecolor": "white",
           "landcolor": "#E5ECF6",
           "showlakes": true,
           "showland": true,
           "subunitcolor": "white"
          },
          "hoverlabel": {
           "align": "left"
          },
          "hovermode": "closest",
          "mapbox": {
           "style": "light"
          },
          "paper_bgcolor": "white",
          "plot_bgcolor": "#E5ECF6",
          "polar": {
           "angularaxis": {
            "gridcolor": "white",
            "linecolor": "white",
            "ticks": ""
           },
           "bgcolor": "#E5ECF6",
           "radialaxis": {
            "gridcolor": "white",
            "linecolor": "white",
            "ticks": ""
           }
          },
          "scene": {
           "xaxis": {
            "backgroundcolor": "#E5ECF6",
            "gridcolor": "white",
            "gridwidth": 2,
            "linecolor": "white",
            "showbackground": true,
            "ticks": "",
            "zerolinecolor": "white"
           },
           "yaxis": {
            "backgroundcolor": "#E5ECF6",
            "gridcolor": "white",
            "gridwidth": 2,
            "linecolor": "white",
            "showbackground": true,
            "ticks": "",
            "zerolinecolor": "white"
           },
           "zaxis": {
            "backgroundcolor": "#E5ECF6",
            "gridcolor": "white",
            "gridwidth": 2,
            "linecolor": "white",
            "showbackground": true,
            "ticks": "",
            "zerolinecolor": "white"
           }
          },
          "shapedefaults": {
           "line": {
            "color": "#2a3f5f"
           }
          },
          "ternary": {
           "aaxis": {
            "gridcolor": "white",
            "linecolor": "white",
            "ticks": ""
           },
           "baxis": {
            "gridcolor": "white",
            "linecolor": "white",
            "ticks": ""
           },
           "bgcolor": "#E5ECF6",
           "caxis": {
            "gridcolor": "white",
            "linecolor": "white",
            "ticks": ""
           }
          },
          "title": {
           "x": 0.05
          },
          "xaxis": {
           "automargin": true,
           "gridcolor": "white",
           "linecolor": "white",
           "ticks": "",
           "title": {
            "standoff": 15
           },
           "zerolinecolor": "white",
           "zerolinewidth": 2
          },
          "yaxis": {
           "automargin": true,
           "gridcolor": "white",
           "linecolor": "white",
           "ticks": "",
           "title": {
            "standoff": 15
           },
           "zerolinecolor": "white",
           "zerolinewidth": 2
          }
         }
        },
        "title": {
         "text": "Verificación de la Inducción Matemática con Plotly"
        },
        "xaxis": {
         "anchor": "y",
         "domain": [
          0,
          1
         ],
         "title": {
          "text": "n"
         }
        },
        "yaxis": {
         "anchor": "x",
         "domain": [
          0,
          1
         ],
         "title": {
          "text": "value"
         }
        }
       }
      }
     },
     "metadata": {},
     "output_type": "display_data"
    }
   ],
   "source": [
    "\n",
    "# Graficar los resultados usando matplotlib\n",
    "plt.plot(n_values, semiproducto, label='Semiproducto de n y su consecutivo (n(n+1)/2)')\n",
    "plt.plot(n_values, actual_sum, label='Suma Real', linestyle='--')\n",
    "plt.xlabel('n')\n",
    "plt.ylabel('Valor')\n",
    "plt.title('Verificación de la Inducción Matemática')\n",
    "plt.legend()\n",
    "plt.grid(True)\n",
    "plt.show()\n",
    "\n",
    "# Graficar con plotly\n",
    "fig = px.line(df, x='n', y=['Semiproducto de n y su consecutivo (n(n+1)/2)', 'Suma Real'],\n",
    "              title='Verificación de la Inducción Matemática con Plotly')\n",
    "fig.show()\n"
   ]
  },
  {
   "cell_type": "markdown",
   "id": "10e55ccf",
   "metadata": {},
   "source": [
    "# La importancia del paso base y del paso inductivo \n",
    "\n",
    "[Video motivacional de caída del dominó](https://www.youtube.com/watch?v=5uHUVyy3rNw&ab_channel=DominoeffectsimulationDude)"
   ]
  },
  {
   "cell_type": "markdown",
   "id": "3f8ad1c2-9669-402a-b88f-4471d4b3e6b8",
   "metadata": {},
   "source": [
    "## Recordemos el paso base y el paso inductivo del método de demostración por inducci´on matemática\n",
    "Sea $p(n)$ una función proposicional(que puede ser una ecuación o una desigualdad) con $n \\in \\mathbb{N}$.  \n",
    "Diremos que $p(n)$ es válida o verdadera para todo $n \\in N$ si y solo si se cumplen las siguientes dos condiciones. \n",
    "1. $p(1)$ se a verdadera.\n",
    "2. Si $p(k)$ es válidad, entonces $p(k+1)$ también sea válidad. "
   ]
  },
  {
   "cell_type": "markdown",
   "id": "864f6eef-aaf4-420c-a1a3-ff3965faf7d7",
   "metadata": {},
   "source": [
    "## Planteamiento del problema  \n",
    "\n",
    "Considere el siguiente hecho  fenómeno numérico:   la suma de los $n$ primeros impares es $n^{2}$. Que simbólicamente se escribe: \n",
    "\n",
    "$$ 1 + 3 + 5 + 7 + \\cdots + (2n - 1) = n^{2}  $$\n",
    "\n",
    "1. Interprete verbalmente este hecho.\n",
    "2. Verifique para $n = 1, 2, 3$ y $4$ este hecho. Y escribe la conclusión verbal. \n",
    "3. Demuestre por inducción matemática este hecho. \n"
   ]
  },
  {
   "cell_type": "markdown",
   "id": "7fbde946-881d-4a92-9192-acf1a7445cd0",
   "metadata": {},
   "source": [
    "### Solución"
   ]
  },
  {
   "cell_type": "markdown",
   "id": "c840db4a-be32-4ad1-956c-6712888b550e",
   "metadata": {},
   "source": [
    "#### Interpretación del problema   \n",
    "\n",
    "$1 = 1^{2}$\n",
    "\n",
    "$1+3 = 4 = 2^{2}$  \n",
    "\n",
    "$1 + 3 + 5 = 9 = 3^{2}$  \n",
    "\n",
    "$1 + 3 + 5 + 7 = 16 = 4^{2}$  \n",
    "\n",
    "$\\vdots $\n",
    "\n",
    "$$ 1 + 3 + 5 + 7 + \\cdots + (2n-1) = n^{2}  $$\n"
   ]
  },
  {
   "cell_type": "code",
   "execution_count": null,
   "id": "29325452",
   "metadata": {},
   "outputs": [],
   "source": [
    "# verificaciín de luis fernando\n",
    "\n",
    "import numpy as np \n",
    "\n",
    "impares = np.arange(start = 1, stop = 100, step = 2)\n"
   ]
  },
  {
   "cell_type": "code",
   "execution_count": null,
   "id": "56c12a26",
   "metadata": {},
   "outputs": [],
   "source": [
    "len(impares)"
   ]
  },
  {
   "cell_type": "code",
   "execution_count": null,
   "id": "0de3a435",
   "metadata": {},
   "outputs": [],
   "source": [
    "np.sum(impares)"
   ]
  },
  {
   "cell_type": "markdown",
   "id": "dfc4e0fe",
   "metadata": {},
   "source": [
    "Conclusión:  la suma de los primeros 50 impares es igual al cuadrado del número de sumandos que en este caso son 50. "
   ]
  },
  {
   "cell_type": "markdown",
   "id": "62a071f3-c3b2-459b-a34b-441c038aa8c6",
   "metadata": {},
   "source": [
    "#### Escribo verbalmente la interpretación\n",
    "\n",
    "Si sumo los primeros $n$ impares obtendré el cuadrado de número de sumandos.  "
   ]
  },
  {
   "cell_type": "code",
   "execution_count": null,
   "id": "5e20c18a-a31e-48ca-993b-ae4ec34c6061",
   "metadata": {
    "scrolled": true
   },
   "outputs": [],
   "source": [
    "# Ahora interpretemos con python\n",
    "import numpy as np \n",
    "import pandas as pd \n",
    "\n",
    "def funcion_del_lado_izquierdo(n):\n",
    "    return np.sum(np.array([(2*i-1) for i in np.arange(1,n+1)]))\n",
    "\n",
    "def funcion_del_lado_derecho(n):\n",
    "    return n**2\n",
    "dominio = np.arange(1, 11)  \n",
    "valores_de_suma_de_impares = [funcion_del_lado_izquierdo(d) for d in dominio]\n",
    "valores_del_cuadrado_de_n = [funcion_del_lado_derecho(d) for d in dominio]\n",
    "diccionario = {'n':dominio, 'suma de los primeros n impares':valores_de_suma_de_impares, \\\n",
    "               'el cuadrado del numero de sumandos n': valores_del_cuadrado_de_n }\n",
    "\n",
    "tabla = pd.DataFrame(diccionario)\n",
    "tabla "
   ]
  },
  {
   "cell_type": "code",
   "execution_count": null,
   "id": "85e49dc7-1746-44f2-be7d-66d75cf7fb3f",
   "metadata": {},
   "outputs": [],
   "source": [
    "from matplotlib.pyplot import * \n",
    "title('Valores de las dos funciones de los lados de la funcion proposicional')\n",
    "plot(dominio, valores_de_suma_de_impares, 'ro', label = 'Suma de los primeros n impares')\n",
    "plot(dominio, valores_del_cuadrado_de_n, 'g.', label = 'El cuadrado del número de sumandos')\n",
    "xlabel('números de sumandos n')\n",
    "ylabel('valores de las dos funciones')\n",
    "grid(alpha = 0.4)\n",
    "savefig('representacion_grafica_suma_primeros_impares_igual_cuadrado.jpg')\n",
    "legend()"
   ]
  },
  {
   "cell_type": "code",
   "execution_count": null,
   "id": "e6cdf76e-9e9e-46bb-a6a3-f37c2a293358",
   "metadata": {},
   "outputs": [],
   "source": [
    "funcion_del_lado_izquierdo(3)"
   ]
  },
  {
   "cell_type": "code",
   "execution_count": null,
   "id": "925754fe-875b-4c87-a74a-b1422b932e84",
   "metadata": {},
   "outputs": [],
   "source": [
    "funcion_del_lado_derecho(4)"
   ]
  },
  {
   "cell_type": "code",
   "execution_count": null,
   "id": "d16d589a-d49f-41ed-a7e7-35b890dd45fb",
   "metadata": {},
   "outputs": [],
   "source": []
  },
  {
   "cell_type": "code",
   "execution_count": null,
   "id": "5b1c64b8-0805-46db-86ff-08c67fc099b6",
   "metadata": {},
   "outputs": [],
   "source": []
  },
  {
   "cell_type": "markdown",
   "id": "64ac8d32",
   "metadata": {},
   "source": [
    "# Ejemplo ilustrativo"
   ]
  },
  {
   "cell_type": "markdown",
   "id": "a3e5e6ab",
   "metadata": {},
   "source": [
    "# 20 ejercicios de entrenamiento o adquisición de habilidades obtenido a través de ChatGPT para una formación personalizada y centrada en la habilidad que se quiere lograr con la enseñanza del ejemplo anterior"
   ]
  },
  {
   "cell_type": "markdown",
   "id": "491b49b3-b634-41ff-a1be-1b5ec2159691",
   "metadata": {},
   "source": [
    "Aquí tienes 20 ejercicios similares al que proporcionaste, que incluyen interpretación, verificación en casos concretos, y demostración por inducción matemática:\n",
    "\n",
    "1. **Afirmación**: \"La suma de los $n$ primeros números naturales es $\\frac{n(n+1)}{2}$\".  \n",
    "   - Interprete la afirmación verbalmente con al menos dos ejemplos.\n",
    "   - Verifique la afirmación en al menos cuatro casos.\n",
    "   - Demuestre por inducción matemática."
   ]
  },
  {
   "cell_type": "code",
   "execution_count": null,
   "id": "d20eef15-d688-4057-a94d-a8c4ff9b49aa",
   "metadata": {},
   "outputs": [],
   "source": [
    "# Ahora interpretemos con python\n",
    "import numpy as np \n",
    "import pandas as pd   \n",
    "\n",
    "\n",
    "nombre_expresion_lado_izquierdo = 'suma de los primeros números naturales n'\n",
    "nombre_expresion_del_lado_derecho = 'semiproducto del ultimo sumando y su consecutivo'\n",
    "def funcion_del_lado_izquierdo(n):\n",
    "    return np.sum(np.array([i for i in np.arange(1,n+1)]))\n",
    "\n",
    "def funcion_del_lado_derecho(n):\n",
    "    return n*(n+1)/2   \n",
    "\n",
    "\n",
    "\n",
    "dominio = np.arange(1, 11)  \n",
    "valores_funcion_lado_izquierdo = [funcion_del_lado_izquierdo(d) for d in dominio]\n",
    "valores_funcion_lado_derecho = [funcion_del_lado_derecho(d) for d in dominio]\n",
    "diccionario = {'n':dominio, nombre_expresion_lado_izquierdo:valores_funcion_lado_izquierdo, \\\n",
    "               nombre_expresion_del_lado_derecho: valores_funcion_lado_derecho }\n",
    "\n",
    "tabla = pd.DataFrame(diccionario)\n",
    "tabla "
   ]
  },
  {
   "cell_type": "code",
   "execution_count": null,
   "id": "fbcb691f-715c-4906-80df-847eab19d553",
   "metadata": {},
   "outputs": [],
   "source": [
    "from matplotlib.pyplot import * \n",
    "title('Valores de las dos funciones de los lados de la funcion proposicional')\n",
    "plot(dominio, valores_funcion_lado_izquierdo, 'ro', label = nombre_expresion_lado_izquierdo)\n",
    "plot(dominio, valores_funcion_lado_derecho, 'g.', label = nombre_expresion_del_lado_derecho)\n",
    "xlabel('números de sumandos n')\n",
    "ylabel('valores de las dos funciones')\n",
    "grid(alpha = 0.4)\n",
    "savefig('representacion_grafica_suma_primeros_impares_igual_cuadrado.jpg')\n",
    "legend()"
   ]
  },
  {
   "cell_type": "markdown",
   "id": "e443ff2e-186e-4e51-8d2f-57868c1a5060",
   "metadata": {},
   "source": [
    "2. **Afirmación**: \"La suma de los $n$ primeros números pares es $n(n+1)$\".  \n",
    "   - Interprete la afirmación verbalmente con al menos dos ejemplos.\n",
    "   - Verifique la afirmación en al menos cuatro casos.\n",
    "   - Demuestre por inducción matemática."
   ]
  },
  {
   "cell_type": "code",
   "execution_count": null,
   "id": "f3d5e592-3cb5-4a03-abe8-98538a866544",
   "metadata": {},
   "outputs": [],
   "source": [
    "# Ahora interpretemos con python\n",
    "import numpy as np \n",
    "import pandas as pd   \n",
    "\n",
    "\n",
    "nombre_expresion_lado_izquierdo = 'suma de los primeros números naturales pares 2n'\n",
    "nombre_expresion_del_lado_derecho = 'Producto del número de sumandos y su consecutivo'\n",
    "def funcion_del_lado_izquierdo(n):\n",
    "    return np.sum(np.array([2*i for i in np.arange(1,n+1)]))\n",
    "\n",
    "def funcion_del_lado_derecho(n):\n",
    "    return n*(n+1)  \n",
    "\n",
    "\n",
    "\n",
    "dominio = np.arange(1, 11)  \n",
    "valores_funcion_lado_izquierdo = [funcion_del_lado_izquierdo(d) for d in dominio]\n",
    "valores_funcion_lado_derecho = [funcion_del_lado_derecho(d) for d in dominio]\n",
    "diccionario = {'n':dominio, nombre_expresion_lado_izquierdo:valores_funcion_lado_izquierdo, \\\n",
    "               nombre_expresion_del_lado_derecho: valores_funcion_lado_derecho }\n",
    "\n",
    "tabla = pd.DataFrame(diccionario)\n",
    "tabla "
   ]
  },
  {
   "cell_type": "code",
   "execution_count": null,
   "id": "e2306585-1675-44c4-9b25-5cec69eb6381",
   "metadata": {},
   "outputs": [],
   "source": [
    "from matplotlib.pyplot import * \n",
    "title('Valores de las dos funciones de los lados de la funcion proposicional')\n",
    "plot(dominio, valores_funcion_lado_izquierdo, 'ro', label = nombre_expresion_lado_izquierdo)\n",
    "plot(dominio, valores_funcion_lado_derecho, 'g.', label = nombre_expresion_del_lado_derecho)\n",
    "xlabel('números de sumandos n')\n",
    "ylabel('valores de las dos funciones')\n",
    "grid(alpha = 0.4)\n",
    "savefig('representacion_grafica_suma_primeros_impares_igual_cuadrado.jpg')\n",
    "legend()"
   ]
  },
  {
   "cell_type": "markdown",
   "id": "fcfc259a-3a67-4396-aaae-4bdefe8080cf",
   "metadata": {},
   "source": [
    "3. **Afirmación**: \"La suma de los $n$ primeros cubos es $(\\frac{n(n+1)}{2})^{2}$\".  \n",
    "   - Interprete la afirmación verbalmente con al menos dos ejemplos.\n",
    "   - Verifique la afirmación en al menos cuatro casos.\n",
    "   - Demuestre por inducción matemática."
   ]
  },
  {
   "cell_type": "markdown",
   "id": "32cb44d8-5f93-4866-9e60-a7d2605cbbe0",
   "metadata": {},
   "source": [
    "4. **Afirmación**: \"Para cualquier número natural $n$, $n! \\geq 2^{n-1}$ para $n \\geq 1$\".  \n",
    "   - Interprete la afirmación verbalmente con al menos dos ejemplos.\n",
    "   - Verifique la afirmación en al menos cuatro casos.\n",
    "   - Demuestre por inducción matemática."
   ]
  },
  {
   "cell_type": "markdown",
   "id": "01f225f4-9b55-411e-a2d9-7085c92ad530",
   "metadata": {},
   "source": [
    "5. **Afirmación**: \"Para todo $n \\geq 1$, $2^n > n^{2}$\".  \n",
    "   - Interprete la afirmación verbalmente con al menos dos ejemplos.\n",
    "   - Verifique la afirmación en al menos cuatro casos.\n",
    "   - Demuestre por inducción matemática."
   ]
  },
  {
   "cell_type": "markdown",
   "id": "768d7cae-aa33-43d0-91b1-78291e6294af",
   "metadata": {},
   "source": [
    "6. **Afirmación**: \"La suma de los ángulos interiores de un polígono de $n$ lados es $(n-2) \\times 180^{\\circ}$\".  \n",
    "   - Interprete la afirmación verbalmente con al menos dos ejemplos.\n",
    "   - Verifique la afirmación en al menos cuatro casos.\n",
    "   - Demuestre por inducción matemática."
   ]
  },
  {
   "cell_type": "markdown",
   "id": "9ae26a32-1328-4675-a7ea-e4494dcbafe4",
   "metadata": {},
   "source": [
    "7. **Afirmación**: \"La suma de los $n$ primeros términos de la progresión geométrica $1, r, r^{2}, \\dots, r^{n-1}$ es $\\frac{r^n - 1}{r - 1}$, para $r \\neq 1$\".  \n",
    "   - Interprete la afirmación verbalmente con al menos dos ejemplos.\n",
    "   - Verifique la afirmación en al menos cuatro casos.\n",
    "   - Demuestre por inducción matemática."
   ]
  },
  {
   "cell_type": "markdown",
   "id": "ad955c99-f142-4d46-ab03-fe6ba6c2c386",
   "metadata": {},
   "source": [
    "8. **Afirmación**: \"Para cualquier $n \\geq 1$, $3^{2n} - 1$ es divisible por $8$\".  \n",
    "   - Interprete la afirmación verbalmente con al menos dos ejemplos.\n",
    "   - Verifique la afirmación en al menos cuatro casos.\n",
    "   - Demuestre por inducción matemática."
   ]
  },
  {
   "cell_type": "markdown",
   "id": "4d121495-f7c0-434f-99de-4087868bebb7",
   "metadata": {},
   "source": [
    "9. **Afirmación**: \"La suma de los $n$ primeros múltiplos de $5$ es $\\frac{5n(n+1)}{2}$\".  \n",
    "   - Interprete la afirmación verbalmente con al menos dos ejemplos.\n",
    "   - Verifique la afirmación en al menos cuatro casos.\n",
    "   - Demuestre por inducción matemática."
   ]
  },
  {
   "cell_type": "markdown",
   "id": "39d90abe-a78a-42aa-897a-ea6a7d88247a",
   "metadata": {},
   "source": [
    "10. **Afirmación**: \"Para todo número natural $n$, $n^{2} + n$ es siempre un número par\".  \n",
    "   - Interprete la afirmación verbalmente con al menos dos ejemplos.\n",
    "   - Verifique la afirmación en al menos cuatro casos.\n",
    "   - Demuestre por inducción matemática."
   ]
  },
  {
   "cell_type": "markdown",
   "id": "40774e0a-177a-4dae-8f98-a333eebbb272",
   "metadata": {},
   "source": [
    "11. **Afirmación**: \"Para todo $n \\geq 1$, $1 + \\frac{1}{2} + \\frac{1}{4} + \\cdots + \\frac{1}{2^{n-1}} = 2 - \\frac{1}{2^{n-1}}$\".  \n",
    "   - Interprete la afirmación verbalmente con al menos dos ejemplos.\n",
    "   - Verifique la afirmación en al menos cuatro casos.\n",
    "   - Demuestre por inducción matemática."
   ]
  },
  {
   "cell_type": "markdown",
   "id": "43f780f0-315e-418f-bbdc-33cc8c5d8d75",
   "metadata": {},
   "source": [
    "12. **Afirmación**: \"Para cualquier número natural $n$, $2^{n} + 3^{n}$ es divisible por $5$ para $n \\geq 1$\".  \n",
    "   - Interprete la afirmación verbalmente con al menos dos ejemplos.\n",
    "   - Verifique la afirmación en al menos cuatro casos.\n",
    "   - Demuestre por inducción matemática."
   ]
  },
  {
   "cell_type": "markdown",
   "id": "4cc53c9f-5c54-4084-84fe-8b947762d39a",
   "metadata": {},
   "source": [
    "13. **Afirmación**: \"Para cualquier número natural $n$, $n^{3} - n$ es divisible por $6$\".  \n",
    "   - Interprete la afirmación verbalmente con al menos dos ejemplos.\n",
    "   - Verifique la afirmación en al menos cuatro casos.\n",
    "   - Demuestre por inducción matemática."
   ]
  },
  {
   "cell_type": "markdown",
   "id": "e7de8dc5-bef0-44fb-9bac-c9056fec3f75",
   "metadata": {},
   "source": [
    "14. **Afirmación**: \"La suma de los cuadrados de los $n$ primeros números naturales es $\\frac{n(n+1)(2n+1)}{6}$\".  \n",
    "   - Interprete la afirmación verbalmente con al menos dos ejemplos.\n",
    "   - Verifique la afirmación en al menos cuatro casos.\n",
    "   - Demuestre por inducción matemática."
   ]
  },
  {
   "cell_type": "markdown",
   "id": "4ff1247f-bd88-4e5c-893d-7eea9bd3a3ee",
   "metadata": {},
   "source": [
    "15. **Afirmación**: \"Para todo $n \\geq 4$, $2^{n} < n!$\".  \n",
    "   - Interprete la afirmación verbalmente con al menos dos ejemplos.\n",
    "   - Verifique la afirmación en al menos cuatro casos.\n",
    "   - Demuestre por inducción matemática."
   ]
  },
  {
   "cell_type": "markdown",
   "id": "98861f97-94bd-42f9-8880-1413cb0efd08",
   "metadata": {},
   "source": [
    "16. **Afirmación**: \"Para cualquier número natural $n$, $7^{n} - 2^{n}$ es divisible por $5$\".  \n",
    "   - Interprete la afirmación verbalmente con al menos dos ejemplos.\n",
    "   - Verifique la afirmación en al menos cuatro casos.\n",
    "   - Demuestre por inducción matemática."
   ]
  },
  {
   "cell_type": "markdown",
   "id": "bf9dfa8f-2465-4429-b6af-aad6c218cabb",
   "metadata": {},
   "source": [
    "17. **Afirmación**: \"Para cualquier número natural $n$, la suma de los $n$ primeros números triangulares es $\\frac{n(n+1)(n+2)}{6}$\".  \n",
    "   - Interprete la afirmación verbalmente con al menos dos ejemplos.\n",
    "   - Verifique la afirmación en al menos cuatro casos.\n",
    "   - Demuestre por inducción matemática."
   ]
  },
  {
   "cell_type": "markdown",
   "id": "056c5d70-23c5-4d08-a85f-e7df8cb3e409",
   "metadata": {},
   "source": [
    "18. **Afirmación**: \"Para cualquier número natural $n \\geq 1$, $3n^{2} + n$ es divisible por $4$ si $n$ es impar\".  \n",
    "   - Interprete la afirmación verbalmente con al menos dos ejemplos.\n",
    "   - Verifique la afirmación en al menos cuatro casos.\n",
    "   - Demuestre por inducción matemática."
   ]
  },
  {
   "cell_type": "markdown",
   "id": "510a82fd-48fa-407d-8161-d139c3792eab",
   "metadata": {},
   "source": [
    "19. **Afirmación**: \"Para cualquier número natural $n$, $11^{2n} - 1$ es divisible por $120$\".  \n",
    "   - Interprete la afirmación verbalmente con al menos dos ejemplos.\n",
    "   - Verifique la afirmación en al menos cuatro casos.\n",
    "   - Demuestre por inducción matemática."
   ]
  },
  {
   "cell_type": "markdown",
   "id": "c2d84776-5c05-4866-93a1-ed090c3ba838",
   "metadata": {},
   "source": [
    "20. **Afirmación**: \"Para todo $n \\geq 1$, el producto de $n$ números naturales consecutivos es divisible por $n!$\".  \n",
    "   - Interprete la afirmación verbalmente con al menos dos ejemplos.\n",
    "   - Verifique la afirmación en al menos cuatro casos.\n",
    "   - Demuestre por inducción matemática."
   ]
  },
  {
   "cell_type": "markdown",
   "id": "612181c8-a714-4e26-aa59-5fd8d6d58d00",
   "metadata": {},
   "source": [
    "Estos ejercicios ayudarán a tus estudiantes a fortalecer su comprensión de conceptos matemáticos fundamentales a través de la interpretación, verificación, y demostración formal."
   ]
  },
  {
   "cell_type": "markdown",
   "id": "2f0141c3",
   "metadata": {},
   "source": [
    "## Tareas para realizar antes de la clase  \n",
    "\n",
    "1. Ver los videos respectivos []()\n",
    "2. Memorizar las definiciones []()\n",
    "3. Sintetizar o resumir la información en mapas conceptuales. []()\n",
    "4. Tareas para incentivar el uso de la calculadora Casio Para ingenieros y licenciados. \n",
    "5. Leer los ejemplos resueltos y repricar la manera de hacerlos"
   ]
  },
  {
   "cell_type": "code",
   "execution_count": null,
   "id": "83d849ab",
   "metadata": {},
   "outputs": [],
   "source": [
    "# Tarea 1 de lectura de ejemplos y completación de procedimientos\n",
    "# asignación de tarea para realizar antes de clase\n",
    "# Consiste en leer y completar un ejemplo de texto guía\n",
    "# Esta tarea es para realizar solo de manera manuscrita en su cuaderno de clase. \n",
    "# La otra opción de presentación es elaborada en cuadernos Jupyter (En este caso solo debe realizar la cuarta parte de los ejercicios asignados)\n",
    "# \n",
    "\n",
    "import pandas as pd\n",
    "import numpy as np\n",
    "import requests\n",
    "np.random.seed(1213)  # establecer semilla aleatoria para hacer los resultados reproducibles\n",
    "\n",
    "\n",
    "nombre_tarea = \"tarea_1_lectura_y_completacion_ejemplos\"\n",
    "grupo_estudiantes = 'calculo_vectorial'\n",
    "nombre_texto_guia = 'Purcell'\n",
    "pagina_y_seccion = 'Página_202_Sección_3.8'\n",
    "numero_ejemplos_de_la_seccion = 27\n",
    "numero_de_ejemplos_asignados = 10\n",
    "\n",
    "\n",
    "# Descargar la lista de  estudiantes\n",
    "students_path = \"/home/marco/Documentos/docencia/groups_list/\" + grupo_estudiantes + \".csv\"\n",
    "examples = list(range(1, numero_ejemplos_de_la_seccion))  \n",
    "\n",
    "students_data = pd.read_csv(students_path)\n",
    "\n",
    "# Crear una lista para almacenar las asignaciones\n",
    "assignments = []\n",
    "\n",
    "# Asignar ejercicios aleatorios a cada estudiante\n",
    "for index, student in students_data.iterrows():\n",
    "    # Seleccionar 5 ejercicios aleatorios sin repetición\n",
    "    random_exercises = np.sort(np.random.choice(examples, numero_de_ejemplos_asignados, \\\n",
    "                                                replace = False)+ 1)\n",
    "    assignments.append([students_data[\"Nombre\"][index], *random_exercises])  # Agregar asignación a la lista\n",
    "\n",
    "# Crear un DataFrame con las asignaciones\n",
    "columns = [\"Student\"] + [ \"Example\" + str(i+1) for i in range(numero_de_ejemplos_asignados)]\n",
    "assignment_df = pd.DataFrame(assignments, columns=columns)\n",
    "\n",
    "# Guardar el DataFrame en un archivo CSV\n",
    "assignment_csv = nombre_tarea + \"_\" + nombre_texto_guia + \"_\"+ pagina_y_seccion + \".csv\"\n",
    "assignment_df.to_csv(assignment_csv, index=False)\n",
    "\n",
    "print(\"\"\"Tarea 1 de lectura de ejemplos y completación de procedimientos: \n",
    "     Si faltan los enunciados de los problemas, no se valora la tarea\n",
    "    Si faltan de la conclusión verbales, no se valora la tarea.\n",
    "    Esta tarea se valora solo si la presenta de manera manuscrita en su cuaderno de clase.  \n",
    "      \"\"\", assignment_csv)\n",
    "assignment_df"
   ]
  },
  {
   "cell_type": "markdown",
   "id": "740f3401",
   "metadata": {
    "slideshow": {
     "slide_type": "slide"
    }
   },
   "source": [
    "# Componente de manejo de calculadora Casio asociado al objetivo de aprendizaje de esta clase  \n",
    "\n",
    "## Pasos para lograr el objetivo de aprendizaje con la experimentación en la calculadora casio 570 "
   ]
  },
  {
   "cell_type": "markdown",
   "id": "fccb447c",
   "metadata": {
    "slideshow": {
     "slide_type": "slide"
    }
   },
   "source": [
    "# Tareas para realizar en clase"
   ]
  },
  {
   "cell_type": "code",
   "execution_count": null,
   "id": "0f1f0ab2",
   "metadata": {},
   "outputs": [],
   "source": [
    "# Tarea 2 de solución de problemas \n",
    "# asignación de ejercicios de un seccion del texto guía\n",
    "\n",
    "# numpy.random.choice() obten la documentación de esta función en: \n",
    "# https://numpy.org/doc/stable/reference/random/generated/numpy.random.choice.html\n",
    "\n",
    "import pandas as pd\n",
    "import numpy as np\n",
    "import requests\n",
    "np.random.seed(424)  # establecer semilla aleatoria para hacer los resultados reproducibles\n",
    "\n",
    "\n",
    "nombre_tarea = 'Tarea_2'\n",
    "grupo_estudiantes = 'calculo_vectorial'\n",
    "nombre_texto_guia = 'Purcell'\n",
    "pagina_y_seccion = 'Página_202_Sección_3.8'\n",
    "numero_ejercicios_taller = 54\n",
    "numero_de_ejercicios_asignados = 10\n",
    "\n",
    "\n",
    "# Descargar la lista de  estudiantes\n",
    "students_path = \"/home/marco/Documentos/docencia/groups_list/\" + grupo_estudiantes + \".csv\"\n",
    "exercises = list(range(1, numero_ejercicios_taller))  \n",
    "\n",
    "students_data = pd.read_csv(students_path)\n",
    "\n",
    "# Crear una lista para almacenar las asignaciones\n",
    "assignments = []\n",
    "\n",
    "# Asignar ejercicios aleatorios a cada estudiante\n",
    "for index, student in students_data.iterrows():\n",
    "    # Seleccionar 5 ejercicios aleatorios sin repetición\n",
    "    random_exercises = np.random.choice(exercises, numero_de_ejercicios_asignados, replace = False)+ 1 \n",
    "    assignments.append([students_data[\"Nombre\"][index], *random_exercises])  # Agregar asignación a la lista\n",
    "\n",
    "# Crear un DataFrame con las asignaciones\n",
    "columns = [\"Student\"] + [ \"Exer\" + str(i+1) for i in range(numero_de_ejercicios_asignados)]\n",
    "assignment_df = pd.DataFrame(assignments, columns=columns)\n",
    "\n",
    "# Guardar el DataFrame en un archivo CSV\n",
    "assignment_csv = nombre_tarea + \"_\" + nombre_texto_guia + \"_\"+ pagina_y_seccion + \".csv\"\n",
    "assignment_df.to_csv(assignment_csv, index=False)\n",
    "\n",
    "print(\"\"\"Tarea 2 de solución de problemas:\n",
    "      Si faltan los enunciados de los problemas, no se valora la tarea.\n",
    "      Si faltan de la conclusión verbales, no se valora la tarea.\n",
    "      Esta tarea se valora solo si la presenta de manera manuscrita en su cuaderno de clase.  \n",
    "        \"\"\", assignment_csv)\n",
    "assignment_df"
   ]
  },
  {
   "cell_type": "markdown",
   "id": "d34defb9",
   "metadata": {
    "slideshow": {
     "slide_type": "slide"
    }
   },
   "source": [
    "## Asignación individual de tareas semanales "
   ]
  },
  {
   "cell_type": "code",
   "execution_count": null,
   "id": "0406f442",
   "metadata": {
    "slideshow": {
     "slide_type": "slide"
    }
   },
   "outputs": [],
   "source": [
    "# Tarea 3 de solución de problemas describiendo procedimientos y justificándolos\n",
    "\n",
    "# asignación de ejercicios de un seccion del texto guía\n",
    "\n",
    "# numpy.random.choice() obten la documentación de esta función en: \n",
    "# https://numpy.org/doc/stable/reference/random/generated/numpy.random.choice.html\n",
    "\n",
    "import pandas as pd\n",
    "import numpy as np\n",
    "import requests\n",
    "np.random.seed(126)  # establecer semilla aleatoria para hacer los resultados reproducibles\n",
    "\n",
    "\n",
    "nombre_tarea = 'Tarea_3_Solución_problemas_describiendo_y_justificando_verbalmente'\n",
    "grupo_estudiantes = 'calculo_vectorial'\n",
    "nombre_texto_guia = 'Purcell'\n",
    "pagina_y_seccion = 'Página_202_Sección_3.8'\n",
    "numero_ejercicios_taller = 54\n",
    "numero_de_ejercicios_asignados = 10\n",
    "\n",
    "\n",
    "# Descargar la lista de  estudiantes\n",
    "students_path = \"/home/marco/Documentos/docencia/groups_list/\" + grupo_estudiantes + \".csv\"\n",
    "exercises = list(range(1, numero_ejercicios_taller))  \n",
    "\n",
    "students_data = pd.read_csv(students_path)\n",
    "\n",
    "# Crear una lista para almacenar las asignaciones\n",
    "assignments = []\n",
    "\n",
    "# Asignar ejercicios aleatorios a cada estudiante\n",
    "for index, student in students_data.iterrows():\n",
    "    # Seleccionar 5 ejercicios aleatorios sin repetición\n",
    "    random_exercises = np.sort(np.random.choice(exercises, numero_de_ejercicios_asignados,\\\n",
    "                                                 replace = False)+ 1) \n",
    "    assignments.append([students_data[\"Nombre\"][index], *random_exercises])  # Agregar asignación a la lista\n",
    "\n",
    "# Crear un DataFrame con las asignaciones\n",
    "columns = [\"Student\"] + [ \"Exer\" + str(i+1) for i in range(numero_de_ejercicios_asignados)]\n",
    "assignment_df = pd.DataFrame(assignments, columns=columns)\n",
    "\n",
    "# Guardar el DataFrame en un archivo CSV\n",
    "assignment_csv = nombre_tarea + \"_\" + nombre_texto_guia + \"_\"+ pagina_y_seccion + \".csv\"\n",
    "assignment_df.to_csv(assignment_csv, index=False)\n",
    "\n",
    "print(\"\"\"Tarea 3 Solución problemas describiendo y justificando verbalmente: \n",
    "      Si faltan los enunciados de los problemas, no se valora la tarea\n",
    "      Si faltan de la conclusión verbales, no se valora la tarea \n",
    "      Esta tarea se valora solo si la presenta de manera manuscrita en su cuaderno de clase  \n",
    "      \"\"\", assignment_csv)\n",
    "assignment_df"
   ]
  },
  {
   "cell_type": "markdown",
   "id": "8d41fe58",
   "metadata": {
    "slideshow": {
     "slide_type": "slide"
    }
   },
   "source": [
    "# Horario de clases del profesor Marco\n",
    "\n",
    "* Lunes 8-12: Cálculo Vectorial\n",
    "* Martes 8-12 M: Fundamentos de Aritmética. \n",
    "* Miércoles 8 a 12 M: Fundamentos de la Lógica\n",
    "* Jueves 2 a 6PM: Desarrollo del pensamiento matemático en la infancia. \n",
    "* Viernes 8 - 12 M: Desarrollo del pensamiento matemático en la infancia. \n",
    "* Sábados 8-12 Asesorías "
   ]
  },
  {
   "cell_type": "markdown",
   "id": "ae114e14",
   "metadata": {
    "slideshow": {
     "slide_type": "slide"
    }
   },
   "source": [
    "# Horarios de monitoría y asesoría  \n",
    "\n",
    "Coordinador de los cursos de la Facultad de Educación para regiones:    \n",
    "\n",
    "Andrés Vélez: regioneducacion.fedu@udea.edu.co  \n",
    "Coordinador Regiones  \n",
    "Facultad de Educación  \n",
    "Universidad de Antioquia  "
   ]
  },
  {
   "cell_type": "markdown",
   "id": "b1db4b6c",
   "metadata": {
    "slideshow": {
     "slide_type": "slide"
    }
   },
   "source": [
    "## Monitor Manuel San Juan Serrano\n",
    "\n",
    "Contactar escribiendo al correo: manuel.serrano1@udea.edu.co"
   ]
  },
  {
   "cell_type": "markdown",
   "id": "39559692",
   "metadata": {
    "slideshow": {
     "slide_type": "slide"
    }
   },
   "source": [
    "Martes y jueves de 8 - 12  \n",
    "Miércoles 10 - 12 y de 2 a 4 PM  \n",
    "Sábado: 8 - 12"
   ]
  },
  {
   "cell_type": "markdown",
   "id": "5a190057",
   "metadata": {},
   "source": [
    "## Monitoría virtual   \n",
    "\n",
    "Telefono del monitos en whatsApp: 3043936088  \n",
    "\n",
    "Juan David Cano Castrillón  \n",
    "Estudiante de Pregrado.  \n",
    "juan.canoc1@udea.edu.co  \n",
    "3043936088  \n"
   ]
  },
  {
   "cell_type": "markdown",
   "id": "10bce0d0",
   "metadata": {
    "slideshow": {
     "slide_type": "slide"
    }
   },
   "source": [
    "## Referentes "
   ]
  },
  {
   "cell_type": "markdown",
   "id": "1db3c468",
   "metadata": {
    "slideshow": {
     "slide_type": "slide"
    }
   },
   "source": [
    "* [Grajales Vanegas, L. M., Restrepo Estrada, C. E., Restrepo Ochoa, S. I., & Ruíz De Villalba, F. (2015). Matemáticas I para las ciencias económicas.](https://github.com/marco-canas/fundamentos_de_la_aritmetica/blob/main/referentes/2_grajales_logica/grajales_lina_matemticas.pdf)\n",
    "  \n",
    "* Duval, R. (2004). Semiosis y pensamiento humano: registros semióticos y aprendizajes intelectuales. Universidad del Valle.\n",
    "\n",
    "* [Aylwin, C. U. (2011). Lógica, conjuntos y números. Universidad de los Andes, Consejo de Publicaciones, Colección: Ciencias Básicas, Serie: Matemáticas.](https://github.com/marco-canas/fundamentos_logica/blob/main/referentes/2_uzcategui/uscategui.pdf)\n",
    "  \n",
    "* [Chollet, F. (2021). Deep learning with Python. Simon and Schuster.](https://github.com/marco-canas/didactica_ciencia_datos/blob/main/2_referentes/chollet/Fran%C3%A7ois%20Chollet%20-%20Deep%20Learning%20with%20Python-Manning%20(2018).pdf)  \n",
    "  \n",
    "* [Watson, S., Stewart, J., & Redlin, L. (2009). Precálculo. Matemáticas para el cálculo.](https://github.com/marco-canas/calculo/blob/main/referents/1_precalculo_stewart/stewart_precalculo.pdf)  \n",
    "\n",
    "* [Purcell, E. J., Varberg, D., & Rigdon, S. E. (2007). Cálculo diferencial e integral. Pearson Educación.](https://github.com/marco-canas/calculo/blob/main/referents/purcell/purcell_calculo.pdf)\n",
    "\n",
    "  \n",
    "\n",
    "* [stewart cálculo](https://udeaeduco-my.sharepoint.com/:b:/g/personal/marco_canas_udea_edu_co/EZgXZjAp8QxPqOAim2hs6LcBNPLGjSHf-xwYnUVYkwa04w?e=RZdTCy)  \n",
    "\n",
    "* [larson](https://udeaeduco-my.sharepoint.com/:b:/g/personal/marco_canas_udea_edu_co/ES71ChFeO9ZDhW3TwC5Ijk8BjxUK3Pdqz_fjHxTTFAfIAg?e=VDEjfu)\n",
    "\n",
    "\n",
    "\n",
    "* [Recomendación de la UNESCO sobre ciencia abierta](https://unesdoc.unesco.org/ark:/48223/pf0000379949_spa)\n",
    "\n",
    "* [chatGPT](https://openai.com/blog/chatgpt)  \n",
    "\n",
    "* [Géron, A. (2017). Hands-on machine learning with scikit-learn and tensorflow: Concepts. Tools, and Techniques to build intelligent systems.](https://github.com/marco-canas/didactica_ciencia_datos/blob/main/2_referentes/geron/Hands-On%20Machine%20Learning-3nd_Edition(2022).pdf)  \n",
    "\n",
    "* [McKinney, W. (2012). Python for data analysis: Data wrangling with Pandas, NumPy, and IPython. \" O'Reilly Media, Inc.\".](https://github.com/marco-canas/didactica_ciencia_datos/blob/main/2_referentes/mckinney/Wes_McKinney.pdf)  "
   ]
  },
  {
   "cell_type": "markdown",
   "id": "8e65d6f9",
   "metadata": {},
   "source": [
    "# Como estudiante, encuentro que...   \n",
    "\n",
    "F: Mis Fortalezas son:     \n",
    "O: Mis Oportunidades son:    \n",
    "D: Mis Debilidades son:    \n",
    "A: Lo que Amenazas mi aprendizaje es:  "
   ]
  },
  {
   "cell_type": "markdown",
   "id": "6b9e56a8",
   "metadata": {
    "slideshow": {
     "slide_type": "slide"
    }
   },
   "source": [
    "### [Evaluamos al profesor Marco Cañas Aquí](https://forms.office.com/Pages/ResponsePage.aspx?id=IefhmYRxjkmK_7KtTlPBwkanXIs1i1FEujpsZgO6dXpUREJPV1kxUk1JV1ozTFJIQVNIQjY5WEY3US4u)"
   ]
  },
  {
   "cell_type": "markdown",
   "id": "050b9508",
   "metadata": {},
   "source": [
    "# Aportes de mis estudiantes a la metodología del curso  \n",
    "1. \n",
    "\n",
    "Sus opiniones y aportes son muy importantes para mi. Pues esta es una investigación educativa y un servicio de enseñanza para ustedes. Ustedes son la razón de ser de mi actividad docente. Dios los bendiga. "
   ]
  },
  {
   "cell_type": "markdown",
   "id": "6c4af91f",
   "metadata": {},
   "source": [
    "# Aportes de mis colegas docentes a la metodología que estoy aplicando en mis cursos. "
   ]
  },
  {
   "cell_type": "markdown",
   "id": "071afa04",
   "metadata": {
    "slideshow": {
     "slide_type": "slide"
    }
   },
   "source": [
    "## [Evaluación luego de alcanzar estos objetivos de aprendizaje]()"
   ]
  },
  {
   "cell_type": "markdown",
   "id": "10f43536",
   "metadata": {
    "slideshow": {
     "slide_type": "slide"
    }
   },
   "source": [
    "### Continue su aprendizaje en la siguiente clase a través del siguiente [vínculo]()"
   ]
  },
  {
   "cell_type": "markdown",
   "id": "ba236f4d",
   "metadata": {},
   "source": [
    "### **Actividad de Clase: Expresar Ideas, Dudas y Emociones de Manera Respetuosa y Asertiva**\n"
   ]
  },
  {
   "cell_type": "markdown",
   "id": "33bcd185",
   "metadata": {},
   "source": [
    "\n",
    "**Objetivo:**  \n",
    "Desarrollar habilidades de comunicación efectiva en los estudiantes para que puedan expresar sus ideas, dudas y emociones de forma respetuosa y asertiva.\n",
    "\n",
    "**Duración:**  \n",
    "15-20 minutos\n",
    "\n",
    "---\n"
   ]
  },
  {
   "cell_type": "markdown",
   "id": "f61da648",
   "metadata": {},
   "source": [
    "\n",
    "### **1. Introducción (5 minutos)**  \n",
    "- **Tema:** Introducir a los estudiantes al concepto de la comunicación asertiva, explicando cómo expresar pensamientos y emociones de manera clara y respetuosa sin agredir o ser pasivo.\n",
    "- **Dinámica:** Mostrar dos ejemplos contrastantes: uno de comunicación pasiva/agresiva y otro de comunicación asertiva. Preguntar a los estudiantes cuál creen que es más efectivo y por qué.\n",
    "\n",
    "**Materiales:**  \n",
    "- Pizarra o diapositivas con ejemplos de frases pasivas, agresivas y asertivas.\n",
    "  \n",
    "**Ejemplo:**  \n",
    "- **Pasivo:** “Bueno… no sé si es una buena idea, pero… tal vez podrías intentarlo.”\n",
    "- **Agresivo:** “¡Tu idea es terrible, no va a funcionar!”\n",
    "- **Asertivo:** “Creo que podríamos mejorar esa idea si consideramos otro enfoque.”\n",
    "\n",
    "---\n",
    "\n",
    "### **2. Ejercicio en Parejas (10 minutos)**  \n",
    "- **Instrucciones:** Dividir a los estudiantes en parejas. Darles diferentes situaciones cotidianas en las que deben comunicarse (pedir ayuda, expresar desacuerdo, compartir una idea, etc.). Cada pareja debe crear una breve conversación donde practiquen la comunicación asertiva.\n",
    "  \n",
    "**Situaciones propuestas:**\n",
    "  - Expresar desacuerdo con un compañero sobre una tarea de grupo.\n",
    "  - Pedirle ayuda al profesor sobre un concepto difícil.\n",
    "  - Expresar frustración por un malentendido en clase.\n",
    "\n",
    "- **Reglas:** Cada estudiante debe asegurarse de usar lenguaje respetuoso y asertivo para expresar su posición y emociones. Al final, cada pareja debe compartir con la clase un ejemplo de lo que discutieron.\n",
    "\n",
    "---\n",
    "\n",
    "### **3. Retroalimentación y Discusión (5 minutos)**  \n",
    "- **Discusión:** Invitar a algunos estudiantes a compartir sus experiencias de la actividad. \n",
    "- **Preguntas:** ¿Cómo se sintieron al intentar ser asertivos? ¿Les resultó difícil? ¿Cómo fue recibido el mensaje?\n",
    "  \n",
    "**Consejo:** Resaltar la importancia de practicar la asertividad como una herramienta para mejorar la comunicación interpersonal y reducir conflictos.\n",
    "\n",
    "---\n",
    "\n",
    "### **Cierre**  \n",
    "- Resumir las características de la comunicación asertiva: uso de \"yo\" en lugar de \"tú\" para evitar culpabilizar, tono de voz calmado, y respeto hacia el interlocutor.\n",
    "- **Tarea opcional:** Pedirles que practiquen la comunicación asertiva en sus conversaciones durante la semana y escriban una reflexión breve sobre cómo les fue.\n",
    "\n",
    "**Material adicional:**  \n",
    "- Video corto o recurso digital sobre la importancia de la comunicación asertiva."
   ]
  },
  {
   "cell_type": "markdown",
   "id": "53cc9115",
   "metadata": {
    "slideshow": {
     "slide_type": "slide"
    }
   },
   "source": [
    "## Agradecimientos  \n",
    "\n",
    "Doy gracias a Dios por la vida de mi Hijo Joseph Cañas Osorio y la madurez que ha alcanzado.\n",
    "\n",
    "Y a mi esposa Yasmira por su apoyo, orientación y acompañamiento. "
   ]
  }
 ],
 "metadata": {
  "celltoolbar": "Slideshow",
  "kernelspec": {
   "display_name": "Python 3 (ipykernel)",
   "language": "python",
   "name": "python3"
  },
  "language_info": {
   "codemirror_mode": {
    "name": "ipython",
    "version": 3
   },
   "file_extension": ".py",
   "mimetype": "text/x-python",
   "name": "python",
   "nbconvert_exporter": "python",
   "pygments_lexer": "ipython3",
   "version": "3.10.12"
  },
  "rise": {
   "enable_chalkboard": true,
   "theme": "sky",
   "transition": "zoom"
  }
 },
 "nbformat": 4,
 "nbformat_minor": 5
}
