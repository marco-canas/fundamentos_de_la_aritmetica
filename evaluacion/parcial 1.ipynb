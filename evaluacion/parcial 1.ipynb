{
 "cells": [
  {
   "cell_type": "markdown",
   "id": "2c455c74",
   "metadata": {
    "slideshow": {
     "slide_type": "slide"
    }
   },
   "source": [
    "<table align=\"left\">\n",
    "  <td>\n",
    "    <a href=\"https://colab.research.google.com/github/marco-canas/camino-udea/blob/main/0_diagnostico/diagnos_prueba_inicial_pivu/51_exercise.ipynb\" target=\"_parent\"><img src=\"https://colab.research.google.com/assets/colab-badge.svg\" alt=\"Open In Colab\"/></a>\n",
    "  </td>\n",
    "</table>"
   ]
  },
  {
   "cell_type": "markdown",
   "id": "5936757f",
   "metadata": {
    "slideshow": {
     "slide_type": "slide"
    }
   },
   "source": [
    "# Parcial 1 de Aritmética"
   ]
  },
  {
   "cell_type": "markdown",
   "id": "215259ee",
   "metadata": {
    "slideshow": {
     "slide_type": "slide"
    }
   },
   "source": [
    "## [Programa del curso dado por el núcleo de pensamiento aritmético]()"
   ]
  },
  {
   "cell_type": "markdown",
   "id": "1a6be54e",
   "metadata": {
    "slideshow": {
     "slide_type": "slide"
    }
   },
   "source": [
    "## Fecha acordada primer parcial: "
   ]
  },
  {
   "cell_type": "markdown",
   "id": "bdd9b4c3",
   "metadata": {
    "slideshow": {
     "slide_type": "slide"
    }
   },
   "source": [
    "## Objetivos de aprendizaje\n",
    "\n",
    "\n",
    "* Identificar elementos teóricos y prácticos asociados a los diferentes sistemas numéricos con sus operaciones y relaciones. \n",
    "\n",
    "* Identificar los números con cantidades concretas de una magnitud, dotando de significado la variación a partir de relaciones entre magnitudes. \n",
    "* Conocer la numeración y las razones que han conducido a su expresión y forma actual. \n",
    "* Reconocer las operaciones básicas entre números (con sus algoritmos), al igual que sus propiedades, derivadas de las acciones de contar y medir.\n",
    "* Interpretar el papel de las cantidades relativas para dar significado a los números enteros.\n",
    "* Interpretar significados para los números racionales a partir de los números para medir y de la noción de razón entre cantidades de magnitud.\n",
    "\n",
    "\n",
    "[texto guía](https://udeaeduco-my.sharepoint.com/:b:/g/personal/marco_canas_udea_edu_co/ETDikm-lVl1Or8XoEo9oyh0BEti9Zs8le-f0D-dBdtZmbA?e=cSoOs5)"
   ]
  },
  {
   "cell_type": "markdown",
   "id": "e65d43eb",
   "metadata": {
    "slideshow": {
     "slide_type": "slide"
    }
   },
   "source": [
    "## Temas a evaluar\n",
    "\n",
    "* El conjunto de los números Naturales: Definición y subconjuntos representativos. \n",
    "* El conjunto de los números enteros\n",
    "* Lógica. "
   ]
  },
  {
   "cell_type": "markdown",
   "id": "38690e2b",
   "metadata": {
    "slideshow": {
     "slide_type": "slide"
    }
   },
   "source": []
  },
  {
   "cell_type": "markdown",
   "id": "b8d4ed52",
   "metadata": {
    "slideshow": {
     "slide_type": "slide"
    }
   },
   "source": [
    "## Situación problemática a resolver con un modelo matemático apropiado\n"
   ]
  },
  {
   "cell_type": "markdown",
   "id": "1a24f0b7",
   "metadata": {
    "slideshow": {
     "slide_type": "slide"
    }
   },
   "source": [
    "# Primer punto teórico (20 puntos)\n",
    "\n",
    "1. ¿Cómo funciona el operador % en python?\n",
    "\n",
    "este operador binario retorna el residuo de una división\n",
    "\n",
    "2. Cuales son los residuos posibles al dividir por dos o las clases residuales del 2. \n",
    "\n",
    "3. Describa cómo una computadora sabe que un número es par o impar. \n",
    "\n",
    "4. ¿Los equivalentes se presentan de manera cíclica?, ejemplifique. "
   ]
  },
  {
   "cell_type": "code",
   "execution_count": 1,
   "id": "b1e68414",
   "metadata": {
    "slideshow": {
     "slide_type": "slide"
    }
   },
   "outputs": [
    {
     "data": {
      "text/plain": [
       "1"
      ]
     },
     "execution_count": 1,
     "metadata": {},
     "output_type": "execute_result"
    }
   ],
   "source": [
    "3%2"
   ]
  },
  {
   "cell_type": "code",
   "execution_count": 2,
   "id": "a3811723",
   "metadata": {
    "slideshow": {
     "slide_type": "slide"
    }
   },
   "outputs": [
    {
     "data": {
      "text/plain": [
       "0"
      ]
     },
     "execution_count": 2,
     "metadata": {},
     "output_type": "execute_result"
    }
   ],
   "source": [
    "4%2"
   ]
  },
  {
   "cell_type": "code",
   "execution_count": 3,
   "id": "b32c2ae2",
   "metadata": {
    "slideshow": {
     "slide_type": "slide"
    }
   },
   "outputs": [],
   "source": [
    "import numpy as np "
   ]
  },
  {
   "cell_type": "code",
   "execution_count": 6,
   "id": "3b3b173d",
   "metadata": {
    "slideshow": {
     "slide_type": "slide"
    }
   },
   "outputs": [
    {
     "data": {
      "text/plain": [
       "array([ 0,  1,  2,  3,  4,  5,  6,  7,  8,  9, 10, 11, 12, 13, 14, 15, 16,\n",
       "       17, 18, 19, 20, 21, 22, 23, 24, 25, 26, 27, 28, 29, 30])"
      ]
     },
     "execution_count": 6,
     "metadata": {},
     "output_type": "execute_result"
    }
   ],
   "source": [
    "np.arange(0, 31)"
   ]
  },
  {
   "cell_type": "code",
   "execution_count": 5,
   "id": "4e5aab38",
   "metadata": {
    "scrolled": true,
    "slideshow": {
     "slide_type": "slide"
    }
   },
   "outputs": [
    {
     "data": {
      "text/plain": [
       "array([0, 1, 0, 1, 0, 1, 0, 1, 0, 1, 0, 1, 0, 1, 0, 1, 0, 1, 0, 1, 0, 1,\n",
       "       0, 1, 0, 1, 0, 1, 0, 1, 0], dtype=int32)"
      ]
     },
     "execution_count": 5,
     "metadata": {},
     "output_type": "execute_result"
    }
   ],
   "source": [
    "(np.arange(0, 31))%2"
   ]
  },
  {
   "cell_type": "markdown",
   "id": "fc856c1f",
   "metadata": {
    "slideshow": {
     "slide_type": "slide"
    }
   },
   "source": [
    "### Conclusión\n",
    "\n",
    "* Los posibles residuos al dividir por 2 son 0 y 1. \n",
    "* Este operador permite clasificar los números naturales en pares e impares. Así, los pares son los que dejan residuo cero cuando se dividen por 2 y los impares son los que dejan residuo 1 cuando se dividen por 2.\n",
    "* cuando dividimos por $2$ los residuos posibles son 0, 1.\n",
    "* cuando dividimos por $3$ los residuos posibles son 0, 1, 2.\n",
    "* cuando dividimos por $4$ los residuos posibles son 0, 1, 2, 3.\n",
    "* cuando dividimos por $p$ los residuos posibles son $ 0, 1, 2, \\ldots, p-1 $\n",
    "* Necesitamos que algunos enteros sean equivalentes. Como por ejemplo \n",
    "\n",
    "$$ 4 \\equiv 0 \\ \\ \\text{mod} \\ 2 $$\n",
    "\n"
   ]
  },
  {
   "cell_type": "code",
   "execution_count": 11,
   "id": "0efc87ec",
   "metadata": {
    "slideshow": {
     "slide_type": "slide"
    }
   },
   "outputs": [],
   "source": [
    "import string \n",
    "ALFABETO = string.ascii_uppercase\n",
    "codificador = {}\n",
    "for i in range(0, 26): \n",
    "    letra = ALFABETO[i]\n",
    "    letra_sustituta = ALFABETO[(i+1)%26] \n",
    "    codificador[letra] = letra_sustituta\n",
    "    "
   ]
  },
  {
   "cell_type": "code",
   "execution_count": 9,
   "id": "4a7044b4",
   "metadata": {
    "scrolled": true,
    "slideshow": {
     "slide_type": "slide"
    }
   },
   "outputs": [
    {
     "data": {
      "text/plain": [
       "{'A': 'B',\n",
       " 'B': 'C',\n",
       " 'C': 'D',\n",
       " 'D': 'E',\n",
       " 'E': 'F',\n",
       " 'F': 'G',\n",
       " 'G': 'H',\n",
       " 'H': 'I',\n",
       " 'I': 'J',\n",
       " 'J': 'K',\n",
       " 'K': 'L',\n",
       " 'L': 'M',\n",
       " 'M': 'N',\n",
       " 'N': 'O',\n",
       " 'O': 'P',\n",
       " 'P': 'Q',\n",
       " 'Q': 'R',\n",
       " 'R': 'S',\n",
       " 'S': 'T',\n",
       " 'T': 'U',\n",
       " 'U': 'V',\n",
       " 'V': 'W',\n",
       " 'W': 'X',\n",
       " 'X': 'Y',\n",
       " 'Y': 'Z',\n",
       " 'Z': 'A'}"
      ]
     },
     "execution_count": 9,
     "metadata": {},
     "output_type": "execute_result"
    }
   ],
   "source": [
    "codificador"
   ]
  },
  {
   "cell_type": "markdown",
   "id": "374df536",
   "metadata": {
    "slideshow": {
     "slide_type": "slide"
    }
   },
   "source": [
    "Necesitamos el concepto de equivalencia de enteros.  Y así mostramos que el concepto matemátioco surje de una necesidad en un problema de la vida real. "
   ]
  },
  {
   "cell_type": "markdown",
   "id": "b6d340fd",
   "metadata": {
    "slideshow": {
     "slide_type": "slide"
    }
   },
   "source": [
    "# Punto 2 Congruencia de números enteros (40 puntos)"
   ]
  },
  {
   "cell_type": "code",
   "execution_count": null,
   "id": "9604cb81",
   "metadata": {
    "slideshow": {
     "slide_type": "slide"
    }
   },
   "outputs": [],
   "source": []
  },
  {
   "cell_type": "markdown",
   "id": "d7ae4684",
   "metadata": {
    "slideshow": {
     "slide_type": "slide"
    }
   },
   "source": [
    "# Punto 3 Inducción matemática (40 puntos)"
   ]
  },
  {
   "cell_type": "markdown",
   "id": "24fc40f7",
   "metadata": {
    "slideshow": {
     "slide_type": "slide"
    }
   },
   "source": [
    "a) Determine para que valores de n se cumple la desigualdad indicada\n",
    "\n",
    "$$ 2^{n} + 8 \\leq 2^{n+1}  $$\n",
    "\n",
    "Tomado de la página 117 de Carlos Uzcátegui"
   ]
  },
  {
   "cell_type": "markdown",
   "id": "a690a4b8",
   "metadata": {
    "slideshow": {
     "slide_type": "slide"
    }
   },
   "source": [
    "Demuestre por inducción matemática que \n",
    "\n",
    "\n",
    "$$ 1^{2} + 2^{2} + 3^{2} + \\cdots + n^{2} = \\frac{n(n+1)(2n+1)}{6} $$ "
   ]
  },
  {
   "cell_type": "markdown",
   "id": "937ce5aa",
   "metadata": {
    "slideshow": {
     "slide_type": "slide"
    }
   },
   "source": [
    "## Referentes  \n",
    "\n",
    "* Villa Ochoa, Jhony Alexander. \n",
    "\n",
    "* [uzcategui](https://udeaeduco-my.sharepoint.com/:b:/g/personal/marco_canas_udea_edu_co/ETDikm-lVl1Or8XoEo9oyh0BEti9Zs8le-f0D-dBdtZmbA?e=Kx8Oge) página 93 de su pdf. "
   ]
  },
  {
   "cell_type": "markdown",
   "id": "eb3a9123",
   "metadata": {
    "slideshow": {
     "slide_type": "slide"
    }
   },
   "source": [
    "## [Evaluación del profesor](https://forms.office.com/Pages/ResponsePage.aspx?id=IefhmYRxjkmK_7KtTlPBwkanXIs1i1FEujpsZgO6dXpUREJPV1kxUk1JV1ozTFJIQVNIQjY5WEY3US4u)"
   ]
  },
  {
   "cell_type": "code",
   "execution_count": null,
   "id": "795cba6f",
   "metadata": {
    "slideshow": {
     "slide_type": "slide"
    }
   },
   "outputs": [],
   "source": []
  }
 ],
 "metadata": {
  "celltoolbar": "Slideshow",
  "kernelspec": {
   "display_name": "Python 3 (ipykernel)",
   "language": "python",
   "name": "python3"
  },
  "language_info": {
   "codemirror_mode": {
    "name": "ipython",
    "version": 3
   },
   "file_extension": ".py",
   "mimetype": "text/x-python",
   "name": "python",
   "nbconvert_exporter": "python",
   "pygments_lexer": "ipython3",
   "version": "3.9.13"
  }
 },
 "nbformat": 4,
 "nbformat_minor": 5
}
