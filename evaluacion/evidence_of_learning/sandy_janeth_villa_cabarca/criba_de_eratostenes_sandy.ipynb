{
  "nbformat": 4,
  "nbformat_minor": 0,
  "metadata": {
    "colab": {
      "provenance": []
    },
    "kernelspec": {
      "name": "python3",
      "display_name": "Python 3"
    },
    "language_info": {
      "name": "python"
    }
  },
  "cells": [
    {
      "cell_type": "code",
      "execution_count": null,
      "metadata": {
        "id": "Xl16zsTrdYLd"
      },
      "outputs": [],
      "source": []
    },
    {
      "cell_type": "code",
      "source": [],
      "metadata": {
        "id": "0oNF9UMNdh0-"
      },
      "execution_count": null,
      "outputs": []
    },
    {
      "cell_type": "code",
      "source": [
        "def criba_eratostenes(n):\n",
        "  np=[]\n",
        "  primos=[]\n",
        "  \n",
        "  for i in range(2,n+1):\n",
        "    if i not in np:\n",
        "      primos.append(i)\n",
        "    \n",
        "    for p in range(3,n+1):\n",
        "      if i*i<n:\n",
        "        for k in range(2,i):\n",
        "          if p%k==0:\n",
        "            for j in range(p,p+1):\n",
        "              np.append(j)\n",
        "     \n",
        "  return primos\n"
      ],
      "metadata": {
        "id": "ZkkW3CcXgnXW"
      },
      "execution_count": null,
      "outputs": []
    },
    {
      "cell_type": "code",
      "source": [
        "print(criba_eratostenes(100))"
      ],
      "metadata": {
        "colab": {
          "base_uri": "https://localhost:8080/"
        },
        "id": "6Wi9N5mule4A",
        "outputId": "1115f62c-96aa-4e1b-9197-044057958929"
      },
      "execution_count": null,
      "outputs": [
        {
          "output_type": "stream",
          "name": "stdout",
          "text": [
            "[2, 3, 5, 7, 11, 13, 17, 19, 23, 29, 31, 37, 41, 43, 47, 53, 59, 61, 67, 71, 73, 79, 83, 89, 97]\n"
          ]
        }
      ]
    }
  ]
}