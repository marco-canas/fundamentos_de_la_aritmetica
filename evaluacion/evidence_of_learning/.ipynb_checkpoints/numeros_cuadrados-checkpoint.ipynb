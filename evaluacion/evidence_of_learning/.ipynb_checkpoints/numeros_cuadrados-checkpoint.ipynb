{
 "cells": [
  {
   "cell_type": "markdown",
   "id": "d4dbe9c0",
   "metadata": {
    "slideshow": {
     "slide_type": "slide"
    }
   },
   "source": [
    "<table align=\"left\">\n",
    "  <td>\n",
    "    <a href=\"https://colab.research.google.com/github/marco-canas/5_Fundamentos-de-la-aritm-tica/blob/main/evaluacion/evidence_of_learning/numeros_cuadrados.ipynb\" target=\"_parent\"><img src=\"https://colab.research.google.com/assets/colab-badge.svg\" alt=\"Open In Colab\"/></a>\n",
    "  </td>\n",
    "</table>"
   ]
  },
  {
   "cell_type": "markdown",
   "id": "b3c0dfb3",
   "metadata": {
    "slideshow": {
     "slide_type": "slide"
    }
   },
   "source": [
    "## [Video de apoyo]()"
   ]
  },
  {
   "cell_type": "markdown",
   "id": "e1d0ff9f",
   "metadata": {
    "slideshow": {
     "slide_type": "slide"
    }
   },
   "source": [
    "# Números cuadrados"
   ]
  },
  {
   "cell_type": "code",
   "execution_count": 1,
   "id": "43a50adf",
   "metadata": {},
   "outputs": [],
   "source": [
    "import numpy as np "
   ]
  },
  {
   "cell_type": "code",
   "execution_count": 3,
   "id": "07745121",
   "metadata": {},
   "outputs": [
    {
     "data": {
      "text/plain": [
       "array([1, 3, 5, 7, 9])"
      ]
     },
     "execution_count": 3,
     "metadata": {},
     "output_type": "execute_result"
    }
   ],
   "source": [
    "np.arange(1, 10, 2)"
   ]
  },
  {
   "cell_type": "markdown",
   "id": "925856fa",
   "metadata": {},
   "source": [
    "## Conjetura\n",
    "\n",
    "* $1 = 1^{2}$  \n",
    "* $1 + 3 = 4 = 2^{2}$\n",
    "* $1+3+5 = 9 = 3^{2}$\n",
    "* $1+3+5+7 = 16 = 4^{2}$"
   ]
  },
  {
   "cell_type": "markdown",
   "id": "ee4e9e0a",
   "metadata": {},
   "source": [
    "## Generalicemos \n",
    "\n",
    "\n",
    "$$ 1 + 3 + 5 + \\cdots +(2n+1) = n^{2} ? $$"
   ]
  },
  {
   "cell_type": "markdown",
   "id": "ca3f412c",
   "metadata": {},
   "source": [
    "$$ \\sum_{k = 1}^{n} 2k - 1  = n^{2}$$\n",
    "\n",
    "esta es la suma de los primeros $n$ impares será que da un cuadrado perfecto "
   ]
  },
  {
   "cell_type": "markdown",
   "id": "8ebe0820",
   "metadata": {},
   "source": [
    "## Tarea como actividad fuera de clase\n",
    "\n",
    "Demostrar la anterior conjetura. \n"
   ]
  },
  {
   "cell_type": "markdown",
   "id": "b4a7e4a6",
   "metadata": {},
   "source": [
    "$$ \\Sigma $$"
   ]
  },
  {
   "cell_type": "markdown",
   "id": "2141e5af",
   "metadata": {},
   "source": []
  }
 ],
 "metadata": {
  "celltoolbar": "Slideshow",
  "kernelspec": {
   "display_name": "Python 3 (ipykernel)",
   "language": "python",
   "name": "python3"
  },
  "language_info": {
   "codemirror_mode": {
    "name": "ipython",
    "version": 3
   },
   "file_extension": ".py",
   "mimetype": "text/x-python",
   "name": "python",
   "nbconvert_exporter": "python",
   "pygments_lexer": "ipython3",
   "version": "3.9.13"
  }
 },
 "nbformat": 4,
 "nbformat_minor": 5
}
