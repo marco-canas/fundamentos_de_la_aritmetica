{
 "cells": [
  {
   "cell_type": "markdown",
   "id": "be71cd46",
   "metadata": {},
   "source": []
  },
  {
   "cell_type": "markdown",
   "id": "772ec065",
   "metadata": {},
   "source": []
  },
  {
   "cell_type": "markdown",
   "id": "03cc5626",
   "metadata": {},
   "source": [
    "# Clase 3 Clases modulares \n",
    "\n"
   ]
  },
  {
   "cell_type": "code",
   "execution_count": null,
   "id": "1fca96e2",
   "metadata": {},
   "outputs": [],
   "source": []
  },
  {
   "cell_type": "code",
   "execution_count": null,
   "id": "754b7a44",
   "metadata": {},
   "outputs": [],
   "source": []
  },
  {
   "cell_type": "markdown",
   "id": "1c00e363",
   "metadata": {},
   "source": [
    "# Vocabulary"
   ]
  },
  {
   "cell_type": "markdown",
   "id": "66eac5a1",
   "metadata": {},
   "source": [
    "* low: abajo\n",
    "* up: arriba"
   ]
  },
  {
   "cell_type": "markdown",
   "id": "735a6180",
   "metadata": {},
   "source": [
    "## Referentes "
   ]
  },
  {
   "cell_type": "markdown",
   "id": "91196d88",
   "metadata": {},
   "source": [
    "* Jhony Alexander Villa Ochoa: Computational Thinking in Mathematical Modeling Projects. A Case Study with Future Mathematics Teachers: https://jhonyvilla.wordpress.com/  \n",
    "\n",
    "* Obando Zapata, G. D. J., & Múnera Córdoba, J. J. (2003). Las situaciones problema como estrategia para la conceptualización matemática."
   ]
  },
  {
   "cell_type": "code",
   "execution_count": null,
   "id": "9ae28a71",
   "metadata": {},
   "outputs": [],
   "source": []
  }
 ],
 "metadata": {
  "kernelspec": {
   "display_name": "Python 3 (ipykernel)",
   "language": "python",
   "name": "python3"
  },
  "language_info": {
   "codemirror_mode": {
    "name": "ipython",
    "version": 3
   },
   "file_extension": ".py",
   "mimetype": "text/x-python",
   "name": "python",
   "nbconvert_exporter": "python",
   "pygments_lexer": "ipython3",
   "version": "3.9.13"
  }
 },
 "nbformat": 4,
 "nbformat_minor": 5
}
