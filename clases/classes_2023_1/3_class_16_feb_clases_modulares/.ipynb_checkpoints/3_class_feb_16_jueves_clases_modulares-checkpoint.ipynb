{
 "cells": [
  {
   "cell_type": "markdown",
   "id": "3b37550a",
   "metadata": {},
   "source": []
  },
  {
   "cell_type": "markdown",
   "id": "26c6feba",
   "metadata": {},
   "source": []
  },
  {
   "cell_type": "markdown",
   "id": "8ef7ef0c",
   "metadata": {},
   "source": [
    "# Clase 3 Clases modulares \n",
    "\n"
   ]
  },
  {
   "cell_type": "code",
   "execution_count": null,
   "id": "42fcba2d",
   "metadata": {},
   "outputs": [],
   "source": []
  },
  {
   "cell_type": "code",
   "execution_count": null,
   "id": "eed0fabf",
   "metadata": {},
   "outputs": [],
   "source": []
  },
  {
   "cell_type": "markdown",
   "id": "30f48bab",
   "metadata": {},
   "source": [
    "# Vocabulary"
   ]
  },
  {
   "cell_type": "code",
   "execution_count": null,
   "id": "217b25c0",
   "metadata": {},
   "outputs": [],
   "source": []
  },
  {
   "cell_type": "markdown",
   "id": "97df9c7c",
   "metadata": {},
   "source": [
    "## Referentes "
   ]
  },
  {
   "cell_type": "markdown",
   "id": "faf95d81",
   "metadata": {},
   "source": [
    "* Jhony Alexander Villa Ochoa: Computational Thinking in Mathematical Modeling Projects. A Case Study with Future Mathematics Teachers: https://jhonyvilla.wordpress.com/  \n",
    "\n",
    "* Obando Zapata, G. D. J., & Múnera Córdoba, J. J. (2003). Las situaciones problema como estrategia para la conceptualización matemática."
   ]
  },
  {
   "cell_type": "code",
   "execution_count": null,
   "id": "ec0dc95e",
   "metadata": {},
   "outputs": [],
   "source": []
  }
 ],
 "metadata": {
  "kernelspec": {
   "display_name": "Python 3 (ipykernel)",
   "language": "python",
   "name": "python3"
  },
  "language_info": {
   "codemirror_mode": {
    "name": "ipython",
    "version": 3
   },
   "file_extension": ".py",
   "mimetype": "text/x-python",
   "name": "python",
   "nbconvert_exporter": "python",
   "pygments_lexer": "ipython3",
   "version": "3.9.13"
  }
 },
 "nbformat": 4,
 "nbformat_minor": 5
}
