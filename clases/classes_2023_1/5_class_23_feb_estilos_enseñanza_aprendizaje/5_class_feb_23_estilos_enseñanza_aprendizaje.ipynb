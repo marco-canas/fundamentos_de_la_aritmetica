{
 "cells": [
  {
   "cell_type": "code",
   "execution_count": null,
   "id": "31316cfa",
   "metadata": {},
   "outputs": [],
   "source": []
  },
  {
   "cell_type": "code",
   "execution_count": null,
   "id": "cf484d63",
   "metadata": {},
   "outputs": [],
   "source": []
  },
  {
   "cell_type": "markdown",
   "id": "dab83269",
   "metadata": {},
   "source": [
    "# Clase del 23 de febrero"
   ]
  },
  {
   "cell_type": "markdown",
   "id": "50af3797",
   "metadata": {},
   "source": [
    "## [Estilos de enseñanza y aprendizaje](https://udeaeduco-my.sharepoint.com/:b:/g/personal/marco_canas_udea_edu_co/EagoH3hpbShEub1IqCmJRegBJr0fWJw48dvWgUpDnXx5Kw?e=f80lSj)"
   ]
  },
  {
   "cell_type": "markdown",
   "id": "c81bed0d",
   "metadata": {},
   "source": []
  },
  {
   "cell_type": "code",
   "execution_count": null,
   "id": "e3b89e30",
   "metadata": {},
   "outputs": [],
   "source": []
  },
  {
   "cell_type": "code",
   "execution_count": null,
   "id": "666fb0be",
   "metadata": {},
   "outputs": [],
   "source": []
  },
  {
   "cell_type": "code",
   "execution_count": null,
   "id": "417ff6be",
   "metadata": {},
   "outputs": [],
   "source": []
  },
  {
   "cell_type": "code",
   "execution_count": null,
   "id": "b1b31137",
   "metadata": {},
   "outputs": [],
   "source": []
  },
  {
   "cell_type": "code",
   "execution_count": null,
   "id": "fce86bee",
   "metadata": {},
   "outputs": [],
   "source": []
  },
  {
   "cell_type": "code",
   "execution_count": null,
   "id": "9b239f7c",
   "metadata": {},
   "outputs": [],
   "source": []
  },
  {
   "cell_type": "code",
   "execution_count": null,
   "id": "552b7fb4",
   "metadata": {},
   "outputs": [],
   "source": []
  },
  {
   "cell_type": "code",
   "execution_count": null,
   "id": "22f32824",
   "metadata": {},
   "outputs": [],
   "source": []
  },
  {
   "cell_type": "code",
   "execution_count": null,
   "id": "fc82ef0b",
   "metadata": {},
   "outputs": [],
   "source": []
  },
  {
   "cell_type": "code",
   "execution_count": null,
   "id": "fae6ec5c",
   "metadata": {},
   "outputs": [],
   "source": []
  },
  {
   "cell_type": "code",
   "execution_count": null,
   "id": "f4ab5571",
   "metadata": {},
   "outputs": [],
   "source": []
  },
  {
   "cell_type": "markdown",
   "id": "c5eade28",
   "metadata": {},
   "source": [
    "## Referentes"
   ]
  },
  {
   "cell_type": "markdown",
   "id": "e9748341",
   "metadata": {},
   "source": [
    "* Paulo Emilio Oviedo. Universidad de La Salle, poviedo@unisalle.edu.co. Estilos de enseñanza y estilos de aprendizaje: implicaciones para la educación por ciclos. \n",
    "\n",
    "* la inteligencia artificial chatGPT: https://openai.com/blog/chatgpt/\n",
    "\n",
    "* La pedagogía del Aula invertida y el aprendizaje significativo: "
   ]
  }
 ],
 "metadata": {
  "kernelspec": {
   "display_name": "Python 3 (ipykernel)",
   "language": "python",
   "name": "python3"
  },
  "language_info": {
   "codemirror_mode": {
    "name": "ipython",
    "version": 3
   },
   "file_extension": ".py",
   "mimetype": "text/x-python",
   "name": "python",
   "nbconvert_exporter": "python",
   "pygments_lexer": "ipython3",
   "version": "3.9.13"
  }
 },
 "nbformat": 4,
 "nbformat_minor": 5
}
