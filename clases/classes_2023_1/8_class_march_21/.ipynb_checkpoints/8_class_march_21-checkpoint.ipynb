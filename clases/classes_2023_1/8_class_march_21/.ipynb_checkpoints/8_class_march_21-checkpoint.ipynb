{
 "cells": [
  {
   "cell_type": "markdown",
   "id": "c3d5f9c9",
   "metadata": {
    "slideshow": {
     "slide_type": "slide"
    }
   },
   "source": [
    "<table align=\"left\">\n",
    "  <td>\n",
    "    <a href=\"https://colab.research.google.com/github/marco-canas/5_Fundamentos-de-la-aritm-tica/blob/main/clases/classes_2023_1/8_class_march_16/8_class_march_21.ipynb\" target=\"_parent\"><img src=\"https://colab.research.google.com/assets/colab-badge.svg\" alt=\"Open In Colab\"/></a>\n",
    "  </td>\n",
    "</table>"
   ]
  },
  {
   "cell_type": "markdown",
   "id": "7e47f7e7",
   "metadata": {
    "slideshow": {
     "slide_type": "slide"
    }
   },
   "source": [
    "## [Video de apoyo]()"
   ]
  },
  {
   "cell_type": "markdown",
   "id": "08d6ced1",
   "metadata": {
    "slideshow": {
     "slide_type": "slide"
    }
   },
   "source": [
    "# Clase 8 de fundamentos de arimética"
   ]
  },
  {
   "cell_type": "markdown",
   "id": "b46f15db",
   "metadata": {
    "slideshow": {
     "slide_type": "slide"
    }
   },
   "source": [
    "### [Modelo pedagógico de aprendizaje invertido](https://www3.gobiernodecanarias.org/medusa/ecoescuela/pedagotic/aprendizaje-invertido-flipped-classroom/)"
   ]
  },
  {
   "cell_type": "markdown",
   "id": "58c23535",
   "metadata": {
    "slideshow": {
     "slide_type": "slide"
    }
   },
   "source": [
    "## Objetivo de aprendizaje\n",
    "\n",
    "* Potenciación y radicación en los conjuntos numéricos de los naturales, los enteros y los racionales. \n",
    "\n",
    "* direfenciar el significado de la potenciación en N, Z y Q. \n",
    "\n"
   ]
  },
  {
   "cell_type": "markdown",
   "id": "00eeb1ca",
   "metadata": {
    "slideshow": {
     "slide_type": "slide"
    }
   },
   "source": [
    "## FeedBack fruto de la evaluación sobre R\n",
    "\n",
    "* Un diagrama de Venn en forma de partición, significa conjuntos disjuntos y N, Z y Q no lo son. \n",
    "* Un diagrama de Venn tipo bolita dentro de otra bolita. "
   ]
  },
  {
   "cell_type": "code",
   "execution_count": 1,
   "id": "1b326c45",
   "metadata": {
    "slideshow": {
     "slide_type": "slide"
    }
   },
   "outputs": [
    {
     "data": {
      "text/plain": [
       "81"
      ]
     },
     "execution_count": 1,
     "metadata": {},
     "output_type": "execute_result"
    }
   ],
   "source": [
    "(-3)**4"
   ]
  },
  {
   "cell_type": "markdown",
   "id": "50a5557a",
   "metadata": {
    "slideshow": {
     "slide_type": "slide"
    }
   },
   "source": [
    "## Conclusión:\n",
    "\n",
    "\n",
    "* Todo número real elevado a una potencia entera positiva par da como resultado un número positivo. "
   ]
  },
  {
   "cell_type": "markdown",
   "id": "1b02bc8b",
   "metadata": {
    "slideshow": {
     "slide_type": "slide"
    }
   },
   "source": [
    "$$ (-3)^{4} $$\n",
    "\n",
    "la potenciación en latex es con el acento circunflejo"
   ]
  },
  {
   "cell_type": "markdown",
   "id": "6e179b22",
   "metadata": {
    "slideshow": {
     "slide_type": "slide"
    }
   },
   "source": [
    "# Definición de potenciación de exponente entero positivo"
   ]
  },
  {
   "cell_type": "markdown",
   "id": "86cf3214",
   "metadata": {
    "slideshow": {
     "slide_type": "slide"
    }
   },
   "source": [
    "Sea $a \\in \\mathbb{R}^{+}$, con $a \\neq 1$ y $n \\in \\mathbb{Z}^{+}$. \n",
    "\n",
    "$$ a^{n}  = \\underbrace{a \\cdot a \\cdots a}_{n \\ \\text{veces}}$$\n"
   ]
  },
  {
   "cell_type": "markdown",
   "id": "5d3c0370",
   "metadata": {
    "slideshow": {
     "slide_type": "slide"
    }
   },
   "source": [
    "Esto explica porque la conclusión anterior utilizando la ley de signos. "
   ]
  },
  {
   "cell_type": "code",
   "execution_count": null,
   "id": "2680c848",
   "metadata": {
    "slideshow": {
     "slide_type": "slide"
    }
   },
   "outputs": [],
   "source": []
  },
  {
   "cell_type": "markdown",
   "id": "00e60079",
   "metadata": {
    "slideshow": {
     "slide_type": "slide"
    }
   },
   "source": [
    "# Definición de potenciación de exponente -1\n",
    "\n",
    "\n",
    "$ a^{-1} $: significa, el inverso mutiplicativo de $a$"
   ]
  },
  {
   "cell_type": "markdown",
   "id": "3d9e5413",
   "metadata": {
    "slideshow": {
     "slide_type": "slide"
    }
   },
   "source": [
    "$$ a^{-1} := \\frac{1}{a} $$"
   ]
  },
  {
   "cell_type": "code",
   "execution_count": 5,
   "id": "5195af10",
   "metadata": {
    "slideshow": {
     "slide_type": "slide"
    }
   },
   "outputs": [
    {
     "data": {
      "text/plain": [
       "0.5"
      ]
     },
     "execution_count": 5,
     "metadata": {},
     "output_type": "execute_result"
    }
   ],
   "source": [
    "2**-1"
   ]
  },
  {
   "cell_type": "code",
   "execution_count": 6,
   "id": "3789bdcb",
   "metadata": {},
   "outputs": [],
   "source": [
    "from sympy import * \n",
    "\n"
   ]
  },
  {
   "cell_type": "code",
   "execution_count": 13,
   "id": "85633b33",
   "metadata": {},
   "outputs": [
    {
     "data": {
      "text/latex": [
       "$\\displaystyle \\frac{1}{2}$"
      ],
      "text/plain": [
       "1/2"
      ]
     },
     "execution_count": 13,
     "metadata": {},
     "output_type": "execute_result"
    }
   ],
   "source": [
    "Rational(2**-1).simplify()"
   ]
  },
  {
   "cell_type": "markdown",
   "id": "ec99aaa3",
   "metadata": {
    "slideshow": {
     "slide_type": "slide"
    }
   },
   "source": [
    "# Definición de potenciación de exponente entero negativo"
   ]
  },
  {
   "cell_type": "markdown",
   "id": "47b68b8c",
   "metadata": {
    "slideshow": {
     "slide_type": "slide"
    }
   },
   "source": [
    "¿Cuál es el significado de $ a^{-n} $ para $n \\in Z^{+}$?"
   ]
  },
  {
   "cell_type": "markdown",
   "id": "5f9c1c7a",
   "metadata": {
    "slideshow": {
     "slide_type": "slide"
    }
   },
   "source": [
    "$$ a^{-n} = (a^{n})^{-1} = \\frac{1}{a^{n}} $$"
   ]
  },
  {
   "cell_type": "markdown",
   "id": "b7efcbc5",
   "metadata": {
    "slideshow": {
     "slide_type": "slide"
    }
   },
   "source": [
    "Recuerde que:\n",
    "\n",
    "* Hay inverso aditivo de $a$ y es $-a$\n",
    "* Hay inverso multiplicativo de $a$ es $a^{-1} = \\frac{1}{a}$"
   ]
  },
  {
   "cell_type": "markdown",
   "id": "6eab0488",
   "metadata": {
    "slideshow": {
     "slide_type": "slide"
    }
   },
   "source": [
    "# ¿Qué significa la potenciación de exponente 1/2?"
   ]
  },
  {
   "cell_type": "code",
   "execution_count": 18,
   "id": "35e326f7",
   "metadata": {
    "slideshow": {
     "slide_type": "slide"
    }
   },
   "outputs": [
    {
     "data": {
      "text/plain": [
       "6.0"
      ]
     },
     "execution_count": 18,
     "metadata": {},
     "output_type": "execute_result"
    }
   ],
   "source": [
    "36**(1/2)"
   ]
  },
  {
   "cell_type": "code",
   "execution_count": 19,
   "id": "4931b285",
   "metadata": {
    "slideshow": {
     "slide_type": "slide"
    }
   },
   "outputs": [],
   "source": [
    "los_cuadrados = np.array([0, 1, 4, 9, 16, 25, 36, 49, 64, 81, 100, 121, 144, 169, 196])"
   ]
  },
  {
   "cell_type": "code",
   "execution_count": 20,
   "id": "1c56b921",
   "metadata": {
    "slideshow": {
     "slide_type": "slide"
    }
   },
   "outputs": [
    {
     "data": {
      "text/plain": [
       "array([ 0.,  1.,  2.,  3.,  4.,  5.,  6.,  7.,  8.,  9., 10., 11., 12.,\n",
       "       13., 14.])"
      ]
     },
     "execution_count": 20,
     "metadata": {},
     "output_type": "execute_result"
    }
   ],
   "source": [
    "los_cuadrados**(1/2)"
   ]
  },
  {
   "cell_type": "markdown",
   "id": "d5cd3e22",
   "metadata": {
    "slideshow": {
     "slide_type": "slide"
    }
   },
   "source": [
    "**Conclusión:** elevar a la $1/2$ significa sacar raiz cuadrada. "
   ]
  },
  {
   "cell_type": "markdown",
   "id": "0fab61b3",
   "metadata": {
    "slideshow": {
     "slide_type": "slide"
    }
   },
   "source": [
    "## Tareas para realizar por fuera de clase  \n",
    "\n",
    "Realizar los 106 ejercicios de la sección 1.2 del [stewart precálculo](https://udeaeduco-my.sharepoint.com/:b:/g/personal/marco_canas_udea_edu_co/ERHIq62I6qFNrmxy6LZb8ZMBci7kUsyNME1nIh9yCBMJ_w?e=QmGkRQ). \n",
    "\n",
    "\n"
   ]
  },
  {
   "cell_type": "markdown",
   "id": "185b096d",
   "metadata": {
    "slideshow": {
     "slide_type": "slide"
    }
   },
   "source": [
    "## Tareas para realizar por fuera de clase\n",
    "\n",
    "1. ¿Qué es un número natural?\n",
    "\n",
    "$$ N = \\{0,1, 2,,3, \\ldots \\} $$\n",
    "\n",
    "* son los que sirven para decribir el tamaño de los conjuntos. \n",
    "* O Para contar\n"
   ]
  },
  {
   "cell_type": "markdown",
   "id": "c8b3258d",
   "metadata": {
    "slideshow": {
     "slide_type": "slide"
    }
   },
   "source": [
    "2. ¿Qué es un número entero?  \n",
    "\n",
    "$$ Z = \\{ -n \\mid n \\in N  \\}  \\cup \\{ 0 \\} \\cup N $$\n",
    "\n",
    "* los que no tienen parte decimal\n",
    "* además incluyen el cero.\n",
    "\n",
    "* $Z$ es el conjunto conformado por los números natuirales y sus inversos aditivos. \n",
    "\n",
    "* -6 y 6 son inversos aditivos. Porque la sumna de elllos da el módulo de la adición. (es decir, da cero). \n",
    "\n"
   ]
  },
  {
   "cell_type": "markdown",
   "id": "1fc57dfe",
   "metadata": {
    "slideshow": {
     "slide_type": "slide"
    }
   },
   "source": [
    "3. ¿Qúe es un número racional?\n",
    "\n",
    "$$ Q = \\left\\{ \\frac{a}{b} \\mid a,b \\in Z, b \\neq 0  \\right\\} $$\n",
    "\n",
    "* razon en matemáticas es división.\n",
    "* Racional es el que es expresable como dovisión o cociente de enteros. \n"
   ]
  },
  {
   "cell_type": "markdown",
   "id": "2c700bed",
   "metadata": {
    "slideshow": {
     "slide_type": "slide"
    }
   },
   "source": [
    "4. ¿Qué significa que un conjunto sea denso?  \n",
    "\n",
    "* Los enteros no son densos, son discretos. \n",
    "* Los enteros no son densos, porque el 1 y el 2 son enteros y entre ellos no existe otro entero. \n"
   ]
  },
  {
   "cell_type": "code",
   "execution_count": 4,
   "id": "4f210605",
   "metadata": {
    "slideshow": {
     "slide_type": "slide"
    }
   },
   "outputs": [
    {
     "data": {
      "text/plain": [
       "[<matplotlib.lines.Line2D at 0x1ad202224f0>]"
      ]
     },
     "execution_count": 4,
     "metadata": {},
     "output_type": "execute_result"
    },
    {
     "data": {
      "image/png": "[encoded data removed]",
      "text/plain": [
       "<Figure size 640x480 with 1 Axes>"
      ]
     },
     "metadata": {},
     "output_type": "display_data"
    }
   ],
   "source": [
    "import numpy as np\n",
    "import matplotlib.pyplot as plt \n",
    "\n",
    "punto1 = [1,0]\n",
    "punto2 = [2,0]\n",
    "\n",
    "x_coords, y_coords = zip(punto1, punto2)\n",
    "\n",
    "plt.scatter(x_coords, y_coords, color = 'red')\n",
    "\n",
    "plt.plot([0,3], [0,0], 'g', alpha = 0.4)\n"
   ]
  },
  {
   "cell_type": "markdown",
   "id": "0eace835",
   "metadata": {
    "slideshow": {
     "slide_type": "slide"
    }
   },
   "source": [
    "5. ¿Qué significa que un conjunto de números ses discreto?  \n",
    "\n",
    "* Cuando todos sus elementos están geométricamente separados. \n",
    "\n",
    "* La separabilidad y la discreción son sinónimos para nosotros. \n"
   ]
  },
  {
   "cell_type": "markdown",
   "id": "2a01a5cf",
   "metadata": {
    "slideshow": {
     "slide_type": "slide"
    }
   },
   "source": [
    "## Tarea realizar la representación geométrica de la separabilidad de los enteros con bolas disjuntas. "
   ]
  },
  {
   "cell_type": "code",
   "execution_count": null,
   "id": "fc5d9fd0",
   "metadata": {
    "slideshow": {
     "slide_type": "slide"
    }
   },
   "outputs": [],
   "source": []
  },
  {
   "cell_type": "code",
   "execution_count": null,
   "id": "ca5ac446",
   "metadata": {
    "slideshow": {
     "slide_type": "slide"
    }
   },
   "outputs": [],
   "source": [
    "import numpy as np\n",
    "import matplotlib.pyplot as plt \n",
    "\n",
    "punto1 = [1,0]\n",
    "punto2 = [2,0]\n",
    "\n",
    "x_coords, y_coords = zip(punto1, punto2)\n",
    "\n",
    "plt.scatter(x_coords, y_coords, color = 'red')\n",
    "\n",
    "plt.plot([0,3], [0,0], 'g', alpha = 0.4)\n"
   ]
  },
  {
   "cell_type": "markdown",
   "id": "6733bb53",
   "metadata": {
    "slideshow": {
     "slide_type": "slide"
    }
   },
   "source": [
    "6. ¿Qué significa que un conjunto sea continuo?  \n",
    "\n",
    "* Que ese conjunto tenga tantos elementos como la recta.\n",
    "* Es decir, si le asigno un punto  a cada elemento del conjunto no me quedo con puntos sin asignación. Cuando no hay asignación, geométricamente tenemos un vacío, \n"
   ]
  },
  {
   "cell_type": "markdown",
   "id": "b4d5b7dd",
   "metadata": {
    "slideshow": {
     "slide_type": "slide"
    }
   },
   "source": [
    "7. ¿Por qué se dice que los racionales son densos pero no continuos?\n",
    "\n",
    "* Los racionales son densos porque entre cada par de racionales distintos, existe al menos otro racional.\n",
    "* y son no continuos porque con ellos no puedo llenar todos los puntos de la recta.   "
   ]
  },
  {
   "cell_type": "markdown",
   "id": "9489e526",
   "metadata": {
    "slideshow": {
     "slide_type": "slide"
    }
   },
   "source": [
    "8. ¿Será que los reales son densos y continuos?\n",
    "\n",
    "* si. Los reales son densos y continuos. Es decir, entre dos reales distintos siempre encuentras otro real y con los números reales es suficiente para asignar uno a cada punto de la recta. "
   ]
  },
  {
   "cell_type": "markdown",
   "id": "40259035",
   "metadata": {
    "slideshow": {
     "slide_type": "slide"
    }
   },
   "source": [
    "9. ¿Que significa razón en matemáticas?\n",
    "\n",
    "\n",
    "una razón de dos números $a$ y $b$ es conciente de ellos:\n",
    "\n",
    "$$ \\frac{a}{b} $$\n",
    "\n",
    "razón es división"
   ]
  },
  {
   "cell_type": "markdown",
   "id": "efd6b390",
   "metadata": {
    "slideshow": {
     "slide_type": "slide"
    }
   },
   "source": [
    "## Referentes  \n",
    "\n",
    "* [stewart precálculo]()"
   ]
  },
  {
   "cell_type": "markdown",
   "id": "366ddb31",
   "metadata": {
    "slideshow": {
     "slide_type": "slide"
    }
   },
   "source": [
    "# Evaluemos al profesor [aquí](https://forms.office.com/Pages/ResponsePage.aspx?id=IefhmYRxjkmK_7KtTlPBwkanXIs1i1FEujpsZgO6dXpUREJPV1kxUk1JV1ozTFJIQVNIQjY5WEY3US4u)"
   ]
  },
  {
   "cell_type": "markdown",
   "id": "866acaee",
   "metadata": {
    "slideshow": {
     "slide_type": "slide"
    }
   },
   "source": [
    "## Siga su aprendizaje en la siguiente clase [aquí]()"
   ]
  },
  {
   "cell_type": "code",
   "execution_count": null,
   "id": "281a5941",
   "metadata": {
    "slideshow": {
     "slide_type": "slide"
    }
   },
   "outputs": [],
   "source": []
  }
 ],
 "metadata": {
  "celltoolbar": "Slideshow",
  "kernelspec": {
   "display_name": "Python 3 (ipykernel)",
   "language": "python",
   "name": "python3"
  },
  "language_info": {
   "codemirror_mode": {
    "name": "ipython",
    "version": 3
   },
   "file_extension": ".py",
   "mimetype": "text/x-python",
   "name": "python",
   "nbconvert_exporter": "python",
   "pygments_lexer": "ipython3",
   "version": "3.9.13"
  },
  "rise": {
   "enable_chalkboard": true,
   "theme": "sky",
   "transition": "zoom"
  }
 },
 "nbformat": 4,
 "nbformat_minor": 5
}
