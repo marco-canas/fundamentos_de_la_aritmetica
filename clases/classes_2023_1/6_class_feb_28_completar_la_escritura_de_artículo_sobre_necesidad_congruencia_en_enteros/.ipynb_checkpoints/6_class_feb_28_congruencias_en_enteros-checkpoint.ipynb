{
 "cells": [
  {
   "cell_type": "markdown",
   "id": "3904f991",
   "metadata": {},
   "source": []
  },
  {
   "cell_type": "markdown",
   "id": "02c33fe4",
   "metadata": {},
   "source": []
  },
  {
   "cell_type": "markdown",
   "id": "3f49ff05",
   "metadata": {},
   "source": []
  },
  {
   "cell_type": "code",
   "execution_count": null,
   "id": "096ba519",
   "metadata": {},
   "outputs": [],
   "source": []
  },
  {
   "cell_type": "code",
   "execution_count": null,
   "id": "9d5752ae",
   "metadata": {},
   "outputs": [],
   "source": []
  },
  {
   "cell_type": "code",
   "execution_count": null,
   "id": "3f2d494e",
   "metadata": {},
   "outputs": [],
   "source": []
  },
  {
   "cell_type": "code",
   "execution_count": null,
   "id": "2461c82d",
   "metadata": {},
   "outputs": [],
   "source": []
  },
  {
   "cell_type": "markdown",
   "id": "3f7840b1",
   "metadata": {},
   "source": [
    "## Referentes  \n",
    "\n",
    "* [Carlos Uscategui]() Página "
   ]
  },
  {
   "cell_type": "markdown",
   "id": "b9a99e23",
   "metadata": {},
   "source": [
    "## [Evaluación de la clase del profesor Marco Cañas](https://forms.office.com/Pages/ResponsePage.aspx?id=IefhmYRxjkmK_7KtTlPBwkanXIs1i1FEujpsZgO6dXpUREJPV1kxUk1JV1ozTFJIQVNIQjY5WEY3US4u)"
   ]
  }
 ],
 "metadata": {
  "kernelspec": {
   "display_name": "Python 3 (ipykernel)",
   "language": "python",
   "name": "python3"
  },
  "language_info": {
   "codemirror_mode": {
    "name": "ipython",
    "version": 3
   },
   "file_extension": ".py",
   "mimetype": "text/x-python",
   "name": "python",
   "nbconvert_exporter": "python",
   "pygments_lexer": "ipython3",
   "version": "3.9.13"
  }
 },
 "nbformat": 4,
 "nbformat_minor": 5
}
