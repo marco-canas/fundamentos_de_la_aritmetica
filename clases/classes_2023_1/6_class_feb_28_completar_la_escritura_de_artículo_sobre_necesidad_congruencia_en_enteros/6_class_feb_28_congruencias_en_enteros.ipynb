{
 "cells": [
  {
   "cell_type": "markdown",
   "id": "ea70f27d",
   "metadata": {},
   "source": []
  },
  {
   "cell_type": "markdown",
   "id": "e930de50",
   "metadata": {},
   "source": []
  },
  {
   "cell_type": "markdown",
   "id": "a96d8046",
   "metadata": {},
   "source": []
  },
  {
   "cell_type": "code",
   "execution_count": null,
   "id": "1a46d1bc",
   "metadata": {},
   "outputs": [],
   "source": []
  },
  {
   "cell_type": "code",
   "execution_count": null,
   "id": "60930659",
   "metadata": {},
   "outputs": [],
   "source": []
  },
  {
   "cell_type": "code",
   "execution_count": null,
   "id": "8e19dcf7",
   "metadata": {},
   "outputs": [],
   "source": []
  },
  {
   "cell_type": "code",
   "execution_count": null,
   "id": "4ed7db8a",
   "metadata": {},
   "outputs": [],
   "source": []
  },
  {
   "cell_type": "markdown",
   "id": "e7e66e0a",
   "metadata": {},
   "source": [
    "## Referentes  \n",
    "\n",
    "* [Carlos Uscategui]() Página "
   ]
  },
  {
   "cell_type": "markdown",
   "id": "5ad59136",
   "metadata": {},
   "source": [
    "## [Evaluación de la clase del profesor Marco Cañas](https://forms.office.com/Pages/ResponsePage.aspx?id=IefhmYRxjkmK_7KtTlPBwkanXIs1i1FEujpsZgO6dXpUREJPV1kxUk1JV1ozTFJIQVNIQjY5WEY3US4u)"
   ]
  }
 ],
 "metadata": {
  "kernelspec": {
   "display_name": "Python 3 (ipykernel)",
   "language": "python",
   "name": "python3"
  },
  "language_info": {
   "codemirror_mode": {
    "name": "ipython",
    "version": 3
   },
   "file_extension": ".py",
   "mimetype": "text/x-python",
   "name": "python",
   "nbconvert_exporter": "python",
   "pygments_lexer": "ipython3",
   "version": "3.9.13"
  }
 },
 "nbformat": 4,
 "nbformat_minor": 5
}
