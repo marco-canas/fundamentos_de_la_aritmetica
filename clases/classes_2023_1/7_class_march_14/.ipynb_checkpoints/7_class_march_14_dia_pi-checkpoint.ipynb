{
 "cells": [
  {
   "cell_type": "markdown",
   "id": "c4861a6d",
   "metadata": {
    "slideshow": {
     "slide_type": "slide"
    }
   },
   "source": [
    "<table align=\"left\">\n",
    "  <td>\n",
    "    <a href=\"https://colab.research.google.com/github/marco-canas/5_Fundamentos-de-la-aritm-tica/blob/main/clases/classes_2023_1/7_class_march_14/7_class_march_14_dia_pi.ipynb\" target=\"_parent\"><img src=\"https://colab.research.google.com/assets/colab-badge.svg\" alt=\"Open In Colab\"/></a>\n",
    "  </td>\n",
    "</table>"
   ]
  },
  {
   "cell_type": "markdown",
   "id": "edb5654d",
   "metadata": {
    "slideshow": {
     "slide_type": "slide"
    }
   },
   "source": [
    "## [Video de apoyo a la lectura interactiva y experimental de este cuaderno]()"
   ]
  },
  {
   "cell_type": "markdown",
   "id": "bbc146cd",
   "metadata": {
    "slideshow": {
     "slide_type": "slide"
    }
   },
   "source": [
    "# Clase 7 de marzo 14 Dia internacional de las matemáticas"
   ]
  },
  {
   "cell_type": "markdown",
   "id": "2937bbdf",
   "metadata": {
    "slideshow": {
     "slide_type": "slide"
    }
   },
   "source": [
    "## Objetivos específicos del curso de aritmética"
   ]
  },
  {
   "cell_type": "markdown",
   "id": "397ac562",
   "metadata": {
    "slideshow": {
     "slide_type": "slide"
    }
   },
   "source": [
    "* Identificar los números con cantidades concretas de una magnitud, dotando de significado la variación a partir de relaciones entre magnitudes. \n",
    "* Conocer la numeración y las razones que han conducido a su expresión y forma actual. \n",
    "* Reconocer las operaciones básicas entre números (con sus algoritmos), al igual que sus propiedades, derivadas de las acciones de contar y medir.\n",
    "* Interpretar el papel de las cantidades relativas para dar significado a los números enteros.\n",
    "* Interpretar significados para los números racionales a partir de los números para medir y de la noción de razón entre cantidades de magnitud."
   ]
  },
  {
   "cell_type": "markdown",
   "id": "4c3f9395",
   "metadata": {
    "slideshow": {
     "slide_type": "slide"
    }
   },
   "source": [
    "# Primer punto teórico\n",
    "\n",
    "1. ¿Cómo funciona el operador % en python?"
   ]
  },
  {
   "cell_type": "code",
   "execution_count": null,
   "id": "4c64777d",
   "metadata": {},
   "outputs": [],
   "source": []
  },
  {
   "cell_type": "code",
   "execution_count": null,
   "id": "72e4a4ed",
   "metadata": {},
   "outputs": [],
   "source": []
  }
 ],
 "metadata": {
  "celltoolbar": "Slideshow",
  "kernelspec": {
   "display_name": "Python 3 (ipykernel)",
   "language": "python",
   "name": "python3"
  },
  "language_info": {
   "codemirror_mode": {
    "name": "ipython",
    "version": 3
   },
   "file_extension": ".py",
   "mimetype": "text/x-python",
   "name": "python",
   "nbconvert_exporter": "python",
   "pygments_lexer": "ipython3",
   "version": "3.9.13"
  }
 },
 "nbformat": 4,
 "nbformat_minor": 5
}
