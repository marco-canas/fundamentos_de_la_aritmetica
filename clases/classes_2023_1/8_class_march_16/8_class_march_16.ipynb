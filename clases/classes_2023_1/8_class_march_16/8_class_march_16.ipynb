{
 "cells": [
  {
   "cell_type": "code",
   "execution_count": null,
   "id": "896f1516",
   "metadata": {},
   "outputs": [],
   "source": []
  },
  {
   "cell_type": "code",
   "execution_count": null,
   "id": "7d1b88a2",
   "metadata": {},
   "outputs": [],
   "source": []
  },
  {
   "cell_type": "markdown",
   "id": "06f86457",
   "metadata": {},
   "source": [
    "# Clase 8 de fundamentos de arimética"
   ]
  },
  {
   "cell_type": "code",
   "execution_count": null,
   "id": "6af7b923",
   "metadata": {},
   "outputs": [],
   "source": []
  },
  {
   "cell_type": "code",
   "execution_count": null,
   "id": "96c6a1ae",
   "metadata": {},
   "outputs": [],
   "source": []
  },
  {
   "cell_type": "code",
   "execution_count": null,
   "id": "cd2375d6",
   "metadata": {},
   "outputs": [],
   "source": []
  },
  {
   "cell_type": "markdown",
   "id": "fbbd47db",
   "metadata": {},
   "source": [
    "## Tareas para realizar por fuera de clase\n",
    "\n",
    "1. ¿Qué es un número natural?\n",
    "2. ¿Qué es un número entero?\n",
    "3. ¿Qúe es un número racional?\n",
    "4. ¿Qué significa que un conjunto sea denso?\n",
    "5. ¿Qué significa que un conjunto de números ses discreto?  \n",
    "6. ¿Qué significa que un conjunto sea continuo?\n",
    "7. ¿Por qué se dice que los racionales son densos pero no continuos?\n",
    "8. ¿Será que los reales son densos y continuos?"
   ]
  },
  {
   "cell_type": "markdown",
   "id": "8070d976",
   "metadata": {},
   "source": [
    "8. ¿Que significa razón en matemáticas?\n",
    "\n",
    "\n",
    "una razón de dos números $a$ y $b$ es conciente de ellos:\n",
    "\n",
    "$$ \\frac{a}{b} $$\n",
    "\n",
    "razón es división"
   ]
  },
  {
   "cell_type": "code",
   "execution_count": null,
   "id": "8ca48507",
   "metadata": {},
   "outputs": [],
   "source": []
  }
 ],
 "metadata": {
  "kernelspec": {
   "display_name": "Python 3 (ipykernel)",
   "language": "python",
   "name": "python3"
  },
  "language_info": {
   "codemirror_mode": {
    "name": "ipython",
    "version": 3
   },
   "file_extension": ".py",
   "mimetype": "text/x-python",
   "name": "python",
   "nbconvert_exporter": "python",
   "pygments_lexer": "ipython3",
   "version": "3.9.13"
  }
 },
 "nbformat": 4,
 "nbformat_minor": 5
}
