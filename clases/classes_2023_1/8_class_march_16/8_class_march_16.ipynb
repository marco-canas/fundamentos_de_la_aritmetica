{
 "cells": [
  {
   "cell_type": "markdown",
   "id": "cc2bb9f6",
   "metadata": {
    "slideshow": {
     "slide_type": "slide"
    }
   },
   "source": [
    "<table align=\"left\">\n",
    "  <td>\n",
    "    <a href=\"https://colab.research.google.com/github/marco-canas/5_Fundamentos-de-la-aritm-tica/blob/main/clases/classes_2023_1/7_class_march_14/7_class_march_14_dia_pi.ipynb\" target=\"_parent\"><img src=\"https://colab.research.google.com/assets/colab-badge.svg\" alt=\"Open In Colab\"/></a>\n",
    "  </td>\n",
    "</table>"
   ]
  },
  {
   "cell_type": "markdown",
   "id": "a1b00489",
   "metadata": {
    "slideshow": {
     "slide_type": "slide"
    }
   },
   "source": [
    "## [Video de apoyo]()"
   ]
  },
  {
   "cell_type": "markdown",
   "id": "71ab1da1",
   "metadata": {
    "slideshow": {
     "slide_type": "slide"
    }
   },
   "source": [
    "# Clase 8 de fundamentos de arimética"
   ]
  },
  {
   "cell_type": "markdown",
   "id": "9e6d39b9",
   "metadata": {
    "slideshow": {
     "slide_type": "slide"
    }
   },
   "source": [
    "## Objetivo de aprendizaje\n",
    "\n",
    "* Potenciación y radicación en los conjuntos numéricos de los naturales, los enteros y los racionales. \n",
    "\n"
   ]
  },
  {
   "cell_type": "code",
   "execution_count": 1,
   "id": "38370926",
   "metadata": {},
   "outputs": [
    {
     "data": {
      "text/plain": [
       "81"
      ]
     },
     "execution_count": 1,
     "metadata": {},
     "output_type": "execute_result"
    }
   ],
   "source": [
    "(-3)**4"
   ]
  },
  {
   "cell_type": "markdown",
   "id": "fb8925f0",
   "metadata": {},
   "source": [
    "## Conclusión:\n",
    "\n",
    "\n",
    "* Todo número real elevado a una potencia entera positiva par da como resultado un número positivo. "
   ]
  },
  {
   "cell_type": "markdown",
   "id": "ecfcc5b9",
   "metadata": {},
   "source": [
    "$$ (-3)^{4} $$\n",
    "\n",
    "la potenciación en latex es con el acento circunflejo"
   ]
  },
  {
   "cell_type": "markdown",
   "id": "1e6f3eeb",
   "metadata": {},
   "source": [
    "# Definición de potenciación de exponente entero positivo"
   ]
  },
  {
   "cell_type": "markdown",
   "id": "443ec7af",
   "metadata": {},
   "source": [
    "Sea $a \\in \\mathbb{R}^{+}$, con $a \\neq 1$ y $n \\in \\mathbb{Z}^{+}$. \n",
    "\n",
    "$$ a^{n}  = \\underbrace{a \\cdot a \\cdots a}_{n \\ \\text{veces}}$$\n"
   ]
  },
  {
   "cell_type": "markdown",
   "id": "8cca5ce0",
   "metadata": {},
   "source": [
    "Esto explica porque la conclusión anterior utilizando la ley de signos. "
   ]
  },
  {
   "cell_type": "markdown",
   "id": "d7e9f3e6",
   "metadata": {},
   "source": [
    "## Tareas para realizar por fuera de clase\n",
    "\n",
    "1. ¿Qué es un número natural?\n",
    "2. ¿Qué es un número entero?\n",
    "3. ¿Qúe es un número racional?\n",
    "4. ¿Qué significa que un conjunto sea denso?\n",
    "5. ¿Qué significa que un conjunto de números ses discreto?  \n",
    "6. ¿Qué significa que un conjunto sea continuo?\n",
    "7. ¿Por qué se dice que los racionales son densos pero no continuos?\n",
    "8. ¿Será que los reales son densos y continuos?"
   ]
  },
  {
   "cell_type": "markdown",
   "id": "7ddee279",
   "metadata": {},
   "source": [
    "8. ¿Que significa razón en matemáticas?\n",
    "\n",
    "\n",
    "una razón de dos números $a$ y $b$ es conciente de ellos:\n",
    "\n",
    "$$ \\frac{a}{b} $$\n",
    "\n",
    "razón es división"
   ]
  },
  {
   "cell_type": "markdown",
   "id": "2c2ee562",
   "metadata": {},
   "source": [
    "# Evaluemos al profesor [aquí](https://forms.office.com/Pages/ResponsePage.aspx?id=IefhmYRxjkmK_7KtTlPBwkanXIs1i1FEujpsZgO6dXpUREJPV1kxUk1JV1ozTFJIQVNIQjY5WEY3US4u)"
   ]
  },
  {
   "cell_type": "markdown",
   "id": "9ddecd30",
   "metadata": {},
   "source": [
    "## Siga su aprendizaje en la siguiente clase [aquí]()"
   ]
  },
  {
   "cell_type": "code",
   "execution_count": null,
   "id": "80853e11",
   "metadata": {},
   "outputs": [],
   "source": []
  }
 ],
 "metadata": {
  "celltoolbar": "Slideshow",
  "kernelspec": {
   "display_name": "Python 3 (ipykernel)",
   "language": "python",
   "name": "python3"
  },
  "language_info": {
   "codemirror_mode": {
    "name": "ipython",
    "version": 3
   },
   "file_extension": ".py",
   "mimetype": "text/x-python",
   "name": "python",
   "nbconvert_exporter": "python",
   "pygments_lexer": "ipython3",
   "version": "3.9.13"
  }
 },
 "nbformat": 4,
 "nbformat_minor": 5
}
