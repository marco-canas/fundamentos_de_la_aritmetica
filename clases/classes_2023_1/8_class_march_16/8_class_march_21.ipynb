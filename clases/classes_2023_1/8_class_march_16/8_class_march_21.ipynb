{
 "cells": [
  {
   "cell_type": "markdown",
   "id": "c3d5f9c9",
   "metadata": {
    "slideshow": {
     "slide_type": "slide"
    }
   },
   "source": [
    "<table align=\"left\">\n",
    "  <td>\n",
    "    <a href=\"https://colab.research.google.com/github/marco-canas/5_Fundamentos-de-la-aritm-tica/blob/main/clases/classes_2023_1/8_class_march_16/8_class_march_16.ipynb\" target=\"_parent\"><img src=\"https://colab.research.google.com/assets/colab-badge.svg\" alt=\"Open In Colab\"/></a>\n",
    "  </td>\n",
    "</table>"
   ]
  },
  {
   "cell_type": "markdown",
   "id": "7e47f7e7",
   "metadata": {
    "slideshow": {
     "slide_type": "slide"
    }
   },
   "source": [
    "## [Video de apoyo]()"
   ]
  },
  {
   "cell_type": "markdown",
   "id": "08d6ced1",
   "metadata": {
    "slideshow": {
     "slide_type": "slide"
    }
   },
   "source": [
    "# Clase 8 de fundamentos de arimética"
   ]
  },
  {
   "cell_type": "markdown",
   "id": "58c23535",
   "metadata": {
    "slideshow": {
     "slide_type": "slide"
    }
   },
   "source": [
    "## Objetivo de aprendizaje\n",
    "\n",
    "* Potenciación y radicación en los conjuntos numéricos de los naturales, los enteros y los racionales. \n",
    "\n"
   ]
  },
  {
   "cell_type": "code",
   "execution_count": 1,
   "id": "1b326c45",
   "metadata": {
    "slideshow": {
     "slide_type": "slide"
    }
   },
   "outputs": [
    {
     "data": {
      "text/plain": [
       "81"
      ]
     },
     "execution_count": 1,
     "metadata": {},
     "output_type": "execute_result"
    }
   ],
   "source": [
    "(-3)**4"
   ]
  },
  {
   "cell_type": "markdown",
   "id": "50a5557a",
   "metadata": {
    "slideshow": {
     "slide_type": "slide"
    }
   },
   "source": [
    "## Conclusión:\n",
    "\n",
    "\n",
    "* Todo número real elevado a una potencia entera positiva par da como resultado un número positivo. "
   ]
  },
  {
   "cell_type": "markdown",
   "id": "1b02bc8b",
   "metadata": {
    "slideshow": {
     "slide_type": "slide"
    }
   },
   "source": [
    "$$ (-3)^{4} $$\n",
    "\n",
    "la potenciación en latex es con el acento circunflejo"
   ]
  },
  {
   "cell_type": "markdown",
   "id": "6e179b22",
   "metadata": {
    "slideshow": {
     "slide_type": "slide"
    }
   },
   "source": [
    "# Definición de potenciación de exponente entero positivo"
   ]
  },
  {
   "cell_type": "markdown",
   "id": "86cf3214",
   "metadata": {},
   "source": [
    "Sea $a \\in \\mathbb{R}^{+}$, con $a \\neq 1$ y $n \\in \\mathbb{Z}^{+}$. \n",
    "\n",
    "$$ a^{n}  = \\underbrace{a \\cdot a \\cdots a}_{n \\ \\text{veces}}$$\n"
   ]
  },
  {
   "cell_type": "markdown",
   "id": "5d3c0370",
   "metadata": {},
   "source": [
    "Esto explica porque la conclusión anterior utilizando la ley de signos. "
   ]
  },
  {
   "cell_type": "markdown",
   "id": "9489e526",
   "metadata": {
    "slideshow": {
     "slide_type": "slide"
    }
   },
   "source": [
    "## Tareas para realizar por fuera de clase\n",
    "\n",
    "1. ¿Qué es un número natural?\n",
    "2. ¿Qué es un número entero?\n",
    "3. ¿Qúe es un número racional?\n",
    "4. ¿Qué significa que un conjunto sea denso?\n",
    "5. ¿Qué significa que un conjunto de números ses discreto?  \n",
    "6. ¿Qué significa que un conjunto sea continuo?\n",
    "7. ¿Por qué se dice que los racionales son densos pero no continuos?\n",
    "8. ¿Será que los reales son densos y continuos?"
   ]
  },
  {
   "cell_type": "markdown",
   "id": "40259035",
   "metadata": {},
   "source": [
    "8. ¿Que significa razón en matemáticas?\n",
    "\n",
    "\n",
    "una razón de dos números $a$ y $b$ es conciente de ellos:\n",
    "\n",
    "$$ \\frac{a}{b} $$\n",
    "\n",
    "razón es división"
   ]
  },
  {
   "cell_type": "markdown",
   "id": "366ddb31",
   "metadata": {
    "slideshow": {
     "slide_type": "slide"
    }
   },
   "source": [
    "# Evaluemos al profesor [aquí](https://forms.office.com/Pages/ResponsePage.aspx?id=IefhmYRxjkmK_7KtTlPBwkanXIs1i1FEujpsZgO6dXpUREJPV1kxUk1JV1ozTFJIQVNIQjY5WEY3US4u)"
   ]
  },
  {
   "cell_type": "markdown",
   "id": "866acaee",
   "metadata": {},
   "source": [
    "## Siga su aprendizaje en la siguiente clase [aquí]()"
   ]
  },
  {
   "cell_type": "code",
   "execution_count": null,
   "id": "281a5941",
   "metadata": {},
   "outputs": [],
   "source": []
  }
 ],
 "metadata": {
  "celltoolbar": "Slideshow",
  "kernelspec": {
   "display_name": "Python 3 (ipykernel)",
   "language": "python",
   "name": "python3"
  },
  "language_info": {
   "codemirror_mode": {
    "name": "ipython",
    "version": 3
   },
   "file_extension": ".py",
   "mimetype": "text/x-python",
   "name": "python",
   "nbconvert_exporter": "python",
   "pygments_lexer": "ipython3",
   "version": "3.9.13"
  },
  "rise": {
   "enable_chalkboard": true,
   "theme": "sky",
   "transition": "zoom"
  }
 },
 "nbformat": 4,
 "nbformat_minor": 5
}
