{
 "cells": [
  {
   "cell_type": "markdown",
   "id": "b23ce86c",
   "metadata": {},
   "source": [
    "<table align=\"left\">\n",
    "  <td>\n",
    "    <a href=\"https://colab.research.google.com/github/marco-canas/5_Fundamentos-de-la-aritm-tica/blob/main/clases/classes_2023_1/8_class_march_16/8_class_march_21.ipynb\" target=\"_parent\"><img src=\"https://colab.research.google.com/assets/colab-badge.svg\" alt=\"Open In Colab\"/></a>\n",
    "  </td>\n",
    "</table>"
   ]
  },
  {
   "cell_type": "markdown",
   "id": "9cf4734d",
   "metadata": {},
   "source": []
  },
  {
   "cell_type": "markdown",
   "id": "41368662",
   "metadata": {},
   "source": []
  },
  {
   "cell_type": "markdown",
   "id": "3d1763ee",
   "metadata": {},
   "source": [
    "# Tareas\n",
    "\n",
    "1. Prepare el parcial 1 de las primeras 8 clases\n",
    "2. Estudie el método de demostración por inducción matemática.\n",
    "3. Esta convencido de que el método de inducción matemática asegura el que podamos generalizar. "
   ]
  },
  {
   "cell_type": "code",
   "execution_count": null,
   "id": "118f2524",
   "metadata": {},
   "outputs": [],
   "source": []
  }
 ],
 "metadata": {
  "kernelspec": {
   "display_name": "Python 3 (ipykernel)",
   "language": "python",
   "name": "python3"
  },
  "language_info": {
   "codemirror_mode": {
    "name": "ipython",
    "version": 3
   },
   "file_extension": ".py",
   "mimetype": "text/x-python",
   "name": "python",
   "nbconvert_exporter": "python",
   "pygments_lexer": "ipython3",
   "version": "3.9.13"
  }
 },
 "nbformat": 4,
 "nbformat_minor": 5
}
