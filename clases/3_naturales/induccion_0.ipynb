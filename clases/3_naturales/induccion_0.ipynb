{
 "cells": [
  {
   "cell_type": "markdown",
   "id": "5cb79d2a",
   "metadata": {
    "slideshow": {
     "slide_type": "slide"
    }
   },
   "source": [
    "<table align=\"left\">\n",
    "  <td>\n",
    "<a href=\"https://colab.research.google.com/github/marco-canas/Fundamentos-de-la-aritm-tica/blob/main/clases/criba.ipynb\" target=\"_parent\"><img src=\"https://colab.research.google.com/assets/colab-badge.svg\" alt=\"Open In Colab\"/></a>\n",
    "  </td>\n",
    "</table>"
   ]
  },
  {
   "cell_type": "markdown",
   "id": "955da87d",
   "metadata": {
    "slideshow": {
     "slide_type": "slide"
    }
   },
   "source": [
    "## [Video de apoyo a la lectura de este cuaderno]()"
   ]
  },
  {
   "cell_type": "markdown",
   "id": "164b9771",
   "metadata": {
    "slideshow": {
     "slide_type": "slide"
    }
   },
   "source": [
    "# Principio de inducción matemática "
   ]
  },
  {
   "cell_type": "markdown",
   "id": "e25ccb56",
   "metadata": {
    "slideshow": {
     "slide_type": "slide"
    }
   },
   "source": [
    "Página 93 del PDF y página 87 del libro de [Carlos Uscátegui](https://udeaeduco-my.sharepoint.com/:b:/g/personal/marco_canas_udea_edu_co/ETDikm-lVl1Or8XoEo9oyh0BEti9Zs8le-f0D-dBdtZmbA?e=nTfSJS): Lógica, conjuntos y números. "
   ]
  },
  {
   "cell_type": "markdown",
   "id": "ac21e0bc",
   "metadata": {
    "slideshow": {
     "slide_type": "slide"
    }
   },
   "source": [
    "En este capítulo estudiaremos el Principio de Inducción Matemática. "
   ]
  },
  {
   "cell_type": "markdown",
   "id": "41c5d90d",
   "metadata": {
    "slideshow": {
     "slide_type": "slide"
    }
   },
   "source": [
    "En el se basa una herramienta fundamental en matemáticas: **las demostraciones por indución**. "
   ]
  },
  {
   "cell_type": "markdown",
   "id": "10666fb2",
   "metadata": {
    "slideshow": {
     "slide_type": "slide"
    }
   },
   "source": [
    "El principio de inducción permite establecer **leyes universales** acerca de los números naturales. "
   ]
  },
  {
   "cell_type": "markdown",
   "id": "9c527be2",
   "metadata": {
    "slideshow": {
     "slide_type": "slide"
    }
   },
   "source": [
    "Por ejemplo, considere la siguiente afirmación:\n",
    "\n",
    "$$ n < 2^{n}, \\ \\ \\ \\ \\text{para todo número natural}\\ n  $$"
   ]
  },
  {
   "cell_type": "markdown",
   "id": "6e5256d9",
   "metadata": {
    "slideshow": {
     "slide_type": "slide"
    }
   },
   "source": [
    "Sin mucho esfuerzo se **verifica** que esta afirmación es válida cuando $n$ toma cualquiera de los valores 0, 1, 2 o 3 y el lector podría, con un poco de paciencia, verificarla para muchos otros valores de $n$. "
   ]
  },
  {
   "cell_type": "markdown",
   "id": "02bf52ce",
   "metadata": {
    "slideshow": {
     "slide_type": "slide"
    }
   },
   "source": [
    "Sin embargo, esto no justifica que esa afirmación sea verdadera. "
   ]
  },
  {
   "cell_type": "markdown",
   "id": "3d4560de",
   "metadata": {
    "slideshow": {
     "slide_type": "slide"
    }
   },
   "source": [
    "**La herramienta usada para demostrar afirmaciones como: $n < 2^{n}$ $\\forall n \\in N$ y otras similares será estudiada en este capítulo.**"
   ]
  },
  {
   "cell_type": "markdown",
   "id": "d078ae50",
   "metadata": {
    "slideshow": {
     "slide_type": "slide"
    }
   },
   "source": [
    "no siempre una afirmación que se cumple para $n = 0, 1, 2, 3, 4$ se cumple para todo $n$ natural. Por ejemplo.\n",
    "\n",
    "\n",
    "Mostremos que la siguiente afirmación es falsa:\n",
    "\n",
    "Sea $p_{0}$ un número primo. \n",
    "\n",
    "Para todo número natural $n$ se cumple que \n",
    "\n",
    "$$ n^{2} - n + 41 \\ \\ \\ \\text{es primo}  $$\n",
    "\n",
    "\n",
    "Note que esta afirmación funciona para todo $n \\in \\mathbb{N}$ tal que $n < p_{0}$. "
   ]
  },
  {
   "cell_type": "markdown",
   "id": "abcce462",
   "metadata": {
    "slideshow": {
     "slide_type": "slide"
    }
   },
   "source": [
    "# 3.1. El principio de buena ordenación"
   ]
  },
  {
   "cell_type": "markdown",
   "id": "b3c8ff99",
   "metadata": {
    "slideshow": {
     "slide_type": "slide"
    }
   },
   "source": [
    "En esta sección estudiaremos una propiedad esencial del orden de los números naturales."
   ]
  },
  {
   "cell_type": "markdown",
   "id": "57f379a5",
   "metadata": {
    "slideshow": {
     "slide_type": "slide"
    }
   },
   "source": [
    "Consideremos los siguientes conjuntos de números naturales:\n",
    "\n",
    "1. $C_{1} = \\{ 1, 2, 3 \\}$  "
   ]
  },
  {
   "cell_type": "code",
   "execution_count": null,
   "id": "a5d4dfa0",
   "metadata": {
    "slideshow": {
     "slide_type": "slide"
    }
   },
   "outputs": [],
   "source": []
  },
  {
   "cell_type": "code",
   "execution_count": null,
   "id": "9ce10980",
   "metadata": {
    "slideshow": {
     "slide_type": "slide"
    }
   },
   "outputs": [],
   "source": []
  },
  {
   "cell_type": "markdown",
   "id": "8b627057",
   "metadata": {
    "slideshow": {
     "slide_type": "slide"
    }
   },
   "source": [
    "# Cuestionario\n",
    "\n",
    "1. Un conjunto de números naturales o reales puede tener una sola cota superior.\n",
    "\n",
    "Falso, porque de tener una cota superior, tiene necesariamente muchas ya que si $\\alpha $\n",
    " es cota superior, entonces $\\alpha + \\beta$, para toda $\\beta > 0$ es también cota siperior. \n",
    " \n",
    " Pues sumar positivos es hacerse más grande. \n",
    "2. Infinito es un elemento de los números reales ($\\infty \\in R$)\n",
    "\n"
   ]
  },
  {
   "cell_type": "code",
   "execution_count": null,
   "id": "f75d9bfe",
   "metadata": {},
   "outputs": [],
   "source": []
  },
  {
   "cell_type": "markdown",
   "id": "72fd54ea",
   "metadata": {
    "slideshow": {
     "slide_type": "slide"
    }
   },
   "source": [
    "## Tareas para realizar fuera de clase\n",
    "\n",
    "\n",
    "Página 117 del uzcátegui. Hacer los doce ejercicios. \n",
    "\n"
   ]
  },
  {
   "cell_type": "code",
   "execution_count": null,
   "id": "28547aae",
   "metadata": {},
   "outputs": [],
   "source": []
  },
  {
   "cell_type": "code",
   "execution_count": null,
   "id": "577f7866",
   "metadata": {},
   "outputs": [],
   "source": []
  }
 ],
 "metadata": {
  "celltoolbar": "Slideshow",
  "kernelspec": {
   "display_name": "Python 3 (ipykernel)",
   "language": "python",
   "name": "python3"
  },
  "language_info": {
   "codemirror_mode": {
    "name": "ipython",
    "version": 3
   },
   "file_extension": ".py",
   "mimetype": "text/x-python",
   "name": "python",
   "nbconvert_exporter": "python",
   "pygments_lexer": "ipython3",
   "version": "3.9.13"
  },
  "rise": {
   "enable_chalkboard": true,
   "theme": "sky",
   "transition": "sky"
  },
  "vscode": {
   "interpreter": {
    "hash": "ae115c8122ba000a648ea691cf086e95841d767d998fc7ed45e791bf48fd755e"
   }
  }
 },
 "nbformat": 4,
 "nbformat_minor": 5
}
