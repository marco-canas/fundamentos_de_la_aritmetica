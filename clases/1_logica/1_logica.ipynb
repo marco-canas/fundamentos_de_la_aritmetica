{
 "cells": [
  {
   "cell_type": "markdown",
   "metadata": {
    "colab_type": "text",
    "id": "view-in-github",
    "slideshow": {
     "slide_type": "slide"
    }
   },
   "source": [
    "<table align=\"left\">\n",
    "  <td>\n",
    "<a href=\"https://colab.research.google.com/github/marco-canas/fundamentos_de_la_aritmetica/blob/main/clases/1_logica/1_logica.ipynb\" target=\"_parent\"><img src=\"https://colab.research.google.com/assets/colab-badge.svg\" alt=\"Open In Colab\"/></a>\n",
    "       </td>\n",
    "</table>"
   ]
  },
  {
   "cell_type": "markdown",
   "metadata": {},
   "source": [
    "## [Video de apoyo a la lectura interactiva y experimental de este cuaderno]()"
   ]
  },
  {
   "cell_type": "markdown",
   "metadata": {},
   "source": [
    "## [Programas de curso de toda la licencuatura en matemáticas](https://drive.google.com/drive/folders/1dNHbB0Vd00qWRchty1TIRNQVvi7IzI21)\n",
    "## [Vínculo al programa del curso contextualizado a la metodología de aula invertida:](https://github.com/marco-canas/fundamentos_de_la_aritmetica/blob/main/programa_fundamentos_aritmetica_aula_invertida.docx)\n",
    "\n",
    "* Todos los profesores debemos proponer objetivos de formación\n",
    "* Propuesta de evaluación \n",
    "* Y propuesta de metodología\n",
    "* Y propuesta de bibliografía. "
   ]
  },
  {
   "cell_type": "markdown",
   "metadata": {
    "id": "adcCkBKkjQUn",
    "slideshow": {
     "slide_type": "slide"
    }
   },
   "source": [
    "# [Unidad didáctica de Lógica](http://ayura.udea.edu.co/logicamatematica/talleres.htm)"
   ]
  },
  {
   "cell_type": "markdown",
   "metadata": {
    "slideshow": {
     "slide_type": "slide"
    }
   },
   "source": [
    "# Tablas de verdad y leyes lógicas"
   ]
  },
  {
   "cell_type": "markdown",
   "metadata": {
    "slideshow": {
     "slide_type": "slide"
    }
   },
   "source": [
    "## La ley de la disyunción"
   ]
  },
  {
   "cell_type": "markdown",
   "metadata": {
    "slideshow": {
     "slide_type": "slide"
    }
   },
   "source": [
    "La mamá de Juanito le dice: \n",
    "\n",
    "Puedes jugar con el celular cuando y sólo cuando laves los trastes o barras la casa. \n",
    "De lo dicho por la mamá se infiere que la única menera que Juenito no salga es cuendo no hace ambas labores, es decir, la disyunción solo es falsa cuendo ambas proposiciones atómicas son falsas:"
   ]
  },
  {
   "cell_type": "code",
   "execution_count": 11,
   "metadata": {
    "slideshow": {
     "slide_type": "slide"
    }
   },
   "outputs": [
    {
     "name": "stdout",
     "output_type": "stream",
     "text": [
      "$L$\t$B$\t$L \\vee B$\n",
      "--------------------------\n",
      "True\tTrue\tTrue\n",
      "True\tFalse\tTrue\n",
      "False\tTrue\tTrue\n",
      "False\tFalse\tFalse\n"
     ]
    }
   ],
   "source": [
    "print(r'$L$' + '\\t' + r'$B$' + '\\t' + r'$L \\vee B$')\n",
    "print('-'*26)\n",
    "valores_verdad = [True, False]\n",
    "\n",
    "for i in valores_verdad:\n",
    "    for j in valores_verdad:\n",
    "        print(str(i) + '\\t' + str(j) + '\\t' + str(i or j))\n",
    "        "
   ]
  },
  {
   "cell_type": "markdown",
   "metadata": {
    "slideshow": {
     "slide_type": "slide"
    }
   },
   "source": [
    "## Construcción de la primera ley de De Morgan utilizando el contrarrecíproco y la capacidad de hacer inferencias de una premisa o suposición. "
   ]
  },
  {
   "cell_type": "markdown",
   "metadata": {
    "slideshow": {
     "slide_type": "slide"
    }
   },
   "source": [
    "## Si lavas los trastes o barres, entonces te dejo salir. \n",
    "\n",
    "Luego de que Juanito no  haya salió se infiere que:\n",
    "\n",
    "$$ \\neg ( L \\vee B); $$\n",
    "\n",
    "es decir, \n",
    "\n",
    "\n",
    "$$ no labó los trastes y no barrió la casa.  $$\n"
   ]
  },
  {
   "cell_type": "markdown",
   "metadata": {
    "slideshow": {
     "slide_type": "slide"
    }
   },
   "source": [
    "De donde se deriva la siguiente ley lógica:\n",
    "\n",
    "$$ \\neg(P \\vee Q) \\ \\ \\ \\equiv\\ \\ \\  (\\neg P \\wedge \\neg Q) $$\n"
   ]
  },
  {
   "cell_type": "markdown",
   "metadata": {
    "id": "LeJPyOM-kyiv",
    "slideshow": {
     "slide_type": "slide"
    }
   },
   "source": [
    "## 5.3. OBJETIVOS"
   ]
  },
  {
   "cell_type": "markdown",
   "metadata": {
    "id": "LeJPyOM-kyiv",
    "slideshow": {
     "slide_type": "slide"
    }
   },
   "source": [
    "* Construir, a partir del juego, esquemas básicos de razonamiento lógico.\n",
    "* Construir, tomando como primitivos, los conectivos lógicos \"no\" y \"o\", los restantes conectivos lógicos: \"si... entonces\", \"y\" y \"si y sólo si\".\n",
    "* Visualizar las propiedades más importantes de cada uno los conectivos y expresarlas en forma de leyes lógicas.\n",
    "* Mostrar en qué forma se niegan los conectivos, enunciando las leyes de De Morgan."
   ]
  },
  {
   "cell_type": "markdown",
   "metadata": {
    "id": "AU0W6klPkywN",
    "slideshow": {
     "slide_type": "slide"
    }
   },
   "source": [
    "# 5.4. PRESENTACIÓN DE LOS BLOQUES LÓGICOS"
   ]
  },
  {
   "cell_type": "markdown",
   "metadata": {
    "id": "AU0W6klPkywN",
    "slideshow": {
     "slide_type": "slide"
    }
   },
   "source": [
    "Se trata de un conjunto de 48 piezas, diseñadas así:\n",
    "\n",
    "Tres colores: amarillo, azul y rojo.\n",
    "\n",
    "Cuatro formas: cuadrado, rectángulo, círculo, triángulo.\n",
    "\n",
    "Dos tamaños: grande, pequeño.\n",
    "\n",
    "Dos espesores: grueso, delgado.\n",
    "\n",
    "Se tienen, entonces, cuatro variables, cuyos valores producen 48 figuras diferentes, el producto de 3 x 4 x 2 x 2.\n",
    "\n",
    "El material debe ser libremente manejado por los jóvenes, antes de comenzar a plantear actividades. Es necesario que aprendan a nombrar cada uno de los bloques de acuerdo con sus cuatro características."
   ]
  },
  {
   "cell_type": "code",
   "execution_count": 4,
   "metadata": {
    "colab": {
     "base_uri": "https://localhost:8080/"
    },
    "id": "l1DU02PKn4w7",
    "outputId": "487ffc0f-2f08-472c-91ad-0d5fdc7437cc",
    "slideshow": {
     "slide_type": "slide"
    }
   },
   "outputs": [
    {
     "data": {
      "text/plain": [
       "False"
      ]
     },
     "execution_count": 4,
     "metadata": {},
     "output_type": "execute_result"
    }
   ],
   "source": [
    "False or False"
   ]
  },
  {
   "cell_type": "markdown",
   "metadata": {
    "slideshow": {
     "slide_type": "slide"
    }
   },
   "source": [
    "## 5.2. CONDICIONES PEDAGÓGICAS"
   ]
  },
  {
   "cell_type": "markdown",
   "metadata": {
    "slideshow": {
     "slide_type": "slide"
    }
   },
   "source": [
    "La utilización de los bloques lógicos, como mediadores para el establecimiento de los esquemas básicos del razonamiento lógico matemático, tiene las siguientes ventajas pedagógicas:\n",
    "\n",
    "* Proporciona un soporte material para la fijación de esquemas de razonamiento.\n",
    "* La forma en que los estudiantes realizan la actividad con ellos, constituye un indicador de las competencias necesarias para el desarrollo del pensamiento lógico. El maestro puede detectar, en el alumno, dificultades clasificatorias, que ya consideraba superadas.\n",
    "    El desarrollo del cálculo proposicional, a través de las actividades propuestas con este material, permite asimilar los contenidos proposicionales, eliminando las dificultades de tipo sicológico que se involucran, cuando se trabaja sobre enunciados del lenguaje ordinario.\n",
    "    Las operaciones lógicas se plasman en la formación de los conjuntos que verifican las propiedades expresadas por dichas operaciones. La lógica se va desarrollando a la par con la teoría de conjuntos."
   ]
  },
  {
   "cell_type": "markdown",
   "metadata": {
    "slideshow": {
     "slide_type": "slide"
    }
   },
   "source": [
    "5.3. OBJETIVOS\n",
    "\n",
    "* Construir, a partir del juego, esquemas básicos de razonamiento lógico.\n",
    "* Construir, tomando como primitivos, los conectivos lógicos \"no\" y \"o\", los restantes conectivos lógicos: \"si... entonces\", \"y\" y \"si y sólo si\".\n",
    "* Visualizar las propiedades más importantes de cada uno los conectivos y expresarlas en forma de leyes lógicas.\n",
    "* Mostrar en qué forma se niegan los conectivos, enunciando las leyes de De Morgan."
   ]
  },
  {
   "cell_type": "markdown",
   "metadata": {
    "slideshow": {
     "slide_type": "slide"
    }
   },
   "source": [
    "# 5.4. PRESENTACIÓN DE LOS BLOQUES LÓGICOS"
   ]
  },
  {
   "cell_type": "markdown",
   "metadata": {
    "slideshow": {
     "slide_type": "slide"
    }
   },
   "source": [
    "Se trata de un conjunto de 48 piezas, diseñadas así:\n",
    "\n",
    "* Tres colores: amarillo, azul y rojo.\n",
    "\n",
    "* Cuatro formas: cuadrado, rectángulo, círculo, triángulo.\n",
    "\n",
    "* Dos tamaños: grande, pequeño.\n",
    "\n",
    "* Dos espesores: grueso, delgado."
   ]
  },
  {
   "cell_type": "markdown",
   "metadata": {
    "slideshow": {
     "slide_type": "slide"
    }
   },
   "source": [
    "Se tienen, entonces, cuatro variables, cuyos valores producen 48 figuras diferentes, el producto de $3 \\times 4 \\times 2 \\times 2$."
   ]
  },
  {
   "cell_type": "markdown",
   "metadata": {
    "slideshow": {
     "slide_type": "slide"
    }
   },
   "source": [
    "El material debe ser libremente manejado por los jóvenes, antes de comenzar a plantear actividades. Es necesario que aprendan a nombrar cada uno de los bloques de acuerdo con sus cuatro características."
   ]
  },
  {
   "cell_type": "markdown",
   "metadata": {
    "slideshow": {
     "slide_type": "slide"
    }
   },
   "source": [
    "# 5.5. JUEGOS"
   ]
  },
  {
   "cell_type": "markdown",
   "metadata": {
    "slideshow": {
     "slide_type": "slide"
    }
   },
   "source": [
    "## 5.5.1. Juego de la pieza escondida."
   ]
  },
  {
   "cell_type": "markdown",
   "metadata": {
    "slideshow": {
     "slide_type": "slide"
    }
   },
   "source": [
    "Un joven esconde una pieza.   \n",
    "El resto del equipo tiene que descubrir cuál ha sido la pieza escondida.   \n",
    "\n",
    "Inicialmente, se permite que los jóvenes manipulen los bloques y hagan sus ordenaciones. Más adelante, se les sugiere que descubran la pieza que falta sin tocar las demás.  \n",
    "\n",
    "Una variación, más complicada, podría ser esconder tres piezas escogidas, por ejemplo tres colores distintos, pero de la misma forma, del mismo tamaño y del mismo grosor."
   ]
  },
  {
   "cell_type": "markdown",
   "metadata": {
    "slideshow": {
     "slide_type": "slide"
    }
   },
   "source": [
    "## 5.5.2. Juego de negación con dos equipos."
   ]
  },
  {
   "cell_type": "markdown",
   "metadata": {
    "slideshow": {
     "slide_type": "slide"
    }
   },
   "source": [
    "Finalidad del juego: Si una cosa está en un determinado sitio, no puede estar al mismo tiempo en otra parte. (Principio de no contradicción)."
   ]
  },
  {
   "cell_type": "markdown",
   "metadata": {
    "slideshow": {
     "slide_type": "slide"
    }
   },
   "source": [
    "Se forman dos equipos; se colocan a lado y lado de una mesa con una pantalla de separación, de modo que cada equipo pueda observar sus bloques únicamente. Cada equipo posee 24 bloques elegidos al azar. Se trata de que cada equipo debe pedir al otro los bloques que posee, designándolos con los cuatro atributos. Cuando un bloque ha sido pedido una vez, no puede volver a pedirse."
   ]
  },
  {
   "cell_type": "markdown",
   "metadata": {
    "slideshow": {
     "slide_type": "slide"
    }
   },
   "source": [
    "## 5.5.3. Juego de las respuestas y deducciones."
   ]
  },
  {
   "cell_type": "markdown",
   "metadata": {
    "slideshow": {
     "slide_type": "slide"
    }
   },
   "source": [
    "Para este juego, deben tenerse unas tarjetas con las siguientes inscripciones: no, grueso, delgado, grande, pequeño, cuadrado, rectángulo, círculo, triángulo, amarillo, azul y rojo."
   ]
  },
  {
   "cell_type": "markdown",
   "metadata": {
    "slideshow": {
     "slide_type": "slide"
    }
   },
   "source": [
    "Un joven piensa en un bloque y, seguidamente, sus compañeros le formulan preguntas como: ¿es grande? ¿es rojo?... A estas preguntas, el joven responde sí o no. Cada vez que se hace una pregunta, se coloca en la mesa la tarjeta donde está escrita la propiedad preguntada. Si la respuesta es negativa, se coloca la tarjeta con la palabra no, a la izquierda de la tarjeta correspondiente a la pregunta; si es afirmativa, basta dejar la tarjeta en su lugar. De esta manera, se va conformando una columna con las respuestas dadas por el joven. Se puede formar otra columna al frente de la de las respuestas, en esta se colocan las deducciones que los muchachos sacan de las respuestas."
   ]
  },
  {
   "cell_type": "markdown",
   "metadata": {
    "slideshow": {
     "slide_type": "slide"
    }
   },
   "source": [
    "## 5.5.4. Juegos de diferencia."
   ]
  },
  {
   "cell_type": "markdown",
   "metadata": {
    "slideshow": {
     "slide_type": "slide"
    }
   },
   "source": [
    "5.5.4.1. Juego con una diferencia: Entre dos bloques lógicos hay, por lo menos, una diferencia. El juego siguiente sirve para ayudar a los muchachos a tomar conciencia de estas diferencias y semejanzas.\n",
    "\n",
    "Un alumno coloca una pieza cualquiera del conjunto encima de la mesa. El alumno siguiente elegirá una pieza que difiera de la primera solamente en un atributo. Esta diferencia tendrá que referirse al tamaño, al grosor, al color o a la forma. El siguiente elegirá una pieza que se diferencie de la segunda, igualmente, por un solo atributo. El ejercicio continuará de esta manera, hasta que todas o casi todas las piezas estén colocadas en una hilera.\n",
    "\n",
    "5.5.4.2 Juego con dos diferencias: Consiste en jugar en un tablero con dos direcciones, de izquierda a derecha y de atrás hacia adelante. En la línea de izquierda a derecha se colocan los bloques contiguos que tengan una sola diferencia y en la línea atrás - adelante, los que tengan dos diferencias. Un problema interesante y difícil es llenar las esquinas.\n",
    "\n",
    "Para llenar el espacio marcado con ? es necesario tener en cuenta una diferencia con respecto a B2 y dos con respecto a B1. En muchos casos, será imposible, con las fichas disponibles, llenar este lugar. Cuando esto ocurra, debe construirse una argumentación explicando el por qué de la imposibilidad.\n",
    "\n",
    "5.5.4.3. Actividades. En los ejercicios que se presentan a continuación, coloque únicamente los bloques de acuerdo con las características anotadas en las cuadrículas respectivas. Determine el bloque o bloques que pueden ocupar la posición señalada con el signo \"?\".\n",
    "\n",
    "Construya para cada situación una argumentación sistemática que le permita fundamentar la solución."
   ]
  },
  {
   "cell_type": "markdown",
   "metadata": {
    "slideshow": {
     "slide_type": "slide"
    }
   },
   "source": [
    "## 5.5.4.3.1.\n",
    "  \t\n",
    "\n",
    "Cuadrado\n",
    "amarillo\n",
    "pequeño\n",
    "delgado\n",
    "\t\n",
    "\n",
    "?\n",
    "\t  \t  \t \n",
    "\n",
    "Círculo\n",
    "amarillo\n",
    "grande\n",
    "delgado\n",
    "\t\n",
    "\n",
    "Círculo\n",
    "amarillo\n",
    "grande\n",
    "grueso\n",
    "\t  \t  \t \n",
    "\n",
    "Triángulo\n",
    "amarillo\n",
    "grande\n",
    "grueso\n",
    "\t\n",
    "\n",
    "Triángulo\n",
    "rojo\n",
    "grande\n",
    "grueso\n",
    "\t\n",
    "\n",
    "rectángulo\n",
    "rojo\n",
    "grande\n",
    "grueso\n",
    "\t\n",
    "\n",
    "rectángulo\n",
    "azul\n",
    "grande\n",
    "grueso\n",
    "\t\n",
    "\n",
    "cuadrado\n",
    "azul\n",
    "grande\n",
    "grueso\n",
    "\n",
    " \n",
    "\n",
    " \n",
    "\n",
    " \n",
    "\n",
    " \n",
    "\n",
    " \n",
    "\n",
    " \n",
    "\n",
    " "
   ]
  },
  {
   "cell_type": "markdown",
   "metadata": {
    "slideshow": {
     "slide_type": "slide"
    }
   },
   "source": [
    "## 5.5.4.3.2.\n",
    "  \t\n",
    "\n",
    "cuadrado\n",
    "amarillo\n",
    "pequeño\n",
    "delgado\n",
    "\t  \t  \t  \t \n",
    "\n",
    "círculo\n",
    "amarillo\n",
    "grande\n",
    "delgado\n",
    "\t\n",
    "\n",
    "círculo\n",
    "amarillo\n",
    "grande\n",
    "grueso\n",
    "\t\n",
    "\n",
    "cuadrado\n",
    "amarillo\n",
    "grande\n",
    "grueso\n",
    "\t\n",
    "\n",
    "?\n",
    "\t \n",
    "\n",
    "triángulo\n",
    "amarillo\n",
    "grande\n",
    "grueso\n",
    "\t\n",
    "\n",
    "triángulo\n",
    "rojo\n",
    "grande\n",
    "grueso\n",
    "\t\n",
    "\n",
    "rectángulo\n",
    "rojo\n",
    "grande\n",
    "grueso\n",
    "\t\n",
    "\n",
    "rectángulo\n",
    "azul\n",
    "grande\n",
    "grueso\n",
    "\t\n",
    "\n",
    "cuadrado\n",
    "azul\n",
    "grande\n",
    "grueso\n",
    "\n",
    " \n",
    "\n",
    " \n",
    "\n",
    " \n",
    "\n",
    " \n",
    "\n",
    " \n",
    "\n",
    " \n",
    "\n",
    " "
   ]
  },
  {
   "cell_type": "markdown",
   "metadata": {
    "slideshow": {
     "slide_type": "slide"
    }
   },
   "source": [
    "## 5.5.4.3.3.\n",
    "  \t\n",
    "\n",
    "cuadrado\n",
    "amarillo\n",
    "grande\n",
    "grueso\n",
    "\t\n",
    "\n",
    "cuadrado\n",
    "rojo\n",
    "grande\n",
    "grueso\n",
    "\t\n",
    "\n",
    "?\n",
    "\t  \t \n",
    "\n",
    "círculo\n",
    "amarillo\n",
    "grande\n",
    "delgado\n",
    "\t\n",
    "\n",
    "círculo\n",
    "amarillo\n",
    "grande\n",
    "grueso\n",
    "\t\n",
    "\n",
    "círculo\n",
    "azul\n",
    "grande\n",
    "grueso\n",
    "\t  \t \n",
    "\n",
    "triángulo\n",
    "amarillo\n",
    "grande\n",
    "grueso\n",
    "\t\n",
    "\n",
    "triángulo\n",
    "rojo\n",
    "grande\n",
    "grueso\n",
    "\t\n",
    "\n",
    "rectángulo\n",
    "rojo\n",
    "grande\n",
    "grueso\n",
    "\t  \t \n",
    "\n",
    "\n",
    " \n",
    "\n",
    " \n",
    "\n",
    " \n",
    "\n",
    " \n",
    "\n",
    " \n",
    "\n",
    " "
   ]
  },
  {
   "cell_type": "markdown",
   "metadata": {
    "slideshow": {
     "slide_type": "slide"
    }
   },
   "source": [
    "# 5.6. CONSTRUCCIÓN DE LAS LEYES BÁSICAS DE LA LÓGICA"
   ]
  },
  {
   "cell_type": "markdown",
   "metadata": {
    "slideshow": {
     "slide_type": "slide"
    }
   },
   "source": [
    "## 5.6.1. Actividad N° 1"
   ]
  },
  {
   "cell_type": "markdown",
   "metadata": {
    "slideshow": {
     "slide_type": "slide"
    }
   },
   "source": [
    "Encierre dentro de un redondel, formado con una cuerda, todas las piezas que sean círculos y sólo estos. En el interior de otro redondel, coloque todas aquellas piezas que sean azules y sólo éstas. Es evidente que los redondeles tendrán que superponerse para colocar los círculos azules, de tal forma, que estén en el interior de los dos redondeles.\n",
    "\n",
    "Reúna ahora en un solo redondel todas las piezas que sean círculos o azules y sólo éstas."
   ]
  },
  {
   "cell_type": "markdown",
   "metadata": {
    "slideshow": {
     "slide_type": "slide"
    }
   },
   "source": [
    "## Preguntas"
   ]
  },
  {
   "cell_type": "markdown",
   "metadata": {
    "slideshow": {
     "slide_type": "slide"
    }
   },
   "source": [
    "* ¿Es necesario que un bloque sea a la vez círculo y azul para estar dentro del redondel?\n",
    "    ¿Es suficiente que un bloque sea círculo para estar dentro del redondel?\n",
    "    ¿Es esto necesario?\n",
    "    ¿Es suficiente que un bloque sea azul para estar dentro del redondel?\n",
    "    ¿Es esto necesario?\n",
    "    ¿Si no es un círculo y está en el redondel necesariamente es: _____\n",
    "    Si no es azul y está en el redondel necesariamente es: __________\n",
    "    ¿Qué piezas quedan por fuera?\n",
    "    ¿Qué propiedad tienen?\n",
    "\n",
    "Iniciación a la simbolización\n",
    "\n",
    "Nombre como x a una pieza cualquiera de la colección y a los atributos mencionados, así:\n",
    "\n",
    ": x es un bloque circular\n",
    ": x es un bloque azul.\n",
    "\n",
    "Con estos atributos se forman los conjuntos:\n",
    "\n",
    "y\n",
    "\n",
    "La reunión de los conjuntos A y B se designa , que también puede llamarse unión de A y B.\n",
    "\n",
    "\n",
    "Ahora, las piezas que quedan por fuera son las que no poseen el atributo, es decir,\n",
    "\n",
    "y ellas son las no circulares y no azules, no y no .\n",
    "\n",
    "Además, cumplir la propiedad o es lo mismo que: si no entonces , o también: si no entonces .\n",
    "\n",
    "Resumiendo, podemos decir que las piezas que están dentro del redondel, o sea las que verifican la propiedad o son:\n",
    "\n",
    "los círculos no azules, los círculos azules, los no círculos azules. Las que quedan por fuera son los no círculos no azules. Podemos indicar esto mediante el siguiente diagrama:"
   ]
  },
  {
   "cell_type": "markdown",
   "metadata": {
    "slideshow": {
     "slide_type": "slide"
    }
   },
   "source": [
    "Si indicamos con la letra V la verificación de la propiedad y con la letra F la no verificación, podemos conformar la siguiente tabla:\n",
    "\n",
    "\t\n",
    "\n",
    "\t\n",
    "\n",
    "o\n",
    "\n",
    "V\n",
    "\t\n",
    "\n",
    "V\n",
    "\t\n",
    "\n",
    "V\n",
    "\n",
    "V\n",
    "\t\n",
    "\n",
    "F\n",
    "\t\n",
    "\n",
    "V\n",
    "\n",
    "F\n",
    "\t\n",
    "\n",
    "V\n",
    "\t\n",
    "\n",
    "V\n",
    "\n",
    "F\n",
    "\t\n",
    "\n",
    "F\n",
    "\t\n",
    "\n",
    "F"
   ]
  },
  {
   "cell_type": "markdown",
   "metadata": {
    "slideshow": {
     "slide_type": "slide"
    }
   },
   "source": [
    "# 5.6.2. Actividad N° 2"
   ]
  },
  {
   "cell_type": "markdown",
   "metadata": {
    "slideshow": {
     "slide_type": "slide"
    }
   },
   "source": [
    "Encierre dentro de un redondel todas las piezas que no sean círculos o sean azules y sólo éstas.\n",
    "\n",
    "Preguntas:\n",
    "\n",
    "    ¿Es necesario que un bloque sea, a la vez, no círculo y azul para estar dentro del redondel?\n",
    "    ¿Es suficiente que un bloque no sea círculo para estar dentro del redondel?\n",
    "    ¿Es esto necesario?\n",
    "    ¿Es suficiente que un bloque sea azul para estar dentro del redondel?\n",
    "    ¿Es esto necesario?\n",
    "    Si es un círculo y está en el redondel necesariamente es: _______\n",
    "    Si no es azul y está en el redondel necesariamente es: __________\n",
    "    ¿Qué piezas quedan por fuera?\n",
    "    ¿Qué propiedad tienen?\n",
    "    Si designamos por:\n",
    "\n",
    "    Cx: x es un bloque circular\n",
    "    Ax: x es un bloque azul.\n",
    "    A’: El conjunto de los bloques no circulares\n",
    "    B: El conjunto de los bloques azules\n",
    "\n",
    "O sea: y .\n",
    "\n",
    "Se forma el conjunto reunión de A’ con B,\n",
    "\n",
    "De acuerdo con las observaciones realizadas, se tiene:\n",
    "\n",
    "no o\n",
    "\n",
    "es lo mismo que:\n",
    "\t\n",
    "\n",
    "Las piezas que quedan por fuera son las que no cumplen la propiedad; esto es:\n",
    "\n",
    "no (no o ) y son los círculos no azules, y no . Luego,\n",
    "\n",
    "no (no o ) es lo mismo que y no .\n",
    "\n",
    "Se puede decir que las piezas que están dentro del redondel son las que verifican la propiedad:\n",
    "\n",
    "\"Si , entonces \". Esta expresión se puede abreviar escribiendo, .\n",
    "\n",
    "Ahora, las piezas que quedan dentro del redondel son círculos azules, no círculos azules, no círculos no azules."
   ]
  },
  {
   "cell_type": "markdown",
   "metadata": {
    "slideshow": {
     "slide_type": "slide"
    }
   },
   "source": [
    "Estos resultados pueden resumirse en la siguiente tabla:\n",
    "\n",
    "\t\n",
    "\n",
    "\t\n",
    "\n",
    "V\n",
    "\t\n",
    "\n",
    "V\n",
    "\t\n",
    "\n",
    "V\n",
    "\n",
    "V\n",
    "\t\n",
    "\n",
    "F\n",
    "\t\n",
    "\n",
    "F\n",
    "\n",
    "F\n",
    "\t\n",
    "\n",
    "V\n",
    "\t\n",
    "\n",
    "V\n",
    "\n",
    "F\n",
    "\t\n",
    "\n",
    "F\n",
    "\t\n",
    "\n",
    "V"
   ]
  },
  {
   "cell_type": "markdown",
   "metadata": {
    "slideshow": {
     "slide_type": "slide"
    }
   },
   "source": [
    "# 5.6.3. Actividad N° 3"
   ]
  },
  {
   "cell_type": "markdown",
   "metadata": {
    "slideshow": {
     "slide_type": "slide"
    }
   },
   "source": [
    "Encierre, dentro de un redondel, todas las piezas que no sean círculos o no sean azules y sólo éstas.\n",
    "\n",
    "Preguntas:\n",
    "\n",
    "    ¿Es necesario que un bloque sea, a la vez, no círculo y no azul para estar dentro del redondel?\n",
    "    ¿Es suficiente que un bloque sea no circular para estar dentro del redondel?\n",
    "    ¿Es esto necesario?\n",
    "    ¿Es suficiente que un bloque no sea azul para estar dentro del redondel?\n",
    "    ¿Es esto necesario?\n",
    "    Si es un círculo y está en el redondel necesariamente es: _______\n",
    "    Si es azul y está en el redondel necesariamente es: ____________\n",
    "    ¿Qué piezas quedan por fuera?\n",
    "    ¿Qué propiedad tienen?\n",
    "    Si se designa por: Cx: x es un bloque circular\n",
    "    Ax: x es un bloque azul.\n",
    "\n",
    "Sea: y . Se forma el conjunto:\n",
    "\n",
    "Las piezas que quedan fuera del redondel, las que no verifican la propiedad no Cx o no Ax, son aquellos que son círculos azules, o sea, Cx y Ax. Luego; no(no Cx o no Ax) es lo mismo que Cx y Ax. Si formamos el conjunto,\n",
    "\n",
    "Los bloques que no están en C serán los que están en ; esto es, los que tienen la propiedad \"no Cx o no Ax\". Por tanto; no (Cx y Ax) es lo mismo que no Cx o no Ax.\n",
    "\n",
    "En síntesis, se puede construir la siguiente tabla:\n",
    "\n",
    "\t\n",
    "\n",
    "\t\n",
    "\n",
    "V\n",
    "\t\n",
    "\n",
    "V\n",
    "\t\n",
    "\n",
    "V\n",
    "\n",
    "V\n",
    "\t\n",
    "\n",
    "F\n",
    "\t\n",
    "\n",
    "F\n",
    "\n",
    "F\n",
    "\t\n",
    "\n",
    "V\n",
    "\t\n",
    "\n",
    "F\n",
    "\n",
    "F\n",
    "\t\n",
    "\n",
    "F\n",
    "\t\n",
    "\n",
    "F"
   ]
  },
  {
   "cell_type": "markdown",
   "metadata": {
    "slideshow": {
     "slide_type": "slide"
    }
   },
   "source": [
    "# 5.6.4 Actividad N° 4"
   ]
  },
  {
   "cell_type": "markdown",
   "metadata": {
    "slideshow": {
     "slide_type": "slide"
    }
   },
   "source": [
    "5.6.4.1. Escoja dos atributos o propiedades de los bloques lógicos (Px y Qx) y forme el conjunto unión de dichos atributos.\n",
    "\n",
    "    ¿Qué propiedad tiene el conjunto unión formado?\n",
    "    ¿Qué condición o condiciones son suficientes para estar dentro del conjunto?\n",
    "    ¿Qué condición o condiciones son necesarias para estar dentro del conjunto?\n",
    "    ¿Qué piezas han quedado por fuera?\n",
    "\n",
    "Responda a las preguntas utilizando el lenguaje cotidiano y a continuación efectúe la simbolización correspondiente.\n",
    "\n",
    "5.6.4.2. Forme un conjunto unión de dos conjuntos, donde uno de ellos tenga un atributo con negación. Por ejemplo: sean Px: x es rojo y no Qx: x no es cuadrado.\n",
    "\n",
    "    ¿Qué propiedad tiene el conjunto unión?\n",
    "    ¿Puede haber dentro del conjunto un bloque que verifique la propiedad Qx?\n",
    "    Si hay dentro del conjunto un bloque que verifique la propiedad Qx ,entonces, ¿qué otra propiedad debe verificar?\n",
    "    Si hay dentro del conjunto un bloque que no verifique la propiedad Px, entonces, ¿qué propiedad debe verificar?\n",
    "    ¿Qué piezas han quedado por fuera del conjunto? ¿Qué propiedad tienen?\n",
    "    Construya por medio de este ejercicio la implicación simbólica, y las leyes lógicas que se desprenden de las conclusiones obtenidas de las anteriores preguntas.\n",
    "\n",
    "5.6.4.3. Forme un conjunto unión de dos conjuntos, donde los dos atributos correspondientes tengan negación. Por ejemplo:\n",
    "\n",
    "no Px: x no es rojo.\n",
    "no Qx: x no es cuadrado.\n",
    "\n",
    "    Si un bloque verifica la propiedad Px, entonces ¿no pertenece al conjunto? Explique.\n",
    "    Si un bloque verifica la propiedad Qx, entonces ¿no pertenece al conjunto? Explique.\n",
    "    ¿Qué piezas quedan por fuera del conjunto? ¿Qué propiedad tienen?\n",
    "    Use las conclusiones obtenidas de la actividad para construir la conjunción. Efectúe las simbolizaciones adecuadas.\n",
    "\n",
    "5.6.5 Actividad N° 5\n",
    "\n",
    "Coloque, en el interior del redondel todas aquellas piezas que son: o bien círculos azules, o bien, no círculos no azules, y solo éstas.\n",
    "\n",
    "Preguntas\n",
    "\n",
    "    ¿Es posible encontrar al menos un bloque que cumpla con ambas propiedades?\n",
    "    ¿Es suficiente que un bloque sea círculo para estar dentro del redondel?\n",
    "    ¿ Es esto necesario?\n",
    "    ¿Es suficiente que un bloque sea no azul para estar dentro del redondel?\n",
    "    ¿Es esto necesario?\n",
    "    ¿Es suficiente que un bloque sea círculo y azul para estar en el redondel?\n",
    "    ¿Es esto necesario?\n",
    "    ¿Es suficiente que un bloque sea no círculo y no azul para estar en el redondel?\n",
    "    ¿ Es esto necesario?\n",
    "    Si es un círculo y está en el redondel necesariamente es: ________\n",
    "    Si es azul y está en el redondel necesariamente es: _____________\n",
    "    Si no es un círculo y está en el redondel necesariamente es: ______\n",
    "    Si no es azul y está en el redondel necesariamente es: __________\n",
    "    ¿Qué piezas quedan por fuera?\n",
    "    ¿Qué propiedad tienen?\n",
    "    Si se designa por: Cx: x es un bloque circular.\n",
    "    Ax: x es un bloque azul.\n",
    "\n",
    "El conjunto de los círculos azules, está formado por los bloques que pertenecen tanto al conjunto A de círculos como al conjunto B de azules, así:\n",
    "\n",
    "Este conjunto se denota y se lee: \"A intersección B\".\n",
    "\n",
    "De la misma forma, si A’ denota el conjunto de los no círculos y B’ el conjunto de los no azules, entonces:\n",
    "\n",
    "Se trata ahora de construir el conjunto reunión de círculos azules con no círculos no azules. Sea D dicho conjunto. Entonces:\n",
    "\n",
    "ó también\n",
    "\n",
    "Las piezas del conjunto formado verifican los siguientes atributos:\n",
    "\n",
    "\"Si un bloque es círculo, entonces es azul\"\n",
    "\"Si un bloque es azul, entonces es círculo\"\n",
    "\"Si un bloque no es círculo, entonces no es azul\"\n",
    "\"Si un bloque no es azul, entonces no es círculo\"\n",
    "\n",
    "Ahora, los atributos enunciados se representan así:\n",
    "\n",
    "    Si Cx, entonces Ax.\n",
    "    Si Ax, entonces Cx.\n",
    "    Si no Cx, entonces no Ax.\n",
    "    Si no Ax, entonces no Cx.\n",
    "\n",
    "Una forma de expresar conjuntamente las anteriores afirmaciones es diciendo que:\n",
    "\n",
    "\"Un bloque es círculo si y sólo si es azul\"\n",
    "\n",
    "Por fuera del redondel están las piezas que son círculos no azules o no círculos azules.\n",
    "\n",
    "Simbolizando, se tiene:\n",
    "\n",
    "Cx si y sólo si Ax. Esta expresión se puede escribir así:\n",
    "\n",
    "Luego,\n",
    "\n",
    "() es lo mismo que (Cx y Ax) o (no Cx y no Ax).\n",
    "\n",
    "Las piezas que quedan por fuera del redondel son las que no verifican la propiedad.\n",
    "\n",
    "Por tanto,\n",
    "\n",
    "no () es lo mismo que (Cx y no Ax) ó (no Cx y Ax).\n",
    "\n",
    "La siguiente tabla resume los resultados obtenidos\n",
    "\n",
    "\t\n",
    "\n",
    "\t\n",
    "\n",
    "V\n",
    "\t\n",
    "\n",
    "V\n",
    "\t\n",
    "\n",
    "V\n",
    "\n",
    "V\n",
    "\t\n",
    "\n",
    "F\n",
    "\t\n",
    "\n",
    "F\n",
    "\n",
    "F\n",
    "\t\n",
    "\n",
    "V\n",
    "\t\n",
    "\n",
    "F\n",
    "\n",
    "F\n",
    "\t\n",
    "\n",
    "F\n",
    "\t\n",
    "\n",
    "V "
   ]
  },
  {
   "cell_type": "code",
   "execution_count": null,
   "metadata": {
    "slideshow": {
     "slide_type": "slide"
    }
   },
   "outputs": [],
   "source": []
  },
  {
   "cell_type": "code",
   "execution_count": null,
   "metadata": {
    "slideshow": {
     "slide_type": "slide"
    }
   },
   "outputs": [],
   "source": []
  },
  {
   "cell_type": "markdown",
   "metadata": {
    "slideshow": {
     "slide_type": "slide"
    }
   },
   "source": [
    "# 3.1 [Lógica proposicional](https://www.cs.toronto.edu/~david/course-notes/csc110-111/03-logic/01-propositional-logic.html)"
   ]
  },
  {
   "cell_type": "markdown",
   "metadata": {
    "slideshow": {
     "slide_type": "slide"
    }
   },
   "source": [
    "A medida que nos preparamos para estudiar los números naturales, los enteros y los racionales, vamos a hacer una pausa en la intruducción a estos conjuntos, para estudiar la lógica matemática formal. "
   ]
  },
  {
   "cell_type": "markdown",
   "metadata": {
    "slideshow": {
     "slide_type": "slide"
    }
   },
   "source": [
    "Quizás te preguntes qué tiene que ver la lógica con el desarrollo de software. Como veremos a lo largo de este capítulo, una comprensión firme de la lógica nos permite identificar, definir y escribir con precisión expresiones booleanas y usarlas en nuestros programas."
   ]
  },
  {
   "cell_type": "markdown",
   "metadata": {
    "slideshow": {
     "slide_type": "slide"
    }
   },
   "source": [
    "Puede parecer contrario a la intuición dedicar un capítulo entero a la lógica, como es el tipo de datos más simple en Python. Pero escribir expresiones booleanas que capturen correctamente definiciones y condiciones en un dominio de problema dado puede ser complicado a medida que estas definiciones y condiciones crecen en complejidad. Resultará muy útil tener un lenguaje matemático formal, la lógica, para expresar estas complejas expresiones booleanas antes de convertirlas en código.bool\n",
    "\n",
    "Proposiciones\n",
    "Comenzaremos nuestro estudio en este capítulo con la lógica proposicional, un sistema elemental de lógica que es un bloque de construcción crucial que subyace a otros sistemas de lógica más expresivos que necesitaremos en este curso.\n",
    "\n",
    "Una proposición es una declaración que es Verdadera o Falsa. Ejemplos de proposiciones son:\n",
    "\n",
    "Cada entero par mayor que  es la suma de dos números primos.\n",
    "La implementación de Python de es correcta en cada lista de entrada.list.sort\n",
    "Utilizamos variables proposicionales para representar proposiciones; por convención, los nombres de variables proposicionales son letras minúsculas que comienzan en .El concepto de variable proposicional es diferente de otras formas de variables que has visto antes, e incluso de las que veremos más adelante en este capítulo. Aquí hay una regla general: si lees una expresión que involucra una variable proposicional , debería poder reemplazar  con la afirmación \"CSC110 es genial\" y aún así tener la expresión tiene sentido.\n",
    "\n",
    "Un operador proposicional/lógico es un operador cuyos argumentos deben ser Todos Verdaderos o Falsos. Finalmente, una fórmula proposicional es una expresión que se construye a partir de variables proposicionales aplicando estos operadores.\n",
    "\n",
    "En las siguientes secciones, describimos los diversos operadores que utilizaremos en este curso. Es importante tener en cuenta al leer que estos operadores informan tanto la estructura de las fórmulas (cómo se ven) como el valor de verdad de estas fórmulas (lo que significan: si la fórmula es Verdadera o Falsa en función de los valores de verdad de las variables proposicionales individuales).\n",
    "\n",
    "Los operadores básicos NO, Y, O\n",
    "Hemos visto a estos operadores anteriormente cuando discutimos diferentes tipos de datos. El hecho de que Python tenga palabras clave específicas dedicadas a estos operadores debería al menos insinuar que se usan con frecuencia. Aquí, pasamos algún tiempo presentando a los operadores de manera más formal y desarrollando nuestras primeras tablas de verdad.\n",
    "\n",
    "Falso\tVerdadero\n",
    "Verdadero\tFalso\n",
    "El operador unario NOT (también llamado \"negación\") se denota por el símbolo . Niega el valor de verdad de su entrada. Así que si  es Verdadero, entonces  es falso, y viceversa. Esto se muestra en la tabla de verdad al lado. En Python, usamos la palabra clave para representar esta operación.not\n",
    "\n",
    "Falso\tFalso\tFalso\n",
    "Falso\tVerdadero\tFalso\n",
    "Verdadero\tFalso\tFalso\n",
    "Verdadero\tVerdadero\tVerdadero\n",
    "El operador binario AND (también llamado \"conjunción\") se denota por el símbolo . Devuelve True cuando ambos argumentos son True. En Python, usamos la palabra clave para representar esta operación.and\n",
    "\n",
    "El operador binario OR (también llamado \"disyunción\") se denota por el símbolo , y devuelve True si uno o ambos de sus argumentos son True. En Python, usamos la palabra clave para representar esta operación.or"
   ]
  },
  {
   "cell_type": "markdown",
   "metadata": {
    "slideshow": {
     "slide_type": "slide"
    }
   },
   "source": [
    "Falso\tFalso\tFalso  \n",
    "Falso\tVerdadero\tVerdadero  \n",
    "Verdadero\tFalso\tVerdadero  \n",
    "True\tTrue\tTrue  "
   ]
  },
  {
   "cell_type": "markdown",
   "metadata": {
    "slideshow": {
     "slide_type": "slide"
    }
   },
   "source": [
    "Las tablas de verdad para AND y NOT están de acuerdo con el uso popular en inglés de los términos; sin embargo, el operador OR puede parecer algo diferente de su intuición, porque la palabra \"o\" tiene dos significados diferentes para la mayoría de los angloparlantes. Considere la declaración en inglés \"Puedes comer pastel o helado\". De un nutricionista, esto podría ser una exclusiva o: puedes tomar pastel o puedes tomar helado, pero no ambos. "
   ]
  },
  {
   "cell_type": "markdown",
   "metadata": {
    "slideshow": {
     "slide_type": "slide"
    }
   },
   "source": [
    "Pero de un pariente amable en una reunión familiar, esto podría ser un inclusivo o: ¡puedes comer pastel y helado si lo deseas! El estudio de la lógica matemática está destinado a eliminar la ambigüedad eligiendo un significado de OR y apegándose a él. En nuestro caso, siempre usaremos OR para referirnos a lo inclusivo o, como se ilustra en la última fila de su tabla de verdad."
   ]
  },
  {
   "cell_type": "markdown",
   "metadata": {
    "slideshow": {
     "slide_type": "slide"
    }
   },
   "source": [
    "The symbol  is often used to represent the exclusive or operator, but we will not use it in this course. "
   ]
  },
  {
   "cell_type": "markdown",
   "metadata": {
    "slideshow": {
     "slide_type": "slide"
    }
   },
   "source": [
    "This is also the behaviour of the operator in Python, which evaluates to when both of its operands are .orTrueTrue"
   ]
  },
  {
   "cell_type": "markdown",
   "metadata": {
    "slideshow": {
     "slide_type": "slide"
    }
   },
   "source": [
    "AND and OR are similar in that they are both binary operators on propositional variables. However, the distinction between AND and OR is very important. Consider for example a rental agreement that reads “first and last months’ rent and a $1000 deposit” versus a rental agreement that reads “first and last months’ rent or a $1000 deposit.” The second contract is fulfilled with much less money down than the first contract."
   ]
  },
  {
   "cell_type": "markdown",
   "metadata": {
    "slideshow": {
     "slide_type": "slide"
    }
   },
   "source": [
    "# The implication operator"
   ]
  },
  {
   "cell_type": "markdown",
   "metadata": {
    "slideshow": {
     "slide_type": "slide"
    }
   },
   "source": [
    "One of the most subtle and powerful relationships between two propositions is implication, which is represented by the symbol . The implication  asserts that whenever  is True,  must also be True. An example of logical implication in English is the statement: “If you push that button, then the fire alarm will go off.”In some contexts, we think of logical implication as the temporal relationship that  is inevitable if  occurs. But this is not always the case! Be careful not to confuse implication with causation. Implications are so important that the parts have been given names. The statement  is called the hypothesis of the implication and the statement  is called the conclusion of the implication."
   ]
  },
  {
   "cell_type": "markdown",
   "metadata": {
    "slideshow": {
     "slide_type": "slide"
    }
   },
   "source": [
    "False\tFalse\tTrue\n",
    "False\tTrue\tTrue\n",
    "True\tFalse\tFalse\n",
    "True\tTrue\tTrue\n",
    "How should the truth table be defined for ? First, when both  and  are True, then  should be True, since when  occurs,  also occurs. Similarly, it is clear that when  is True and  is False, then  is False (since then  is not inevitably True when  is True). But what about the other two cases, when  is False and  is either True or False? This is another case where our intuition from both English language it a little unclear. Perhaps somewhat surprisingly, in both of these remaining cases, we will still define  to be True."
   ]
  },
  {
   "cell_type": "markdown",
   "metadata": {
    "slideshow": {
     "slide_type": "slide"
    }
   },
   "source": [
    "The two cases when  is False but  is True are called the vacuous truth cases. How do we justify this assignment of truth values? The key intuition is that because the statement doesn’t say anything about whether or not  should occur when  is False, it cannot be disproven when  is False. In our example above, if the alarm button is not pushed, then the statement is not saying anything about whether or not the fire alarm will go off. It is entirely consistent with this statement that if the button is not pushed, the fire alarm can still go off, or may not go off."
   ]
  },
  {
   "cell_type": "markdown",
   "metadata": {
    "slideshow": {
     "slide_type": "slide"
    }
   },
   "source": [
    "The formula  has two equivalentHere, “equivalent” means that the two formulas have the same truth values; for any setting of their propositional variables to True and False, the formulas will either both be True or both be False. formulas which are often useful. To make this concrete, we’ll use our example “If you are a Pittsburgh Pens fan, then you are not a Flyers fan” from the introduction.\n",
    "\n",
    "The following two formulas are equivalent to :\n",
    "\n",
    ". On our example: “You are not a Pittsburgh Pens fan, or you are not a Flyers fan.” This makes use of the vacuous truth cases of implication, in that if  is False then  is True, and if  is True then  must be True as well.\n",
    "\n",
    ". On our example: “If you are a Flyers fan, then you are not a Pittsburgh Pens fan.” Intuitively, this says that if  doesn’t occur, then  cannot have occurred either.\n",
    "\n",
    "This equivalent formula is in fact so common that we give it a special name: the contrapositive of the implication ."
   ]
  },
  {
   "cell_type": "markdown",
   "metadata": {
    "slideshow": {
     "slide_type": "slide"
    }
   },
   "source": [
    "There is one more related formula that we will discuss before moving on. If we take  and switch the hypothesis and conclusion, we obtain the implication , which is called the converse of the original implication.\n",
    "\n",
    "Unlike the two formulas in the list above, the converse of an implication is not logically equivalent to the original implication. Consider the statement “If you can solve any problem in this course, then you will get an A.” Its converse is “If you will get an A, then you can solve any problem in this course.” These two statements certainly don’t mean the same thing!"
   ]
  },
  {
   "cell_type": "markdown",
   "metadata": {
    "slideshow": {
     "slide_type": "slide"
    }
   },
   "source": [
    "In Python, there is no operator or keyword that represents implication directly. If you do want to express an implication as a Python expression, we can use the first equivalent form from above, writing  as . This is less common in Python programs; however, implication has other uses in manipulating data and expressing algorithms that we’ll explore later in this course."
   ]
  },
  {
   "cell_type": "markdown",
   "metadata": {
    "slideshow": {
     "slide_type": "slide"
    }
   },
   "source": [
    "Biconditional (“if and only if”)\n",
    "The final logical operator that we will consider is the biconditional, denoted by . This operator returns True when the implication  and its converse  are both True.\n",
    "\n",
    "False\tFalse\tTrue\n",
    "False\tTrue\tFalse\n",
    "True\tFalse\tFalse\n",
    "True\tTrue\tTrue\n",
    "In other words,  is an abbreviation for . A nice way of thinking about the biconditional is that it asserts that its two arguments have the same truth value.\n",
    "\n",
    "While we could use the natural translation of  and  into English to also translate , the result is a little clunky:  becomes “if  then , and if  then .” Instead, we often shorten this using a quite nice turn of phrase: “ if and only if ,” which is abbreviated to “ iff .”"
   ]
  },
  {
   "cell_type": "markdown",
   "metadata": {
    "slideshow": {
     "slide_type": "slide"
    }
   },
   "source": [
    "En Python, no necesitamos un operador separado para representar , ya que simplemente podemos usar para determinar si dos valores booleanos son iguales!=="
   ]
  },
  {
   "cell_type": "markdown",
   "metadata": {
    "slideshow": {
     "slide_type": "slide"
    }
   },
   "source": [
    "Resumen\n",
    "Ahora hemos visto los cinco operadores proposicionales que utilizaremos en este curso. Ahora es un excelente momento para revisarlos y asegurarse de que comprende la notación, el significado y las palabras en inglés utilizadas para indicar cada uno.\n",
    "\n",
    "operador\tnotación\tInglés\tOperación Python\n",
    "No\t\t no es cierto\tnot p\n",
    "Y\t\t y \tp and q\n",
    "O\t\t o  (¡o ambas cosas!)\tp or q\n",
    "implicación\t\tsi entonces \tnot p or q\n",
    "bicondicional\t\t si y sólo si \tp == q"
   ]
  },
  {
   "cell_type": "code",
   "execution_count": null,
   "metadata": {},
   "outputs": [],
   "source": []
  },
  {
   "cell_type": "code",
   "execution_count": null,
   "metadata": {
    "slideshow": {
     "slide_type": "slide"
    }
   },
   "outputs": [],
   "source": []
  },
  {
   "cell_type": "markdown",
   "metadata": {
    "id": "4WZE3TwetW5c",
    "slideshow": {
     "slide_type": "slide"
    }
   },
   "source": [
    "# Implicación y recíproco"
   ]
  },
  {
   "cell_type": "markdown",
   "metadata": {
    "slideshow": {
     "slide_type": "slide"
    }
   },
   "source": [
    "La implicación sirve para describir relaciones de causalidad. \n",
    "\n",
    "$$ \\text{Causa} \\Rightarrow \\text{efecto} $$\n"
   ]
  },
  {
   "cell_type": "markdown",
   "metadata": {
    "slideshow": {
     "slide_type": "slide"
    }
   },
   "source": [
    "## tarea  \n",
    "\n",
    "Leer desde la página 21 del PDF de Carlos Uzcátegui. "
   ]
  },
  {
   "cell_type": "code",
   "execution_count": 2,
   "metadata": {
    "slideshow": {
     "slide_type": "slide"
    }
   },
   "outputs": [
    {
     "data": {
      "text/plain": [
       "True"
      ]
     },
     "execution_count": 2,
     "metadata": {},
     "output_type": "execute_result"
    }
   ],
   "source": []
  },
  {
   "cell_type": "markdown",
   "metadata": {
    "slideshow": {
     "slide_type": "slide"
    }
   },
   "source": [
    "# [Condiciones suficientes y necesarias](http://ayura.udea.edu.co/logicamatematica/talleres/taller2.htm)  \n",
    "\n",
    "Alberto Jaramillo. \n",
    "\n"
   ]
  },
  {
   "cell_type": "markdown",
   "metadata": {
    "slideshow": {
     "slide_type": "slide"
    }
   },
   "source": [
    "# RAZONAMIENTOS LÓGICOS FUNDAMENTADOS EN UN PROCESO FÍSICO REAL.\n",
    "(Primera Parte)"
   ]
  },
  {
   "cell_type": "markdown",
   "metadata": {
    "slideshow": {
     "slide_type": "slide"
    }
   },
   "source": [
    "Por: Alberto Jaramillo A.\n",
    "\n",
    "6.1. OBJETIVOS\n",
    "\n",
    "6.1.1. Establecer las bases necesarias para la constitución del esquema de la implicación, a través de diferentes aproximaciones, desde las experiencias observables para identificar causas y efectos, hasta la utilización e identificación de lenguajes precisos para designar sus elementos fundamentales."
   ]
  },
  {
   "cell_type": "markdown",
   "metadata": {
    "slideshow": {
     "slide_type": "slide"
    }
   },
   "source": [
    "En consecuencia el proceso propuesto permitirá la indagación por:"
   ]
  },
  {
   "cell_type": "markdown",
   "metadata": {
    "slideshow": {
     "slide_type": "slide"
    }
   },
   "source": [
    "* Situaciones posibles y no posibles.\n",
    "* Relaciones causa – efecto.\n",
    "* Condiciones suficientes.\n",
    "* Condiciones necesarias.\n",
    "* Condiciones suficientes y necesarias."
   ]
  },
  {
   "cell_type": "markdown",
   "metadata": {
    "slideshow": {
     "slide_type": "slide"
    }
   },
   "source": [
    "6.1.2. Precisar, con base en el trabajo del numeral anterior, el contenido de verdad propio de la implicación y de las implicaciones derivadas: recíproca, contraria y contrarrecíproca.\n",
    "\n",
    "Para ello, se hará énfasis en estos aspectos:\n",
    "\n",
    "Dada una implicación identificar su recíproca, contraria y contrarrecíproca.\n",
    "Determinar el valor de verdad de una implicación, sustentado, desde luego, en el contenido real de la situación problema descrita.\n",
    "Relacionar los valores de verdad de una implicación con los correspondientes a las implicaciones derivadas.\n",
    "\n",
    "6.1.3. Introducir, en una forma sencilla, las argumentaciones directas que serán el preámbulo para la formulación posterior del método de demostración directo. En este caso, se establecen premisas (hipótesis auxiliares) y se pide determinar la validez o no de una conclusión determinada. Ello obliga a la construcción de una argumentación coherente, mediada, desde luego, por las condiciones fijadas en el proceso.\n",
    "\n",
    "6.1.4. Mostrar cómo, partiendo de unas premisas dadas, es posible obtener determinadas conclusiones sobre ciertas situaciones y cómo no es posible afirmar algo de otras. Se observará, además, por qué es necesario tener un control del estado de ciertas variables y que los resultados dependerán de los estados de las mismas. En estas situaciones, se introduce en la práctica el análisis de casos.\n",
    "\n",
    "6.1.5. Presentar premisas que lleven implícitamente una contradicción y motivar la elaboración de argumentaciones simples que hagan explícita la contradicción. Se busca, en esta forma, sentar las bases del método de reducción al absurdo.\n",
    "\n",
    "6.1.6. Destacar una actividad, poco trabajada, relacionada con el esquema de la implicación, y que en cierta forma involucra una acción de reversibilidad importante en los procesos de enseñanza y aprendizaje. La actividad consiste en que, a partir de implicaciones falsas, se determinan los valores de verdad de las proposiciones constitutivas; obligando, desde luego, a un análisis detallado de las condiciones fijadas en el proceso."
   ]
  },
  {
   "cell_type": "markdown",
   "metadata": {
    "slideshow": {
     "slide_type": "slide"
    }
   },
   "source": [
    "# 6.2. METODOLOGÍA"
   ]
  },
  {
   "cell_type": "markdown",
   "metadata": {
    "slideshow": {
     "slide_type": "slide"
    }
   },
   "source": [
    "Con base en el marco conceptual, bajo el cual se estructura el módulo, que ya ha sido citado en el taller, se identifican los siguientes elementos:"
   ]
  },
  {
   "cell_type": "markdown",
   "metadata": {
    "slideshow": {
     "slide_type": "slide"
    }
   },
   "source": [
    "## 6.2.1. Planteamiento de una situación problema.\n",
    "\n",
    "6.2.2. Ubicación mediante preguntas progresivas en el entorno de los elementos que se buscan problematizar y cuyo contenido se ha fijado en los objetivos.\n",
    "\n",
    "6.2.3. Exposición breve de los elementos teóricos necesarios en el tema específico, que permitan la confrontación entre lo construído por el lector y los conocimientos verdaderos propios del área. Como se busca propiciar el estudio a fondo de los temas, en muchos casos, se dejará como consulta la ampliación de los conceptos teóricos, como también se discutirán y analizarán los problemas propuestos en las secciones de trabajo coordinadas por los asesores.\n",
    "\n",
    "6.2.4. Presentación de una nueva situación problemática, mediante la cual el lector pueda reafirmar y ampliar los conceptos estudiados.\n",
    "\n",
    "Sin embargo, aunque el trabajo se desarrolla, en gran parte, dentro de los elementos descritos, en algunos temas que se considere necesario se plantearán situaciones problema que se desarrollarán paralelamente con los fundamentos teóricos o posterior a estos."
   ]
  },
  {
   "cell_type": "markdown",
   "metadata": {
    "slideshow": {
     "slide_type": "slide"
    }
   },
   "source": [
    "# 6.3 PLANTEAMIENTO DE UNA SITUACIÓN PROBLEMA"
   ]
  },
  {
   "cell_type": "markdown",
   "metadata": {
    "slideshow": {
     "slide_type": "slide"
    }
   },
   "source": [
    "## DESCRIPCIÓN DE UN PROCESO DE RIEGO PARA UN CULTIVO."
   ]
  },
  {
   "cell_type": "markdown",
   "metadata": {
    "slideshow": {
     "slide_type": "slide"
    }
   },
   "source": [
    "En la página 72, el diagrama indica el caudal de una acequia (1) que suministra el agua para el riego de un cultivo de maracuyá (3), mediante dos sistemas independientes, así:"
   ]
  },
  {
   "cell_type": "markdown",
   "metadata": {
    "slideshow": {
     "slide_type": "slide"
    }
   },
   "source": [
    "En el primero, el agua ingresa por la compuerta A hasta el tanque (2), donde es almacenada y posteriormente, a través de la compuerta C, es distribuida por un sistema de mangueras subterráneas que efectúan un riego por aspersión.\n",
    "\n",
    "En el segundo, el agua ingresa por la compuerta B y es distribuida directamente por un sistema de surcos extendido en todo el cultivo, efectuándose un riego por inundación.\n",
    "\n",
    "Una ley de recursos hídricos del INDERENA sólo permite tomar agua de la acequia por la compuerta A o la compuerta B, pero no por las dos al mismo tiempo. El objetivo es distribuir la toma de aguas entre los demás usuarios de la acequia equitativamente.\n",
    "\n",
    "Cuando el tanque (2) está lleno y la compuerta A está abierta, pero la compuerta C está cerrada, el agua sobrante pasa por un desagüe D a formar parte del acueducto de una finca. No hay otras condiciones bajo las cuales circule agua por D.\n",
    "\n",
    "Las situaciones que se plantean a continuación, se fundamentan en el proceso descrito textualmente y se asumen las condiciones normales de funcionamiento."
   ]
  },
  {
   "cell_type": "markdown",
   "metadata": {
    "slideshow": {
     "slide_type": "slide"
    }
   },
   "source": [
    "<img src = 'http://ayura.udea.edu.co/logicamatematica/imagenes/Image167.gif'> "
   ]
  },
  {
   "cell_type": "markdown",
   "metadata": {
    "slideshow": {
     "slide_type": "slide"
    }
   },
   "source": [
    "**Acequia:**  Zanja o canal pequeño que conduce agua, especialmente para el riego.\n",
    "\"para aprovechar el agua del río se construyó una acequia\""
   ]
  },
  {
   "cell_type": "markdown",
   "metadata": {
    "slideshow": {
     "slide_type": "slide"
    }
   },
   "source": [
    "## Actividades."
   ]
  },
  {
   "cell_type": "markdown",
   "metadata": {
    "slideshow": {
     "slide_type": "slide"
    }
   },
   "source": [
    "6.3.1. De las situaciones que se describen a continuación, indique cuáles son posibles y cuáles no lo son, en las condiciones de funcionamiento del sistema. Argumente en forma breve su respuesta.\n",
    "\n",
    "(a) La compuerta A está abierta y no hay riego en el cultivo.  \n",
    "(b) Las compuertas A y B están cerradas y hay riego en el cultivo.\n",
    "(c) La compuerta B está abierta y hay riego por aspersión.\n",
    "(d) La compuerta B está abierta y hay agua circulando por el desagüe D.\n",
    "(e) La compuerta A está abierta y hay riego por inundación.\n",
    "(f) La compuerta C está abierta y no hay riego en el cultivo.\n",
    "(g) La compuerta B está cerrada y no hay agua circulando por el desagüe D.\n",
    "(h) Hay agua circulando por el desagüe D y hay riego en el cultivo.\n",
    "(i) Hay riego por inundación y por aspersión simultáneamente.\n",
    "(j) La compuerta B está cerrada, el tanque está lleno, no hay agua circulando por el desagüe D y no  \n",
    "    hay riego en el cultivo.\n",
    "(k) El tanque está lleno y no hay riego en el cultivo.\n",
    "    El tanque está vacío completamente y hay riego en el cultivo.\n",
    "    Hay dos compuertas abiertas y no hay riego en el cultivo.\n",
    "    Hay una compuerta abierta y hay riego en el cultivo.\n",
    "    Hay una compuerta abierta y no hay riego en el cultivo.\n",
    "\n",
    "6.3.2. Hoy no hay riego en el cultivo. Señale en las opciones siguientes cuál o cuáles de ellas son causa de este hecho.\n",
    "\n",
    "    La compuerta A está cerrada.\n",
    "    La compuerta B está cerrada.\n",
    "    Las compuertas A y B están cerradas.\n",
    "    La compuerta A está abierta y la compuerta C está cerrada.\n",
    "    Las compuertas B y C están cerradas.\n",
    "    Hay agua circulando por el desagüe D.\n",
    "    Hay dos compuertas cerradas.\n",
    "    El tanque está vacío.\n",
    "\n",
    "6.3.3. Hay dos compuertas abiertas, señale, cuál o cuáles de las opciones siguientes son consecuencias de este hecho.\n",
    "\n",
    "    Hay riego por aspersión.\n",
    "    Hay riego por inundación.\n",
    "    Hay riego en el cultivo.\n",
    "    No hay agua circulando por el desagüe D.\n",
    "    La compuerta A está abierta.\n",
    "    La compuerta C está abierta.\n",
    "\n",
    "Elementos teóricos\n",
    "\n",
    "     \n",
    "    Si R y S son proposiciones, entonces, la proposición se denomina condicional de R y S.\n",
    "\n",
    "    La figura lógica del condicional responde a la conexión de dos proposiciones mediante el esquema \"si..., entonces ...\".\n",
    "\n",
    "    La proposición puede leerse de cualquiera de las siguientes formas:\n",
    "\n",
    "        Si R, entonces, S\n",
    "        R es suficiente para S.\n",
    "        S es necesario para R.\n",
    "        R sólo si S.\n",
    "        S siempre que R.\n",
    "\n",
    "    En este condicional, la proposición R se denomina antecedente y la proposición S se denomina consecuente.\n",
    "    Cuando el condicional es lógicamente verdadero, se dice que existe implicación lógica y, en este caso, se lee la expresión como:\n",
    "\n",
    "                R implica S\n",
    "\n",
    "    La cual se denota:\n",
    "\n",
    "    Es importante anotar, en este caso, el significado intuitivo que adquieren el antecedente y el consecuente en las diferentes lecturas del condicional, así:\n",
    "        R es suficiente para S. Se entiende como \"basta que se dé R para que ocurra S. Se puede concebir la implicación en estos términos como un compromiso en el sentido de que si se da el antecedente, entonces, tiene que darse el consecuente. Ahora, si no se da el antecedente, no hay compromiso y, por tanto, el consecuente puede darse o no. Bien podría hablarse de un consecuente multicausado, en el sentido en que causas diferentes pueden conducir a la misma consecuencia.\n",
    "        S es necesario para R. Se entiende como: \"Si no se da S, entonces, no se da R\". Esta acepción es en la práctica muy importante para comprender como se verá posteriormente la equivalencia entre una implicación y su contrarrecíproca. Además, puede utilizarse como un excelente criterio para determinar, en situaciones concretas, si un condicional es o no verdadero, cuando la lectura directa \"Si R, entonces, S\" no es clara para el lector, si lo puede ser \"Si no S, entonces, no R\".\n",
    "\n",
    "    Nota: Aunque el término implicación se utiliza para designar un condicional lógicamente verdadero, es usual en el lenguaje corriente llamar implicaciones a todas las proposiciones de la forma Si... entonces..., y en este sentido amplio la utilizamos en este taller.\n",
    "\n",
    "    Si R y S son proposiciones, entonces, la proposición () y\n",
    "    () se nota\n",
    "    y se denomina bicondicional de R y S.\n",
    "\n",
    "    La proposición puede leerse de cualquiera de las siguientes formas:\n",
    "\n",
    "    R si y sólo si S.\n",
    "    R es suficiente y necesario para S.\n",
    "    Y recíprocamente de S respecto a R.\n",
    "\n",
    "    Cuando el bicondicional es lógicamente verdadero, se dice que hay equivalencia. En este caso, se lee:\n",
    "\n",
    "    R equivale a S\n",
    "\n",
    "    Y se denota:"
   ]
  },
  {
   "cell_type": "markdown",
   "metadata": {
    "slideshow": {
     "slide_type": "slide"
    }
   },
   "source": [
    "# Actividades."
   ]
  },
  {
   "cell_type": "markdown",
   "metadata": {
    "slideshow": {
     "slide_type": "slide"
    }
   },
   "source": [
    "6.3.4. Señale, en las opciones siguientes, la condición o condiciones suficientes para que haya riego en el cultivo. Destaque las implicaciones lógicas respectivas\n",
    "\n",
    "    La compuerta A está abierta.\n",
    "    La compuerta B está abierta.\n",
    "    La compuerta A está abierta o la compuerta B está abierta.\n",
    "    La compuerta C está abierta.\n",
    "    Las compuertas A y C están abiertas.\n",
    "    Las compuertas B y C están abiertas.\n",
    "    No hay agua circulando por el desagüe D.\n",
    "\n",
    "6.3.5. Señale, en las opciones del numeral anterior, la condición o condiciones necesarias para que haya riego en el cultivo. Destaque las implicaciones lógicas respectivas.\n",
    "\n",
    "6.3.6. De acuerdo a lo determinado en los numerales 6.3.4 y 6.3.5, se pueden señalar algunas equivalencias?\n",
    "\n",
    "6.3.7. Señale, en las opciones siguientes, la condición o condiciones suficientes para que circule agua por el desagüe D. Destaque las implicaciones lógicas respectivas.\n",
    "\n",
    "    La compuerta B está cerrada.\n",
    "    La compuerta C está cerrada.\n",
    "    La compuerta A está abierta.\n",
    "    El tanque 2 está lleno.\n",
    "    Las compuertas B y C están cerradas.\n",
    "    El tanque está lleno y la compuerta A está abierta.\n",
    "    El tanque está lleno y la compuerta C está cerrada.\n",
    "    El tanque está lleno, la compuerta C está cerrada y la compuerta B está abierta.\n",
    "    El tanque está lleno, la compuerta A está abierta y la compuerta C está cerrada.\n",
    "    El tanque está lleno, la compuerta A está abierta y no hay riego en el cultivo.\n",
    "\n",
    "6.3.8. Señale, en las opciones del numeral anterior, la condición o condiciones necesarias para que circule agua por el desagüe D. Destaque las implicaciones lógicas respectivas.\n",
    "\n",
    "6.3.9. De acuerdo a lo determinado en los numerales 6.3.7 y 6.3.8, se pueden señalar algunas equivalencias?"
   ]
  },
  {
   "cell_type": "markdown",
   "metadata": {
    "slideshow": {
     "slide_type": "slide"
    }
   },
   "source": [
    "# Elementos Teóricos"
   ]
  },
  {
   "cell_type": "markdown",
   "metadata": {
    "slideshow": {
     "slide_type": "slide"
    }
   },
   "source": [
    "Dada una implicación se identifican las siguientes implicaciones asociadas:"
   ]
  },
  {
   "cell_type": "markdown",
   "metadata": {
    "slideshow": {
     "slide_type": "slide"
    }
   },
   "source": [
    "* que se llama implicación contraria\n",
    "* que se llama implicación recíproca\n",
    "* que se llama implicación contrarrecíproca (contraria de la recíproca).\n",
    "\n",
    "Se puede establecer el siguiente cuadro de relaciones entre las implicaciones asociadas.\n",
    "En cuanto al valor de verdad del condicional debe recordarse que éste es falso únicamente cuando el antecedente es verdadero y el consecuente es falso. En todos los demás casos es verdadero. (Amplie la consulta sobre los valores de verdad de las distintas proposiciones lógicas).\n",
    "\n",
    "Lo anotado en el numeral anterior nos permite, de una manera intuitiva, entender una regla fundamental en el razonamiento lógico y que se presenta así: Si se tiene que el condicional es verdadero y se sabe además que P es verdadera, entonces, puede afirmarse que Q es verdadera. Esta regla está implícita en las deducciones iniciales que se plantean y se analizará posteriormente."
   ]
  },
  {
   "cell_type": "markdown",
   "metadata": {
    "slideshow": {
     "slide_type": "slide"
    }
   },
   "source": [
    "# Actividades."
   ]
  },
  {
   "cell_type": "markdown",
   "metadata": {
    "slideshow": {
     "slide_type": "slide"
    }
   },
   "source": [
    "6.3.10. Señale para cada una de las proposiciones dadas si es verdadera o falsa.\n",
    "\n",
    "    Si la compuerta B está abierta, entonces, hay riego en el cultivo.\n",
    "    Si la compuerta B no está abierta, entonces, no hay riego en el cultivo.\n",
    "    Si hay riego en el cultivo, entonces, la compuerta B está abierta.\n",
    "    Si no hay riego en el cultivo, entonces, la compuerta B no está abierta.\n",
    "    Si la compuerta A está abierta, entonces, hay riego en el cultivo.\n",
    "    Si la compuerta A no está abierta, entonces, no hay riego en el cultivo.\n",
    "    Si hay riego en el cultivo, entonces, la compuerta A está abierta.\n",
    "    Si no hay riego en el cultivo, entonces, la compuerta A no está abierta.\n",
    "    Si la compuerta A está abierta, entonces, la compuerta B está cerrada.\n",
    "    Si la compuerta A está cerrada, entonces, la compuerta B está abierta.\n",
    "    Si la compuerta B está cerrada, entonces, la compuerta A está abierta.\n",
    "    Si la compuerta B está abierta, entonces, la compuerta A está cerrada.\n",
    "    Si hay riego y la compuerta B está cerrada, entonces, la compuerta A está abierta.\n",
    "    Si hay riego y la compuerta B está cerrada, entonces, la compuerta C está abierta.\n",
    "    Si hay riego y la compuerta C está cerrada, entonces, la compuerta B está abierta.\n",
    "    Si la compuerta B está abierta, entonces, hay riego y la compuerta C está cerrada.\n",
    "    Si hay riego en el cultivo, entonces, la compuerta A está abierta o la compuerta B está abierta.\n",
    "    Si hay riego en el cultivo, entonces, la compuerta A está abierta o la compuerta C está abierta.\n",
    "    Si hay riego en el cultivo, entonces, la compuerta B está abierta o la compuerta C está abierta.\n",
    "    Si hay riego en el cultivo, entonces, las compuertas A y C están abiertas.\n",
    "    Si las compuertas A y C están abiertas, entonces, hay riego en el cultivo.\n",
    "    Si la compuerta A está cerrada o la compuerta C está cerrada, entonces, no hay riego en el cultivo.\n",
    "    Si no hay riego en el cultivo, entonces, la compuerta A está cerrada o la compuerta C está cerrada.\n",
    "\n",
    "6.3.11. Con relación a los literales del numeral anterior:\n",
    "\n",
    "    Tome como referencia la implicación del literal a, e identifique en los literales siguientes las implicaciones asociadas a ella (recíproca, contraria, contrarrecíproca).\n",
    "    Analice los valores de verdad de las implicaciones asociadas con respecto a la implicación inicial.\n",
    "\n",
    "    ¿Qué puede concluirse del valor de verdad de una implicación y el correspondiente a su recíproca?\n",
    "    ¿Qué puede concluirse del valor de verdad de una implicación y el correspondiente a su contraria?\n",
    "    ¿Qué puede concluirse sobre el valor de verdad de una implicación y el correspondiente a su contrarrecíproca?\n",
    "\n",
    "    Proceda en forma similar a lo establecido en los literales a y b, para los demás grupos de literales restantes.\n",
    "    ¿Puede usted establecer comportamientos similares en los diferentes grupos encontrados, que le permitan formular leyes generales con respecto a las preguntas planteadas en el literal b?\n",
    "    ¿Es posible determinar a partir de las implicaciones ilustradas, algunas equivalencias?\n",
    "\n",
    "6.3.12. Asumiendo como verdadera la proposición: \"No hay riego en el cultivo\", ¿cuál o cuáles de las siguientes proposiciones se pueden inferir lógicamente de ella?:\n",
    "\n",
    "    Hay agua circulando por el desagüe D.\n",
    "    Hay como mínimo dos compuertas cerradas.\n",
    "    Las compuertas A y C están cerradas.\n",
    "    Las compuertas A y B están cerradas.\n",
    "    Las compuertas B y C están cerradas.\n",
    "    Las compuertas B y C están cerradas o A está abierta y C está cerrada.\n",
    "    Hay dos compuertas cerradas y hay agua circulando por el desagüe D.\n",
    "\n",
    "6.3.13. Indique, en cada caso, las conclusiones que se pueden inferir sobre los elementos específicos señalados, a partir de cada conjunto de premisas, teniendo siempre presente las condiciones iniciales del problema.\n",
    "\n",
    "6.3.13.1. Premisa: No hay riego en el cultivo, pero hay agua circulando por el desagüe D.\n",
    "\n",
    "¿Qué puede concluirse acerca de:\n",
    "\n",
    "    La compuerta A.\n",
    "    La compuerta B.\n",
    "    La compuerta C.\n",
    "    El tanque 2.\n",
    "\n",
    "6.3.13.2. Premisa: Hay riego en el cultivo, pero la compuerta C está cerrada.\n",
    "\n",
    "¿Qué puede concluirse acerca de:\n",
    "\n",
    "    La compuerta A.\n",
    "    La compuerta B.\n",
    "    La circulación de agua por el desagüe D.\n",
    "    El estado del tanque 2.\n",
    "    El riego por aspersión.\n",
    "    El riego por inundación.\n",
    "\n",
    "6.3.13.3. Premisa: Hay riego en el cultivo, pero las compuertas A y B están cerradas.\n",
    "\n",
    "¿Qué puede concluirse acerca de:\n",
    "\n",
    "    La compuerta C.\n",
    "    La circulación del agua por el desagüe D.\n",
    "    El estado del tanque 2.\n",
    "    El riego por aspersión.\n",
    "    El riego por inundación.\n",
    "\n",
    "6.3.13.4. Premisa: Hay riego en el cultivo. El tanque 2 está en la mitad y la compuerta B está abierta.\n",
    "\n",
    "¿Qué puede concluirse acerca de:\n",
    "\n",
    "    La compuerta A.\n",
    "    La circulación de agua por el desagüe D.\n",
    "    La compuerta C.\n",
    "    El riego por aspersión.\n",
    "    El riego por inundación.\n",
    "\n",
    "6.3.13.5. Premisa: Hay riego en el cultivo y la compuerta C está abierta.\n",
    "\n",
    "¿Qué puede concluirse acerca de:\n",
    "\n",
    "    La compuerta A.\n",
    "    La compuerta B.\n",
    "    La circulación del agua por el desagüe D.\n",
    "    El riego por aspersión.\n",
    "    El riego por inundación.\n",
    "\n",
    "6.3.13.6. Premisa: Hay riego en el cultivo y solamente una compuerta está abierta.\n",
    "\n",
    "¿Qué puede concluirse acerca de:\n",
    "\n",
    "    La compuerta A.\n",
    "    La compuerta C.\n",
    "    La compuerta B.\n",
    "    La circulación de agua por el desagüe D.\n",
    "    El riego por aspersión.\n",
    "    El riego por inundación.\n",
    "\n",
    "6.3.13.7. Premisa: Hay riego en el cultivo y solamente dos compuertas están abiertas.\n",
    "\n",
    "¿Qué puede concluirse acerca de:\n",
    "\n",
    "    La compuerta A.\n",
    "    La compuerta C.\n",
    "    La compuerta B.\n",
    "    La circulación de agua por el desagüe D.\n",
    "    El riego por aspersión."
   ]
  },
  {
   "cell_type": "markdown",
   "metadata": {
    "slideshow": {
     "slide_type": "slide"
    }
   },
   "source": [
    "6.3.13.8. Premisa: No hay riego en el cultivo y solo una compuerta está abierta.\n",
    "\n",
    "¿Qué puede concluirse acerca de:\n",
    "\n",
    "    La compuerta A.\n",
    "    La compuerta B.\n",
    "    La compuerta C.\n",
    "    La circulación de agua por el desagüe D.\n",
    "    El nivel de agua en el tanque 2."
   ]
  },
  {
   "cell_type": "markdown",
   "metadata": {
    "slideshow": {
     "slide_type": "slide"
    }
   },
   "source": [
    "6.3.13.9.1. Premisas: No hay riego en el cultivo, el tanque está lleno y al menos una compuerta está cerrada.\n",
    "\n",
    "¿Qué puede concluirse acerca de:\n",
    "\n",
    "* La compuerta A.\n",
    "* La compuerta B.\n",
    "* La compuerta C.\n",
    "* La circulación de agua por el desagüe D."
   ]
  },
  {
   "cell_type": "markdown",
   "metadata": {
    "slideshow": {
     "slide_type": "slide"
    }
   },
   "source": [
    "6.3.13.10. Premisa: Hay dos compuertas cerradas pero el tanque está en la mitad.\n",
    "\n",
    "¿Qué puede concluirse acerca de:\n",
    "\n",
    "    La compuerta A.\n",
    "    La compuerta B.\n",
    "    La compuerta C.\n",
    "    La circulación de agua por el desagüe D.\n",
    "    El riego por aspersión.\n",
    "    El riego por inundación."
   ]
  },
  {
   "cell_type": "markdown",
   "metadata": {
    "slideshow": {
     "slide_type": "slide"
    }
   },
   "source": [
    "6.3.13.11. Premisas: Solamente una compuerta está abierta. No hay agua circulando por el desagüe D.\n",
    "\n",
    "¿Qué puede concluirse acerca de:\n",
    "\n",
    "* La compuerta A.\n",
    "* La compuerta B.\n",
    "* La compuerta C.\n",
    "* El nivel del tanque.\n",
    "* El riego por aspersión.\n",
    "* El riego por inundación."
   ]
  },
  {
   "cell_type": "markdown",
   "metadata": {
    "slideshow": {
     "slide_type": "slide"
    }
   },
   "source": [
    "# Elementos Teóricos:"
   ]
  },
  {
   "cell_type": "markdown",
   "metadata": {
    "slideshow": {
     "slide_type": "slide"
    }
   },
   "source": [
    "Si $P$ es una proposición, a la proposición $P$ y no $P$ se le llama contradicción. Esto es, siempre que se concluya que una misma proposición es, a la vez, verdadera y falsa, estamos ante una contradicción; como puede observarse en su estructura, el valor de verdad de una contradicción es siempre falso.  "
   ]
  },
  {
   "cell_type": "markdown",
   "metadata": {
    "slideshow": {
     "slide_type": "slide"
    }
   },
   "source": [
    "La contradicción tiene un papel muy importante en la argumentación lógica. En particular, para probar que una proposición determinada es falsa, podemos asumir que es verdadera como una premisa auxiliar y argumentar, a partir de ella, una contradicción. Fundamentados en un principio lógico, que nos dice que cualquier premisa de la cual se deduzca una contradicción es falsa, se concluye la proposición buscada. (Consultar el método de demostración por contradicción o reducción al absurdo).\n",
    "    Cuando de un conjunto de premisas dadas, se puede concluir una contradicción; se dice que dicho conjunto es inconsistente, significando que estas premisas no pueden ser simultáneamente verdaderas."
   ]
  },
  {
   "cell_type": "markdown",
   "metadata": {
    "slideshow": {
     "slide_type": "slide"
    }
   },
   "source": [
    "6.3.14. Los conjuntos de premisas que se presentan en los siguientes numerales son inconsistentes. Elabore para cada numeral una argumentación que muestre una contradicción específica.\n",
    "\n",
    "6.3.14.1. Premisas: Hay riego en el cultivo, la compuerta A está abierta y hay agua circulando por el desagüe D.\n",
    "\n",
    "6.3.14.2. Premisas: No hay riego en el cultivo, hay dos compuertas abiertas y el tanque está en la mitad.\n",
    "\n",
    "6.3.14.3. Premisas: Hay agua circulando por el desagüe D. Hay riego en el cultivo.\n",
    "\n",
    "6.3.14.4. Premisas: Hay riego por aspersión, dos compuertas están cerradas y hay agua circulando por el desagüe D.\n",
    "\n",
    "6.3.14.5. Premisas: Hay agua circulando por el desagüe D y dos compuertas están abiertas.\n",
    "\n",
    "6.3.14.6. Premisas: Sólo una compuerta está abierta. No hay riego en el cultivo. El tanque está lleno y no hay agua circulando por el desagüe D.\n",
    "\n",
    "6.3.15. Pruebe que cada uno de los condicionales que se enuncian a continuación son falsos, mostrando como cuando el antecedente se asume verdadero, el consecuente es falso.\n",
    "\n",
    "6.3.15.1. Si la compuerta B está abierta, entonces, no hay riego en el cultivo.\n",
    "\n",
    "6.3.15.2. Si hay riego por aspersión o por inundación y la compuerta C está cerrada, entonces, la compuerta B está cerrada.\n",
    "\n",
    "6.3.15.3. Si hay riego por aspersión o por inundación y la compuerta A está abierta, entonces, hay riego por inundación.\n",
    "\n",
    "6.3.15.4. Si la compuerta B está cerrada o la compuerta A está abierta, pero la compuerta C está cerrada, entonces, hay riego por aspersión o hay riego por inundación.\n",
    "\n",
    "6.3.16. Para cada una de los condicionales anteriores, asumidos como falsos, determine el valor de verdad de las proposiciones simples que las integran."
   ]
  },
  {
   "cell_type": "markdown",
   "metadata": {
    "slideshow": {
     "slide_type": "slide"
    }
   },
   "source": [
    "6.3.17. Analice el siguiente condicional:\n",
    "\n",
    "\"Si la compuerta A está abierta o la compuerta B está abierta y el tanque está lleno con la compuerta C cerrada, entonces, hay agua circulando por el desagüe D.\n",
    "\n",
    "¿Qué puede afirmarse sobre su valor de verdad?"
   ]
  },
  {
   "cell_type": "markdown",
   "metadata": {
    "slideshow": {
     "slide_type": "slide"
    }
   },
   "source": [
    "## 6.3.18. Una discusión interesante"
   ]
  },
  {
   "cell_type": "markdown",
   "metadata": {
    "slideshow": {
     "slide_type": "slide"
    }
   },
   "source": [
    "Entre Bernardo, que fue el constructor del sistema de riego y Jorge, uno de los trabajadores del cultivo, se da el siguiente diálogo:\n",
    "\n",
    "J: Yo creo que el sistema de riego, que usted diseñó, es bastante complicado y en muchas ocasiones, no funciona como uno espera.\n",
    "\n",
    "B: A qué te refieres específicamente?\n",
    "\n",
    "J: Pues veámoslo así:\n",
    "\n",
    "Primero: Para que haya riego por aspersión, se necesitan siempre dos compuertas abiertas.\n",
    "\n",
    "Segundo: En la época de verano, cuando necesitamos alternar los dos sistemas de riego, esto es imposible.\n",
    "\n",
    "Tercero: En la época de inflorescencia del cultivo sería adecuado que pudiéramos simultáneamente tener los dos sistemas funcionando en algún momento, pero esto no pasa de ser un buen deseo.\n",
    "\n",
    "(Proponer el problema y escuchar y analizar posteriormente las intervenciones de los estudiantes).\n",
    "\n",
    "Bernardo, que había escuchado, con mucha atención, las observaciones de Jorge, replicó así:\n",
    "\n",
    "Vamos por partes, como tú bien lo has propuesto.\n",
    "\n",
    "En relación con el primer punto, tu argumento es impreciso y paso a explicártelo así:\n",
    "\n",
    "    No son dos compuertas cualesquiera las que deben abrirse, y tú puedes verificarlo.\n",
    "\n",
    "    Las compuertas A y B? Imposible - afirmó Jorge.\n",
    "\n",
    "    Las compuertas B y C? Jorge se quedó pensativo.\n",
    "\n",
    "En qué piensas? - preguntó Bernardo.\n",
    "\n",
    "J: Creo que esta combinación la ensayé una vez, pero no funcionó, y no sabría decir exactamente por qué.\n",
    "\n",
    "B: Obviamente en esta situación hay riego por aspersión siempre y cuando el tanque no esté vacío. Además, con ella resuelvo tu tercera inquietud, me entiendes?\n",
    "\n",
    "J: Creo que sí.\n",
    "\n",
    "B: Desde luego, si A y C están abiertas, esa es la solución inmediata.\n",
    "\n",
    "B. Ahora, no necesariamente se requieren las dos compuertas abiertas para que se dé este riego, bastaría con tener la compuerta C abierta siempre y cuando el tanque no esté vacío. Digamos que, al menos con un cuarto de su capacidad, es suficiente para tener una buena presión y un buen riego.\n",
    "\n",
    "B: Pasemos ahora al segundo punto:\n",
    "\n",
    "Si dejamos la compuerta A abierta durante la noche, tendremos el tanque lleno en la mañana. Podemos iniciar la jornada con el riego por inundación solamente (Solo abrimos la compuerta B). Una vez que se ha alcanzado el nivel deseado de humedad, por este medio, cerramos la compuerta B y abrimos las compuertas A y C, iniciando el riego por aspersión; en esta forma, mantendremos un buen volumen de agua en el tanque y podemos continuar así el ciclo de nuevo.\n",
    "\n",
    "J: Creo todavía que el sistema es algo complicado, pero funciona y, en cierta forma, es como un juego en el cual hay que analizar todas las jugadas posibles antes de dar un paso; no obstante, el juego es interesante y puede conducirnos a verdaderos retos en su solución.\n",
    "\n",
    "B: Estoy completamente de acuerdo contigo.\n",
    "\n",
    "J: Se me ocurre que con algunas modificaciones podríamos lograr un sistema mejor.\n",
    "\n",
    "B: Te escucho."
   ]
  },
  {
   "cell_type": "code",
   "execution_count": null,
   "metadata": {
    "slideshow": {
     "slide_type": "slide"
    }
   },
   "outputs": [],
   "source": []
  },
  {
   "cell_type": "code",
   "execution_count": null,
   "metadata": {
    "slideshow": {
     "slide_type": "slide"
    }
   },
   "outputs": [],
   "source": []
  },
  {
   "cell_type": "code",
   "execution_count": null,
   "metadata": {
    "slideshow": {
     "slide_type": "slide"
    }
   },
   "outputs": [],
   "source": []
  },
  {
   "cell_type": "code",
   "execution_count": null,
   "metadata": {
    "slideshow": {
     "slide_type": "slide"
    }
   },
   "outputs": [],
   "source": []
  },
  {
   "cell_type": "code",
   "execution_count": null,
   "metadata": {},
   "outputs": [],
   "source": []
  },
  {
   "cell_type": "code",
   "execution_count": null,
   "metadata": {},
   "outputs": [],
   "source": []
  },
  {
   "cell_type": "markdown",
   "metadata": {
    "id": "S7l7IAf6kY_F",
    "slideshow": {
     "slide_type": "slide"
    }
   },
   "source": [
    "## Referentes \n",
    "\n",
    "* Clara Elena Mejía Laverde: http://ayura.udea.edu.co/logicamatematica/talleres.htm"
   ]
  },
  {
   "cell_type": "code",
   "execution_count": 8,
   "metadata": {
    "id": "91u1ErW2i9a1",
    "slideshow": {
     "slide_type": "slide"
    }
   },
   "outputs": [],
   "source": [
    "def condicional(p,q):\n",
    "    return not p or q"
   ]
  },
  {
   "cell_type": "code",
   "execution_count": 10,
   "metadata": {
    "colab": {
     "base_uri": "https://localhost:8080/"
    },
    "id": "YtUcKpWj3Bzo",
    "outputId": "ddb11294-49fe-474a-8bee-3fab5a7d124c",
    "slideshow": {
     "slide_type": "slide"
    }
   },
   "outputs": [
    {
     "data": {
      "text/plain": [
       "True"
      ]
     },
     "execution_count": 10,
     "metadata": {},
     "output_type": "execute_result"
    }
   ],
   "source": [
    "condicional(False, False)"
   ]
  },
  {
   "cell_type": "code",
   "execution_count": 10,
   "metadata": {
    "slideshow": {
     "slide_type": "slide"
    }
   },
   "outputs": [],
   "source": [
    "import pandas as pd \n",
    "arit_df = pd.read_csv('arit.csv', sep = ';')"
   ]
  },
  {
   "cell_type": "code",
   "execution_count": 11,
   "metadata": {
    "slideshow": {
     "slide_type": "slide"
    }
   },
   "outputs": [
    {
     "data": {
      "text/html": [
       "<div>\n",
       "<style scoped>\n",
       "    .dataframe tbody tr th:only-of-type {\n",
       "        vertical-align: middle;\n",
       "    }\n",
       "\n",
       "    .dataframe tbody tr th {\n",
       "        vertical-align: top;\n",
       "    }\n",
       "\n",
       "    .dataframe thead th {\n",
       "        text-align: right;\n",
       "    }\n",
       "</style>\n",
       "<table border=\"1\" class=\"dataframe\">\n",
       "  <thead>\n",
       "    <tr style=\"text-align: right;\">\n",
       "      <th></th>\n",
       "      <th>cedula</th>\n",
       "      <th>nombre</th>\n",
       "      <th>email</th>\n",
       "    </tr>\n",
       "  </thead>\n",
       "  <tbody>\n",
       "    <tr>\n",
       "      <th>0</th>\n",
       "      <td>1032248407</td>\n",
       "      <td>CALDERA NAVARRO DIEGO</td>\n",
       "      <td>diego.caldera@udea.edu.co</td>\n",
       "    </tr>\n",
       "    <tr>\n",
       "      <th>1</th>\n",
       "      <td>1007410536</td>\n",
       "      <td>CALY HERRERA ESTEFANIA</td>\n",
       "      <td>estefania.caly@udea.edu.co</td>\n",
       "    </tr>\n",
       "    <tr>\n",
       "      <th>2</th>\n",
       "      <td>1066600269</td>\n",
       "      <td>CASTRO RAMIREZ JOSE DANIEL</td>\n",
       "      <td>jose.castro1@udea.edu.co</td>\n",
       "    </tr>\n",
       "    <tr>\n",
       "      <th>3</th>\n",
       "      <td>1038108070</td>\n",
       "      <td>DORADO PADILLA LEONEL ESTEBAN</td>\n",
       "      <td>leonel.dorado@udea.edu.co</td>\n",
       "    </tr>\n",
       "    <tr>\n",
       "      <th>4</th>\n",
       "      <td>1038115862</td>\n",
       "      <td>LONDONO CASTRO FRED IVAN</td>\n",
       "      <td>fred.londonoc@udea.edu.co</td>\n",
       "    </tr>\n",
       "    <tr>\n",
       "      <th>5</th>\n",
       "      <td>3667402</td>\n",
       "      <td>MARIN MARTINEZ FRANCISCO JAVIER</td>\n",
       "      <td>fjavier.marin@udea.edu.co</td>\n",
       "    </tr>\n",
       "    <tr>\n",
       "      <th>6</th>\n",
       "      <td>1129804572</td>\n",
       "      <td>SAN JUAN SERRANO MANUEL</td>\n",
       "      <td>manuel.serrano1@udea.edu.co</td>\n",
       "    </tr>\n",
       "    <tr>\n",
       "      <th>7</th>\n",
       "      <td>1091673882</td>\n",
       "      <td>SANCHEZ BELTRAN ROSMARY</td>\n",
       "      <td>rosmary.sanchezb@udea.edu.co</td>\n",
       "    </tr>\n",
       "    <tr>\n",
       "      <th>8</th>\n",
       "      <td>1007554266</td>\n",
       "      <td>URIBE ARRIETA YEIFRY SEBASTIAN</td>\n",
       "      <td>yeifry.uribe@udea.edu.co</td>\n",
       "    </tr>\n",
       "    <tr>\n",
       "      <th>9</th>\n",
       "      <td>1007578670</td>\n",
       "      <td>VELASQUEZ LOPEZ MERLIS</td>\n",
       "      <td>merlis.velasquez@udea.edu.co</td>\n",
       "    </tr>\n",
       "  </tbody>\n",
       "</table>\n",
       "</div>"
      ],
      "text/plain": [
       "       cedula                           nombre                         email\n",
       "0  1032248407            CALDERA NAVARRO DIEGO     diego.caldera@udea.edu.co\n",
       "1  1007410536           CALY HERRERA ESTEFANIA    estefania.caly@udea.edu.co\n",
       "2  1066600269       CASTRO RAMIREZ JOSE DANIEL      jose.castro1@udea.edu.co\n",
       "3  1038108070    DORADO PADILLA LEONEL ESTEBAN     leonel.dorado@udea.edu.co\n",
       "4  1038115862         LONDONO CASTRO FRED IVAN     fred.londonoc@udea.edu.co\n",
       "5     3667402  MARIN MARTINEZ FRANCISCO JAVIER     fjavier.marin@udea.edu.co\n",
       "6  1129804572          SAN JUAN SERRANO MANUEL   manuel.serrano1@udea.edu.co\n",
       "7  1091673882          SANCHEZ BELTRAN ROSMARY  rosmary.sanchezb@udea.edu.co\n",
       "8  1007554266   URIBE ARRIETA YEIFRY SEBASTIAN      yeifry.uribe@udea.edu.co\n",
       "9  1007578670           VELASQUEZ LOPEZ MERLIS  merlis.velasquez@udea.edu.co"
      ]
     },
     "execution_count": 11,
     "metadata": {},
     "output_type": "execute_result"
    }
   ],
   "source": [
    "arit_df "
   ]
  },
  {
   "cell_type": "markdown",
   "metadata": {
    "id": "K5rex7R43j0s",
    "slideshow": {
     "slide_type": "slide"
    }
   },
   "source": [
    "## Participación aleatoria de los estudiantes del curso"
   ]
  },
  {
   "cell_type": "code",
   "execution_count": 47,
   "metadata": {
    "slideshow": {
     "slide_type": "slide"
    }
   },
   "outputs": [],
   "source": [
    "def estudiante_que_va_a_participar(grupo): # el grupo se introduce como una cadena de caracteres \n",
    "    import numpy as np \n",
    "    import pandas as pd \n",
    "    from random import choice\n",
    "    grupo_df = pd.read_csv(grupo + '.csv', encoding = 'latin1', sep = ';')\n",
    "    lista_estudiantes = list(grupo_df.email.values)\n",
    "    if lista_estudiantes != []:\n",
    "        estudiante = choice(lista_estudiantes)\n",
    "        lista_estudiantes.remove(estudiante)\n",
    "        return print(estudiante)\n",
    "    else:\n",
    "        print('Todos los estudiantes han participado.\\n Muchas gracias y Felicitaciones')"
   ]
  },
  {
   "cell_type": "code",
   "execution_count": 101,
   "metadata": {
    "slideshow": {
     "slide_type": "slide"
    }
   },
   "outputs": [
    {
     "name": "stdout",
     "output_type": "stream",
     "text": [
      "rosmary.sanchezb@udea.edu.co\n"
     ]
    }
   ],
   "source": [
    "estudiante_que_va_a_participar('arit') "
   ]
  },
  {
   "cell_type": "markdown",
   "metadata": {
    "slideshow": {
     "slide_type": "slide"
    }
   },
   "source": [
    "# Asignación "
   ]
  },
  {
   "cell_type": "code",
   "execution_count": null,
   "metadata": {},
   "outputs": [],
   "source": []
  },
  {
   "cell_type": "markdown",
   "metadata": {
    "slideshow": {
     "slide_type": "slide"
    }
   },
   "source": [
    "## Referentes  \n",
    "\n",
    "* Clara Elena Mejía Laverde: http://ayura.udea.edu.co/logicamatematica/talleres.htm\n",
    "\n",
    "\n",
    "* Taller de lógica a través de un proceso físico real de Alberto Jaramillo:  \n",
    "\n",
    "* Grajales Vanegas, L. M., Restrepo Estrada, C. E., Restrepo Ochoa, S. I., & Ruíz De Villalba, F. (2015). Matemáticas I para las ciencias económicas. [Obtener este texto aquí](https://bibliotecadigital.udea.edu.co/bitstream/10495/3010/5/GrajalesLina_2015_MatemticasCienciasEconmicas.pdf)"
   ]
  },
  {
   "cell_type": "code",
   "execution_count": null,
   "metadata": {},
   "outputs": [],
   "source": []
  }
 ],
 "metadata": {
  "celltoolbar": "Slideshow",
  "colab": {
   "authorship_tag": "ABX9TyMJ2haOCttof2xFUYXYaQpT",
   "include_colab_link": true,
   "provenance": []
  },
  "kernelspec": {
   "display_name": "Python 3 (ipykernel)",
   "language": "python",
   "name": "python3"
  },
  "language_info": {
   "codemirror_mode": {
    "name": "ipython",
    "version": 3
   },
   "file_extension": ".py",
   "mimetype": "text/x-python",
   "name": "python",
   "nbconvert_exporter": "python",
   "pygments_lexer": "ipython3",
   "version": "3.9.13"
  }
 },
 "nbformat": 4,
 "nbformat_minor": 1
}
