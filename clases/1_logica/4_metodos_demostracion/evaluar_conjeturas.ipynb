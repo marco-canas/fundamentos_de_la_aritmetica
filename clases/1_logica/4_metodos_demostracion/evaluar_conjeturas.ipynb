{
 "cells": [
  {
   "cell_type": "markdown",
   "id": "fb06e1a6",
   "metadata": {},
   "source": [
    "# Conjetura: será que siempre la raiz de un cuadrado par es par? "
   ]
  },
  {
   "cell_type": "code",
   "execution_count": 2,
   "id": "8127e37c",
   "metadata": {},
   "outputs": [],
   "source": [
    "import numpy as np \n",
    "merly = np.array([4, 16, 36, 64, 100])"
   ]
  },
  {
   "cell_type": "code",
   "execution_count": 3,
   "id": "1a2b149c",
   "metadata": {},
   "outputs": [
    {
     "data": {
      "text/plain": [
       "array([ 2.,  4.,  6.,  8., 10.])"
      ]
     },
     "execution_count": 3,
     "metadata": {},
     "output_type": "execute_result"
    }
   ],
   "source": [
    "np.sqrt(merly)"
   ]
  },
  {
   "cell_type": "markdown",
   "id": "af481ea2",
   "metadata": {},
   "source": [
    "## Conclusión \n",
    "\n",
    "* efectivamente las raices de cuadrados pares son pares. "
   ]
  },
  {
   "cell_type": "code",
   "execution_count": null,
   "id": "074c8636",
   "metadata": {},
   "outputs": [],
   "source": []
  }
 ],
 "metadata": {
  "kernelspec": {
   "display_name": "Python 3 (ipykernel)",
   "language": "python",
   "name": "python3"
  },
  "language_info": {
   "codemirror_mode": {
    "name": "ipython",
    "version": 3
   },
   "file_extension": ".py",
   "mimetype": "text/x-python",
   "name": "python",
   "nbconvert_exporter": "python",
   "pygments_lexer": "ipython3",
   "version": "3.9.12"
  }
 },
 "nbformat": 4,
 "nbformat_minor": 5
}
