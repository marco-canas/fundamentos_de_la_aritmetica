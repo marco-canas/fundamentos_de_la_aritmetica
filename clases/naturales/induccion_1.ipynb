{
 "cells": [
  {
   "cell_type": "markdown",
   "metadata": {
    "slideshow": {
     "slide_type": "slide"
    }
   },
   "source": [
    "<table align=\"left\">\n",
    "  <td>\n",
    "<a href=\"https://colab.research.google.com/github/marco-canas/5_Fundamentos-de-la-aritm-tica/blob/main/clases/naturales/induccion_1.ipynb?authuser=1\" target=\"_parent\"><img src=\"https://colab.research.google.com/assets/colab-badge.svg\" alt=\"Open In Colab\"/></a>\n",
    "  </td>\n",
    "</table>"
   ]
  },
  {
   "cell_type": "markdown",
   "metadata": {
    "slideshow": {
     "slide_type": "slide"
    }
   },
   "source": [
    "## [Video de apoyo a la lectura interactiva y experimental de este cuaderno Jupyter](https://www.youtube.com/watch?v=K0yxa3Hu7t0&ab_channel=DiMathData)"
   ]
  },
  {
   "cell_type": "markdown",
   "metadata": {
    "slideshow": {
     "slide_type": "slide"
    }
   },
   "source": [
    "## [Segundo video de apoyo al desarrollo del pensamiento computacional](https://www.youtube.com/watch?v=g5tAVMQeK1k)\n",
    "\n",
    "[Jhony Alexander Villa Ochoa](https://jhonyvilla.wordpress.com/)"
   ]
  },
  {
   "cell_type": "markdown",
   "metadata": {
    "slideshow": {
     "slide_type": "slide"
    }
   },
   "source": [
    "### [Tercer video de apoyo incluyendo tarea y articulación con el primer parcial](https://www.youtube.com/watch?v=nMjHU69gCDg)"
   ]
  },
  {
   "cell_type": "markdown",
   "metadata": {
    "slideshow": {
     "slide_type": "slide"
    }
   },
   "source": [
    "# Modelo general de clase: [aula invertida](https://www3.gobiernodecanarias.org/medusa/ecoescuela/pedagotic/aprendizaje-invertido-flipped-classroom/)\n",
    "\n",
    "## Definición y características de este modelo"
   ]
  },
  {
   "cell_type": "markdown",
   "metadata": {
    "slideshow": {
     "slide_type": "slide"
    }
   },
   "source": [
    "## ¿Qué es?  \n",
    "\n",
    "Flipped Learning o aprendizaje invertido es un enfoque pedagógico en el que:  \n",
    "\n",
    "* la instrucción directa se realiza fuera del aula y \n",
    "* se utiliza el tiempo de clase para llevar a cabo actividades que impliquen el desarrollo de procesos cognitivos de mayor complejidad, en las que son necesarias la ayuda y la experiencia del docente y el debate amable y respetuoso de los compeñeros de clase."
   ]
  },
  {
   "cell_type": "markdown",
   "metadata": {
    "slideshow": {
     "slide_type": "slide"
    }
   },
   "source": [
    "## ¿Para qué sirve?  \n",
    "\n",
    "Mejora el proceso de enseñanza-aprendizaje realizando,   \n",
    "\n",
    "* fuera del aula, actividades de aprendizaje sencillas (observar, memorizar, resumir, etc.) y, \n",
    "* en el aula, actividades más complejas (razonar, examinar, priorizar, argumentar, proponer, etc.) que requieren la interacción entre iguales y la ayuda del docente como facilitador."
   ]
  },
  {
   "cell_type": "markdown",
   "metadata": {
    "slideshow": {
     "slide_type": "slide"
    }
   },
   "source": [
    "<img src = 'https://github.com/marco-canas/7_didactica_ciencia_datos/blob/main/propuesta/unidad_didac/atributos_aprendizaje_invertido.png?raw=true'>"
   ]
  },
  {
   "cell_type": "markdown",
   "metadata": {
    "slideshow": {
     "slide_type": "slide"
    }
   },
   "source": [
    "## Fomento de la lectura literaria asociada a Ingeniería agropecuaria y licenciatura en Matemáticas\n",
    "\n",
    "John Allen Paulos. El hombre anumérico. El analfabetismo matemático y sus consecuencias. \n",
    "\n",
    "\"Las mates siempre fueron mi asignatura más floja.\" \n",
    "\n",
    "\"Un millón de dolares, mil millones o un billón. No importa cuánto siempre y cuando hagamos por resolver el problema.\"  \n",
    "\n",
    "\"Jerry y yo no iremos a Europa, con tantos terroristas$\\ldots$\"\n",
    "\n",
    "El anumerismo, o incapacidad de manejar cómodamente los conceptos fundamentales de número y azar, atormenta a demasiados ciudadanos que, por lo demás, pueden ser perfectamente instruidos. "
   ]
  },
  {
   "cell_type": "markdown",
   "metadata": {
    "slideshow": {
     "slide_type": "slide"
    }
   },
   "source": [
    "### Objetivo de aprendizaje\n",
    "\n",
    "* Aprender a enunciar y parafrasear un resultado científico de la matemática. \n",
    "\n",
    "$$ 1+2+3+\\cdots+n = \\frac{n(n+1)}{2}  $$\n",
    "\n",
    "* Comprender la necesidad del uso del principio de inducción matemática para garantizar generalizaciones correctas. \n",
    "\n",
    "* aprender a demostrar por inducción matemática"
   ]
  },
  {
   "cell_type": "markdown",
   "metadata": {
    "slideshow": {
     "slide_type": "slide"
    }
   },
   "source": [
    "# Tareas para realizar antes de clase\n",
    "\n",
    "* Leer a [Carlos Uzcátegui](https://udeaeduco-my.sharepoint.com/:b:/g/personal/marco_canas_udea_edu_co/ETDikm-lVl1Or8XoEo9oyh0BEti9Zs8le-f0D-dBdtZmbA?e=m3CBmL) en cuanto al principio de inducción matemática. Todo el capítulo correspondiente. Capítulo 3, página 93 del PDF de este autor. "
   ]
  },
  {
   "cell_type": "code",
   "execution_count": null,
   "metadata": {
    "slideshow": {
     "slide_type": "slide"
    }
   },
   "outputs": [],
   "source": []
  },
  {
   "cell_type": "markdown",
   "metadata": {
    "slideshow": {
     "slide_type": "slide"
    }
   },
   "source": [
    "# Tareas para realizar en clase  \n",
    "\n",
    "1. Practica de enunciación simbólica y verbal de enunciados matemáticos donde se requiera del principio de inducción matemática para probarlos. \n",
    "\n",
    "2. Responder a la pregunta ¿Será suficiente revisar que una condición la satisfacen 3 o 4 números naturales para poder decir que la deben satisfacer todos los infinitos números naturales?  \n",
    "\n",
    "3. ¿Habrá una colección finita de condiciones a revisar para poder decir que una condición la satisfacen los infinitos números naturales?\n",
    "\n",
    "4. Aprender a hacer demostraciones por inducción matemática. "
   ]
  },
  {
   "cell_type": "code",
   "execution_count": null,
   "metadata": {
    "slideshow": {
     "slide_type": "slide"
    }
   },
   "outputs": [],
   "source": []
  },
  {
   "cell_type": "markdown",
   "metadata": {
    "slideshow": {
     "slide_type": "slide"
    }
   },
   "source": [
    "# Tareas para realizar después de clase\n",
    "\n",
    "1. Grabe y escuche muchas veces el parafraseo y enunciación de resultados matemáticos.\n",
    "2. Hacer por lo menos diez demostraciones por inducción matemática. "
   ]
  },
  {
   "cell_type": "markdown",
   "metadata": {
    "slideshow": {
     "slide_type": "slide"
    }
   },
   "source": [
    "* Actividades de memorización: \n",
    "  - escucha reiterada de grabaciones de fórmulas y resultados científicos. "
   ]
  },
  {
   "cell_type": "markdown",
   "metadata": {
    "slideshow": {
     "slide_type": "slide"
    }
   },
   "source": [
    "## Dificultades de aprendizaje detectados durante la clase  \n",
    "\n",
    "* Enunciar y parafrasear un resultado matemático como la fórmula matemática para la suma finita de los primeros números naturales dada por Gauss\n",
    "\n",
    "$$ 1+2+3+\\cdots+n = \\frac{n(n+1)}{2} \\ \\ \\ n \\in \\mathbb{N}$$"
   ]
  },
  {
   "cell_type": "markdown",
   "metadata": {
    "slideshow": {
     "slide_type": "slide"
    }
   },
   "source": [
    "# Desarrollo de las actividades para alcanzar los tres objetivos de aprendizaje"
   ]
  },
  {
   "cell_type": "markdown",
   "metadata": {
    "slideshow": {
     "slide_type": "slide"
    }
   },
   "source": [
    "# El principio de inducción matemática y el afan de generalizar en la formación por competencias"
   ]
  },
  {
   "cell_type": "markdown",
   "metadata": {
    "slideshow": {
     "slide_type": "slide"
    }
   },
   "source": [
    "## ¿Cómo poder generalizar una propiedad que funciona en un contexto, a cualquier contexto? "
   ]
  },
  {
   "cell_type": "markdown",
   "metadata": {
    "slideshow": {
     "slide_type": "slide"
    }
   },
   "source": [
    "### Ejemplo ilustrativo de un proceso de generalización. "
   ]
  },
  {
   "cell_type": "markdown",
   "metadata": {
    "slideshow": {
     "slide_type": "slide"
    }
   },
   "source": [
    "Juanito encontro un hecho muy intreresante: \n",
    "\n",
    "$$ 1 + 3 = 4 = 2^{2}  $$"
   ]
  },
  {
   "cell_type": "markdown",
   "metadata": {
    "slideshow": {
     "slide_type": "slide"
    }
   },
   "source": [
    "$$ 1 + 3 + 5 = 9 = 3^{2}  $$"
   ]
  },
  {
   "cell_type": "markdown",
   "metadata": {
    "slideshow": {
     "slide_type": "slide"
    }
   },
   "source": [
    "$$ 1 + 3 + 5 + 7 = 16 = 4^{2}  $$"
   ]
  },
  {
   "cell_type": "markdown",
   "metadata": {
    "slideshow": {
     "slide_type": "slide"
    }
   },
   "source": [
    "### Conjetura:  \n",
    "\n",
    "Parece ser que si sumo los primeros números impares, me da un cuadrado. "
   ]
  },
  {
   "cell_type": "markdown",
   "metadata": {
    "slideshow": {
     "slide_type": "slide"
    }
   },
   "source": [
    "La conjetura de juanito la podemos enunciar formalmente así:\n",
    "\n",
    "\n",
    "$$ 1 + 3 + 5 + \\cdots + (2n - 1) = n^{2}  \\ \\ \\ \\  \\forall n \\in \\{1, 2, 3, 4, \\cdots \\} $$\n",
    "\n",
    "La conjetura de Fabian Simonelli. \n"
   ]
  },
  {
   "cell_type": "markdown",
   "metadata": {
    "slideshow": {
     "slide_type": "slide"
    }
   },
   "source": [
    "## ¿Podemos generalizar con solo verificar que la afirmación se cumple en algunos casos puntuales?"
   ]
  },
  {
   "cell_type": "markdown",
   "metadata": {
    "slideshow": {
     "slide_type": "slide"
    }
   },
   "source": [
    "No, mire poara ello el siguiente ejemplo"
   ]
  },
  {
   "cell_type": "markdown",
   "metadata": {
    "slideshow": {
     "slide_type": "slide"
    }
   },
   "source": [
    "$(n^{2} - n + 41)$ es primo, para cada $n \\in \\mathbb{N} \\cup \\{0\\}$"
   ]
  },
  {
   "cell_type": "markdown",
   "metadata": {
    "slideshow": {
     "slide_type": "slide"
    }
   },
   "source": [
    "## Horarios de asesoría para semana santa  \n",
    "\n",
    "(Perdón por la hora, pero mañana no tendré espacio para mandarles esta información)\n",
    "\n",
    "Esta Semana Santa tendremos los siguientes espacios de monitoria:\n",
    "\n",
    "L 11:00 Am - 2:00 Pm\n",
    "W 8:00 Am - 11:00 Am\n",
    "V 6:00 Pm - 8:00 Pm\n",
    "\n",
    "Aprovechen estos espacios que se viene la época de parciales. ¡Un abrazo! \n",
    "\n",
    "Nos vemos por el link habitual: https://meet.google.com/ode-nzig-wpd "
   ]
  },
  {
   "cell_type": "markdown",
   "metadata": {
    "slideshow": {
     "slide_type": "slide"
    }
   },
   "source": [
    "Primero note que la afirmación es válida para: \n",
    "\n",
    "\\begin{matrix}\n",
    "n & \\quad & n^{2} -n + 41 \\\\\n",
    "0 & \\quad & 41 \\text{ es primo} \\\\\n",
    "1 & \\quad & 41 \\text{ es primo también} \\\\\n",
    "2 & \\quad & 43 \\text{ es primo también} \\\\\n",
    "3 & \\quad & 47 \\text{ es primo también} \\\\\n",
    "\\end{matrix}\n",
    "\n",
    "entonces 41 y 43 son primos genemos. "
   ]
  },
  {
   "cell_type": "markdown",
   "metadata": {
    "slideshow": {
     "slide_type": "slide"
    }
   },
   "source": [
    "Pero para $n = 41$, $n^{2} - n + 41 = 41^{2}$ que no es primo, pues este número tien tras divisores. "
   ]
  },
  {
   "cell_type": "markdown",
   "metadata": {
    "slideshow": {
     "slide_type": "slide"
    }
   },
   "source": [
    "# Entonces, ¿existirá un conjunto finito de condiciones a revisar para poder generalizar para infinitos?"
   ]
  },
  {
   "cell_type": "markdown",
   "metadata": {
    "slideshow": {
     "slide_type": "slide"
    }
   },
   "source": [
    "Si, y estas condiciones son: "
   ]
  },
  {
   "cell_type": "markdown",
   "metadata": {
    "slideshow": {
     "slide_type": "slide"
    }
   },
   "source": [
    "## Sintamos el porqué funcionan\n",
    "\n",
    "Tenemos una bolsa con bolitas de colores que satisfacen dos condiciones a saber: (De: Diana Patricia Acevedo Velez)\n",
    "\n",
    "1. Siempre que saques una primera bolita, esta será de color negro. \n",
    "2. después de sacar una bola negra, la que sigue necesariamente será negra. \n",
    "\n",
    "\n",
    "Podemos inferir o deducir de las dos condiciones anteriores que **todas** las bolitas de la bolsa son negras. "
   ]
  },
  {
   "cell_type": "markdown",
   "metadata": {
    "slideshow": {
     "slide_type": "slide"
    }
   },
   "source": [
    "# Demostración del teorema del niño Gauss"
   ]
  },
  {
   "cell_type": "markdown",
   "metadata": {
    "slideshow": {
     "slide_type": "slide"
    }
   },
   "source": [
    "$$ 1 + 2+ 3+ \\cdots + n = \\frac{n(n+1)}{2} $$"
   ]
  },
  {
   "cell_type": "markdown",
   "metadata": {
    "slideshow": {
     "slide_type": "slide"
    }
   },
   "source": [
    "Mostremos que para $n = 1$ la afirmación es cierta.\n",
    "\n",
    "\n",
    "En efecto, \n",
    "\n",
    "$$ 1 = \\frac{1(2)}{2} $$\n",
    "\n",
    "es decir, la afirmación dada por Juenito es cierta para un solo número impar sumado, porque 1 es el mpodulo de la multiplicación en $\\mathbb{N}$ "
   ]
  },
  {
   "cell_type": "markdown",
   "metadata": {
    "slideshow": {
     "slide_type": "slide"
    }
   },
   "source": []
  },
  {
   "cell_type": "markdown",
   "metadata": {
    "slideshow": {
     "slide_type": "slide"
    }
   },
   "source": [
    "## Ejemplo 2 de demostración por inducción matemática\n",
    "\n",
    "Conjetura de Fabian Simonelli"
   ]
  },
  {
   "cell_type": "markdown",
   "metadata": {
    "slideshow": {
     "slide_type": "slide"
    }
   },
   "source": [
    "$$ 1 + 3+ 5 + \\cdots (2n-1) = n^{2}  $$"
   ]
  },
  {
   "cell_type": "markdown",
   "metadata": {
    "slideshow": {
     "slide_type": "slide"
    }
   },
   "source": [
    "$$ 1 = 1^{2} $$\n",
    "\n",
    "luego, la afirmación si se cumple para el caso base. "
   ]
  },
  {
   "cell_type": "markdown",
   "metadata": {
    "slideshow": {
     "slide_type": "slide"
    }
   },
   "source": [
    "Supongamos que la afirmación de juenito es cierta para $n = k$. es decir, supongamos que si sumamos los primeros $k$ impares, meda el cuadrado de $k$. Es decir, **supongamos** que \n",
    "\n",
    "\n",
    "$$ 1 + 3 + 5 + \\cdots + (2k - 1) = k^{2} $$\n",
    "\n",
    "Y mostremos que de asimir como cierto esto, podemos inferir necesariamente que \n",
    "\n",
    "\n",
    "$$  1 + 3 + 5 + \\cdots + (2k - 1) + (2k + 1) = (k + 1)^{2}  $$\n"
   ]
  },
  {
   "cell_type": "markdown",
   "metadata": {
    "slideshow": {
     "slide_type": "slide"
    }
   },
   "source": [
    "En efecto, \n",
    "\n",
    "$$  1 + 3 + 5 + \\cdots + (2k - 1) + (2k + 1) =  k^{2} + (2k + 1)   $$ \n",
    "\n",
    "por propiedad asociativa\n"
   ]
  },
  {
   "cell_type": "markdown",
   "metadata": {
    "slideshow": {
     "slide_type": "slide"
    }
   },
   "source": [
    "$$  (1 + 3 + 5 + \\cdots + (2k - 1))  + (2k + 1)  = k^{2} + 2k + 1 = (k+1)^{2} $$\n",
    "\n",
    "y por hipótesis inductiva y luego por factorización de un trinomio cuadrado perfecto. "
   ]
  },
  {
   "cell_type": "markdown",
   "metadata": {
    "slideshow": {
     "slide_type": "slide"
    }
   },
   "source": [
    "Por lo tanto, la segunda condición del principio de inducción matemática se cumple y por lo tanto, podemor generalizar diciendo que siempre que sume impares obtienes un cudrado. "
   ]
  },
  {
   "cell_type": "markdown",
   "metadata": {
    "slideshow": {
     "slide_type": "slide"
    }
   },
   "source": [
    "Entonces, la conjetura de Fabian Simonelli es una teorema. "
   ]
  },
  {
   "cell_type": "markdown",
   "metadata": {
    "slideshow": {
     "slide_type": "slide"
    }
   },
   "source": [
    "# Hagamos que nuestro problema matemático lo podamos abordar desde el pensamiento computacional"
   ]
  },
  {
   "cell_type": "markdown",
   "metadata": {
    "slideshow": {
     "slide_type": "slide"
    }
   },
   "source": [
    "# Verificación de afirmaciones matemáticas con Python"
   ]
  },
  {
   "cell_type": "markdown",
   "metadata": {
    "slideshow": {
     "slide_type": "slide"
    }
   },
   "source": [
    "### El concepto de listas por comprensión"
   ]
  },
  {
   "cell_type": "code",
   "execution_count": 53,
   "metadata": {
    "slideshow": {
     "slide_type": "slide"
    }
   },
   "outputs": [],
   "source": [
    "\n",
    "import numpy as np\n",
    "from sympy import var\n",
    "n = var('n', integer = True)\n",
    "\n",
    "n = 3\n"
   ]
  },
  {
   "cell_type": "code",
   "execution_count": 54,
   "metadata": {
    "slideshow": {
     "slide_type": "slide"
    }
   },
   "outputs": [
    {
     "data": {
      "text/plain": [
       "array([1, 3, 5])"
      ]
     },
     "execution_count": 54,
     "metadata": {},
     "output_type": "execute_result"
    }
   ],
   "source": [
    "impares = np.arange(1,2*n+1,2)\n",
    "impares"
   ]
  },
  {
   "cell_type": "code",
   "execution_count": 55,
   "metadata": {},
   "outputs": [
    {
     "data": {
      "text/plain": [
       "9"
      ]
     },
     "execution_count": 55,
     "metadata": {},
     "output_type": "execute_result"
    }
   ],
   "source": [
    "sum(impares)  "
   ]
  },
  {
   "cell_type": "code",
   "execution_count": 56,
   "metadata": {
    "slideshow": {
     "slide_type": "slide"
    }
   },
   "outputs": [
    {
     "data": {
      "text/plain": [
       "True"
      ]
     },
     "execution_count": 56,
     "metadata": {},
     "output_type": "execute_result"
    }
   ],
   "source": [
    "sum(impares) == n**2"
   ]
  },
  {
   "cell_type": "code",
   "execution_count": 57,
   "metadata": {
    "slideshow": {
     "slide_type": "slide"
    }
   },
   "outputs": [],
   "source": [
    "import numpy as np \n",
    "from sympy import var\n",
    "n = var('n', integer = True)\n",
    "def suma_de_los_primeros_impares_es_igual_a_n_cuadrado(n):\n",
    "    impares = np.arange(1,2*n+1,2) \n",
    "    return sum(impares) == n**2\n",
    "     \n",
    " "
   ]
  },
  {
   "cell_type": "code",
   "execution_count": 58,
   "metadata": {
    "slideshow": {
     "slide_type": "slide"
    }
   },
   "outputs": [
    {
     "data": {
      "text/plain": [
       "True"
      ]
     },
     "execution_count": 58,
     "metadata": {},
     "output_type": "execute_result"
    }
   ],
   "source": [
    "suma_de_los_primeros_impares_es_igual_a_n_cuadrado(3)\n",
    " "
   ]
  },
  {
   "cell_type": "markdown",
   "metadata": {
    "slideshow": {
     "slide_type": "slide"
    }
   },
   "source": [
    "## Recomendaciones didácticas\n",
    "\n",
    "* Presentar el concepto de función de python\n",
    "  - función a través de la sentencia def\n",
    "  - función lambda "
   ]
  },
  {
   "cell_type": "markdown",
   "metadata": {
    "slideshow": {
     "slide_type": "subslide"
    }
   },
   "source": [
    "# Asignación de tarea para realizar fuera de clase para cada estudiante de la licenciatura en matemáticas\n",
    "\n",
    "\\begin{matrix}\n",
    "1. & \\text{simonelli} & \\sum_{i = 0}^{n} 3i = \\frac{3n(n+1)}{2}\n",
    "\\end{matrix}\n",
    "\n",
    "Realizar los ejercicios de las páginas 117 a 119 de [Carlos Uzcategui](https://udeaeduco-my.sharepoint.com/:b:/g/personal/marco_canas_udea_edu_co/ETDikm-lVl1Or8XoEo9oyh0BEti9Zs8le-f0D-dBdtZmbA?e=Kx8Oge) sobre inducción matemática. "
   ]
  },
  {
   "cell_type": "markdown",
   "metadata": {
    "slideshow": {
     "slide_type": "slide"
    }
   },
   "source": [
    "## Referentes  \n",
    "\n",
    "* [Villa Ochoa, Jhony Alexander](https://jhonyvilla.wordpress.com/2022/03/02/computational-thinking-in-mathematical-modeling-projects-a-case-study-with-future-mathematics-teachers/). \n",
    "\n",
    "* [uzcategui](https://udeaeduco-my.sharepoint.com/:b:/g/personal/marco_canas_udea_edu_co/ETDikm-lVl1Or8XoEo9oyh0BEti9Zs8le-f0D-dBdtZmbA?e=Kx8Oge) página 93 de su pdf. "
   ]
  },
  {
   "cell_type": "markdown",
   "metadata": {
    "slideshow": {
     "slide_type": "slide"
    }
   },
   "source": [
    "### [Evaluamos al profesor Marco Cañas Aquí](https://forms.office.com/Pages/ResponsePage.aspx?id=IefhmYRxjkmK_7KtTlPBwkanXIs1i1FEujpsZgO6dXpUREJPV1kxUk1JV1ozTFJIQVNIQjY5WEY3US4u)"
   ]
  },
  {
   "cell_type": "markdown",
   "metadata": {
    "slideshow": {
     "slide_type": "slide"
    }
   },
   "source": [
    "### Continue su aprendizaje en la siguiente clase a través del siguiente [vínculo]()"
   ]
  },
  {
   "cell_type": "markdown",
   "metadata": {},
   "source": [
    "# Computational Thinking in Mathematical Modeling Projects. A Case Study with Future Mathematics Teachers\n",
    "\n",
    "Computational thinking has been a topic of debate in research in different STEM areas. This type of thinking is considered one of the vital skill sets for societies’ technological and scientific development. With Carmona-Mesa, Quiroz-Vallejo, Castrillon-Yepes and Farsani inquiry the computational thinking skills embedded in a mathematical modeling projects (mmp). A mmp was developed by three future math teachers who participated in a mathematical modeling course.\n",
    "\n",
    "We analyzed students’ documents, videos, and materials made it possible to identify actions associated with decomposition, abstraction, algorithms, representation/modeling, and generalization. The components of computational thinking observed in this study show the opportunities that mathematical modeling offers to the development of computational thinking skills; however, new studies are required on the guidelines and conditions necessary for teachers to recognize the importance of the components they use and to be able to explain them to their students through mmp.\n",
    "\n",
    "[Go to the chapter](https://link.springer.com/chapter/10.1007/978-3-030-96293-7_38)"
   ]
  },
  {
   "cell_type": "code",
   "execution_count": null,
   "metadata": {},
   "outputs": [],
   "source": []
  }
 ],
 "metadata": {
  "celltoolbar": "Slideshow",
  "kernelspec": {
   "display_name": "Python 3 (ipykernel)",
   "language": "python",
   "name": "python3"
  },
  "language_info": {
   "codemirror_mode": {
    "name": "ipython",
    "version": 3
   },
   "file_extension": ".py",
   "mimetype": "text/x-python",
   "name": "python",
   "nbconvert_exporter": "python",
   "pygments_lexer": "ipython3",
   "version": "3.9.13"
  },
  "rise": {
   "enable_chalkboard": true,
   "theme": "sky",
   "transition": "sky"
  },
  "vscode": {
   "interpreter": {
    "hash": "ae115c8122ba000a648ea691cf086e95841d767d998fc7ed45e791bf48fd755e"
   }
  }
 },
 "nbformat": 4,
 "nbformat_minor": 2
}
