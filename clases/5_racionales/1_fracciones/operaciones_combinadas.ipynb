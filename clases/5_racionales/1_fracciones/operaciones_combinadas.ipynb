{
 "cells": [
  {
   "cell_type": "code",
   "execution_count": null,
   "metadata": {},
   "outputs": [],
   "source": []
  },
  {
   "cell_type": "code",
   "execution_count": null,
   "metadata": {},
   "outputs": [],
   "source": []
  },
  {
   "cell_type": "markdown",
   "metadata": {},
   "source": [
    "# Operaciones combinadas con fracciones"
   ]
  },
  {
   "cell_type": "markdown",
   "metadata": {},
   "source": [
    "[Cómo se sumas homogéneas](https://voca.ro/16GOsIYG0hYq)"
   ]
  },
  {
   "cell_type": "markdown",
   "metadata": {},
   "source": [
    "[Quíenes son las fracciones heterogéneas](https://voca.ro/15CiAdwiABlX)"
   ]
  },
  {
   "cell_type": "markdown",
   "metadata": {},
   "source": [
    "[Cómo se suman las fracciones heterogéneas]()"
   ]
  },
  {
   "cell_type": "markdown",
   "metadata": {},
   "source": [
    "[Cómo se multiplican fracciones, sean hetero u homo](https://voca.ro/14ZObIWIC1bC)"
   ]
  },
  {
   "cell_type": "markdown",
   "metadata": {},
   "source": [
    "[Cómo se dividen fracciones, sean heterogéneas u homogéneas]()"
   ]
  },
  {
   "cell_type": "markdown",
   "metadata": {},
   "source": [
    "# ¿Cómo se hacen operaciones combinadas?\n",
    "\n",
    "Alejando restrepo acosta nos dice que se hace teniendo en cuenta el orden Jerarquicoo:\n",
    "\n",
    "* Primero realizamos las multiplicaciones o divisiones\n",
    "* Y luego realizamos las sumas o restas. \n",
    "* Cuando haya multiplicación y división de fracciones, realizas lo primero que encuentres. "
   ]
  },
  {
   "cell_type": "markdown",
   "metadata": {},
   "source": [
    "# FODA\n",
    "\n",
    "F: Fortaleza: Alejandro recuerda los procedimientos.   \n",
    "O: Oportunidades:  \n",
    "D: Debilidades:  \n",
    "A: Amenazas:  "
   ]
  },
  {
   "cell_type": "code",
   "execution_count": null,
   "metadata": {},
   "outputs": [],
   "source": []
  },
  {
   "cell_type": "code",
   "execution_count": null,
   "metadata": {},
   "outputs": [],
   "source": []
  }
 ],
 "metadata": {
  "language_info": {
   "name": "python"
  }
 },
 "nbformat": 4,
 "nbformat_minor": 2
}
