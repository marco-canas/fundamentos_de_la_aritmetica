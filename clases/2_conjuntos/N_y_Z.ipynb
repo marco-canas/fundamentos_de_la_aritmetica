{
 "cells": [
  {
   "cell_type": "markdown",
   "id": "2a694903",
   "metadata": {
    "slideshow": {
     "slide_type": "slide"
    }
   },
   "source": [
    "<a href=\"https://colab.research.google.com/github/marco-canas/fundamentos-de-las-matematicas/blob/main/clases/N_y_Z.ipynb\" target=\"_parent\"><img src=\"https://colab.research.google.com/assets/colab-badge.svg\" alt=\"Open In Colab\"/></a>"
   ]
  },
  {
   "cell_type": "markdown",
   "id": "cdb83ac9",
   "metadata": {
    "slideshow": {
     "slide_type": "slide"
    }
   },
   "source": [
    "## [Video de apoyo a la lectura, edición y experimentación de este cuaderno](https://www.youtube.com/watch?v=ICgQ4eIvvvo)"
   ]
  },
  {
   "cell_type": "markdown",
   "id": "6ddfbe7a",
   "metadata": {
    "slideshow": {
     "slide_type": "slide"
    }
   },
   "source": [
    "# El tamaño de $\\mathbb{N}$ es el mismo que el Z"
   ]
  },
  {
   "cell_type": "markdown",
   "id": "c7394874",
   "metadata": {
    "slideshow": {
     "slide_type": "slide"
    }
   },
   "source": [
    "$$ N \\subsetneq Z $$"
   ]
  },
  {
   "cell_type": "markdown",
   "id": "8b827f85",
   "metadata": {
    "slideshow": {
     "slide_type": "slide"
    }
   },
   "source": [
    "## Contenido"
   ]
  },
  {
   "cell_type": "markdown",
   "id": "01cf9c50",
   "metadata": {
    "slideshow": {
     "slide_type": "slide"
    }
   },
   "source": [
    "1. Cardinalidad\n",
    "2. Conjunto numerable\n",
    "3. Comprobar o demostrar que $|N| = |Z|$ "
   ]
  },
  {
   "cell_type": "code",
   "execution_count": 2,
   "id": "6b1dbfc5",
   "metadata": {
    "slideshow": {
     "slide_type": "slide"
    }
   },
   "outputs": [
    {
     "data": {
      "text/plain": [
       "[<matplotlib.lines.Line2D at 0x19618b4dbe0>]"
      ]
     },
     "execution_count": 2,
     "metadata": {},
     "output_type": "execute_result"
    },
    {
     "data": {
      "image/png": "[encoded data removed]",
      "text/plain": [
       "<Figure size 432x288 with 1 Axes>"
      ]
     },
     "metadata": {
      "needs_background": "light"
     },
     "output_type": "display_data"
    }
   ],
   "source": [
    "import matplotlib.pyplot as plt \n",
    "\n",
    "plt.plot([-3,-2,-1,0,1,2],[0,0,0,0,0,0], 'ro')\n",
    "plt.plot([-4,3],[0,0])"
   ]
  },
  {
   "cell_type": "markdown",
   "id": "dd273716",
   "metadata": {
    "slideshow": {
     "slide_type": "slide"
    }
   },
   "source": [
    "# Definición de función inyectiva"
   ]
  },
  {
   "cell_type": "markdown",
   "id": "5d418736",
   "metadata": {
    "slideshow": {
     "slide_type": "slide"
    }
   },
   "source": []
  },
  {
   "cell_type": "markdown",
   "id": "39234a03",
   "metadata": {
    "slideshow": {
     "slide_type": "slide"
    }
   },
   "source": [
    "# Una propiedad de los conjuntos finitos"
   ]
  },
  {
   "cell_type": "markdown",
   "id": "4a63b282",
   "metadata": {
    "slideshow": {
     "slide_type": "slide"
    }
   },
   "source": [
    "Si $A$ es un subconjunto finito y propio de $B$, entonces\n",
    "\n",
    "$$ |A| < |B| $$\n",
    "\n",
    "Pero en los conjuntos infinitos puede darse la iguadad de las cardinalidades a pesar de que el subconjunto sea propio. "
   ]
  },
  {
   "cell_type": "markdown",
   "id": "80641295",
   "metadata": {
    "slideshow": {
     "slide_type": "slide"
    }
   },
   "source": [
    "$$ -1 \\in Z \\wedge 1- \\notin N $$"
   ]
  },
  {
   "cell_type": "markdown",
   "id": "13043fdd",
   "metadata": {
    "slideshow": {
     "slide_type": "slide"
    }
   },
   "source": [
    "# $\\mathbb{N}$ y $\\mathbb{Z}$ son equipotentes "
   ]
  },
  {
   "cell_type": "markdown",
   "id": "fd656491",
   "metadata": {
    "slideshow": {
     "slide_type": "slide"
    }
   },
   "source": [
    "$f:\\mathbb{N} \\to \\mathbb{Z}$ tal que para cada $n \\in \\mathbb{N}$,  \n",
    "$$ f(n) = \\begin{cases} \\frac{n-2}{2} & n\\ \\text{es par} \\\\\n",
    "                       -\\frac{n+1}{2} & n \\ \\text{es impar} \n",
    "\\end{cases} $$"
   ]
  },
  {
   "cell_type": "code",
   "execution_count": 1,
   "id": "3d68259c",
   "metadata": {
    "slideshow": {
     "slide_type": "slide"
    }
   },
   "outputs": [],
   "source": [
    "def f(n):\n",
    "    if n%2==0:\n",
    "        return (n-2)/2\n",
    "    else:\n",
    "        return -(n+1)/2"
   ]
  },
  {
   "cell_type": "code",
   "execution_count": 3,
   "id": "7cfc94ca",
   "metadata": {
    "slideshow": {
     "slide_type": "slide"
    }
   },
   "outputs": [
    {
     "data": {
      "image/png": "[encoded data removed]",
      "text/plain": [
       "<Figure size 432x288 with 1 Axes>"
      ]
     },
     "metadata": {
      "needs_background": "light"
     },
     "output_type": "display_data"
    }
   ],
   "source": [
    "import numpy as np \n",
    "import matplotlib.pyplot as plt \n",
    "N = np.arange(1,21)\n",
    "F = [f(n) for n in N]\n",
    "plt.xticks(np.arange(1,21))\n",
    "plt.yticks(np.arange(-10,11))\n",
    "plt.xlabel(r'Los naturales $\\mathbb{N}$')\n",
    "plt.ylabel(r'Los enteros $\\mathbb{Z}$')\n",
    "plt.scatter(N,F, c = 'r')\n",
    "plt.grid(alpha = 0.4)\n",
    "plt.savefig('N_equipotente_Z.jpg')\n",
    "\n",
    "plt.plot([0,20], [0,0])\n",
    "\n",
    "plt.show() "
   ]
  },
  {
   "cell_type": "markdown",
   "id": "ef0afeda",
   "metadata": {
    "slideshow": {
     "slide_type": "slide"
    }
   },
   "source": [
    "### Conclusión\n",
    "\n",
    "$$ |\\mathbb{N}| = |\\mathbb{Z}| $$\n"
   ]
  },
  {
   "cell_type": "code",
   "execution_count": null,
   "id": "d1c24696",
   "metadata": {
    "slideshow": {
     "slide_type": "slide"
    }
   },
   "outputs": [],
   "source": []
  },
  {
   "cell_type": "code",
   "execution_count": null,
   "id": "25d4093a",
   "metadata": {},
   "outputs": [],
   "source": []
  },
  {
   "cell_type": "markdown",
   "id": "c2149d60",
   "metadata": {},
   "source": [
    "## Referentes  \n",
    "\n",
    "* cómo descargar anaconda: https://www.anaconda.com/products/distribution"
   ]
  },
  {
   "cell_type": "code",
   "execution_count": null,
   "id": "c43c226b",
   "metadata": {},
   "outputs": [],
   "source": []
  }
 ],
 "metadata": {
  "celltoolbar": "Slideshow",
  "kernelspec": {
   "display_name": "Python 3 (ipykernel)",
   "language": "python",
   "name": "python3"
  },
  "language_info": {
   "codemirror_mode": {
    "name": "ipython",
    "version": 3
   },
   "file_extension": ".py",
   "mimetype": "text/x-python",
   "name": "python",
   "nbconvert_exporter": "python",
   "pygments_lexer": "ipython3",
   "version": "3.9.12"
  }
 },
 "nbformat": 4,
 "nbformat_minor": 5
}
